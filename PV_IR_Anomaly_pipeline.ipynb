{
  "nbformat": 4,
  "nbformat_minor": 0,
  "metadata": {
    "colab": {
      "provenance": [],
      "authorship_tag": "ABX9TyM+KN+prhkaszaun82woEl9",
      "include_colab_link": true
    },
    "kernelspec": {
      "name": "python3",
      "display_name": "Python 3"
    },
    "language_info": {
      "name": "python"
    }
  },
  "cells": [
    {
      "cell_type": "markdown",
      "metadata": {
        "id": "view-in-github",
        "colab_type": "text"
      },
      "source": [
        "<a href=\"https://colab.research.google.com/github/Ramykaz/Solar-Panel-Anomaly-Detection/blob/main/PV_IR_Anomaly_pipeline.ipynb\" target=\"_parent\"><img src=\"https://colab.research.google.com/assets/colab-badge.svg\" alt=\"Open In Colab\"/></a>"
      ]
    },
    {
      "cell_type": "code",
      "execution_count": null,
      "metadata": {
        "id": "aFJgyPBBfEUx"
      },
      "outputs": [],
      "source": [
        "# STEP-BY-STEP CELL-BASED DEFECT CLASSIFICATION PIPELINE\n",
        "# ------------------------------------------------------\n",
        "# This script does the following:\n",
        "# 1. Loads a full panel image (grayscale or color)\n",
        "# 2. Uses a YOLOv8 model to detect cells in the panel\n",
        "# 3. Crops each detected cell and resizes to 224x224\n",
        "# 4. Sends each crop to a trained YOLOv8 classifier model\n",
        "# 5. Displays and saves final image with bounding boxes and defect labels\n",
        "\n",
        "import os\n",
        "import cv2\n",
        "from ultralytics import YOLO\n",
        "import matplotlib.pyplot as plt\n",
        "\n",
        "# Define paths to the models\n",
        "cell_detector_path = \"/content/roboflow_cell_detector.pt\"  # replace with actual path\n",
        "classifier_path = \"/content/runs/classify/fault_11class_model/weights/best.pt\"  # replace with actual path\n",
        "input_image_path = \"/content/panel_image.jpg\"  # your panel image to test\n",
        "\n",
        "# Create temp output folder for cell crops\n",
        "os.makedirs(\"cell_crops\", exist_ok=True)\n",
        "\n",
        "# STEP 1: Load the full panel image\n",
        "original = cv2.imread(input_image_path)\n",
        "if original is None:\n",
        "    raise ValueError(\"Image not found or invalid path!\")\n",
        "\n",
        "# Convert to grayscale if not already\n",
        "gray = cv2.cvtColor(original, cv2.COLOR_BGR2GRAY)\n",
        "\n",
        "# Save grayscale for visualization/debugging\n",
        "cv2.imwrite(\"gray_input.jpg\", gray)\n",
        "\n",
        "# STEP 2: Run the Cell Detector YOLOv8 model\n",
        "print(\"🔍 Detecting cells...\")\n",
        "cell_detector = YOLO(cell_detector_path)\n",
        "detection_results = cell_detector(\"gray_input.jpg\")[0]\n",
        "\n",
        "# STEP 3: Crop each detected cell and resize to 224x224 for classification\n",
        "print(\"✂️  Cropping and resizing cells...\")\n",
        "cell_crops = []\n",
        "coords = []\n",
        "for i, box in enumerate(detection_results.boxes.xyxy):\n",
        "    x1, y1, x2, y2 = map(int, box)\n",
        "    crop = gray[y1:y2, x1:x2]\n",
        "    resized_crop = cv2.resize(crop, (224, 224))\n",
        "    crop_path = f\"cell_crops/cell_{i}.jpg\"\n",
        "    cv2.imwrite(crop_path, resized_crop)\n",
        "    cell_crops.append(crop_path)\n",
        "    coords.append((x1, y1, x2, y2))\n",
        "\n",
        "# STEP 4: Run the classifier on each cell crop\n",
        "print(\"🧠 Running classification on cells...\")\n",
        "classifier = YOLO(classifier_path)\n",
        "predictions = []\n",
        "for crop_path in cell_crops:\n",
        "    pred_result = classifier.predict(crop_path, imgsz=224, verbose=False)[0]\n",
        "    class_name = pred_result.names[pred_result.probs.top1]\n",
        "    confidence = pred_result.probs.top1conf\n",
        "    predictions.append((class_name, confidence))\n",
        "\n",
        "# STEP 5: Annotate the original image with defect labels\n",
        "print(\"🖍️ Annotating results on the image...\")\n",
        "annotated = original.copy()\n",
        "for (x1, y1, x2, y2), (label, conf) in zip(coords, predictions):\n",
        "    color = (0, 255, 0) if \"No\" in label or \"normal\" in label.lower() else (0, 0, 255)\n",
        "    cv2.rectangle(annotated, (x1, y1), (x2, y2), color, 2)\n",
        "    cv2.putText(annotated, f\"{label} ({conf:.2f})\", (x1, y1 - 10),\n",
        "                cv2.FONT_HERSHEY_SIMPLEX, 0.4, color, 1)\n",
        "\n",
        "# Save and display the result\n",
        "output_path = \"annotated_output.jpg\"\n",
        "cv2.imwrite(output_path, annotated)\n",
        "\n",
        "# Show image inline\n",
        "plt.figure(figsize=(12, 12))\n",
        "plt.imshow(cv2.cvtColor(annotated, cv2.COLOR_BGR2RGB))\n",
        "plt.axis('off')\n",
        "plt.title(\"Detected and Classified Cells\")\n",
        "plt.show()\n",
        "\n",
        "print(\"✅ Pipeline completed. Output saved as:\", output_path)\n"
      ]
    }
  ]
}