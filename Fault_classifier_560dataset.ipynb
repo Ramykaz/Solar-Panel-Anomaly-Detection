{
  "nbformat": 4,
  "nbformat_minor": 0,
  "metadata": {
    "colab": {
      "provenance": [],
      "authorship_tag": "ABX9TyOtBk0RBaCCT0DfYKUkBmGt",
      "include_colab_link": true
    },
    "kernelspec": {
      "name": "python3",
      "display_name": "Python 3"
    },
    "language_info": {
      "name": "python"
    }
  },
  "cells": [
    {
      "cell_type": "markdown",
      "metadata": {
        "id": "view-in-github",
        "colab_type": "text"
      },
      "source": [
        "<a href=\"https://colab.research.google.com/github/Ramykaz/Solar-Panel-Anomaly-Detection/blob/main/Fault_classifier_560dataset.ipynb\" target=\"_parent\"><img src=\"https://colab.research.google.com/assets/colab-badge.svg\" alt=\"Open In Colab\"/></a>"
      ]
    },
    {
      "cell_type": "code",
      "execution_count": 1,
      "metadata": {
        "colab": {
          "base_uri": "https://localhost:8080/"
        },
        "id": "iV6p96r6tHU4",
        "outputId": "aca0b23e-d2d8-4971-f9f9-039196d92af3"
      },
      "outputs": [
        {
          "output_type": "stream",
          "name": "stdout",
          "text": [
            "Archive:  /content/archive (9).zip\n",
            "  inflating: /content/data/train/Cell-Level Defects/0106_T_box_46.jpg  \n",
            "  inflating: /content/data/train/Cell-Level Defects/0107_T_box_34.jpg  \n",
            "  inflating: /content/data/train/Cell-Level Defects/0108_T_box_13.jpg  \n",
            "  inflating: /content/data/train/Cell-Level Defects/0108_T_box_5.jpg  \n",
            "  inflating: /content/data/train/Cell-Level Defects/0109_T_box_40.jpg  \n",
            "  inflating: /content/data/train/Cell-Level Defects/0109_T_box_7.jpg  \n",
            "  inflating: /content/data/train/Cell-Level Defects/0112_T_box_42.jpg  \n",
            "  inflating: /content/data/train/Cell-Level Defects/0122_T_box_42.jpg  \n",
            "  inflating: /content/data/train/Cell-Level Defects/0122_T_box_47.jpg  \n",
            "  inflating: /content/data/train/Cell-Level Defects/0123_T_box_44.jpg  \n",
            "  inflating: /content/data/train/Cell-Level Defects/0123_T_box_57.jpg  \n",
            "  inflating: /content/data/train/Cell-Level Defects/0124_T_box_48.jpg  \n",
            "  inflating: /content/data/train/Cell-Level Defects/0127_T_box_47.jpg  \n",
            "  inflating: /content/data/train/Cell-Level Defects/0128_T_box_52.jpg  \n",
            "  inflating: /content/data/train/Cell-Level Defects/0128_T_box_59.jpg  \n",
            "  inflating: /content/data/train/Cell-Level Defects/0129_T_box_54.jpg  \n",
            "  inflating: /content/data/train/Cell-Level Defects/0131_T_box_54.jpg  \n",
            "  inflating: /content/data/train/Cell-Level Defects/0132_T_box_32.jpg  \n",
            "  inflating: /content/data/train/Cell-Level Defects/0133_T_box_30.jpg  \n",
            "  inflating: /content/data/train/Cell-Level Defects/0137_T_box_27.jpg  \n",
            "  inflating: /content/data/train/Cell-Level Defects/0144_T_box_26.jpg  \n",
            "  inflating: /content/data/train/Cell-Level Defects/0145_T_box_22.jpg  \n",
            "  inflating: /content/data/train/Cell-Level Defects/0645_T_box_16.jpg  \n",
            "  inflating: /content/data/train/Cell-Level Defects/0855_T_box_23.jpg  \n",
            "  inflating: /content/data/train/Cell-Level Defects/0857_T_box_15.jpg  \n",
            "  inflating: /content/data/train/Cell-Level Defects/0858_T_box_17.jpg  \n",
            "  inflating: /content/data/train/Cell-Level Defects/0859_T_box_20.jpg  \n",
            "  inflating: /content/data/train/Cell-Level Defects/0859_T_box_44.jpg  \n",
            "  inflating: /content/data/train/Cell-Level Defects/0859_T_box_45.jpg  \n",
            "  inflating: /content/data/train/Cell-Level Defects/0863_T_box_19.jpg  \n",
            "  inflating: /content/data/train/Cell-Level Defects/0863_T_box_21.jpg  \n",
            "  inflating: /content/data/train/Cell-Level Defects/0915_T_box_24.jpg  \n",
            "  inflating: /content/data/train/Cell-Level Defects/0916_T_box_23.jpg  \n",
            "  inflating: /content/data/train/Cell-Level Defects/0945_T_box_23.jpg  \n",
            "  inflating: /content/data/train/Cell-Level Defects/0960_T_box_22.jpg  \n",
            "  inflating: /content/data/train/Cell-Level Defects/0960_T_box_28.jpg  \n",
            "  inflating: /content/data/train/Cell-Level Defects/1015_T_box_12.jpg  \n",
            "  inflating: /content/data/train/Cell-Level Defects/1019_T_box_5.jpg  \n",
            "  inflating: /content/data/train/Cell-Level Defects/1019_T_box_7.jpg  \n",
            "  inflating: /content/data/train/Cell-Level Defects/1036_T_box_19.jpg  \n",
            "  inflating: /content/data/train/Cell-Level Defects/1040_T_box_23.jpg  \n",
            "  inflating: /content/data/train/Cell-Level Defects/1059_T_box_8.jpg  \n",
            "  inflating: /content/data/train/Cell-Level Defects/1091_T_box_36.jpg  \n",
            "  inflating: /content/data/train/Cell-Level Defects/1092_T_box_7.jpg  \n",
            "  inflating: /content/data/train/Cell-Level Defects/1126_T_box_3.jpg  \n",
            "  inflating: /content/data/train/Cell-Level Defects/1138_T_box_15.jpg  \n",
            "  inflating: /content/data/train/Cell-Level Defects/1146_T_box_42.jpg  \n",
            "  inflating: /content/data/train/Cell-Level Defects/1149_T_box_49.jpg  \n",
            "  inflating: /content/data/train/Cell-Level Defects/1156_T_box_14.jpg  \n",
            "  inflating: /content/data/train/Cell-Level Defects/1157_T_box_7.jpg  \n",
            "  inflating: /content/data/train/Cell-Level Defects/1158_T_box_17.jpg  \n",
            "  inflating: /content/data/train/Cell-Level Defects/1161_T_box_3.jpg  \n",
            "  inflating: /content/data/train/Cell-Level Defects/1162_T_box_20.jpg  \n",
            "  inflating: /content/data/train/Cell-Level Defects/1162_T_box_32.jpg  \n",
            "  inflating: /content/data/train/Cell-Level Defects/1163_T_box_28.jpg  \n",
            "  inflating: /content/data/train/Cell-Level Defects/1163_T_box_34.jpg  \n",
            "  inflating: /content/data/train/Cell-Level Defects/1164_T_box_1.jpg  \n",
            "  inflating: /content/data/train/Cell-Level Defects/1164_T_box_4.jpg  \n",
            "  inflating: /content/data/train/Cell-Level Defects/1165_T_box_30.jpg  \n",
            "  inflating: /content/data/train/Cell-Level Defects/1165_T_box_4.jpg  \n",
            "  inflating: /content/data/train/Cell-Level Defects/1172_T_box_21.jpg  \n",
            "  inflating: /content/data/train/Cell-Level Defects/1174_T_box_13.jpg  \n",
            "  inflating: /content/data/train/Cell-Level Defects/1176_T_box_10.jpg  \n",
            "  inflating: /content/data/train/Cell-Level Defects/1176_T_box_23.jpg  \n",
            "  inflating: /content/data/train/Cell-Level Defects/1176_T_box_7.jpg  \n",
            "  inflating: /content/data/train/Cell-Level Defects/1179_T_box_26.jpg  \n",
            "  inflating: /content/data/train/Cell-Level Defects/1183_T_box_23.jpg  \n",
            "  inflating: /content/data/train/Cell-Level Defects/1185_T_box_25.jpg  \n",
            "  inflating: /content/data/train/Cell-Level Defects/1187_T_box_10.jpg  \n",
            "  inflating: /content/data/train/Cell-Level Defects/1199_T_box_37.jpg  \n",
            "  inflating: /content/data/train/Cell-Level Defects/1200_T_box_36.jpg  \n",
            "  inflating: /content/data/train/Cell-Level Defects/1215_T_box_16.jpg  \n",
            "  inflating: /content/data/train/Cell-Level Defects/1215_T_box_19.jpg  \n",
            "  inflating: /content/data/train/Cell-Level Defects/1227_T_box_11.jpg  \n",
            "  inflating: /content/data/train/Cell-Level Defects/1245_T_box_21.jpg  \n",
            "  inflating: /content/data/train/Cell-Level Defects/1248_T_box_31.jpg  \n",
            "  inflating: /content/data/train/Cell-Level Defects/1271_T_box_36.jpg  \n",
            "  inflating: /content/data/train/Cell-Level Defects/1283_T_box_0.jpg  \n",
            "  inflating: /content/data/train/Cell-Level Defects/1296_T_box_35.jpg  \n",
            "  inflating: /content/data/train/Cell-Level Defects/1386_T_box_10.jpg  \n",
            "  inflating: /content/data/train/Cell-Level Defects/1386_T_box_9.jpg  \n",
            "  inflating: /content/data/train/Minor Anomalies/0016_T_box_26.jpg  \n",
            "  inflating: /content/data/train/Minor Anomalies/0018_T_box_29.jpg  \n",
            "  inflating: /content/data/train/Minor Anomalies/0020_T_box_18.jpg  \n",
            "  inflating: /content/data/train/Minor Anomalies/0021_T_box_21.jpg  \n",
            "  inflating: /content/data/train/Minor Anomalies/0022_T_box_25.jpg  \n",
            "  inflating: /content/data/train/Minor Anomalies/0025_T_box_26.jpg  \n",
            "  inflating: /content/data/train/Minor Anomalies/0030_T_box_26.jpg  \n",
            "  inflating: /content/data/train/Minor Anomalies/0039_T_box_21.jpg  \n",
            "  inflating: /content/data/train/Minor Anomalies/0039_T_box_9.jpg  \n",
            "  inflating: /content/data/train/Minor Anomalies/0041_T_box_17.jpg  \n",
            "  inflating: /content/data/train/Minor Anomalies/0042_T_box_18.jpg  \n",
            "  inflating: /content/data/train/Minor Anomalies/0042_T_box_45.jpg  \n",
            "  inflating: /content/data/train/Minor Anomalies/0043_T_box_27.jpg  \n",
            "  inflating: /content/data/train/Minor Anomalies/0043_T_box_32.jpg  \n",
            "  inflating: /content/data/train/Minor Anomalies/0043_T_box_51.jpg  \n",
            "  inflating: /content/data/train/Minor Anomalies/0044_T_box_23.jpg  \n",
            "  inflating: /content/data/train/Minor Anomalies/0045_T_box_18.jpg  \n",
            "  inflating: /content/data/train/Minor Anomalies/0045_T_box_24.jpg  \n",
            "  inflating: /content/data/train/Minor Anomalies/0045_T_box_27.jpg  \n",
            "  inflating: /content/data/train/Minor Anomalies/0045_T_box_29.jpg  \n",
            "  inflating: /content/data/train/Minor Anomalies/0046_T_box_22.jpg  \n",
            "  inflating: /content/data/train/Minor Anomalies/0046_T_box_27.jpg  \n",
            "  inflating: /content/data/train/Minor Anomalies/0047_T_box_21.jpg  \n",
            "  inflating: /content/data/train/Minor Anomalies/0047_T_box_26.jpg  \n",
            "  inflating: /content/data/train/Minor Anomalies/0048_T_box_23.jpg  \n",
            "  inflating: /content/data/train/Minor Anomalies/0048_T_box_26.jpg  \n",
            "  inflating: /content/data/train/Minor Anomalies/0048_T_box_44.jpg  \n",
            "  inflating: /content/data/train/Minor Anomalies/0049_T_box_25.jpg  \n",
            "  inflating: /content/data/train/Minor Anomalies/0049_T_box_28.jpg  \n",
            "  inflating: /content/data/train/Minor Anomalies/0049_T_box_30.jpg  \n",
            "  inflating: /content/data/train/Minor Anomalies/0050_T_box_26.jpg  \n",
            "  inflating: /content/data/train/Minor Anomalies/0050_T_box_27.jpg  \n",
            "  inflating: /content/data/train/Minor Anomalies/0050_T_box_37.jpg  \n",
            "  inflating: /content/data/train/Minor Anomalies/0059_T_box_21.jpg  \n",
            "  inflating: /content/data/train/Minor Anomalies/0060_T_box_25.jpg  \n",
            "  inflating: /content/data/train/Minor Anomalies/0060_T_box_30.jpg  \n",
            "  inflating: /content/data/train/Minor Anomalies/0060_T_box_31.jpg  \n",
            "  inflating: /content/data/train/Minor Anomalies/0061_T_box_27.jpg  \n",
            "  inflating: /content/data/train/Minor Anomalies/0062_T_box_27.jpg  \n",
            "  inflating: /content/data/train/Minor Anomalies/0073_T_box_17.jpg  \n",
            "  inflating: /content/data/train/Minor Anomalies/0076_T_box_25.jpg  \n",
            "  inflating: /content/data/train/Minor Anomalies/0081_T_box_23.jpg  \n",
            "  inflating: /content/data/train/Minor Anomalies/0106_T_box_26.jpg  \n",
            "  inflating: /content/data/train/Minor Anomalies/0107_T_box_5.jpg  \n",
            "  inflating: /content/data/train/Minor Anomalies/0108_T_box_7.jpg  \n",
            "  inflating: /content/data/train/Minor Anomalies/0110_T_box_9.jpg  \n",
            "  inflating: /content/data/train/Minor Anomalies/0119_T_box_15.jpg  \n",
            "  inflating: /content/data/train/Minor Anomalies/0120_T_box_23.jpg  \n",
            "  inflating: /content/data/train/Minor Anomalies/0121_T_box_27.jpg  \n",
            "  inflating: /content/data/train/Minor Anomalies/0122_T_box_19.jpg  \n",
            "  inflating: /content/data/train/Minor Anomalies/0123_T_box_16.jpg  \n",
            "  inflating: /content/data/train/Minor Anomalies/0125_T_box_23.jpg  \n",
            "  inflating: /content/data/train/Minor Anomalies/0139_T_box_26.jpg  \n",
            "  inflating: /content/data/train/Minor Anomalies/0139_T_box_27.jpg  \n",
            "  inflating: /content/data/train/Minor Anomalies/0141_T_box_21.jpg  \n",
            "  inflating: /content/data/train/Minor Anomalies/0156_T_box_22.jpg  \n",
            "  inflating: /content/data/train/Minor Anomalies/0156_T_box_28.jpg  \n",
            "  inflating: /content/data/train/Minor Anomalies/0156_T_box_29.jpg  \n",
            "  inflating: /content/data/train/Minor Anomalies/0157_T_box_26.jpg  \n",
            "  inflating: /content/data/train/Minor Anomalies/0157_T_box_27.jpg  \n",
            "  inflating: /content/data/train/Minor Anomalies/0157_T_box_29.jpg  \n",
            "  inflating: /content/data/train/Minor Anomalies/0159_T_box_18.jpg  \n",
            "  inflating: /content/data/train/Minor Anomalies/0159_T_box_19.jpg  \n",
            "  inflating: /content/data/train/Minor Anomalies/0159_T_box_20.jpg  \n",
            "  inflating: /content/data/train/Minor Anomalies/0159_T_box_22.jpg  \n",
            "  inflating: /content/data/train/Minor Anomalies/0160_T_box_49.jpg  \n",
            "  inflating: /content/data/train/Minor Anomalies/0172_T_box_56.jpg  \n",
            "  inflating: /content/data/train/Minor Anomalies/0174_T_box_59.jpg  \n",
            "  inflating: /content/data/train/Minor Anomalies/0175_T_box_44.jpg  \n",
            "  inflating: /content/data/train/Minor Anomalies/0175_T_box_50.jpg  \n",
            "  inflating: /content/data/train/Minor Anomalies/0176_T_box_47.jpg  \n",
            "  inflating: /content/data/train/Minor Anomalies/0178_T_box_23.jpg  \n",
            "  inflating: /content/data/train/Minor Anomalies/0183_T_box_55.jpg  \n",
            "  inflating: /content/data/train/Minor Anomalies/0183_T_box_61.jpg  \n",
            "  inflating: /content/data/train/Minor Anomalies/0184_T_box_53.jpg  \n",
            "  inflating: /content/data/train/Minor Anomalies/0184_T_box_58.jpg  \n",
            "  inflating: /content/data/train/Minor Anomalies/0185_T_box_50.jpg  \n",
            "  inflating: /content/data/train/Minor Anomalies/0185_T_box_54.jpg  \n",
            "  inflating: /content/data/train/Minor Anomalies/0428_T_box_40.jpg  \n",
            "  inflating: /content/data/train/Minor Anomalies/0430_T_box_8.jpg  \n",
            "  inflating: /content/data/train/Minor Anomalies/0431_T_box_25.jpg  \n",
            "  inflating: /content/data/train/Minor Anomalies/0433_T_box_1.jpg  \n",
            "  inflating: /content/data/train/Minor Anomalies/1044_T_box_14.jpg  \n",
            "  inflating: /content/data/train/Minor Anomalies/1058_T_box_33.jpg  \n",
            "  inflating: /content/data/train/Minor Anomalies/1059_T_box_30.jpg  \n",
            "  inflating: /content/data/train/Minor Anomalies/1059_T_box_31.jpg  \n",
            "  inflating: /content/data/train/Minor Anomalies/1061_T_box_25.jpg  \n",
            "  inflating: /content/data/train/Minor Anomalies/1062_T_box_22.jpg  \n",
            "  inflating: /content/data/train/Minor Anomalies/1062_T_box_24.jpg  \n",
            "  inflating: /content/data/train/Minor Anomalies/1062_T_box_26.jpg  \n",
            "  inflating: /content/data/train/Minor Anomalies/1063_T_box_25.jpg  \n",
            "  inflating: /content/data/train/Minor Anomalies/1063_T_box_32.jpg  \n",
            "  inflating: /content/data/train/Minor Anomalies/1063_T_box_33.jpg  \n",
            "  inflating: /content/data/train/Minor Anomalies/1063_T_box_34.jpg  \n",
            "  inflating: /content/data/train/Minor Anomalies/1104_T_box_22.jpg  \n",
            "  inflating: /content/data/train/Minor Anomalies/1104_T_box_25.jpg  \n",
            "  inflating: /content/data/train/Minor Anomalies/1524_T_box_39.jpg  \n",
            "  inflating: /content/data/train/Minor Anomalies/1532_T_box_23.jpg  \n",
            "  inflating: /content/data/train/Minor Anomalies/1533_T_box_20.jpg  \n",
            "  inflating: /content/data/train/Minor Anomalies/1535_T_box_6.jpg  \n",
            "  inflating: /content/data/train/Minor Anomalies/1536_T_box_0.jpg  \n",
            "  inflating: /content/data/train/Minor Anomalies/1536_T_box_1.jpg  \n",
            "  inflating: /content/data/train/No Defect/0001_T_box_1.jpg  \n",
            "  inflating: /content/data/train/No Defect/0001_T_box_10.jpg  \n",
            "  inflating: /content/data/train/No Defect/0001_T_box_11.jpg  \n",
            "  inflating: /content/data/train/No Defect/0001_T_box_12.jpg  \n",
            "  inflating: /content/data/train/No Defect/0001_T_box_14.jpg  \n",
            "  inflating: /content/data/train/No Defect/0001_T_box_15.jpg  \n",
            "  inflating: /content/data/train/No Defect/0001_T_box_16.jpg  \n",
            "  inflating: /content/data/train/No Defect/0001_T_box_17.jpg  \n",
            "  inflating: /content/data/train/No Defect/0001_T_box_18.jpg  \n",
            "  inflating: /content/data/train/No Defect/0001_T_box_19.jpg  \n",
            "  inflating: /content/data/train/No Defect/0001_T_box_2.jpg  \n",
            "  inflating: /content/data/train/No Defect/0001_T_box_28.jpg  \n",
            "  inflating: /content/data/train/No Defect/0001_T_box_29.jpg  \n",
            "  inflating: /content/data/train/No Defect/0001_T_box_3.jpg  \n",
            "  inflating: /content/data/train/No Defect/0001_T_box_4.jpg  \n",
            "  inflating: /content/data/train/No Defect/0001_T_box_5.jpg  \n",
            "  inflating: /content/data/train/No Defect/0001_T_box_7.jpg  \n",
            "  inflating: /content/data/train/No Defect/0001_T_box_8.jpg  \n",
            "  inflating: /content/data/train/No Defect/0001_T_box_9.jpg  \n",
            "  inflating: /content/data/train/No Defect/0002_T_box_0.jpg  \n",
            "  inflating: /content/data/train/No Defect/0002_T_box_1.jpg  \n",
            "  inflating: /content/data/train/No Defect/0002_T_box_10.jpg  \n",
            "  inflating: /content/data/train/No Defect/0002_T_box_12.jpg  \n",
            "  inflating: /content/data/train/No Defect/0002_T_box_13.jpg  \n",
            "  inflating: /content/data/train/No Defect/0002_T_box_14.jpg  \n",
            "  inflating: /content/data/train/No Defect/0002_T_box_15.jpg  \n",
            "  inflating: /content/data/train/No Defect/0002_T_box_16.jpg  \n",
            "  inflating: /content/data/train/No Defect/0002_T_box_17.jpg  \n",
            "  inflating: /content/data/train/No Defect/0002_T_box_18.jpg  \n",
            "  inflating: /content/data/train/No Defect/0002_T_box_19.jpg  \n",
            "  inflating: /content/data/train/No Defect/0002_T_box_2.jpg  \n",
            "  inflating: /content/data/train/No Defect/0002_T_box_20.jpg  \n",
            "  inflating: /content/data/train/No Defect/0002_T_box_22.jpg  \n",
            "  inflating: /content/data/train/No Defect/0002_T_box_23.jpg  \n",
            "  inflating: /content/data/train/No Defect/0002_T_box_24.jpg  \n",
            "  inflating: /content/data/train/No Defect/0002_T_box_25.jpg  \n",
            "  inflating: /content/data/train/No Defect/0002_T_box_26.jpg  \n",
            "  inflating: /content/data/train/No Defect/0002_T_box_27.jpg  \n",
            "  inflating: /content/data/train/No Defect/0002_T_box_3.jpg  \n",
            "  inflating: /content/data/train/No Defect/0002_T_box_31.jpg  \n",
            "  inflating: /content/data/train/No Defect/0002_T_box_4.jpg  \n",
            "  inflating: /content/data/train/No Defect/0002_T_box_5.jpg  \n",
            "  inflating: /content/data/train/No Defect/0002_T_box_6.jpg  \n",
            "  inflating: /content/data/train/No Defect/0002_T_box_7.jpg  \n",
            "  inflating: /content/data/train/No Defect/0002_T_box_8.jpg  \n",
            "  inflating: /content/data/train/No Defect/0002_T_box_9.jpg  \n",
            "  inflating: /content/data/train/No Defect/0003_T_box_0.jpg  \n",
            "  inflating: /content/data/train/No Defect/0003_T_box_1.jpg  \n",
            "  inflating: /content/data/train/No Defect/0003_T_box_12.jpg  \n",
            "  inflating: /content/data/train/No Defect/0003_T_box_13.jpg  \n",
            "  inflating: /content/data/train/No Defect/0003_T_box_18.jpg  \n",
            "  inflating: /content/data/train/No Defect/0003_T_box_26.jpg  \n",
            "  inflating: /content/data/train/No Defect/0003_T_box_3.jpg  \n",
            "  inflating: /content/data/train/No Defect/0003_T_box_4.jpg  \n",
            "  inflating: /content/data/train/No Defect/0003_T_box_5.jpg  \n",
            "  inflating: /content/data/train/No Defect/0003_T_box_6.jpg  \n",
            "  inflating: /content/data/train/No Defect/0003_T_box_7.jpg  \n",
            "  inflating: /content/data/train/No Defect/0003_T_box_8.jpg  \n",
            "  inflating: /content/data/train/No Defect/0003_T_box_9.jpg  \n",
            "  inflating: /content/data/train/No Defect/0004_T_box_0.jpg  \n",
            "  inflating: /content/data/train/No Defect/0004_T_box_1.jpg  \n",
            "  inflating: /content/data/train/No Defect/0004_T_box_13.jpg  \n",
            "  inflating: /content/data/train/No Defect/0004_T_box_14.jpg  \n",
            "  inflating: /content/data/train/No Defect/0004_T_box_15.jpg  \n",
            "  inflating: /content/data/train/No Defect/0004_T_box_16.jpg  \n",
            "  inflating: /content/data/train/No Defect/0004_T_box_17.jpg  \n",
            "  inflating: /content/data/train/No Defect/0004_T_box_18.jpg  \n",
            "  inflating: /content/data/train/No Defect/0004_T_box_2.jpg  \n",
            "  inflating: /content/data/train/No Defect/0004_T_box_3.jpg  \n",
            "  inflating: /content/data/train/No Defect/0004_T_box_4.jpg  \n",
            "  inflating: /content/data/train/No Defect/0024_T_box_22.jpg  \n",
            "  inflating: /content/data/train/No Defect/0025_T_box_10.jpg  \n",
            "  inflating: /content/data/train/No Defect/0025_T_box_9.jpg  \n",
            "  inflating: /content/data/train/No Defect/0029_T_box_6.jpg  \n",
            "  inflating: /content/data/train/No Defect/0029_T_box_7.jpg  \n",
            "  inflating: /content/data/train/No Defect/0030_T_box_13.jpg  \n",
            "  inflating: /content/data/train/Severe Physical/0001_T_box_6.jpg  \n",
            "  inflating: /content/data/train/Severe Physical/0019_T_box_5.jpg  \n",
            "  inflating: /content/data/train/Severe Physical/0036_T_box_16.jpg  \n",
            "  inflating: /content/data/train/Severe Physical/0037_T_box_16.jpg  \n",
            "  inflating: /content/data/train/Severe Physical/0038_T_box_25.jpg  \n",
            "  inflating: /content/data/train/Severe Physical/0038_T_box_27.jpg  \n",
            "  inflating: /content/data/train/Severe Physical/0039_T_box_16.jpg  \n",
            "  inflating: /content/data/train/Severe Physical/0040_T_box_17.jpg  \n",
            "  inflating: /content/data/train/Severe Physical/0040_T_box_18.jpg  \n",
            "  inflating: /content/data/train/Severe Physical/0040_T_box_2.jpg  \n",
            "  inflating: /content/data/train/Severe Physical/0042_T_box_6.jpg  \n",
            "  inflating: /content/data/train/Severe Physical/0043_T_box_19.jpg  \n",
            "  inflating: /content/data/train/Severe Physical/0043_T_box_37.jpg  \n",
            "  inflating: /content/data/train/Severe Physical/0043_T_box_39.jpg  \n",
            "  inflating: /content/data/train/Severe Physical/0050_T_box_32.jpg  \n",
            "  inflating: /content/data/train/Severe Physical/0052_T_box_37.jpg  \n",
            "  inflating: /content/data/train/Severe Physical/0080_T_box_12.jpg  \n",
            "  inflating: /content/data/train/Severe Physical/0080_T_box_17.jpg  \n",
            "  inflating: /content/data/train/Severe Physical/0082_T_box_13.jpg  \n",
            "  inflating: /content/data/train/Severe Physical/0083_T_box_24.jpg  \n",
            "  inflating: /content/data/train/Severe Physical/0084_T_box_22.jpg  \n",
            "  inflating: /content/data/train/Severe Physical/0093_T_box_2.jpg  \n",
            "  inflating: /content/data/train/Severe Physical/0094_T_box_3.jpg  \n",
            "  inflating: /content/data/train/Severe Physical/0095_T_box_7.jpg  \n",
            "  inflating: /content/data/train/Severe Physical/0097_T_box_12.jpg  \n",
            "  inflating: /content/data/train/Severe Physical/0098_T_box_38.jpg  \n",
            "  inflating: /content/data/train/Severe Physical/0107_T_box_11.jpg  \n",
            "  inflating: /content/data/train/Severe Physical/0122_T_box_11.jpg  \n",
            "  inflating: /content/data/train/Severe Physical/0125_T_box_3.jpg  \n",
            "  inflating: /content/data/train/Severe Physical/0125_T_box_8.jpg  \n",
            "  inflating: /content/data/train/Severe Physical/0126_T_box_1.jpg  \n",
            "  inflating: /content/data/train/Severe Physical/0126_T_box_28.jpg  \n",
            "  inflating: /content/data/train/Severe Physical/0126_T_box_6.jpg  \n",
            "  inflating: /content/data/train/Severe Physical/0128_T_box_3.jpg  \n",
            "  inflating: /content/data/train/Severe Physical/0129_T_box_20.jpg  \n",
            "  inflating: /content/data/train/Severe Physical/0130_T_box_17.jpg  \n",
            "  inflating: /content/data/train/Severe Physical/0134_T_box_11.jpg  \n",
            "  inflating: /content/data/train/Severe Physical/0135_T_box_9.jpg  \n",
            "  inflating: /content/data/train/Severe Physical/0136_T_box_22.jpg  \n",
            "  inflating: /content/data/train/Severe Physical/0136_T_box_57.jpg  \n",
            "  inflating: /content/data/train/Severe Physical/0137_T_box_22.jpg  \n",
            "  inflating: /content/data/train/Severe Physical/0137_T_box_5.jpg  \n",
            "  inflating: /content/data/train/Severe Physical/0153_T_box_52.jpg  \n",
            "  inflating: /content/data/train/Severe Physical/0155_T_box_7.jpg  \n",
            "  inflating: /content/data/train/Severe Physical/0171_T_box_12.jpg  \n",
            "  inflating: /content/data/train/Severe Physical/0185_T_box_4.jpg  \n",
            "  inflating: /content/data/train/Severe Physical/0186_T_box_54.jpg  \n",
            "  inflating: /content/data/train/Severe Physical/0188_T_box_36.jpg  \n",
            "  inflating: /content/data/train/Severe Physical/0188_T_box_37.jpg  \n",
            "  inflating: /content/data/train/Severe Physical/0192_T_box_8.jpg  \n",
            "  inflating: /content/data/train/Severe Physical/0197_T_box_10.jpg  \n",
            "  inflating: /content/data/train/Severe Physical/0217_T_box_19.jpg  \n",
            "  inflating: /content/data/train/Severe Physical/0221_T_box_44.jpg  \n",
            "  inflating: /content/data/train/Severe Physical/0223_T_box_17.jpg  \n",
            "  inflating: /content/data/train/Severe Physical/0223_T_box_18.jpg  \n",
            "  inflating: /content/data/train/Severe Physical/0228_T_box_44.jpg  \n",
            "  inflating: /content/data/train/Severe Physical/0232_T_box_22.jpg  \n",
            "  inflating: /content/data/train/Severe Physical/0233_T_box_20.jpg  \n",
            "  inflating: /content/data/train/Severe Physical/0233_T_box_31.jpg  \n",
            "  inflating: /content/data/train/Severe Physical/0238_T_box_37.jpg  \n",
            "  inflating: /content/data/train/Severe Physical/0238_T_box_41.jpg  \n",
            "  inflating: /content/data/train/Severe Physical/0239_T_box_36.jpg  \n",
            "  inflating: /content/data/train/Severe Physical/0242_T_box_36.jpg  \n",
            "  inflating: /content/data/train/Severe Physical/0244_T_box_47.jpg  \n",
            "  inflating: /content/data/train/Severe Physical/0245_T_box_1.jpg  \n",
            "  inflating: /content/data/train/Severe Physical/0246_T_box_0.jpg  \n",
            "  inflating: /content/data/train/Severe Physical/0246_T_box_4.jpg  \n",
            "  inflating: /content/data/train/Severe Physical/0247_T_box_1.jpg  \n",
            "  inflating: /content/data/train/Severe Physical/0249_T_box_11.jpg  \n",
            "  inflating: /content/data/train/Severe Physical/0249_T_box_26.jpg  \n",
            "  inflating: /content/data/train/Severe Physical/0249_T_box_6.jpg  \n",
            "  inflating: /content/data/train/Severe Physical/0252_T_box_33.jpg  \n",
            "  inflating: /content/data/train/Severe Physical/0254_T_box_34.jpg  \n",
            "  inflating: /content/data/train/Severe Physical/0254_T_box_44.jpg  \n",
            "  inflating: /content/data/train/Severe Physical/0256_T_box_53.jpg  \n",
            "  inflating: /content/data/train/Severe Physical/0257_T_box_43.jpg  \n",
            "  inflating: /content/data/train/Severe Physical/0258_T_box_55.jpg  \n",
            "  inflating: /content/data/train/Severe Physical/0260_T_box_19.jpg  \n",
            "  inflating: /content/data/train/Severe Physical/0261_T_box_43.jpg  \n",
            "  inflating: /content/data/train/Severe Physical/0262_T_box_21.jpg  \n",
            "  inflating: /content/data/train/Severe Physical/0265_T_box_26.jpg  \n",
            "  inflating: /content/data/train/Severe Physical/0265_T_box_35.jpg  \n",
            "  inflating: /content/data/train/Severe Physical/0266_T_box_31.jpg  \n",
            "  inflating: /content/data/train/Severe Physical/0267_T_box_18.jpg  \n",
            "  inflating: /content/data/train/Severe Physical/0268_T_box_25.jpg  \n",
            "  inflating: /content/data/train/Severe Physical/0268_T_box_30.jpg  \n",
            "  inflating: /content/data/train/Severe Physical/0269_T_box_37.jpg  \n",
            "  inflating: /content/data/train/Severe Physical/0826_T_box_11.jpg  \n",
            "  inflating: /content/data/train/Severe Physical/0827_T_box_9.jpg  \n",
            "  inflating: /content/data/train/Severe Physical/0838_T_box_23.jpg  \n",
            "  inflating: /content/data/train/Severe Physical/0853_T_box_12.jpg  \n",
            "  inflating: /content/data/train/Severe Physical/0855_T_box_20.jpg  \n",
            "  inflating: /content/data/train/Severe Physical/0855_T_box_21.jpg  \n",
            "  inflating: /content/data/train/Severe Physical/0855_T_box_30.jpg  \n",
            "  inflating: /content/data/train/Severe Physical/1526_T_box_5.jpg  \n",
            "  inflating: /content/data/train/Severe Physical/1527_T_box_3.jpg  \n",
            "  inflating: /content/data/train/Severe Physical/1528_T_box_5.jpg  \n",
            "  inflating: /content/data/train/Severe Physical/1529_T_box_19.jpg  \n",
            "  inflating: /content/data/train/Severe Physical/1530_T_box_18.jpg  \n",
            "  inflating: /content/data/train/Systemic Issues/0053_T_box_0.jpg  \n",
            "  inflating: /content/data/train/Systemic Issues/0055_T_box_1.jpg  \n",
            "  inflating: /content/data/train/Systemic Issues/0055_T_box_40.jpg  \n",
            "  inflating: /content/data/train/Systemic Issues/0058_T_box_13.jpg  \n",
            "  inflating: /content/data/train/Systemic Issues/0157_T_box_28.jpg  \n",
            "  inflating: /content/data/train/Systemic Issues/0179_T_box_34.jpg  \n",
            "  inflating: /content/data/train/Systemic Issues/0180_T_box_29.jpg  \n",
            "  inflating: /content/data/train/Systemic Issues/0441_T_box_39.jpg  \n",
            "  inflating: /content/data/train/Systemic Issues/0442_T_box_33.jpg  \n",
            "  inflating: /content/data/train/Systemic Issues/0442_T_box_37.jpg  \n",
            "  inflating: /content/data/train/Systemic Issues/0442_T_box_38.jpg  \n",
            "  inflating: /content/data/train/Systemic Issues/0442_T_box_39.jpg  \n",
            "  inflating: /content/data/train/Systemic Issues/0442_T_box_40.jpg  \n",
            "  inflating: /content/data/train/Systemic Issues/0442_T_box_41.jpg  \n",
            "  inflating: /content/data/train/Systemic Issues/0443_T_box_4.jpg  \n",
            "  inflating: /content/data/train/Systemic Issues/0443_T_box_5.jpg  \n",
            "  inflating: /content/data/train/Systemic Issues/0443_T_box_6.jpg  \n",
            "  inflating: /content/data/train/Systemic Issues/0445_T_box_28.jpg  \n",
            "  inflating: /content/data/train/Systemic Issues/0445_T_box_29.jpg  \n",
            "  inflating: /content/data/train/Systemic Issues/0445_T_box_6.jpg  \n",
            "  inflating: /content/data/train/Systemic Issues/0551_T_box_27.jpg  \n",
            "  inflating: /content/data/train/Systemic Issues/0551_T_box_28.jpg  \n",
            "  inflating: /content/data/train/Systemic Issues/0552_T_box_21.jpg  \n",
            "  inflating: /content/data/train/Systemic Issues/0552_T_box_22.jpg  \n",
            "  inflating: /content/data/train/Systemic Issues/0552_T_box_23.jpg  \n",
            "  inflating: /content/data/train/Systemic Issues/0552_T_box_24.jpg  \n",
            "  inflating: /content/data/train/Systemic Issues/0552_T_box_25.jpg  \n",
            "  inflating: /content/data/train/Systemic Issues/0552_T_box_26.jpg  \n",
            "  inflating: /content/data/train/Systemic Issues/0552_T_box_27.jpg  \n",
            "  inflating: /content/data/train/Systemic Issues/0552_T_box_28.jpg  \n",
            "  inflating: /content/data/train/Systemic Issues/0552_T_box_29.jpg  \n",
            "  inflating: /content/data/train/Systemic Issues/0552_T_box_30.jpg  \n",
            "  inflating: /content/data/train/Systemic Issues/0552_T_box_33.jpg  \n",
            "  inflating: /content/data/train/Systemic Issues/0552_T_box_34.jpg  \n",
            "  inflating: /content/data/train/Systemic Issues/0552_T_box_35.jpg  \n",
            "  inflating: /content/data/train/Systemic Issues/0553_T_box_17 - Kopie.jpg  \n",
            "  inflating: /content/data/train/Systemic Issues/0553_T_box_18.jpg  \n",
            "  inflating: /content/data/train/Systemic Issues/0553_T_box_21 - Kopie.jpg  \n",
            "  inflating: /content/data/train/Systemic Issues/0553_T_box_22 - Kopie.jpg  \n",
            "  inflating: /content/data/train/Systemic Issues/0553_T_box_28 - Kopie.jpg  \n",
            "  inflating: /content/data/train/Systemic Issues/0553_T_box_29 - Kopie.jpg  \n",
            "  inflating: /content/data/train/Systemic Issues/0553_T_box_30 - Kopie.jpg  \n",
            "  inflating: /content/data/train/Systemic Issues/0553_T_box_31 - Kopie.jpg  \n",
            "  inflating: /content/data/train/Systemic Issues/0554_T_box_11 - Kopie.jpg  \n",
            "  inflating: /content/data/train/Systemic Issues/0554_T_box_12 - Kopie.jpg  \n",
            "  inflating: /content/data/train/Systemic Issues/0554_T_box_13 - Kopie.jpg  \n",
            "  inflating: /content/data/train/Systemic Issues/0554_T_box_14 - Kopie.jpg  \n",
            "  inflating: /content/data/train/Systemic Issues/0554_T_box_15 - Kopie (2).jpg  \n",
            "  inflating: /content/data/train/Systemic Issues/0554_T_box_16 - Kopie (2).jpg  \n",
            "  inflating: /content/data/train/Systemic Issues/0554_T_box_17 - Kopie (2).jpg  \n",
            "  inflating: /content/data/train/Systemic Issues/0554_T_box_18 - Kopie (2).jpg  \n",
            "  inflating: /content/data/train/Systemic Issues/0554_T_box_20 - Kopie (2).jpg  \n",
            "  inflating: /content/data/train/Systemic Issues/0554_T_box_21 - Kopie (2).jpg  \n",
            "  inflating: /content/data/train/Systemic Issues/0554_T_box_22 - Kopie (2).jpg  \n",
            "  inflating: /content/data/train/Systemic Issues/0554_T_box_23 - Kopie (2).jpg  \n",
            "  inflating: /content/data/train/Systemic Issues/0675_T_box_0 - Kopie (2).jpg  \n",
            "  inflating: /content/data/train/Systemic Issues/0715_T_box_31 - Kopie (2).jpg  \n",
            "  inflating: /content/data/train/Systemic Issues/0746_T_box_12 - Kopie (2).jpg  \n",
            "  inflating: /content/data/train/Systemic Issues/0747_T_box_14 - Kopie (2).jpg  \n",
            "  inflating: /content/data/train/Systemic Issues/0747_T_box_8 - Kopie (2).jpg  \n",
            "  inflating: /content/data/train/Systemic Issues/0747_T_box_9 - Kopie (2).jpg  \n",
            "  inflating: /content/data/train/Systemic Issues/0749_T_box_26 - Kopie (2).jpg  \n",
            "  inflating: /content/data/train/Systemic Issues/0857_T_box_11 - Kopie (2).jpg  \n",
            "  inflating: /content/data/train/Systemic Issues/0942_T_box_41 - Kopie (2).jpg  \n",
            "  inflating: /content/data/train/Systemic Issues/0943_T_box_38 - Kopie (2).jpg  \n",
            "  inflating: /content/data/train/Systemic Issues/1060_T_box_39 - Kopie (2).jpg  \n",
            "  inflating: /content/data/train/Systemic Issues/1061_T_box_5 - Kopie (2).jpg  \n",
            "  inflating: /content/data/train/Systemic Issues/1073_T_box_18 - Kopie (2).jpg  \n",
            "  inflating: /content/data/train/Systemic Issues/1074_T_box_14 - Kopie (2).jpg  \n",
            "  inflating: /content/data/train/Systemic Issues/1077_T_box_22 - Kopie (2).jpg  \n",
            "  inflating: /content/data/train/Systemic Issues/1086_T_box_30 - Kopie (2).jpg  \n",
            "  inflating: /content/data/train/Systemic Issues/1106_T_box_6 - Kopie (2).jpg  \n",
            "  inflating: /content/data/train/Systemic Issues/1112_T_box_25 - Kopie (2).jpg  \n",
            "  inflating: /content/data/train/Systemic Issues/1113_T_box_24 - Kopie (2).jpg  \n",
            "  inflating: /content/data/train/Systemic Issues/1119_T_box_17 - Kopie (2).jpg  \n",
            "  inflating: /content/data/train/Systemic Issues/1120_T_box_31 - Kopie (2).jpg  \n",
            "  inflating: /content/data/train/Systemic Issues/1120_T_box_32 - Kopie (2).jpg  \n",
            "  inflating: /content/data/train/Systemic Issues/1120_T_box_46 - Kopie (2).jpg  \n",
            "  inflating: /content/data/train/Systemic Issues/1122_T_box_49 - Kopie (2).jpg  \n",
            "  inflating: /content/data/train/Systemic Issues/1123_T_box_8 - Kopie (2).jpg  \n",
            "  inflating: /content/data/val/Cell-Level Defects/0001_T_box_21.jpg  \n",
            "  inflating: /content/data/val/Cell-Level Defects/0002_T_box_21.jpg  \n",
            "  inflating: /content/data/val/Cell-Level Defects/0004_T_box_12.jpg  \n",
            "  inflating: /content/data/val/Cell-Level Defects/0013_T_box_11.jpg  \n",
            "  inflating: /content/data/val/Cell-Level Defects/0014_T_box_15.jpg  \n",
            "  inflating: /content/data/val/Cell-Level Defects/0016_T_box_25.jpg  \n",
            "  inflating: /content/data/val/Cell-Level Defects/0017_T_box_26.jpg  \n",
            "  inflating: /content/data/val/Cell-Level Defects/0023_T_box_20.jpg  \n",
            "  inflating: /content/data/val/Cell-Level Defects/0024_T - Kopie_box_21.jpg  \n",
            "  inflating: /content/data/val/Cell-Level Defects/0025_T_box_25.jpg  \n",
            "  inflating: /content/data/val/Cell-Level Defects/0029_T_box_5.jpg  \n",
            "  inflating: /content/data/val/Cell-Level Defects/0036_T_box_25.jpg  \n",
            "  inflating: /content/data/val/Cell-Level Defects/0037_T_box_12.jpg  \n",
            "  inflating: /content/data/val/Cell-Level Defects/0038_T_box_18.jpg  \n",
            "  inflating: /content/data/val/Cell-Level Defects/0038_T_box_20.jpg  \n",
            "  inflating: /content/data/val/Cell-Level Defects/0039_T_box_19.jpg  \n",
            "  inflating: /content/data/val/Cell-Level Defects/0039_T_box_22.jpg  \n",
            "  inflating: /content/data/val/Cell-Level Defects/0039_T_box_31.jpg  \n",
            "  inflating: /content/data/val/Cell-Level Defects/0040_T_box_29.jpg  \n",
            "  inflating: /content/data/val/Cell-Level Defects/0040_T_box_32.jpg  \n",
            "  inflating: /content/data/val/Cell-Level Defects/0042_T_box_42.jpg  \n",
            "  inflating: /content/data/val/Cell-Level Defects/0057_T_box_17.jpg  \n",
            "  inflating: /content/data/val/Cell-Level Defects/0058_T_box_21.jpg  \n",
            "  inflating: /content/data/val/Cell-Level Defects/0059_T_box_20.jpg  \n",
            "  inflating: /content/data/val/Cell-Level Defects/0060_T_box_24.jpg  \n",
            "  inflating: /content/data/val/Cell-Level Defects/0061_T_box_25.jpg  \n",
            "  inflating: /content/data/val/Cell-Level Defects/0062_T_box_26.jpg  \n",
            "  inflating: /content/data/val/Cell-Level Defects/0079_T_box_22.jpg  \n",
            "  inflating: /content/data/val/Cell-Level Defects/0081_T_box_33.jpg  \n",
            "  inflating: /content/data/val/Cell-Level Defects/0085_T_box_19.jpg  \n",
            "  inflating: /content/data/val/Cell-Level Defects/0101_T_box_14.jpg  \n",
            "  inflating: /content/data/val/Cell-Level Defects/0102_T_box_16.jpg  \n",
            "  inflating: /content/data/val/Cell-Level Defects/0103_T_box_16.jpg  \n",
            "  inflating: /content/data/val/Cell-Level Defects/0103_T_box_40.jpg  \n",
            "  inflating: /content/data/val/Cell-Level Defects/0104_T_box_20.jpg  \n",
            "  inflating: /content/data/val/Cell-Level Defects/0105_T_box_3.jpg  \n",
            "  inflating: /content/data/val/Minor Anomalies/0019_T_box_18.jpg  \n",
            "  inflating: /content/data/val/Minor Anomalies/0038_T_box_5.jpg  \n",
            "  inflating: /content/data/val/Minor Anomalies/0044_T_box_22.jpg  \n",
            "  inflating: /content/data/val/Minor Anomalies/0045_T_box_16.jpg  \n",
            "  inflating: /content/data/val/Minor Anomalies/0047_T_box_23.jpg  \n",
            "  inflating: /content/data/val/Minor Anomalies/0048_T_box_47.jpg  \n",
            "  inflating: /content/data/val/Minor Anomalies/0049_T_box_32.jpg  \n",
            "  inflating: /content/data/val/Minor Anomalies/0051_T_box_30.jpg  \n",
            "  inflating: /content/data/val/Minor Anomalies/0051_T_box_47.jpg  \n",
            "  inflating: /content/data/val/Minor Anomalies/0077_T_box_27.jpg  \n",
            "  inflating: /content/data/val/Minor Anomalies/0078_T_box_18.jpg  \n",
            "  inflating: /content/data/val/Minor Anomalies/0123_T_box_20.jpg  \n",
            "  inflating: /content/data/val/Minor Anomalies/0123_T_box_27.jpg  \n",
            "  inflating: /content/data/val/Minor Anomalies/0141_T_box_22.jpg  \n",
            "  inflating: /content/data/val/Minor Anomalies/0155_T_box_31.jpg  \n",
            "  inflating: /content/data/val/Minor Anomalies/0157_T_box_24.jpg  \n",
            "  inflating: /content/data/val/Minor Anomalies/0157_T_box_25.jpg  \n",
            "  inflating: /content/data/val/Minor Anomalies/0158_T_box_23.jpg  \n",
            "  inflating: /content/data/val/Minor Anomalies/0158_T_box_24.jpg  \n",
            "  inflating: /content/data/val/Minor Anomalies/0160_T_box_16.jpg  \n",
            "  inflating: /content/data/val/Minor Anomalies/0167_T_box_47.jpg  \n",
            "  inflating: /content/data/val/Minor Anomalies/0174_T_box_53.jpg  \n",
            "  inflating: /content/data/val/Minor Anomalies/0179_T_box_20.jpg  \n",
            "  inflating: /content/data/val/Minor Anomalies/0429_T_box_39.jpg  \n",
            "  inflating: /content/data/val/Minor Anomalies/0431_T_box_26.jpg  \n",
            "  inflating: /content/data/val/Minor Anomalies/0433_T_box_2.jpg  \n",
            "  inflating: /content/data/val/Minor Anomalies/1044_T_box_13.jpg  \n",
            "  inflating: /content/data/val/Minor Anomalies/1060_T_box_26.jpg  \n",
            "  inflating: /content/data/val/Minor Anomalies/1104_T_box_24.jpg  \n",
            "  inflating: /content/data/val/Minor Anomalies/1535_T_box_5.jpg  \n",
            "  inflating: /content/data/val/No Defect/0001_T_box_20.jpg  \n",
            "  inflating: /content/data/val/No Defect/0001_T_box_22.jpg  \n",
            "  inflating: /content/data/val/No Defect/0001_T_box_23.jpg  \n",
            "  inflating: /content/data/val/No Defect/0001_T_box_24.jpg  \n",
            "  inflating: /content/data/val/No Defect/0001_T_box_25.jpg  \n",
            "  inflating: /content/data/val/No Defect/0001_T_box_26.jpg  \n",
            "  inflating: /content/data/val/No Defect/0001_T_box_27.jpg  \n",
            "  inflating: /content/data/val/No Defect/0003_T_box_19.jpg  \n",
            "  inflating: /content/data/val/No Defect/0003_T_box_20.jpg  \n",
            "  inflating: /content/data/val/No Defect/0003_T_box_21.jpg  \n",
            "  inflating: /content/data/val/No Defect/0003_T_box_23.jpg  \n",
            "  inflating: /content/data/val/No Defect/0003_T_box_24.jpg  \n",
            "  inflating: /content/data/val/No Defect/0003_T_box_25.jpg  \n",
            "  inflating: /content/data/val/No Defect/0004_T_box_10.jpg  \n",
            "  inflating: /content/data/val/No Defect/0004_T_box_11.jpg  \n",
            "  inflating: /content/data/val/No Defect/0004_T_box_19.jpg  \n",
            "  inflating: /content/data/val/No Defect/0004_T_box_20.jpg  \n",
            "  inflating: /content/data/val/No Defect/0004_T_box_5.jpg  \n",
            "  inflating: /content/data/val/No Defect/0004_T_box_7.jpg  \n",
            "  inflating: /content/data/val/No Defect/0004_T_box_8.jpg  \n",
            "  inflating: /content/data/val/No Defect/0004_T_box_9.jpg  \n",
            "  inflating: /content/data/val/No Defect/0005_T_box_0.jpg  \n",
            "  inflating: /content/data/val/No Defect/0005_T_box_1.jpg  \n",
            "  inflating: /content/data/val/No Defect/0024_T - Kopie_box_18.jpg  \n",
            "  inflating: /content/data/val/No Defect/0024_T_box_5.jpg  \n",
            "  inflating: /content/data/val/No Defect/0030_T_box_14.jpg  \n",
            "  inflating: /content/data/val/No Defect/0030_T_box_15.jpg  \n",
            "  inflating: /content/data/val/No Defect/0030_T_box_16.jpg  \n",
            "  inflating: /content/data/val/Severe Physical/0044_T_box_14.jpg  \n",
            "  inflating: /content/data/val/Severe Physical/0044_T_box_15.jpg  \n",
            "  inflating: /content/data/val/Severe Physical/0045_T_box_14.jpg  \n",
            "  inflating: /content/data/val/Severe Physical/0045_T_box_45.jpg  \n",
            "  inflating: /content/data/val/Severe Physical/0045_T_box_47.jpg  \n",
            "  inflating: /content/data/val/Severe Physical/0047_T_box_24.jpg  \n",
            "  inflating: /content/data/val/Severe Physical/0047_T_box_28.jpg  \n",
            "  inflating: /content/data/val/Severe Physical/0048_T_box_25.jpg  \n",
            "  inflating: /content/data/val/Severe Physical/0048_T_box_29.jpg  \n",
            "  inflating: /content/data/val/Severe Physical/0049_T_box_41.jpg  \n",
            "  inflating: /content/data/val/Severe Physical/0053_T_box_44.jpg  \n",
            "  inflating: /content/data/val/Severe Physical/0069_T_box_2.jpg  \n",
            "  inflating: /content/data/val/Severe Physical/0069_T_box_5.jpg  \n",
            "  inflating: /content/data/val/Severe Physical/0070_T_box_4.jpg  \n",
            "  inflating: /content/data/val/Severe Physical/0070_T_box_7.jpg  \n",
            "  inflating: /content/data/val/Severe Physical/0072_T_box_10.jpg  \n",
            "  inflating: /content/data/val/Severe Physical/0073_T_box_11.jpg  \n",
            "  inflating: /content/data/val/Severe Physical/0077_T_box_6.jpg  \n",
            "  inflating: /content/data/val/Severe Physical/0079_T_box_12.jpg  \n",
            "  inflating: /content/data/val/Severe Physical/0079_T_box_16.jpg  \n",
            "  inflating: /content/data/val/Severe Physical/0155_T_box_10.jpg  \n",
            "  inflating: /content/data/val/Severe Physical/0247_T_box_0.jpg  \n",
            "  inflating: /content/data/val/Severe Physical/0247_T_box_2.jpg  \n",
            "  inflating: /content/data/val/Severe Physical/0247_T_box_5.jpg  \n",
            "  inflating: /content/data/val/Severe Physical/0248_T_box_1.jpg  \n",
            "  inflating: /content/data/val/Severe Physical/0248_T_box_3.jpg  \n",
            "  inflating: /content/data/val/Severe Physical/0248_T_box_5.jpg  \n",
            "  inflating: /content/data/val/Severe Physical/0249_T_box_2.jpg  \n",
            "  inflating: /content/data/val/Severe Physical/0266_T_box_22.jpg  \n",
            "  inflating: /content/data/val/Severe Physical/0830_T_box_1.jpg  \n",
            "  inflating: /content/data/val/Severe Physical/0857_T_box_34.jpg  \n",
            "  inflating: /content/data/val/Severe Physical/1527_T_box_7.jpg  \n",
            "  inflating: /content/data/val/Severe Physical/1528_T_box_1.jpg  \n",
            "  inflating: /content/data/val/Severe Physical/1633_T_box_12.jpg  \n",
            "  inflating: /content/data/val/Systemic Issues/0443_T_box_7.jpg  \n",
            "  inflating: /content/data/val/Systemic Issues/0443_T_box_8.jpg  \n",
            "  inflating: /content/data/val/Systemic Issues/0444_T_box_34.jpg  \n",
            "  inflating: /content/data/val/Systemic Issues/0445_T_box_1.jpg  \n",
            "  inflating: /content/data/val/Systemic Issues/0445_T_box_3.jpg  \n",
            "  inflating: /content/data/val/Systemic Issues/0445_T_box_4.jpg  \n",
            "  inflating: /content/data/val/Systemic Issues/0445_T_box_5.jpg  \n",
            "  inflating: /content/data/val/Systemic Issues/0551_T_box_29.jpg  \n",
            "  inflating: /content/data/val/Systemic Issues/0551_T_box_30.jpg  \n",
            "  inflating: /content/data/val/Systemic Issues/0551_T_box_31.jpg  \n",
            "  inflating: /content/data/val/Systemic Issues/0551_T_box_39.jpg  \n",
            "  inflating: /content/data/val/Systemic Issues/0551_T_box_40.jpg  \n",
            "  inflating: /content/data/val/Systemic Issues/0551_T_box_42.jpg  \n",
            "  inflating: /content/data/val/Systemic Issues/0552_T_box_20.jpg  \n",
            "  inflating: /content/data/val/Systemic Issues/0554_T_box_19 - Kopie (2).jpg  \n",
            "  inflating: /content/data/val/Systemic Issues/0745_T_box_10 - Kopie (2).jpg  \n",
            "  inflating: /content/data/val/Systemic Issues/0745_T_box_11 - Kopie (2).jpg  \n",
            "  inflating: /content/data/val/Systemic Issues/0745_T_box_13 - Kopie (2).jpg  \n",
            "  inflating: /content/data/val/Systemic Issues/0746_T_box_4 - Kopie (2).jpg  \n",
            "  inflating: /content/data/val/Systemic Issues/1047_T_box_19.jpg  \n",
            "  inflating: /content/data/val/Systemic Issues/1048_T_box_18.jpg  \n",
            "  inflating: /content/data/val/Systemic Issues/1048_T_box_19.jpg  \n",
            "  inflating: /content/data/val/Systemic Issues/1059_T_box_37 - Kopie (2).jpg  \n",
            "  inflating: /content/data/val/Systemic Issues/1063_T_box_10 - Kopie (2).jpg  \n",
            "  inflating: /content/data/val/Systemic Issues/1106_T_box_7 - Kopie (2).jpg  \n",
            "  inflating: /content/data/val/Systemic Issues/1111_T_box_35 - Kopie (2).jpg  \n",
            "  inflating: /content/data/val/Systemic Issues/1112_T_box_16 - Kopie (2).jpg  \n",
            "  inflating: /content/data/val/Systemic Issues/1112_T_box_17 - Kopie (2).jpg  \n",
            "  inflating: /content/data/val/Systemic Issues/1148_T_box_42 - Kopie (2).jpg  \n",
            "  inflating: /content/data/val/Systemic Issues/1149_T_box_42 - Kopie (2).jpg  \n",
            "  inflating: /content/data/val/Systemic Issues/1150_T_box_41 - Kopie (2).jpg  \n"
          ]
        }
      ],
      "source": [
        "!unzip \"/content/archive (9).zip\" -d \"/content/\""
      ]
    },
    {
      "cell_type": "code",
      "source": [
        "!pip install ultralytics"
      ],
      "metadata": {
        "colab": {
          "base_uri": "https://localhost:8080/"
        },
        "id": "nQDQBAbWvFBS",
        "outputId": "f30cb16e-d445-42a1-e5e8-33cd5c31dd79"
      },
      "execution_count": 2,
      "outputs": [
        {
          "output_type": "stream",
          "name": "stdout",
          "text": [
            "Collecting ultralytics\n",
            "  Downloading ultralytics-8.3.169-py3-none-any.whl.metadata (37 kB)\n",
            "Requirement already satisfied: numpy>=1.23.0 in /usr/local/lib/python3.11/dist-packages (from ultralytics) (2.0.2)\n",
            "Requirement already satisfied: matplotlib>=3.3.0 in /usr/local/lib/python3.11/dist-packages (from ultralytics) (3.10.0)\n",
            "Requirement already satisfied: opencv-python>=4.6.0 in /usr/local/lib/python3.11/dist-packages (from ultralytics) (4.12.0.88)\n",
            "Requirement already satisfied: pillow>=7.1.2 in /usr/local/lib/python3.11/dist-packages (from ultralytics) (11.3.0)\n",
            "Requirement already satisfied: pyyaml>=5.3.1 in /usr/local/lib/python3.11/dist-packages (from ultralytics) (6.0.2)\n",
            "Requirement already satisfied: requests>=2.23.0 in /usr/local/lib/python3.11/dist-packages (from ultralytics) (2.32.3)\n",
            "Requirement already satisfied: scipy>=1.4.1 in /usr/local/lib/python3.11/dist-packages (from ultralytics) (1.16.0)\n",
            "Requirement already satisfied: torch>=1.8.0 in /usr/local/lib/python3.11/dist-packages (from ultralytics) (2.6.0+cu124)\n",
            "Requirement already satisfied: torchvision>=0.9.0 in /usr/local/lib/python3.11/dist-packages (from ultralytics) (0.21.0+cu124)\n",
            "Requirement already satisfied: tqdm>=4.64.0 in /usr/local/lib/python3.11/dist-packages (from ultralytics) (4.67.1)\n",
            "Requirement already satisfied: psutil in /usr/local/lib/python3.11/dist-packages (from ultralytics) (5.9.5)\n",
            "Requirement already satisfied: py-cpuinfo in /usr/local/lib/python3.11/dist-packages (from ultralytics) (9.0.0)\n",
            "Requirement already satisfied: pandas>=1.1.4 in /usr/local/lib/python3.11/dist-packages (from ultralytics) (2.2.2)\n",
            "Collecting ultralytics-thop>=2.0.0 (from ultralytics)\n",
            "  Downloading ultralytics_thop-2.0.14-py3-none-any.whl.metadata (9.4 kB)\n",
            "Requirement already satisfied: contourpy>=1.0.1 in /usr/local/lib/python3.11/dist-packages (from matplotlib>=3.3.0->ultralytics) (1.3.2)\n",
            "Requirement already satisfied: cycler>=0.10 in /usr/local/lib/python3.11/dist-packages (from matplotlib>=3.3.0->ultralytics) (0.12.1)\n",
            "Requirement already satisfied: fonttools>=4.22.0 in /usr/local/lib/python3.11/dist-packages (from matplotlib>=3.3.0->ultralytics) (4.59.0)\n",
            "Requirement already satisfied: kiwisolver>=1.3.1 in /usr/local/lib/python3.11/dist-packages (from matplotlib>=3.3.0->ultralytics) (1.4.8)\n",
            "Requirement already satisfied: packaging>=20.0 in /usr/local/lib/python3.11/dist-packages (from matplotlib>=3.3.0->ultralytics) (25.0)\n",
            "Requirement already satisfied: pyparsing>=2.3.1 in /usr/local/lib/python3.11/dist-packages (from matplotlib>=3.3.0->ultralytics) (3.2.3)\n",
            "Requirement already satisfied: python-dateutil>=2.7 in /usr/local/lib/python3.11/dist-packages (from matplotlib>=3.3.0->ultralytics) (2.9.0.post0)\n",
            "Requirement already satisfied: pytz>=2020.1 in /usr/local/lib/python3.11/dist-packages (from pandas>=1.1.4->ultralytics) (2025.2)\n",
            "Requirement already satisfied: tzdata>=2022.7 in /usr/local/lib/python3.11/dist-packages (from pandas>=1.1.4->ultralytics) (2025.2)\n",
            "Requirement already satisfied: charset-normalizer<4,>=2 in /usr/local/lib/python3.11/dist-packages (from requests>=2.23.0->ultralytics) (3.4.2)\n",
            "Requirement already satisfied: idna<4,>=2.5 in /usr/local/lib/python3.11/dist-packages (from requests>=2.23.0->ultralytics) (3.10)\n",
            "Requirement already satisfied: urllib3<3,>=1.21.1 in /usr/local/lib/python3.11/dist-packages (from requests>=2.23.0->ultralytics) (2.5.0)\n",
            "Requirement already satisfied: certifi>=2017.4.17 in /usr/local/lib/python3.11/dist-packages (from requests>=2.23.0->ultralytics) (2025.7.14)\n",
            "Requirement already satisfied: filelock in /usr/local/lib/python3.11/dist-packages (from torch>=1.8.0->ultralytics) (3.18.0)\n",
            "Requirement already satisfied: typing-extensions>=4.10.0 in /usr/local/lib/python3.11/dist-packages (from torch>=1.8.0->ultralytics) (4.14.1)\n",
            "Requirement already satisfied: networkx in /usr/local/lib/python3.11/dist-packages (from torch>=1.8.0->ultralytics) (3.5)\n",
            "Requirement already satisfied: jinja2 in /usr/local/lib/python3.11/dist-packages (from torch>=1.8.0->ultralytics) (3.1.6)\n",
            "Requirement already satisfied: fsspec in /usr/local/lib/python3.11/dist-packages (from torch>=1.8.0->ultralytics) (2025.7.0)\n",
            "Collecting nvidia-cuda-nvrtc-cu12==12.4.127 (from torch>=1.8.0->ultralytics)\n",
            "  Downloading nvidia_cuda_nvrtc_cu12-12.4.127-py3-none-manylinux2014_x86_64.whl.metadata (1.5 kB)\n",
            "Collecting nvidia-cuda-runtime-cu12==12.4.127 (from torch>=1.8.0->ultralytics)\n",
            "  Downloading nvidia_cuda_runtime_cu12-12.4.127-py3-none-manylinux2014_x86_64.whl.metadata (1.5 kB)\n",
            "Collecting nvidia-cuda-cupti-cu12==12.4.127 (from torch>=1.8.0->ultralytics)\n",
            "  Downloading nvidia_cuda_cupti_cu12-12.4.127-py3-none-manylinux2014_x86_64.whl.metadata (1.6 kB)\n",
            "Collecting nvidia-cudnn-cu12==9.1.0.70 (from torch>=1.8.0->ultralytics)\n",
            "  Downloading nvidia_cudnn_cu12-9.1.0.70-py3-none-manylinux2014_x86_64.whl.metadata (1.6 kB)\n",
            "Collecting nvidia-cublas-cu12==12.4.5.8 (from torch>=1.8.0->ultralytics)\n",
            "  Downloading nvidia_cublas_cu12-12.4.5.8-py3-none-manylinux2014_x86_64.whl.metadata (1.5 kB)\n",
            "Collecting nvidia-cufft-cu12==11.2.1.3 (from torch>=1.8.0->ultralytics)\n",
            "  Downloading nvidia_cufft_cu12-11.2.1.3-py3-none-manylinux2014_x86_64.whl.metadata (1.5 kB)\n",
            "Collecting nvidia-curand-cu12==10.3.5.147 (from torch>=1.8.0->ultralytics)\n",
            "  Downloading nvidia_curand_cu12-10.3.5.147-py3-none-manylinux2014_x86_64.whl.metadata (1.5 kB)\n",
            "Collecting nvidia-cusolver-cu12==11.6.1.9 (from torch>=1.8.0->ultralytics)\n",
            "  Downloading nvidia_cusolver_cu12-11.6.1.9-py3-none-manylinux2014_x86_64.whl.metadata (1.6 kB)\n",
            "Collecting nvidia-cusparse-cu12==12.3.1.170 (from torch>=1.8.0->ultralytics)\n",
            "  Downloading nvidia_cusparse_cu12-12.3.1.170-py3-none-manylinux2014_x86_64.whl.metadata (1.6 kB)\n",
            "Requirement already satisfied: nvidia-cusparselt-cu12==0.6.2 in /usr/local/lib/python3.11/dist-packages (from torch>=1.8.0->ultralytics) (0.6.2)\n",
            "Requirement already satisfied: nvidia-nccl-cu12==2.21.5 in /usr/local/lib/python3.11/dist-packages (from torch>=1.8.0->ultralytics) (2.21.5)\n",
            "Requirement already satisfied: nvidia-nvtx-cu12==12.4.127 in /usr/local/lib/python3.11/dist-packages (from torch>=1.8.0->ultralytics) (12.4.127)\n",
            "Collecting nvidia-nvjitlink-cu12==12.4.127 (from torch>=1.8.0->ultralytics)\n",
            "  Downloading nvidia_nvjitlink_cu12-12.4.127-py3-none-manylinux2014_x86_64.whl.metadata (1.5 kB)\n",
            "Requirement already satisfied: triton==3.2.0 in /usr/local/lib/python3.11/dist-packages (from torch>=1.8.0->ultralytics) (3.2.0)\n",
            "Requirement already satisfied: sympy==1.13.1 in /usr/local/lib/python3.11/dist-packages (from torch>=1.8.0->ultralytics) (1.13.1)\n",
            "Requirement already satisfied: mpmath<1.4,>=1.1.0 in /usr/local/lib/python3.11/dist-packages (from sympy==1.13.1->torch>=1.8.0->ultralytics) (1.3.0)\n",
            "Requirement already satisfied: six>=1.5 in /usr/local/lib/python3.11/dist-packages (from python-dateutil>=2.7->matplotlib>=3.3.0->ultralytics) (1.17.0)\n",
            "Requirement already satisfied: MarkupSafe>=2.0 in /usr/local/lib/python3.11/dist-packages (from jinja2->torch>=1.8.0->ultralytics) (3.0.2)\n",
            "Downloading ultralytics-8.3.169-py3-none-any.whl (1.0 MB)\n",
            "\u001b[2K   \u001b[90m━━━━━━━━━━━━━━━━━━━━━━━━━━━━━━━━━━━━━━━━\u001b[0m \u001b[32m1.0/1.0 MB\u001b[0m \u001b[31m14.9 MB/s\u001b[0m eta \u001b[36m0:00:00\u001b[0m\n",
            "\u001b[?25hDownloading nvidia_cublas_cu12-12.4.5.8-py3-none-manylinux2014_x86_64.whl (363.4 MB)\n",
            "\u001b[2K   \u001b[90m━━━━━━━━━━━━━━━━━━━━━━━━━━━━━━━━━━━━━━━━\u001b[0m \u001b[32m363.4/363.4 MB\u001b[0m \u001b[31m4.5 MB/s\u001b[0m eta \u001b[36m0:00:00\u001b[0m\n",
            "\u001b[?25hDownloading nvidia_cuda_cupti_cu12-12.4.127-py3-none-manylinux2014_x86_64.whl (13.8 MB)\n",
            "\u001b[2K   \u001b[90m━━━━━━━━━━━━━━━━━━━━━━━━━━━━━━━━━━━━━━━━\u001b[0m \u001b[32m13.8/13.8 MB\u001b[0m \u001b[31m96.6 MB/s\u001b[0m eta \u001b[36m0:00:00\u001b[0m\n",
            "\u001b[?25hDownloading nvidia_cuda_nvrtc_cu12-12.4.127-py3-none-manylinux2014_x86_64.whl (24.6 MB)\n",
            "\u001b[2K   \u001b[90m━━━━━━━━━━━━━━━━━━━━━━━━━━━━━━━━━━━━━━━━\u001b[0m \u001b[32m24.6/24.6 MB\u001b[0m \u001b[31m79.0 MB/s\u001b[0m eta \u001b[36m0:00:00\u001b[0m\n",
            "\u001b[?25hDownloading nvidia_cuda_runtime_cu12-12.4.127-py3-none-manylinux2014_x86_64.whl (883 kB)\n",
            "\u001b[2K   \u001b[90m━━━━━━━━━━━━━━━━━━━━━━━━━━━━━━━━━━━━━━━━\u001b[0m \u001b[32m883.7/883.7 kB\u001b[0m \u001b[31m39.8 MB/s\u001b[0m eta \u001b[36m0:00:00\u001b[0m\n",
            "\u001b[?25hDownloading nvidia_cudnn_cu12-9.1.0.70-py3-none-manylinux2014_x86_64.whl (664.8 MB)\n",
            "\u001b[2K   \u001b[90m━━━━━━━━━━━━━━━━━━━━━━━━━━━━━━━━━━━━━━━━\u001b[0m \u001b[32m664.8/664.8 MB\u001b[0m \u001b[31m1.1 MB/s\u001b[0m eta \u001b[36m0:00:00\u001b[0m\n",
            "\u001b[?25hDownloading nvidia_cufft_cu12-11.2.1.3-py3-none-manylinux2014_x86_64.whl (211.5 MB)\n",
            "\u001b[2K   \u001b[90m━━━━━━━━━━━━━━━━━━━━━━━━━━━━━━━━━━━━━━━━\u001b[0m \u001b[32m211.5/211.5 MB\u001b[0m \u001b[31m4.5 MB/s\u001b[0m eta \u001b[36m0:00:00\u001b[0m\n",
            "\u001b[?25hDownloading nvidia_curand_cu12-10.3.5.147-py3-none-manylinux2014_x86_64.whl (56.3 MB)\n",
            "\u001b[2K   \u001b[90m━━━━━━━━━━━━━━━━━━━━━━━━━━━━━━━━━━━━━━━━\u001b[0m \u001b[32m56.3/56.3 MB\u001b[0m \u001b[31m9.9 MB/s\u001b[0m eta \u001b[36m0:00:00\u001b[0m\n",
            "\u001b[?25hDownloading nvidia_cusolver_cu12-11.6.1.9-py3-none-manylinux2014_x86_64.whl (127.9 MB)\n",
            "\u001b[2K   \u001b[90m━━━━━━━━━━━━━━━━━━━━━━━━━━━━━━━━━━━━━━━━\u001b[0m \u001b[32m127.9/127.9 MB\u001b[0m \u001b[31m7.8 MB/s\u001b[0m eta \u001b[36m0:00:00\u001b[0m\n",
            "\u001b[?25hDownloading nvidia_cusparse_cu12-12.3.1.170-py3-none-manylinux2014_x86_64.whl (207.5 MB)\n",
            "\u001b[2K   \u001b[90m━━━━━━━━━━━━━━━━━━━━━━━━━━━━━━━━━━━━━━━━\u001b[0m \u001b[32m207.5/207.5 MB\u001b[0m \u001b[31m5.9 MB/s\u001b[0m eta \u001b[36m0:00:00\u001b[0m\n",
            "\u001b[?25hDownloading nvidia_nvjitlink_cu12-12.4.127-py3-none-manylinux2014_x86_64.whl (21.1 MB)\n",
            "\u001b[2K   \u001b[90m━━━━━━━━━━━━━━━━━━━━━━━━━━━━━━━━━━━━━━━━\u001b[0m \u001b[32m21.1/21.1 MB\u001b[0m \u001b[31m62.2 MB/s\u001b[0m eta \u001b[36m0:00:00\u001b[0m\n",
            "\u001b[?25hDownloading ultralytics_thop-2.0.14-py3-none-any.whl (26 kB)\n",
            "Installing collected packages: nvidia-nvjitlink-cu12, nvidia-curand-cu12, nvidia-cufft-cu12, nvidia-cuda-runtime-cu12, nvidia-cuda-nvrtc-cu12, nvidia-cuda-cupti-cu12, nvidia-cublas-cu12, nvidia-cusparse-cu12, nvidia-cudnn-cu12, nvidia-cusolver-cu12, ultralytics-thop, ultralytics\n",
            "  Attempting uninstall: nvidia-nvjitlink-cu12\n",
            "    Found existing installation: nvidia-nvjitlink-cu12 12.5.82\n",
            "    Uninstalling nvidia-nvjitlink-cu12-12.5.82:\n",
            "      Successfully uninstalled nvidia-nvjitlink-cu12-12.5.82\n",
            "  Attempting uninstall: nvidia-curand-cu12\n",
            "    Found existing installation: nvidia-curand-cu12 10.3.6.82\n",
            "    Uninstalling nvidia-curand-cu12-10.3.6.82:\n",
            "      Successfully uninstalled nvidia-curand-cu12-10.3.6.82\n",
            "  Attempting uninstall: nvidia-cufft-cu12\n",
            "    Found existing installation: nvidia-cufft-cu12 11.2.3.61\n",
            "    Uninstalling nvidia-cufft-cu12-11.2.3.61:\n",
            "      Successfully uninstalled nvidia-cufft-cu12-11.2.3.61\n",
            "  Attempting uninstall: nvidia-cuda-runtime-cu12\n",
            "    Found existing installation: nvidia-cuda-runtime-cu12 12.5.82\n",
            "    Uninstalling nvidia-cuda-runtime-cu12-12.5.82:\n",
            "      Successfully uninstalled nvidia-cuda-runtime-cu12-12.5.82\n",
            "  Attempting uninstall: nvidia-cuda-nvrtc-cu12\n",
            "    Found existing installation: nvidia-cuda-nvrtc-cu12 12.5.82\n",
            "    Uninstalling nvidia-cuda-nvrtc-cu12-12.5.82:\n",
            "      Successfully uninstalled nvidia-cuda-nvrtc-cu12-12.5.82\n",
            "  Attempting uninstall: nvidia-cuda-cupti-cu12\n",
            "    Found existing installation: nvidia-cuda-cupti-cu12 12.5.82\n",
            "    Uninstalling nvidia-cuda-cupti-cu12-12.5.82:\n",
            "      Successfully uninstalled nvidia-cuda-cupti-cu12-12.5.82\n",
            "  Attempting uninstall: nvidia-cublas-cu12\n",
            "    Found existing installation: nvidia-cublas-cu12 12.5.3.2\n",
            "    Uninstalling nvidia-cublas-cu12-12.5.3.2:\n",
            "      Successfully uninstalled nvidia-cublas-cu12-12.5.3.2\n",
            "  Attempting uninstall: nvidia-cusparse-cu12\n",
            "    Found existing installation: nvidia-cusparse-cu12 12.5.1.3\n",
            "    Uninstalling nvidia-cusparse-cu12-12.5.1.3:\n",
            "      Successfully uninstalled nvidia-cusparse-cu12-12.5.1.3\n",
            "  Attempting uninstall: nvidia-cudnn-cu12\n",
            "    Found existing installation: nvidia-cudnn-cu12 9.3.0.75\n",
            "    Uninstalling nvidia-cudnn-cu12-9.3.0.75:\n",
            "      Successfully uninstalled nvidia-cudnn-cu12-9.3.0.75\n",
            "  Attempting uninstall: nvidia-cusolver-cu12\n",
            "    Found existing installation: nvidia-cusolver-cu12 11.6.3.83\n",
            "    Uninstalling nvidia-cusolver-cu12-11.6.3.83:\n",
            "      Successfully uninstalled nvidia-cusolver-cu12-11.6.3.83\n",
            "Successfully installed nvidia-cublas-cu12-12.4.5.8 nvidia-cuda-cupti-cu12-12.4.127 nvidia-cuda-nvrtc-cu12-12.4.127 nvidia-cuda-runtime-cu12-12.4.127 nvidia-cudnn-cu12-9.1.0.70 nvidia-cufft-cu12-11.2.1.3 nvidia-curand-cu12-10.3.5.147 nvidia-cusolver-cu12-11.6.1.9 nvidia-cusparse-cu12-12.3.1.170 nvidia-nvjitlink-cu12-12.4.127 ultralytics-8.3.169 ultralytics-thop-2.0.14\n"
          ]
        }
      ]
    },
    {
      "cell_type": "code",
      "source": [
        "from ultralytics import YOLO\n",
        "\n",
        "# Load base classifier model\n",
        "model = YOLO(\"yolov8s-cls.pt\")  # You can also try yolov8m-cls.pt or yolov8n-cls.pt\n",
        "\n",
        "# Start training\n",
        "model.train(\n",
        "    data=\"/content/data\",     # Folder containing 'train/' and 'val/'\n",
        "    epochs=50,                # You can increase if accuracy keeps improving\n",
        "    imgsz=224,                # Image resize size\n",
        "    name=\"cell_fault_classifier\"\n",
        ")\n"
      ],
      "metadata": {
        "colab": {
          "base_uri": "https://localhost:8080/"
        },
        "id": "2JPWEsGVtNx2",
        "outputId": "7602960e-ac1a-45aa-ab70-ede3bfc87b1e"
      },
      "execution_count": 3,
      "outputs": [
        {
          "output_type": "stream",
          "name": "stdout",
          "text": [
            "Creating new Ultralytics Settings v0.0.6 file ✅ \n",
            "View Ultralytics Settings with 'yolo settings' or at '/root/.config/Ultralytics/settings.json'\n",
            "Update Settings with 'yolo settings key=value', i.e. 'yolo settings runs_dir=path/to/dir'. For help see https://docs.ultralytics.com/quickstart/#ultralytics-settings.\n",
            "Ultralytics 8.3.169 🚀 Python-3.11.13 torch-2.6.0+cu124 CPU (Intel Xeon 2.20GHz)\n",
            "\u001b[34m\u001b[1mengine/trainer: \u001b[0magnostic_nms=False, amp=True, augment=False, auto_augment=randaugment, batch=16, bgr=0.0, box=7.5, cache=False, cfg=None, classes=None, close_mosaic=10, cls=0.5, conf=None, copy_paste=0.0, copy_paste_mode=flip, cos_lr=False, cutmix=0.0, data=/content/data, degrees=0.0, deterministic=True, device=cpu, dfl=1.5, dnn=False, dropout=0.0, dynamic=False, embed=None, epochs=50, erasing=0.4, exist_ok=False, fliplr=0.5, flipud=0.0, format=torchscript, fraction=1.0, freeze=None, half=False, hsv_h=0.015, hsv_s=0.7, hsv_v=0.4, imgsz=224, int8=False, iou=0.7, keras=False, kobj=1.0, line_width=None, lr0=0.01, lrf=0.01, mask_ratio=4, max_det=300, mixup=0.0, mode=train, model=yolov8s-cls.pt, momentum=0.937, mosaic=1.0, multi_scale=False, name=cell_fault_classifier, nbs=64, nms=False, opset=None, optimize=False, optimizer=auto, overlap_mask=True, patience=100, perspective=0.0, plots=True, pose=12.0, pretrained=True, profile=False, project=None, rect=False, resume=False, retina_masks=False, save=True, save_conf=False, save_crop=False, save_dir=runs/classify/cell_fault_classifier, save_frames=False, save_json=False, save_period=-1, save_txt=False, scale=0.5, seed=0, shear=0.0, show=False, show_boxes=True, show_conf=True, show_labels=True, simplify=True, single_cls=False, source=None, split=val, stream_buffer=False, task=classify, time=None, tracker=botsort.yaml, translate=0.1, val=True, verbose=True, vid_stride=1, visualize=False, warmup_bias_lr=0.1, warmup_epochs=3.0, warmup_momentum=0.8, weight_decay=0.0005, workers=8, workspace=None\n",
            "\u001b[34m\u001b[1mtrain:\u001b[0m /content/data/train... found 438 images in 5 classes ✅ \n",
            "\u001b[34m\u001b[1mval:\u001b[0m /content/data/val... found 159 images in 5 classes ✅ \n",
            "\u001b[34m\u001b[1mtest:\u001b[0m None...\n",
            "Overriding model.yaml nc=1000 with nc=5\n",
            "\n",
            "                   from  n    params  module                                       arguments                     \n",
            "  0                  -1  1       928  ultralytics.nn.modules.conv.Conv             [3, 32, 3, 2]                 \n",
            "  1                  -1  1     18560  ultralytics.nn.modules.conv.Conv             [32, 64, 3, 2]                \n",
            "  2                  -1  1     29056  ultralytics.nn.modules.block.C2f             [64, 64, 1, True]             \n",
            "  3                  -1  1     73984  ultralytics.nn.modules.conv.Conv             [64, 128, 3, 2]               \n",
            "  4                  -1  2    197632  ultralytics.nn.modules.block.C2f             [128, 128, 2, True]           \n",
            "  5                  -1  1    295424  ultralytics.nn.modules.conv.Conv             [128, 256, 3, 2]              \n",
            "  6                  -1  2    788480  ultralytics.nn.modules.block.C2f             [256, 256, 2, True]           \n",
            "  7                  -1  1   1180672  ultralytics.nn.modules.conv.Conv             [256, 512, 3, 2]              \n",
            "  8                  -1  1   1838080  ultralytics.nn.modules.block.C2f             [512, 512, 1, True]           \n",
            "  9                  -1  1    664325  ultralytics.nn.modules.head.Classify         [512, 5]                      \n",
            "YOLOv8s-cls summary: 56 layers, 5,087,141 parameters, 5,087,141 gradients, 12.6 GFLOPs\n",
            "Transferred 156/158 items from pretrained weights\n",
            "\u001b[34m\u001b[1mtrain: \u001b[0mFast image access ✅ (ping: 0.0±0.0 ms, read: 4.5±5.2 MB/s, size: 1.0 KB)\n"
          ]
        },
        {
          "output_type": "stream",
          "name": "stderr",
          "text": [
            "\u001b[34m\u001b[1mtrain: \u001b[0mScanning /content/data/train... 438 images, 0 corrupt: 100%|██████████| 438/438 [00:00<00:00, 2620.32it/s]"
          ]
        },
        {
          "output_type": "stream",
          "name": "stdout",
          "text": [
            "\u001b[34m\u001b[1mtrain: \u001b[0mNew cache created: /content/data/train.cache\n",
            "\u001b[34m\u001b[1mval: \u001b[0mFast image access ✅ (ping: 0.0±0.0 ms, read: 12.3±2.5 MB/s, size: 0.9 KB)\n"
          ]
        },
        {
          "output_type": "stream",
          "name": "stderr",
          "text": [
            "\n",
            "\u001b[34m\u001b[1mval: \u001b[0mScanning /content/data/val... 159 images, 0 corrupt: 100%|██████████| 159/159 [00:00<00:00, 3900.95it/s]"
          ]
        },
        {
          "output_type": "stream",
          "name": "stdout",
          "text": [
            "\u001b[34m\u001b[1mval: \u001b[0mNew cache created: /content/data/val.cache\n",
            "\u001b[34m\u001b[1moptimizer:\u001b[0m 'optimizer=auto' found, ignoring 'lr0=0.01' and 'momentum=0.937' and determining best 'optimizer', 'lr0' and 'momentum' automatically... \n",
            "\u001b[34m\u001b[1moptimizer:\u001b[0m AdamW(lr=0.001111, momentum=0.9) with parameter groups 26 weight(decay=0.0), 27 weight(decay=0.0005), 27 bias(decay=0.0)\n",
            "Image sizes 224 train, 224 val\n",
            "Using 0 dataloader workers\n",
            "Logging results to \u001b[1mruns/classify/cell_fault_classifier\u001b[0m\n",
            "Starting training for 50 epochs...\n",
            "\n",
            "      Epoch    GPU_mem       loss  Instances       Size\n"
          ]
        },
        {
          "output_type": "stream",
          "name": "stderr",
          "text": [
            "\n",
            "       1/50         0G      1.715         16        224:   4%|▎         | 1/28 [00:03<01:21,  3.03s/it]"
          ]
        },
        {
          "output_type": "stream",
          "name": "stdout",
          "text": [
            "Downloading https://ultralytics.com/assets/Arial.ttf to '/root/.config/Ultralytics/Arial.ttf'...\n"
          ]
        },
        {
          "output_type": "stream",
          "name": "stderr",
          "text": [
            "\n",
            "100%|██████████| 755k/755k [00:00<00:00, 13.4MB/s]\n",
            "       1/50         0G      1.555          6        224: 100%|██████████| 28/28 [01:09<00:00,  2.50s/it]\n",
            "               classes   top1_acc   top5_acc: 100%|██████████| 5/5 [00:08<00:00,  1.75s/it]"
          ]
        },
        {
          "output_type": "stream",
          "name": "stdout",
          "text": [
            "                   all      0.384          1\n"
          ]
        },
        {
          "output_type": "stream",
          "name": "stderr",
          "text": [
            "\n"
          ]
        },
        {
          "output_type": "stream",
          "name": "stdout",
          "text": [
            "\n",
            "      Epoch    GPU_mem       loss  Instances       Size\n"
          ]
        },
        {
          "output_type": "stream",
          "name": "stderr",
          "text": [
            "       2/50         0G      1.212          6        224: 100%|██████████| 28/28 [01:05<00:00,  2.35s/it]\n",
            "               classes   top1_acc   top5_acc: 100%|██████████| 5/5 [00:08<00:00,  1.61s/it]"
          ]
        },
        {
          "output_type": "stream",
          "name": "stdout",
          "text": [
            "                   all      0.723          1\n"
          ]
        },
        {
          "output_type": "stream",
          "name": "stderr",
          "text": [
            "\n"
          ]
        },
        {
          "output_type": "stream",
          "name": "stdout",
          "text": [
            "\n",
            "      Epoch    GPU_mem       loss  Instances       Size\n"
          ]
        },
        {
          "output_type": "stream",
          "name": "stderr",
          "text": [
            "       3/50         0G     0.7519          6        224: 100%|██████████| 28/28 [01:06<00:00,  2.36s/it]\n",
            "               classes   top1_acc   top5_acc: 100%|██████████| 5/5 [00:07<00:00,  1.47s/it]"
          ]
        },
        {
          "output_type": "stream",
          "name": "stdout",
          "text": [
            "                   all       0.83          1\n"
          ]
        },
        {
          "output_type": "stream",
          "name": "stderr",
          "text": [
            "\n"
          ]
        },
        {
          "output_type": "stream",
          "name": "stdout",
          "text": [
            "\n",
            "      Epoch    GPU_mem       loss  Instances       Size\n"
          ]
        },
        {
          "output_type": "stream",
          "name": "stderr",
          "text": [
            "       4/50         0G     0.6434          6        224: 100%|██████████| 28/28 [01:05<00:00,  2.34s/it]\n",
            "               classes   top1_acc   top5_acc: 100%|██████████| 5/5 [00:06<00:00,  1.30s/it]"
          ]
        },
        {
          "output_type": "stream",
          "name": "stdout",
          "text": [
            "                   all       0.78          1\n",
            "\n",
            "      Epoch    GPU_mem       loss  Instances       Size\n"
          ]
        },
        {
          "output_type": "stream",
          "name": "stderr",
          "text": [
            "\n",
            "       5/50         0G      0.483          6        224: 100%|██████████| 28/28 [01:06<00:00,  2.38s/it]\n",
            "               classes   top1_acc   top5_acc: 100%|██████████| 5/5 [00:07<00:00,  1.51s/it]"
          ]
        },
        {
          "output_type": "stream",
          "name": "stdout",
          "text": [
            "                   all      0.818          1\n"
          ]
        },
        {
          "output_type": "stream",
          "name": "stderr",
          "text": [
            "\n"
          ]
        },
        {
          "output_type": "stream",
          "name": "stdout",
          "text": [
            "\n",
            "      Epoch    GPU_mem       loss  Instances       Size\n"
          ]
        },
        {
          "output_type": "stream",
          "name": "stderr",
          "text": [
            "       6/50         0G     0.4815          6        224: 100%|██████████| 28/28 [01:05<00:00,  2.33s/it]\n",
            "               classes   top1_acc   top5_acc: 100%|██████████| 5/5 [00:06<00:00,  1.39s/it]"
          ]
        },
        {
          "output_type": "stream",
          "name": "stdout",
          "text": [
            "                   all      0.855          1\n"
          ]
        },
        {
          "output_type": "stream",
          "name": "stderr",
          "text": [
            "\n"
          ]
        },
        {
          "output_type": "stream",
          "name": "stdout",
          "text": [
            "\n",
            "      Epoch    GPU_mem       loss  Instances       Size\n"
          ]
        },
        {
          "output_type": "stream",
          "name": "stderr",
          "text": [
            "       7/50         0G     0.5589          6        224: 100%|██████████| 28/28 [01:12<00:00,  2.60s/it]\n",
            "               classes   top1_acc   top5_acc: 100%|██████████| 5/5 [00:06<00:00,  1.31s/it]"
          ]
        },
        {
          "output_type": "stream",
          "name": "stdout",
          "text": [
            "                   all      0.874          1\n"
          ]
        },
        {
          "output_type": "stream",
          "name": "stderr",
          "text": [
            "\n"
          ]
        },
        {
          "output_type": "stream",
          "name": "stdout",
          "text": [
            "\n",
            "      Epoch    GPU_mem       loss  Instances       Size\n"
          ]
        },
        {
          "output_type": "stream",
          "name": "stderr",
          "text": [
            "       8/50         0G      0.481          6        224: 100%|██████████| 28/28 [01:07<00:00,  2.43s/it]\n",
            "               classes   top1_acc   top5_acc: 100%|██████████| 5/5 [00:06<00:00,  1.39s/it]"
          ]
        },
        {
          "output_type": "stream",
          "name": "stdout",
          "text": [
            "                   all      0.818          1\n"
          ]
        },
        {
          "output_type": "stream",
          "name": "stderr",
          "text": [
            "\n"
          ]
        },
        {
          "output_type": "stream",
          "name": "stdout",
          "text": [
            "\n",
            "      Epoch    GPU_mem       loss  Instances       Size\n"
          ]
        },
        {
          "output_type": "stream",
          "name": "stderr",
          "text": [
            "       9/50         0G     0.5246          6        224: 100%|██████████| 28/28 [01:06<00:00,  2.38s/it]\n",
            "               classes   top1_acc   top5_acc: 100%|██████████| 5/5 [00:08<00:00,  1.66s/it]"
          ]
        },
        {
          "output_type": "stream",
          "name": "stdout",
          "text": [
            "                   all      0.887          1\n"
          ]
        },
        {
          "output_type": "stream",
          "name": "stderr",
          "text": [
            "\n"
          ]
        },
        {
          "output_type": "stream",
          "name": "stdout",
          "text": [
            "\n",
            "      Epoch    GPU_mem       loss  Instances       Size\n"
          ]
        },
        {
          "output_type": "stream",
          "name": "stderr",
          "text": [
            "      10/50         0G     0.4105          6        224: 100%|██████████| 28/28 [01:07<00:00,  2.40s/it]\n",
            "               classes   top1_acc   top5_acc: 100%|██████████| 5/5 [00:07<00:00,  1.50s/it]"
          ]
        },
        {
          "output_type": "stream",
          "name": "stdout",
          "text": [
            "                   all      0.855          1\n",
            "\n",
            "      Epoch    GPU_mem       loss  Instances       Size\n"
          ]
        },
        {
          "output_type": "stream",
          "name": "stderr",
          "text": [
            "\n",
            "      11/50         0G     0.4413          6        224: 100%|██████████| 28/28 [01:06<00:00,  2.37s/it]\n",
            "               classes   top1_acc   top5_acc: 100%|██████████| 5/5 [00:06<00:00,  1.34s/it]"
          ]
        },
        {
          "output_type": "stream",
          "name": "stdout",
          "text": [
            "                   all      0.881          1\n"
          ]
        },
        {
          "output_type": "stream",
          "name": "stderr",
          "text": [
            "\n"
          ]
        },
        {
          "output_type": "stream",
          "name": "stdout",
          "text": [
            "\n",
            "      Epoch    GPU_mem       loss  Instances       Size\n"
          ]
        },
        {
          "output_type": "stream",
          "name": "stderr",
          "text": [
            "      12/50         0G     0.3732          6        224: 100%|██████████| 28/28 [01:06<00:00,  2.38s/it]\n",
            "               classes   top1_acc   top5_acc: 100%|██████████| 5/5 [00:07<00:00,  1.47s/it]"
          ]
        },
        {
          "output_type": "stream",
          "name": "stdout",
          "text": [
            "                   all      0.849          1\n",
            "\n",
            "      Epoch    GPU_mem       loss  Instances       Size\n"
          ]
        },
        {
          "output_type": "stream",
          "name": "stderr",
          "text": [
            "\n",
            "      13/50         0G     0.4604          6        224: 100%|██████████| 28/28 [01:06<00:00,  2.37s/it]\n",
            "               classes   top1_acc   top5_acc: 100%|██████████| 5/5 [00:07<00:00,  1.56s/it]"
          ]
        },
        {
          "output_type": "stream",
          "name": "stdout",
          "text": [
            "                   all      0.881          1\n"
          ]
        },
        {
          "output_type": "stream",
          "name": "stderr",
          "text": [
            "\n"
          ]
        },
        {
          "output_type": "stream",
          "name": "stdout",
          "text": [
            "\n",
            "      Epoch    GPU_mem       loss  Instances       Size\n"
          ]
        },
        {
          "output_type": "stream",
          "name": "stderr",
          "text": [
            "      14/50         0G      0.329          6        224: 100%|██████████| 28/28 [01:07<00:00,  2.40s/it]\n",
            "               classes   top1_acc   top5_acc: 100%|██████████| 5/5 [00:07<00:00,  1.44s/it]"
          ]
        },
        {
          "output_type": "stream",
          "name": "stdout",
          "text": [
            "                   all      0.874          1\n"
          ]
        },
        {
          "output_type": "stream",
          "name": "stderr",
          "text": [
            "\n"
          ]
        },
        {
          "output_type": "stream",
          "name": "stdout",
          "text": [
            "\n",
            "      Epoch    GPU_mem       loss  Instances       Size\n"
          ]
        },
        {
          "output_type": "stream",
          "name": "stderr",
          "text": [
            "      15/50         0G     0.3397          6        224: 100%|██████████| 28/28 [01:12<00:00,  2.61s/it]\n",
            "               classes   top1_acc   top5_acc: 100%|██████████| 5/5 [00:06<00:00,  1.35s/it]"
          ]
        },
        {
          "output_type": "stream",
          "name": "stdout",
          "text": [
            "                   all      0.899          1\n"
          ]
        },
        {
          "output_type": "stream",
          "name": "stderr",
          "text": [
            "\n"
          ]
        },
        {
          "output_type": "stream",
          "name": "stdout",
          "text": [
            "\n",
            "      Epoch    GPU_mem       loss  Instances       Size\n"
          ]
        },
        {
          "output_type": "stream",
          "name": "stderr",
          "text": [
            "      16/50         0G     0.3433          6        224: 100%|██████████| 28/28 [01:07<00:00,  2.41s/it]\n",
            "               classes   top1_acc   top5_acc: 100%|██████████| 5/5 [00:07<00:00,  1.55s/it]"
          ]
        },
        {
          "output_type": "stream",
          "name": "stdout",
          "text": [
            "                   all      0.881          1\n"
          ]
        },
        {
          "output_type": "stream",
          "name": "stderr",
          "text": [
            "\n"
          ]
        },
        {
          "output_type": "stream",
          "name": "stdout",
          "text": [
            "\n",
            "      Epoch    GPU_mem       loss  Instances       Size\n"
          ]
        },
        {
          "output_type": "stream",
          "name": "stderr",
          "text": [
            "      17/50         0G     0.2926          6        224: 100%|██████████| 28/28 [01:07<00:00,  2.40s/it]\n",
            "               classes   top1_acc   top5_acc: 100%|██████████| 5/5 [00:08<00:00,  1.66s/it]"
          ]
        },
        {
          "output_type": "stream",
          "name": "stdout",
          "text": [
            "                   all      0.912          1\n"
          ]
        },
        {
          "output_type": "stream",
          "name": "stderr",
          "text": [
            "\n"
          ]
        },
        {
          "output_type": "stream",
          "name": "stdout",
          "text": [
            "\n",
            "      Epoch    GPU_mem       loss  Instances       Size\n"
          ]
        },
        {
          "output_type": "stream",
          "name": "stderr",
          "text": [
            "      18/50         0G     0.3019          6        224: 100%|██████████| 28/28 [01:07<00:00,  2.39s/it]\n",
            "               classes   top1_acc   top5_acc: 100%|██████████| 5/5 [00:08<00:00,  1.77s/it]"
          ]
        },
        {
          "output_type": "stream",
          "name": "stdout",
          "text": [
            "                   all      0.899          1\n",
            "\n",
            "      Epoch    GPU_mem       loss  Instances       Size\n"
          ]
        },
        {
          "output_type": "stream",
          "name": "stderr",
          "text": [
            "\n",
            "      19/50         0G     0.2449          6        224: 100%|██████████| 28/28 [01:06<00:00,  2.38s/it]\n",
            "               classes   top1_acc   top5_acc: 100%|██████████| 5/5 [00:07<00:00,  1.50s/it]"
          ]
        },
        {
          "output_type": "stream",
          "name": "stdout",
          "text": [
            "                   all      0.855          1\n"
          ]
        },
        {
          "output_type": "stream",
          "name": "stderr",
          "text": [
            "\n"
          ]
        },
        {
          "output_type": "stream",
          "name": "stdout",
          "text": [
            "\n",
            "      Epoch    GPU_mem       loss  Instances       Size\n"
          ]
        },
        {
          "output_type": "stream",
          "name": "stderr",
          "text": [
            "      20/50         0G      0.278          6        224: 100%|██████████| 28/28 [01:07<00:00,  2.40s/it]\n",
            "               classes   top1_acc   top5_acc: 100%|██████████| 5/5 [00:06<00:00,  1.40s/it]"
          ]
        },
        {
          "output_type": "stream",
          "name": "stdout",
          "text": [
            "                   all      0.931          1\n"
          ]
        },
        {
          "output_type": "stream",
          "name": "stderr",
          "text": [
            "\n"
          ]
        },
        {
          "output_type": "stream",
          "name": "stdout",
          "text": [
            "\n",
            "      Epoch    GPU_mem       loss  Instances       Size\n"
          ]
        },
        {
          "output_type": "stream",
          "name": "stderr",
          "text": [
            "      21/50         0G     0.3054          6        224: 100%|██████████| 28/28 [01:08<00:00,  2.44s/it]\n",
            "               classes   top1_acc   top5_acc: 100%|██████████| 5/5 [00:07<00:00,  1.56s/it]"
          ]
        },
        {
          "output_type": "stream",
          "name": "stdout",
          "text": [
            "                   all      0.918          1\n"
          ]
        },
        {
          "output_type": "stream",
          "name": "stderr",
          "text": [
            "\n"
          ]
        },
        {
          "output_type": "stream",
          "name": "stdout",
          "text": [
            "\n",
            "      Epoch    GPU_mem       loss  Instances       Size\n"
          ]
        },
        {
          "output_type": "stream",
          "name": "stderr",
          "text": [
            "      22/50         0G      0.286          6        224: 100%|██████████| 28/28 [01:06<00:00,  2.37s/it]\n",
            "               classes   top1_acc   top5_acc: 100%|██████████| 5/5 [00:06<00:00,  1.37s/it]"
          ]
        },
        {
          "output_type": "stream",
          "name": "stdout",
          "text": [
            "                   all      0.899          1\n"
          ]
        },
        {
          "output_type": "stream",
          "name": "stderr",
          "text": [
            "\n"
          ]
        },
        {
          "output_type": "stream",
          "name": "stdout",
          "text": [
            "\n",
            "      Epoch    GPU_mem       loss  Instances       Size\n"
          ]
        },
        {
          "output_type": "stream",
          "name": "stderr",
          "text": [
            "      23/50         0G     0.2726          6        224: 100%|██████████| 28/28 [01:11<00:00,  2.55s/it]\n",
            "               classes   top1_acc   top5_acc: 100%|██████████| 5/5 [00:07<00:00,  1.53s/it]"
          ]
        },
        {
          "output_type": "stream",
          "name": "stdout",
          "text": [
            "                   all      0.862          1\n"
          ]
        },
        {
          "output_type": "stream",
          "name": "stderr",
          "text": [
            "\n"
          ]
        },
        {
          "output_type": "stream",
          "name": "stdout",
          "text": [
            "\n",
            "      Epoch    GPU_mem       loss  Instances       Size\n"
          ]
        },
        {
          "output_type": "stream",
          "name": "stderr",
          "text": [
            "      24/50         0G      0.267          6        224: 100%|██████████| 28/28 [01:06<00:00,  2.39s/it]\n",
            "               classes   top1_acc   top5_acc: 100%|██████████| 5/5 [00:08<00:00,  1.60s/it]"
          ]
        },
        {
          "output_type": "stream",
          "name": "stdout",
          "text": [
            "                   all      0.912          1\n"
          ]
        },
        {
          "output_type": "stream",
          "name": "stderr",
          "text": [
            "\n"
          ]
        },
        {
          "output_type": "stream",
          "name": "stdout",
          "text": [
            "\n",
            "      Epoch    GPU_mem       loss  Instances       Size\n"
          ]
        },
        {
          "output_type": "stream",
          "name": "stderr",
          "text": [
            "      25/50         0G     0.2235          6        224: 100%|██████████| 28/28 [01:06<00:00,  2.38s/it]\n",
            "               classes   top1_acc   top5_acc: 100%|██████████| 5/5 [00:07<00:00,  1.52s/it]"
          ]
        },
        {
          "output_type": "stream",
          "name": "stdout",
          "text": [
            "                   all      0.893          1\n"
          ]
        },
        {
          "output_type": "stream",
          "name": "stderr",
          "text": [
            "\n"
          ]
        },
        {
          "output_type": "stream",
          "name": "stdout",
          "text": [
            "\n",
            "      Epoch    GPU_mem       loss  Instances       Size\n"
          ]
        },
        {
          "output_type": "stream",
          "name": "stderr",
          "text": [
            "      26/50         0G     0.2492          6        224: 100%|██████████| 28/28 [01:06<00:00,  2.38s/it]\n",
            "               classes   top1_acc   top5_acc: 100%|██████████| 5/5 [00:08<00:00,  1.61s/it]"
          ]
        },
        {
          "output_type": "stream",
          "name": "stdout",
          "text": [
            "                   all      0.893          1\n"
          ]
        },
        {
          "output_type": "stream",
          "name": "stderr",
          "text": [
            "\n"
          ]
        },
        {
          "output_type": "stream",
          "name": "stdout",
          "text": [
            "\n",
            "      Epoch    GPU_mem       loss  Instances       Size\n"
          ]
        },
        {
          "output_type": "stream",
          "name": "stderr",
          "text": [
            "      27/50         0G     0.2108          6        224: 100%|██████████| 28/28 [01:09<00:00,  2.49s/it]\n",
            "               classes   top1_acc   top5_acc: 100%|██████████| 5/5 [00:08<00:00,  1.62s/it]"
          ]
        },
        {
          "output_type": "stream",
          "name": "stdout",
          "text": [
            "                   all      0.912          1\n"
          ]
        },
        {
          "output_type": "stream",
          "name": "stderr",
          "text": [
            "\n"
          ]
        },
        {
          "output_type": "stream",
          "name": "stdout",
          "text": [
            "\n",
            "      Epoch    GPU_mem       loss  Instances       Size\n"
          ]
        },
        {
          "output_type": "stream",
          "name": "stderr",
          "text": [
            "      28/50         0G     0.1903          6        224: 100%|██████████| 28/28 [01:06<00:00,  2.38s/it]\n",
            "               classes   top1_acc   top5_acc: 100%|██████████| 5/5 [00:08<00:00,  1.61s/it]"
          ]
        },
        {
          "output_type": "stream",
          "name": "stdout",
          "text": [
            "                   all      0.906          1\n"
          ]
        },
        {
          "output_type": "stream",
          "name": "stderr",
          "text": [
            "\n"
          ]
        },
        {
          "output_type": "stream",
          "name": "stdout",
          "text": [
            "\n",
            "      Epoch    GPU_mem       loss  Instances       Size\n"
          ]
        },
        {
          "output_type": "stream",
          "name": "stderr",
          "text": [
            "      29/50         0G     0.2725          6        224: 100%|██████████| 28/28 [01:07<00:00,  2.40s/it]\n",
            "               classes   top1_acc   top5_acc: 100%|██████████| 5/5 [00:08<00:00,  1.67s/it]"
          ]
        },
        {
          "output_type": "stream",
          "name": "stdout",
          "text": [
            "                   all      0.906          1\n"
          ]
        },
        {
          "output_type": "stream",
          "name": "stderr",
          "text": [
            "\n"
          ]
        },
        {
          "output_type": "stream",
          "name": "stdout",
          "text": [
            "\n",
            "      Epoch    GPU_mem       loss  Instances       Size\n"
          ]
        },
        {
          "output_type": "stream",
          "name": "stderr",
          "text": [
            "      30/50         0G     0.2234          6        224: 100%|██████████| 28/28 [01:06<00:00,  2.37s/it]\n",
            "               classes   top1_acc   top5_acc: 100%|██████████| 5/5 [00:08<00:00,  1.69s/it]"
          ]
        },
        {
          "output_type": "stream",
          "name": "stdout",
          "text": [
            "                   all      0.912          1\n"
          ]
        },
        {
          "output_type": "stream",
          "name": "stderr",
          "text": [
            "\n"
          ]
        },
        {
          "output_type": "stream",
          "name": "stdout",
          "text": [
            "\n",
            "      Epoch    GPU_mem       loss  Instances       Size\n"
          ]
        },
        {
          "output_type": "stream",
          "name": "stderr",
          "text": [
            "      31/50         0G     0.1966          6        224: 100%|██████████| 28/28 [01:11<00:00,  2.55s/it]\n",
            "               classes   top1_acc   top5_acc: 100%|██████████| 5/5 [00:08<00:00,  1.63s/it]"
          ]
        },
        {
          "output_type": "stream",
          "name": "stdout",
          "text": [
            "                   all      0.893          1\n"
          ]
        },
        {
          "output_type": "stream",
          "name": "stderr",
          "text": [
            "\n"
          ]
        },
        {
          "output_type": "stream",
          "name": "stdout",
          "text": [
            "\n",
            "      Epoch    GPU_mem       loss  Instances       Size\n"
          ]
        },
        {
          "output_type": "stream",
          "name": "stderr",
          "text": [
            "      32/50         0G     0.1872          6        224: 100%|██████████| 28/28 [01:05<00:00,  2.35s/it]\n",
            "               classes   top1_acc   top5_acc: 100%|██████████| 5/5 [00:07<00:00,  1.50s/it]"
          ]
        },
        {
          "output_type": "stream",
          "name": "stdout",
          "text": [
            "                   all      0.906          1\n"
          ]
        },
        {
          "output_type": "stream",
          "name": "stderr",
          "text": [
            "\n"
          ]
        },
        {
          "output_type": "stream",
          "name": "stdout",
          "text": [
            "\n",
            "      Epoch    GPU_mem       loss  Instances       Size\n"
          ]
        },
        {
          "output_type": "stream",
          "name": "stderr",
          "text": [
            "      33/50         0G     0.1743          6        224: 100%|██████████| 28/28 [01:06<00:00,  2.36s/it]\n",
            "               classes   top1_acc   top5_acc: 100%|██████████| 5/5 [00:07<00:00,  1.52s/it]"
          ]
        },
        {
          "output_type": "stream",
          "name": "stdout",
          "text": [
            "                   all      0.906          1\n"
          ]
        },
        {
          "output_type": "stream",
          "name": "stderr",
          "text": [
            "\n"
          ]
        },
        {
          "output_type": "stream",
          "name": "stdout",
          "text": [
            "\n",
            "      Epoch    GPU_mem       loss  Instances       Size\n"
          ]
        },
        {
          "output_type": "stream",
          "name": "stderr",
          "text": [
            "      34/50         0G     0.1692          6        224: 100%|██████████| 28/28 [01:07<00:00,  2.41s/it]\n",
            "               classes   top1_acc   top5_acc: 100%|██████████| 5/5 [00:06<00:00,  1.33s/it]"
          ]
        },
        {
          "output_type": "stream",
          "name": "stdout",
          "text": [
            "                   all      0.899          1\n"
          ]
        },
        {
          "output_type": "stream",
          "name": "stderr",
          "text": [
            "\n"
          ]
        },
        {
          "output_type": "stream",
          "name": "stdout",
          "text": [
            "\n",
            "      Epoch    GPU_mem       loss  Instances       Size\n"
          ]
        },
        {
          "output_type": "stream",
          "name": "stderr",
          "text": [
            "      35/50         0G     0.1531          6        224: 100%|██████████| 28/28 [01:05<00:00,  2.35s/it]\n",
            "               classes   top1_acc   top5_acc: 100%|██████████| 5/5 [00:07<00:00,  1.59s/it]"
          ]
        },
        {
          "output_type": "stream",
          "name": "stdout",
          "text": [
            "                   all      0.912          1\n"
          ]
        },
        {
          "output_type": "stream",
          "name": "stderr",
          "text": [
            "\n"
          ]
        },
        {
          "output_type": "stream",
          "name": "stdout",
          "text": [
            "\n",
            "      Epoch    GPU_mem       loss  Instances       Size\n"
          ]
        },
        {
          "output_type": "stream",
          "name": "stderr",
          "text": [
            "      36/50         0G     0.1888          6        224: 100%|██████████| 28/28 [01:05<00:00,  2.36s/it]\n",
            "               classes   top1_acc   top5_acc: 100%|██████████| 5/5 [00:07<00:00,  1.55s/it]"
          ]
        },
        {
          "output_type": "stream",
          "name": "stdout",
          "text": [
            "                   all      0.906          1\n"
          ]
        },
        {
          "output_type": "stream",
          "name": "stderr",
          "text": [
            "\n"
          ]
        },
        {
          "output_type": "stream",
          "name": "stdout",
          "text": [
            "\n",
            "      Epoch    GPU_mem       loss  Instances       Size\n"
          ]
        },
        {
          "output_type": "stream",
          "name": "stderr",
          "text": [
            "      37/50         0G     0.1869          6        224: 100%|██████████| 28/28 [01:06<00:00,  2.37s/it]\n",
            "               classes   top1_acc   top5_acc: 100%|██████████| 5/5 [00:07<00:00,  1.53s/it]"
          ]
        },
        {
          "output_type": "stream",
          "name": "stdout",
          "text": [
            "                   all      0.906          1\n"
          ]
        },
        {
          "output_type": "stream",
          "name": "stderr",
          "text": [
            "\n"
          ]
        },
        {
          "output_type": "stream",
          "name": "stdout",
          "text": [
            "\n",
            "      Epoch    GPU_mem       loss  Instances       Size\n"
          ]
        },
        {
          "output_type": "stream",
          "name": "stderr",
          "text": [
            "      38/50         0G     0.1439          6        224: 100%|██████████| 28/28 [01:06<00:00,  2.38s/it]\n",
            "               classes   top1_acc   top5_acc: 100%|██████████| 5/5 [00:07<00:00,  1.53s/it]"
          ]
        },
        {
          "output_type": "stream",
          "name": "stdout",
          "text": [
            "                   all      0.925          1\n"
          ]
        },
        {
          "output_type": "stream",
          "name": "stderr",
          "text": [
            "\n"
          ]
        },
        {
          "output_type": "stream",
          "name": "stdout",
          "text": [
            "\n",
            "      Epoch    GPU_mem       loss  Instances       Size\n"
          ]
        },
        {
          "output_type": "stream",
          "name": "stderr",
          "text": [
            "      39/50         0G     0.1345          6        224: 100%|██████████| 28/28 [01:07<00:00,  2.41s/it]\n",
            "               classes   top1_acc   top5_acc: 100%|██████████| 5/5 [00:07<00:00,  1.50s/it]"
          ]
        },
        {
          "output_type": "stream",
          "name": "stdout",
          "text": [
            "                   all      0.912          1\n"
          ]
        },
        {
          "output_type": "stream",
          "name": "stderr",
          "text": [
            "\n"
          ]
        },
        {
          "output_type": "stream",
          "name": "stdout",
          "text": [
            "\n",
            "      Epoch    GPU_mem       loss  Instances       Size\n"
          ]
        },
        {
          "output_type": "stream",
          "name": "stderr",
          "text": [
            "      40/50         0G     0.1926          6        224: 100%|██████████| 28/28 [01:07<00:00,  2.41s/it]\n",
            "               classes   top1_acc   top5_acc: 100%|██████████| 5/5 [00:07<00:00,  1.42s/it]"
          ]
        },
        {
          "output_type": "stream",
          "name": "stdout",
          "text": [
            "                   all      0.893          1\n"
          ]
        },
        {
          "output_type": "stream",
          "name": "stderr",
          "text": [
            "\n"
          ]
        },
        {
          "output_type": "stream",
          "name": "stdout",
          "text": [
            "\n",
            "      Epoch    GPU_mem       loss  Instances       Size\n"
          ]
        },
        {
          "output_type": "stream",
          "name": "stderr",
          "text": [
            "      41/50         0G     0.1637          6        224: 100%|██████████| 28/28 [01:07<00:00,  2.40s/it]\n",
            "               classes   top1_acc   top5_acc: 100%|██████████| 5/5 [00:06<00:00,  1.36s/it]"
          ]
        },
        {
          "output_type": "stream",
          "name": "stdout",
          "text": [
            "                   all      0.899          1\n"
          ]
        },
        {
          "output_type": "stream",
          "name": "stderr",
          "text": [
            "\n"
          ]
        },
        {
          "output_type": "stream",
          "name": "stdout",
          "text": [
            "\n",
            "      Epoch    GPU_mem       loss  Instances       Size\n"
          ]
        },
        {
          "output_type": "stream",
          "name": "stderr",
          "text": [
            "      42/50         0G     0.1593          6        224: 100%|██████████| 28/28 [01:08<00:00,  2.43s/it]\n",
            "               classes   top1_acc   top5_acc: 100%|██████████| 5/5 [00:07<00:00,  1.53s/it]"
          ]
        },
        {
          "output_type": "stream",
          "name": "stdout",
          "text": [
            "                   all      0.912          1\n"
          ]
        },
        {
          "output_type": "stream",
          "name": "stderr",
          "text": [
            "\n"
          ]
        },
        {
          "output_type": "stream",
          "name": "stdout",
          "text": [
            "\n",
            "      Epoch    GPU_mem       loss  Instances       Size\n"
          ]
        },
        {
          "output_type": "stream",
          "name": "stderr",
          "text": [
            "      43/50         0G       0.18          6        224: 100%|██████████| 28/28 [01:07<00:00,  2.43s/it]\n",
            "               classes   top1_acc   top5_acc: 100%|██████████| 5/5 [00:06<00:00,  1.39s/it]"
          ]
        },
        {
          "output_type": "stream",
          "name": "stdout",
          "text": [
            "                   all      0.918          1\n"
          ]
        },
        {
          "output_type": "stream",
          "name": "stderr",
          "text": [
            "\n"
          ]
        },
        {
          "output_type": "stream",
          "name": "stdout",
          "text": [
            "\n",
            "      Epoch    GPU_mem       loss  Instances       Size\n"
          ]
        },
        {
          "output_type": "stream",
          "name": "stderr",
          "text": [
            "      44/50         0G     0.1397          6        224: 100%|██████████| 28/28 [01:06<00:00,  2.38s/it]\n",
            "               classes   top1_acc   top5_acc: 100%|██████████| 5/5 [00:07<00:00,  1.44s/it]"
          ]
        },
        {
          "output_type": "stream",
          "name": "stdout",
          "text": [
            "                   all      0.912          1\n"
          ]
        },
        {
          "output_type": "stream",
          "name": "stderr",
          "text": [
            "\n"
          ]
        },
        {
          "output_type": "stream",
          "name": "stdout",
          "text": [
            "\n",
            "      Epoch    GPU_mem       loss  Instances       Size\n"
          ]
        },
        {
          "output_type": "stream",
          "name": "stderr",
          "text": [
            "      45/50         0G     0.1333          6        224: 100%|██████████| 28/28 [01:06<00:00,  2.38s/it]\n",
            "               classes   top1_acc   top5_acc: 100%|██████████| 5/5 [00:07<00:00,  1.54s/it]"
          ]
        },
        {
          "output_type": "stream",
          "name": "stdout",
          "text": [
            "                   all      0.912          1\n"
          ]
        },
        {
          "output_type": "stream",
          "name": "stderr",
          "text": [
            "\n"
          ]
        },
        {
          "output_type": "stream",
          "name": "stdout",
          "text": [
            "\n",
            "      Epoch    GPU_mem       loss  Instances       Size\n"
          ]
        },
        {
          "output_type": "stream",
          "name": "stderr",
          "text": [
            "      46/50         0G     0.1277          6        224: 100%|██████████| 28/28 [01:06<00:00,  2.37s/it]\n",
            "               classes   top1_acc   top5_acc: 100%|██████████| 5/5 [00:07<00:00,  1.55s/it]"
          ]
        },
        {
          "output_type": "stream",
          "name": "stdout",
          "text": [
            "                   all      0.906          1\n"
          ]
        },
        {
          "output_type": "stream",
          "name": "stderr",
          "text": [
            "\n"
          ]
        },
        {
          "output_type": "stream",
          "name": "stdout",
          "text": [
            "\n",
            "      Epoch    GPU_mem       loss  Instances       Size\n"
          ]
        },
        {
          "output_type": "stream",
          "name": "stderr",
          "text": [
            "      47/50         0G     0.1864          6        224: 100%|██████████| 28/28 [01:06<00:00,  2.38s/it]\n",
            "               classes   top1_acc   top5_acc: 100%|██████████| 5/5 [00:07<00:00,  1.55s/it]"
          ]
        },
        {
          "output_type": "stream",
          "name": "stdout",
          "text": [
            "                   all      0.912          1\n"
          ]
        },
        {
          "output_type": "stream",
          "name": "stderr",
          "text": [
            "\n"
          ]
        },
        {
          "output_type": "stream",
          "name": "stdout",
          "text": [
            "\n",
            "      Epoch    GPU_mem       loss  Instances       Size\n"
          ]
        },
        {
          "output_type": "stream",
          "name": "stderr",
          "text": [
            "      48/50         0G     0.1287          6        224: 100%|██████████| 28/28 [01:05<00:00,  2.34s/it]\n",
            "               classes   top1_acc   top5_acc: 100%|██████████| 5/5 [00:06<00:00,  1.33s/it]"
          ]
        },
        {
          "output_type": "stream",
          "name": "stdout",
          "text": [
            "                   all      0.899          1\n"
          ]
        },
        {
          "output_type": "stream",
          "name": "stderr",
          "text": [
            "\n"
          ]
        },
        {
          "output_type": "stream",
          "name": "stdout",
          "text": [
            "\n",
            "      Epoch    GPU_mem       loss  Instances       Size\n"
          ]
        },
        {
          "output_type": "stream",
          "name": "stderr",
          "text": [
            "      49/50         0G       0.12          6        224: 100%|██████████| 28/28 [01:06<00:00,  2.39s/it]\n",
            "               classes   top1_acc   top5_acc: 100%|██████████| 5/5 [00:06<00:00,  1.36s/it]"
          ]
        },
        {
          "output_type": "stream",
          "name": "stdout",
          "text": [
            "                   all      0.906          1\n"
          ]
        },
        {
          "output_type": "stream",
          "name": "stderr",
          "text": [
            "\n"
          ]
        },
        {
          "output_type": "stream",
          "name": "stdout",
          "text": [
            "\n",
            "      Epoch    GPU_mem       loss  Instances       Size\n"
          ]
        },
        {
          "output_type": "stream",
          "name": "stderr",
          "text": [
            "      50/50         0G     0.1412          6        224: 100%|██████████| 28/28 [01:05<00:00,  2.35s/it]\n",
            "               classes   top1_acc   top5_acc: 100%|██████████| 5/5 [00:07<00:00,  1.53s/it]"
          ]
        },
        {
          "output_type": "stream",
          "name": "stdout",
          "text": [
            "                   all      0.918          1\n"
          ]
        },
        {
          "output_type": "stream",
          "name": "stderr",
          "text": [
            "\n"
          ]
        },
        {
          "output_type": "stream",
          "name": "stdout",
          "text": [
            "\n",
            "50 epochs completed in 1.043 hours.\n",
            "Optimizer stripped from runs/classify/cell_fault_classifier/weights/last.pt, 10.3MB\n",
            "Optimizer stripped from runs/classify/cell_fault_classifier/weights/best.pt, 10.3MB\n",
            "\n",
            "Validating runs/classify/cell_fault_classifier/weights/best.pt...\n",
            "Ultralytics 8.3.169 🚀 Python-3.11.13 torch-2.6.0+cu124 CPU (Intel Xeon 2.20GHz)\n",
            "YOLOv8s-cls summary (fused): 30 layers, 5,081,605 parameters, 0 gradients, 12.5 GFLOPs\n",
            "\u001b[34m\u001b[1mtrain:\u001b[0m /content/data/train... found 438 images in 5 classes ✅ \n",
            "\u001b[34m\u001b[1mval:\u001b[0m /content/data/val... found 159 images in 5 classes ✅ \n",
            "\u001b[34m\u001b[1mtest:\u001b[0m None...\n"
          ]
        },
        {
          "output_type": "stream",
          "name": "stderr",
          "text": [
            "               classes   top1_acc   top5_acc: 100%|██████████| 5/5 [00:07<00:00,  1.50s/it]\n"
          ]
        },
        {
          "output_type": "stream",
          "name": "stdout",
          "text": [
            "                   all      0.931          1\n",
            "Speed: 0.0ms preprocess, 41.9ms inference, 0.0ms loss, 0.0ms postprocess per image\n",
            "Results saved to \u001b[1mruns/classify/cell_fault_classifier\u001b[0m\n"
          ]
        },
        {
          "output_type": "execute_result",
          "data": {
            "text/plain": [
              "ultralytics.utils.metrics.ClassifyMetrics object with attributes:\n",
              "\n",
              "confusion_matrix: <ultralytics.utils.metrics.ConfusionMatrix object at 0x7a3d86bec850>\n",
              "curves: []\n",
              "curves_results: []\n",
              "fitness: 0.9654088020324707\n",
              "keys: ['metrics/accuracy_top1', 'metrics/accuracy_top5']\n",
              "results_dict: {'metrics/accuracy_top1': 0.9308176040649414, 'metrics/accuracy_top5': 1.0, 'fitness': 0.9654088020324707}\n",
              "save_dir: PosixPath('runs/classify/cell_fault_classifier')\n",
              "speed: {'preprocess': 0.000752547170832144, 'inference': 41.863425075467866, 'loss': 5.433961426738193e-05, 'postprocess': 0.00013724527877840393}\n",
              "task: 'classify'\n",
              "top1: 0.9308176040649414\n",
              "top5: 1.0"
            ]
          },
          "metadata": {},
          "execution_count": 3
        }
      ]
    },
    {
      "cell_type": "code",
      "source": [
        "results = model.predict(\"/content/19686.jpg\", imgsz=224)\n",
        "print(results[0].names[results[0].probs.top1])\n"
      ],
      "metadata": {
        "colab": {
          "base_uri": "https://localhost:8080/"
        },
        "id": "dWib_Uw1AHgZ",
        "outputId": "d36baddb-8b69-410e-cb3f-c804b48ca0f9"
      },
      "execution_count": 17,
      "outputs": [
        {
          "output_type": "stream",
          "name": "stdout",
          "text": [
            "\n",
            "image 1/1 /content/19686.jpg: 224x224 Systemic Issues 0.70, Severe Physical 0.29, Minor Anomalies 0.00, No Defect 0.00, Cell-Level Defects 0.00, 55.2ms\n",
            "Speed: 6.8ms preprocess, 55.2ms inference, 0.1ms postprocess per image at shape (1, 3, 224, 224)\n",
            "Systemic Issues\n"
          ]
        }
      ]
    }
  ]
}