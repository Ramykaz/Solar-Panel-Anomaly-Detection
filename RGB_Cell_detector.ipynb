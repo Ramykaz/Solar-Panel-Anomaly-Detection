{
  "nbformat": 4,
  "nbformat_minor": 0,
  "metadata": {
    "colab": {
      "provenance": [],
      "gpuType": "T4",
      "authorship_tag": "ABX9TyMs8ur6hUllDhnjeUnmQOf3",
      "include_colab_link": true
    },
    "kernelspec": {
      "name": "python3",
      "display_name": "Python 3"
    },
    "language_info": {
      "name": "python"
    }
  },
  "cells": [
    {
      "cell_type": "markdown",
      "metadata": {
        "id": "view-in-github",
        "colab_type": "text"
      },
      "source": [
        "<a href=\"https://colab.research.google.com/github/Ramykaz/Solar-Panel-Anomaly-Detection/blob/main/RGB_Cell_detector.ipynb\" target=\"_parent\"><img src=\"https://colab.research.google.com/assets/colab-badge.svg\" alt=\"Open In Colab\"/></a>"
      ]
    },
    {
      "cell_type": "code",
      "execution_count": null,
      "metadata": {
        "colab": {
          "base_uri": "https://localhost:8080/"
        },
        "id": "YBHa4WlUTtDg",
        "outputId": "6549cc22-6496-4f1a-dd25-3081fdcf4022"
      },
      "outputs": [
        {
          "output_type": "stream",
          "name": "stdout",
          "text": [
            "Requirement already satisfied: roboflow in /usr/local/lib/python3.12/dist-packages (1.2.7)\n",
            "Requirement already satisfied: certifi in /usr/local/lib/python3.12/dist-packages (from roboflow) (2025.8.3)\n",
            "Requirement already satisfied: idna==3.7 in /usr/local/lib/python3.12/dist-packages (from roboflow) (3.7)\n",
            "Requirement already satisfied: cycler in /usr/local/lib/python3.12/dist-packages (from roboflow) (0.12.1)\n",
            "Requirement already satisfied: kiwisolver>=1.3.1 in /usr/local/lib/python3.12/dist-packages (from roboflow) (1.4.9)\n",
            "Requirement already satisfied: matplotlib in /usr/local/lib/python3.12/dist-packages (from roboflow) (3.10.0)\n",
            "Requirement already satisfied: numpy>=1.18.5 in /usr/local/lib/python3.12/dist-packages (from roboflow) (2.0.2)\n",
            "Requirement already satisfied: opencv-python-headless==4.10.0.84 in /usr/local/lib/python3.12/dist-packages (from roboflow) (4.10.0.84)\n",
            "Requirement already satisfied: Pillow>=7.1.2 in /usr/local/lib/python3.12/dist-packages (from roboflow) (11.3.0)\n",
            "Requirement already satisfied: pi-heif<2 in /usr/local/lib/python3.12/dist-packages (from roboflow) (1.1.0)\n",
            "Requirement already satisfied: pillow-avif-plugin<2 in /usr/local/lib/python3.12/dist-packages (from roboflow) (1.5.2)\n",
            "Requirement already satisfied: python-dateutil in /usr/local/lib/python3.12/dist-packages (from roboflow) (2.9.0.post0)\n",
            "Requirement already satisfied: python-dotenv in /usr/local/lib/python3.12/dist-packages (from roboflow) (1.1.1)\n",
            "Requirement already satisfied: requests in /usr/local/lib/python3.12/dist-packages (from roboflow) (2.32.4)\n",
            "Requirement already satisfied: six in /usr/local/lib/python3.12/dist-packages (from roboflow) (1.17.0)\n",
            "Requirement already satisfied: urllib3>=1.26.6 in /usr/local/lib/python3.12/dist-packages (from roboflow) (2.5.0)\n",
            "Requirement already satisfied: tqdm>=4.41.0 in /usr/local/lib/python3.12/dist-packages (from roboflow) (4.67.1)\n",
            "Requirement already satisfied: PyYAML>=5.3.1 in /usr/local/lib/python3.12/dist-packages (from roboflow) (6.0.2)\n",
            "Requirement already satisfied: requests-toolbelt in /usr/local/lib/python3.12/dist-packages (from roboflow) (1.0.0)\n",
            "Requirement already satisfied: filetype in /usr/local/lib/python3.12/dist-packages (from roboflow) (1.2.0)\n",
            "Requirement already satisfied: contourpy>=1.0.1 in /usr/local/lib/python3.12/dist-packages (from matplotlib->roboflow) (1.3.3)\n",
            "Requirement already satisfied: fonttools>=4.22.0 in /usr/local/lib/python3.12/dist-packages (from matplotlib->roboflow) (4.59.1)\n",
            "Requirement already satisfied: packaging>=20.0 in /usr/local/lib/python3.12/dist-packages (from matplotlib->roboflow) (25.0)\n",
            "Requirement already satisfied: pyparsing>=2.3.1 in /usr/local/lib/python3.12/dist-packages (from matplotlib->roboflow) (3.2.3)\n",
            "Requirement already satisfied: charset_normalizer<4,>=2 in /usr/local/lib/python3.12/dist-packages (from requests->roboflow) (3.4.3)\n",
            "Requirement already satisfied: ultralytics in /usr/local/lib/python3.12/dist-packages (8.3.191)\n",
            "Requirement already satisfied: numpy>=1.23.0 in /usr/local/lib/python3.12/dist-packages (from ultralytics) (2.0.2)\n",
            "Requirement already satisfied: matplotlib>=3.3.0 in /usr/local/lib/python3.12/dist-packages (from ultralytics) (3.10.0)\n",
            "Requirement already satisfied: opencv-python>=4.6.0 in /usr/local/lib/python3.12/dist-packages (from ultralytics) (4.12.0.88)\n",
            "Requirement already satisfied: pillow>=7.1.2 in /usr/local/lib/python3.12/dist-packages (from ultralytics) (11.3.0)\n",
            "Requirement already satisfied: pyyaml>=5.3.1 in /usr/local/lib/python3.12/dist-packages (from ultralytics) (6.0.2)\n",
            "Requirement already satisfied: requests>=2.23.0 in /usr/local/lib/python3.12/dist-packages (from ultralytics) (2.32.4)\n",
            "Requirement already satisfied: scipy>=1.4.1 in /usr/local/lib/python3.12/dist-packages (from ultralytics) (1.16.1)\n",
            "Requirement already satisfied: torch>=1.8.0 in /usr/local/lib/python3.12/dist-packages (from ultralytics) (2.8.0+cu126)\n",
            "Requirement already satisfied: torchvision>=0.9.0 in /usr/local/lib/python3.12/dist-packages (from ultralytics) (0.23.0+cu126)\n",
            "Requirement already satisfied: psutil in /usr/local/lib/python3.12/dist-packages (from ultralytics) (5.9.5)\n",
            "Requirement already satisfied: py-cpuinfo in /usr/local/lib/python3.12/dist-packages (from ultralytics) (9.0.0)\n",
            "Requirement already satisfied: polars in /usr/local/lib/python3.12/dist-packages (from ultralytics) (1.25.2)\n",
            "Requirement already satisfied: ultralytics-thop>=2.0.0 in /usr/local/lib/python3.12/dist-packages (from ultralytics) (2.0.16)\n",
            "Requirement already satisfied: contourpy>=1.0.1 in /usr/local/lib/python3.12/dist-packages (from matplotlib>=3.3.0->ultralytics) (1.3.3)\n",
            "Requirement already satisfied: cycler>=0.10 in /usr/local/lib/python3.12/dist-packages (from matplotlib>=3.3.0->ultralytics) (0.12.1)\n",
            "Requirement already satisfied: fonttools>=4.22.0 in /usr/local/lib/python3.12/dist-packages (from matplotlib>=3.3.0->ultralytics) (4.59.1)\n",
            "Requirement already satisfied: kiwisolver>=1.3.1 in /usr/local/lib/python3.12/dist-packages (from matplotlib>=3.3.0->ultralytics) (1.4.9)\n",
            "Requirement already satisfied: packaging>=20.0 in /usr/local/lib/python3.12/dist-packages (from matplotlib>=3.3.0->ultralytics) (25.0)\n",
            "Requirement already satisfied: pyparsing>=2.3.1 in /usr/local/lib/python3.12/dist-packages (from matplotlib>=3.3.0->ultralytics) (3.2.3)\n",
            "Requirement already satisfied: python-dateutil>=2.7 in /usr/local/lib/python3.12/dist-packages (from matplotlib>=3.3.0->ultralytics) (2.9.0.post0)\n",
            "Requirement already satisfied: charset_normalizer<4,>=2 in /usr/local/lib/python3.12/dist-packages (from requests>=2.23.0->ultralytics) (3.4.3)\n",
            "Requirement already satisfied: idna<4,>=2.5 in /usr/local/lib/python3.12/dist-packages (from requests>=2.23.0->ultralytics) (3.7)\n",
            "Requirement already satisfied: urllib3<3,>=1.21.1 in /usr/local/lib/python3.12/dist-packages (from requests>=2.23.0->ultralytics) (2.5.0)\n",
            "Requirement already satisfied: certifi>=2017.4.17 in /usr/local/lib/python3.12/dist-packages (from requests>=2.23.0->ultralytics) (2025.8.3)\n",
            "Requirement already satisfied: filelock in /usr/local/lib/python3.12/dist-packages (from torch>=1.8.0->ultralytics) (3.19.1)\n",
            "Requirement already satisfied: typing-extensions>=4.10.0 in /usr/local/lib/python3.12/dist-packages (from torch>=1.8.0->ultralytics) (4.15.0)\n",
            "Requirement already satisfied: setuptools in /usr/local/lib/python3.12/dist-packages (from torch>=1.8.0->ultralytics) (75.2.0)\n",
            "Requirement already satisfied: sympy>=1.13.3 in /usr/local/lib/python3.12/dist-packages (from torch>=1.8.0->ultralytics) (1.13.3)\n",
            "Requirement already satisfied: networkx in /usr/local/lib/python3.12/dist-packages (from torch>=1.8.0->ultralytics) (3.5)\n",
            "Requirement already satisfied: jinja2 in /usr/local/lib/python3.12/dist-packages (from torch>=1.8.0->ultralytics) (3.1.6)\n",
            "Requirement already satisfied: fsspec in /usr/local/lib/python3.12/dist-packages (from torch>=1.8.0->ultralytics) (2025.3.0)\n",
            "Requirement already satisfied: nvidia-cuda-nvrtc-cu12==12.6.77 in /usr/local/lib/python3.12/dist-packages (from torch>=1.8.0->ultralytics) (12.6.77)\n",
            "Requirement already satisfied: nvidia-cuda-runtime-cu12==12.6.77 in /usr/local/lib/python3.12/dist-packages (from torch>=1.8.0->ultralytics) (12.6.77)\n",
            "Requirement already satisfied: nvidia-cuda-cupti-cu12==12.6.80 in /usr/local/lib/python3.12/dist-packages (from torch>=1.8.0->ultralytics) (12.6.80)\n",
            "Requirement already satisfied: nvidia-cudnn-cu12==9.10.2.21 in /usr/local/lib/python3.12/dist-packages (from torch>=1.8.0->ultralytics) (9.10.2.21)\n",
            "Requirement already satisfied: nvidia-cublas-cu12==12.6.4.1 in /usr/local/lib/python3.12/dist-packages (from torch>=1.8.0->ultralytics) (12.6.4.1)\n",
            "Requirement already satisfied: nvidia-cufft-cu12==11.3.0.4 in /usr/local/lib/python3.12/dist-packages (from torch>=1.8.0->ultralytics) (11.3.0.4)\n",
            "Requirement already satisfied: nvidia-curand-cu12==10.3.7.77 in /usr/local/lib/python3.12/dist-packages (from torch>=1.8.0->ultralytics) (10.3.7.77)\n",
            "Requirement already satisfied: nvidia-cusolver-cu12==11.7.1.2 in /usr/local/lib/python3.12/dist-packages (from torch>=1.8.0->ultralytics) (11.7.1.2)\n",
            "Requirement already satisfied: nvidia-cusparse-cu12==12.5.4.2 in /usr/local/lib/python3.12/dist-packages (from torch>=1.8.0->ultralytics) (12.5.4.2)\n",
            "Requirement already satisfied: nvidia-cusparselt-cu12==0.7.1 in /usr/local/lib/python3.12/dist-packages (from torch>=1.8.0->ultralytics) (0.7.1)\n",
            "Requirement already satisfied: nvidia-nccl-cu12==2.27.3 in /usr/local/lib/python3.12/dist-packages (from torch>=1.8.0->ultralytics) (2.27.3)\n",
            "Requirement already satisfied: nvidia-nvtx-cu12==12.6.77 in /usr/local/lib/python3.12/dist-packages (from torch>=1.8.0->ultralytics) (12.6.77)\n",
            "Requirement already satisfied: nvidia-nvjitlink-cu12==12.6.85 in /usr/local/lib/python3.12/dist-packages (from torch>=1.8.0->ultralytics) (12.6.85)\n",
            "Requirement already satisfied: nvidia-cufile-cu12==1.11.1.6 in /usr/local/lib/python3.12/dist-packages (from torch>=1.8.0->ultralytics) (1.11.1.6)\n",
            "Requirement already satisfied: triton==3.4.0 in /usr/local/lib/python3.12/dist-packages (from torch>=1.8.0->ultralytics) (3.4.0)\n",
            "Requirement already satisfied: six>=1.5 in /usr/local/lib/python3.12/dist-packages (from python-dateutil>=2.7->matplotlib>=3.3.0->ultralytics) (1.17.0)\n",
            "Requirement already satisfied: mpmath<1.4,>=1.1.0 in /usr/local/lib/python3.12/dist-packages (from sympy>=1.13.3->torch>=1.8.0->ultralytics) (1.3.0)\n",
            "Requirement already satisfied: MarkupSafe>=2.0 in /usr/local/lib/python3.12/dist-packages (from jinja2->torch>=1.8.0->ultralytics) (3.0.2)\n",
            "Requirement already satisfied: opencv-python-headless in /usr/local/lib/python3.12/dist-packages (4.10.0.84)\n",
            "Requirement already satisfied: numpy>=1.21.2 in /usr/local/lib/python3.12/dist-packages (from opencv-python-headless) (2.0.2)\n",
            "Requirement already satisfied: tqdm in /usr/local/lib/python3.12/dist-packages (4.67.1)\n",
            "loading Roboflow workspace...\n",
            "loading Roboflow project...\n"
          ]
        },
        {
          "output_type": "stream",
          "name": "stderr",
          "text": [
            "\rDetecting in /content/Hucre-Detector-1/train/images:   0%|          | 0/2450 [00:00<?, ?it/s]"
          ]
        },
        {
          "output_type": "stream",
          "name": "stdout",
          "text": [
            "\n",
            "image 1/1 /content/Hucre-Detector-1/train/images/DJI_20231231115602_0039_Z_JPG.rf.6af1c85990b1723f8cea433457573aba.jpg: 640x640 300 PV CELLs, 999.8ms\n",
            "Speed: 34.8ms preprocess, 999.8ms inference, 63.3ms postprocess per image at shape (1, 3, 640, 640)\n"
          ]
        },
        {
          "output_type": "stream",
          "name": "stderr",
          "text": [
            "\rDetecting in /content/Hucre-Detector-1/train/images:   0%|          | 1/2450 [00:01<1:20:29,  1.97s/it]"
          ]
        },
        {
          "output_type": "stream",
          "name": "stdout",
          "text": [
            "\n",
            "image 1/1 /content/Hucre-Detector-1/train/images/DJI_20231122122331_0082_Z_JPG.rf.7d7eb32c69e53306bc62446a8aa22ec9.jpg: 640x640 64 PV CELLs, 628.6ms\n",
            "Speed: 4.8ms preprocess, 628.6ms inference, 6.6ms postprocess per image at shape (1, 3, 640, 640)\n"
          ]
        },
        {
          "output_type": "stream",
          "name": "stderr",
          "text": [
            "\rDetecting in /content/Hucre-Detector-1/train/images:   0%|          | 2/2450 [00:02<51:19,  1.26s/it]  "
          ]
        },
        {
          "output_type": "stream",
          "name": "stdout",
          "text": [
            "\n",
            "image 1/1 /content/Hucre-Detector-1/train/images/0780_JPG.rf.80c119dc23bda355587f2b6c634f5b58.jpg: 480x640 300 PV CELLs, 763.4ms\n",
            "Speed: 3.3ms preprocess, 763.4ms inference, 86.1ms postprocess per image at shape (1, 3, 480, 640)\n"
          ]
        },
        {
          "output_type": "stream",
          "name": "stderr",
          "text": [
            "\rDetecting in /content/Hucre-Detector-1/train/images:   0%|          | 3/2450 [00:03<48:13,  1.18s/it]"
          ]
        },
        {
          "output_type": "stream",
          "name": "stdout",
          "text": [
            "\n",
            "image 1/1 /content/Hucre-Detector-1/train/images/DJI_20231230105914_0021_Z_JPG.rf.6902239a26ad80af9b5a8942ecbbf176.jpg: 480x640 300 PV CELLs, 657.4ms\n",
            "Speed: 6.2ms preprocess, 657.4ms inference, 64.3ms postprocess per image at shape (1, 3, 480, 640)\n"
          ]
        },
        {
          "output_type": "stream",
          "name": "stderr",
          "text": [
            "\rDetecting in /content/Hucre-Detector-1/train/images:   0%|          | 4/2450 [00:05<59:18,  1.45s/it]"
          ]
        },
        {
          "output_type": "stream",
          "name": "stdout",
          "text": [
            "\n",
            "image 1/1 /content/Hucre-Detector-1/train/images/DJI_20231122121316_0582_Z_JPG.rf.0fb81240fb3340325efa2c3eb1eddd5b.jpg: 640x640 300 PV CELLs, 637.2ms\n",
            "Speed: 5.5ms preprocess, 637.2ms inference, 39.8ms postprocess per image at shape (1, 3, 640, 640)\n"
          ]
        },
        {
          "output_type": "stream",
          "name": "stderr",
          "text": [
            "\rDetecting in /content/Hucre-Detector-1/train/images:   0%|          | 5/2450 [00:06<51:38,  1.27s/it]"
          ]
        },
        {
          "output_type": "stream",
          "name": "stdout",
          "text": [
            "\n",
            "image 1/1 /content/Hucre-Detector-1/train/images/1041_JPG.rf.aea70a9513bf367144613c1fbe36676d.jpg: 480x640 108 PV CELLs, 429.1ms\n",
            "Speed: 3.8ms preprocess, 429.1ms inference, 6.6ms postprocess per image at shape (1, 3, 480, 640)\n"
          ]
        },
        {
          "output_type": "stream",
          "name": "stderr",
          "text": [
            "\rDetecting in /content/Hucre-Detector-1/train/images:   0%|          | 6/2450 [00:07<41:31,  1.02s/it]"
          ]
        },
        {
          "output_type": "stream",
          "name": "stdout",
          "text": [
            "\n",
            "image 1/1 /content/Hucre-Detector-1/train/images/0506_JPG.rf.85fb28128118f3524d0ef1c7d5a93b82.jpg: 480x640 300 PV CELLs, 443.5ms\n",
            "Speed: 3.8ms preprocess, 443.5ms inference, 38.3ms postprocess per image at shape (1, 3, 480, 640)\n"
          ]
        },
        {
          "output_type": "stream",
          "name": "stderr",
          "text": [
            "\rDetecting in /content/Hucre-Detector-1/train/images:   0%|          | 7/2450 [00:07<36:45,  1.11it/s]"
          ]
        },
        {
          "output_type": "stream",
          "name": "stdout",
          "text": [
            "\n",
            "image 1/1 /content/Hucre-Detector-1/train/images/DJI_20240303120225_0212_Z_JPG.rf.0ffb5a05e8d0b158d524b984cf46b0c4.jpg: 640x640 300 PV CELLs, 600.8ms\n",
            "Speed: 5.0ms preprocess, 600.8ms inference, 57.5ms postprocess per image at shape (1, 3, 640, 640)\n"
          ]
        },
        {
          "output_type": "stream",
          "name": "stderr",
          "text": [
            "\rDetecting in /content/Hucre-Detector-1/train/images:   0%|          | 8/2450 [00:08<36:28,  1.12it/s]"
          ]
        },
        {
          "output_type": "stream",
          "name": "stdout",
          "text": [
            "\n",
            "image 1/1 /content/Hucre-Detector-1/train/images/DJI_20240106112809_0396_Z_JPG.rf.675e00b9358af1f3e89de35af3208c0b.jpg: 640x640 281 PV CELLs, 579.9ms\n",
            "Speed: 4.6ms preprocess, 579.9ms inference, 16.7ms postprocess per image at shape (1, 3, 640, 640)\n"
          ]
        },
        {
          "output_type": "stream",
          "name": "stderr",
          "text": [
            "\rDetecting in /content/Hucre-Detector-1/train/images:   0%|          | 9/2450 [00:09<35:51,  1.13it/s]"
          ]
        },
        {
          "output_type": "stream",
          "name": "stdout",
          "text": [
            "\n",
            "image 1/1 /content/Hucre-Detector-1/train/images/DJI_20231122121550_0657_Z_JPG.rf.9e5c2798bd0dea951aef899c621a6a77.jpg: 640x640 300 PV CELLs, 520.7ms\n",
            "Speed: 4.3ms preprocess, 520.7ms inference, 40.0ms postprocess per image at shape (1, 3, 640, 640)\n"
          ]
        },
        {
          "output_type": "stream",
          "name": "stderr",
          "text": [
            "\rDetecting in /content/Hucre-Detector-1/train/images:   0%|          | 10/2450 [00:10<35:03,  1.16it/s]"
          ]
        },
        {
          "output_type": "stream",
          "name": "stdout",
          "text": [
            "\n",
            "image 1/1 /content/Hucre-Detector-1/train/images/0699_JPG.rf.a4457be8a096b3fd062bef8e45f9ab54.jpg: 480x640 270 PV CELLs, 449.6ms\n",
            "Speed: 4.0ms preprocess, 449.6ms inference, 16.7ms postprocess per image at shape (1, 3, 480, 640)\n"
          ]
        },
        {
          "output_type": "stream",
          "name": "stderr",
          "text": [
            "\rDetecting in /content/Hucre-Detector-1/train/images:   0%|          | 11/2450 [00:11<32:04,  1.27it/s]"
          ]
        },
        {
          "output_type": "stream",
          "name": "stdout",
          "text": [
            "\n",
            "image 1/1 /content/Hucre-Detector-1/train/images/0473_JPG.rf.a415abe426cbd3b25940a87b3b9f8a2d.jpg: 480x640 300 PV CELLs, 448.9ms\n",
            "Speed: 4.2ms preprocess, 448.9ms inference, 37.0ms postprocess per image at shape (1, 3, 480, 640)\n"
          ]
        },
        {
          "output_type": "stream",
          "name": "stderr",
          "text": [
            "\rDetecting in /content/Hucre-Detector-1/train/images:   0%|          | 12/2450 [00:11<30:32,  1.33it/s]"
          ]
        },
        {
          "output_type": "stream",
          "name": "stdout",
          "text": [
            "\n",
            "image 1/1 /content/Hucre-Detector-1/train/images/DJI_20240107115153_0388_Z_JPG.rf.e6a2a78d730659310f017e8e29ad26ff.jpg: 640x640 242 PV CELLs, 579.2ms\n",
            "Speed: 4.9ms preprocess, 579.2ms inference, 42.5ms postprocess per image at shape (1, 3, 640, 640)\n"
          ]
        },
        {
          "output_type": "stream",
          "name": "stderr",
          "text": [
            "\rDetecting in /content/Hucre-Detector-1/train/images:   1%|          | 13/2450 [00:12<31:38,  1.28it/s]"
          ]
        },
        {
          "output_type": "stream",
          "name": "stdout",
          "text": [
            "\n",
            "image 1/1 /content/Hucre-Detector-1/train/images/DJI_20240227100431_0651_Z_JPG.rf.51b45735c1dc4cc4e8642a206ac3b58b.jpg: 640x640 300 PV CELLs, 566.1ms\n",
            "Speed: 7.2ms preprocess, 566.1ms inference, 46.2ms postprocess per image at shape (1, 3, 640, 640)\n"
          ]
        },
        {
          "output_type": "stream",
          "name": "stderr",
          "text": [
            "\rDetecting in /content/Hucre-Detector-1/train/images:   1%|          | 14/2450 [00:13<32:54,  1.23it/s]"
          ]
        },
        {
          "output_type": "stream",
          "name": "stdout",
          "text": [
            "\n",
            "image 1/1 /content/Hucre-Detector-1/train/images/DJI_20231117111514_0519_Z_JPG.rf.5f0720e60e9b9044dec23ae186f9d5d1.jpg: 640x640 195 PV CELLs, 637.8ms\n",
            "Speed: 5.3ms preprocess, 637.8ms inference, 20.0ms postprocess per image at shape (1, 3, 640, 640)\n"
          ]
        },
        {
          "output_type": "stream",
          "name": "stderr",
          "text": [
            "\rDetecting in /content/Hucre-Detector-1/train/images:   1%|          | 15/2450 [00:14<33:32,  1.21it/s]"
          ]
        },
        {
          "output_type": "stream",
          "name": "stdout",
          "text": [
            "\n",
            "image 1/1 /content/Hucre-Detector-1/train/images/DJI_20231117103717_0228_Z_JPG.rf.322ff077ec9de265b0c05e71ba8d8a56.jpg: 640x640 300 PV CELLs, 612.3ms\n",
            "Speed: 5.4ms preprocess, 612.3ms inference, 32.7ms postprocess per image at shape (1, 3, 640, 640)\n"
          ]
        },
        {
          "output_type": "stream",
          "name": "stderr",
          "text": [
            "\rDetecting in /content/Hucre-Detector-1/train/images:   1%|          | 16/2450 [00:15<34:22,  1.18it/s]"
          ]
        },
        {
          "output_type": "stream",
          "name": "stdout",
          "text": [
            "\n",
            "image 1/1 /content/Hucre-Detector-1/train/images/DJI_20231117131958_0037_Z_JPG.rf.53042ba562f5945c40b6a08dbb6d58c5.jpg: 640x640 16 PV CELLs, 655.9ms\n",
            "Speed: 5.3ms preprocess, 655.9ms inference, 3.1ms postprocess per image at shape (1, 3, 640, 640)\n"
          ]
        },
        {
          "output_type": "stream",
          "name": "stderr",
          "text": [
            "\rDetecting in /content/Hucre-Detector-1/train/images:   1%|          | 17/2450 [00:15<33:23,  1.21it/s]"
          ]
        },
        {
          "output_type": "stream",
          "name": "stdout",
          "text": [
            "\n",
            "image 1/1 /content/Hucre-Detector-1/train/images/0971_JPG.rf.2a93e50853b0e1cbc543ab022854eeca.jpg: 480x640 140 PV CELLs, 641.9ms\n",
            "Speed: 5.1ms preprocess, 641.9ms inference, 17.8ms postprocess per image at shape (1, 3, 480, 640)\n"
          ]
        },
        {
          "output_type": "stream",
          "name": "stderr",
          "text": [
            "\rDetecting in /content/Hucre-Detector-1/train/images:   1%|          | 18/2450 [00:16<33:37,  1.21it/s]"
          ]
        },
        {
          "output_type": "stream",
          "name": "stdout",
          "text": [
            "\n",
            "image 1/1 /content/Hucre-Detector-1/train/images/DJI_20240107115155_0389_Z_JPG.rf.86e4a5d33d87e46dee2b4929cbb3b670.jpg: 640x640 300 PV CELLs, 943.8ms\n",
            "Speed: 7.9ms preprocess, 943.8ms inference, 55.2ms postprocess per image at shape (1, 3, 640, 640)\n"
          ]
        },
        {
          "output_type": "stream",
          "name": "stderr",
          "text": [
            "\rDetecting in /content/Hucre-Detector-1/train/images:   1%|          | 19/2450 [00:18<40:52,  1.01s/it]"
          ]
        },
        {
          "output_type": "stream",
          "name": "stdout",
          "text": [
            "\n",
            "image 1/1 /content/Hucre-Detector-1/train/images/DJI_20240227101255_0102_Z_JPG.rf.bedaa3d46a6df8bd8d87aa80eb674a45.jpg: 640x640 300 PV CELLs, 698.5ms\n",
            "Speed: 7.9ms preprocess, 698.5ms inference, 74.2ms postprocess per image at shape (1, 3, 640, 640)\n"
          ]
        },
        {
          "output_type": "stream",
          "name": "stderr",
          "text": [
            "\rDetecting in /content/Hucre-Detector-1/train/images:   1%|          | 20/2450 [00:19<41:06,  1.01s/it]"
          ]
        },
        {
          "output_type": "stream",
          "name": "stdout",
          "text": [
            "\n",
            "image 1/1 /content/Hucre-Detector-1/train/images/DJI_20240125123238_0302_Z_JPG.rf.0bd13073bf30151451cd8492f5c3bbc5.jpg: 640x640 300 PV CELLs, 548.5ms\n",
            "Speed: 5.0ms preprocess, 548.5ms inference, 47.9ms postprocess per image at shape (1, 3, 640, 640)\n"
          ]
        },
        {
          "output_type": "stream",
          "name": "stderr",
          "text": [
            "\rDetecting in /content/Hucre-Detector-1/train/images:   1%|          | 21/2450 [00:20<39:09,  1.03it/s]"
          ]
        },
        {
          "output_type": "stream",
          "name": "stdout",
          "text": [
            "\n",
            "image 1/1 /content/Hucre-Detector-1/train/images/DJI_20231117142229_0613_Z_JPG.rf.645c6d0275033a198024f78dbeb07151.jpg: 640x640 300 PV CELLs, 531.7ms\n",
            "Speed: 4.6ms preprocess, 531.7ms inference, 25.6ms postprocess per image at shape (1, 3, 640, 640)\n"
          ]
        },
        {
          "output_type": "stream",
          "name": "stderr",
          "text": [
            "\rDetecting in /content/Hucre-Detector-1/train/images:   1%|          | 22/2450 [00:20<37:02,  1.09it/s]"
          ]
        },
        {
          "output_type": "stream",
          "name": "stdout",
          "text": [
            "\n",
            "image 1/1 /content/Hucre-Detector-1/train/images/DJI_20231117111256_0451_Z_JPG.rf.672f662bd248b68afe0dcde3dc6fb4f9.jpg: 640x640 300 PV CELLs, 560.4ms\n",
            "Speed: 4.4ms preprocess, 560.4ms inference, 33.3ms postprocess per image at shape (1, 3, 640, 640)\n"
          ]
        },
        {
          "output_type": "stream",
          "name": "stderr",
          "text": [
            "\rDetecting in /content/Hucre-Detector-1/train/images:   1%|          | 23/2450 [00:21<36:01,  1.12it/s]"
          ]
        },
        {
          "output_type": "stream",
          "name": "stdout",
          "text": [
            "\n",
            "image 1/1 /content/Hucre-Detector-1/train/images/0434_JPG.rf.659c2715fc5c38acac5127aa82d8cb00.jpg: 480x640 300 PV CELLs, 459.3ms\n",
            "Speed: 3.4ms preprocess, 459.3ms inference, 44.1ms postprocess per image at shape (1, 3, 480, 640)\n"
          ]
        },
        {
          "output_type": "stream",
          "name": "stderr",
          "text": [
            "\rDetecting in /content/Hucre-Detector-1/train/images:   1%|          | 24/2450 [00:22<33:19,  1.21it/s]"
          ]
        },
        {
          "output_type": "stream",
          "name": "stdout",
          "text": [
            "\n",
            "image 1/1 /content/Hucre-Detector-1/train/images/DJI_20231122120905_0459_Z_JPG.rf.ccc6ab7777a4e69b3da812cd81db859c.jpg: 640x640 300 PV CELLs, 583.2ms\n",
            "Speed: 4.2ms preprocess, 583.2ms inference, 30.7ms postprocess per image at shape (1, 3, 640, 640)\n"
          ]
        },
        {
          "output_type": "stream",
          "name": "stderr",
          "text": [
            "\rDetecting in /content/Hucre-Detector-1/train/images:   1%|          | 25/2450 [00:23<33:45,  1.20it/s]"
          ]
        },
        {
          "output_type": "stream",
          "name": "stdout",
          "text": [
            "\n",
            "image 1/1 /content/Hucre-Detector-1/train/images/DJI_20240225122259_0269_Z_JPG.rf.c465d1257eea2f4ec1860d4c8728b9c9.jpg: 640x640 209 PV CELLs, 626.9ms\n",
            "Speed: 5.7ms preprocess, 626.9ms inference, 31.4ms postprocess per image at shape (1, 3, 640, 640)\n"
          ]
        },
        {
          "output_type": "stream",
          "name": "stderr",
          "text": [
            "\rDetecting in /content/Hucre-Detector-1/train/images:   1%|          | 26/2450 [00:24<33:50,  1.19it/s]"
          ]
        },
        {
          "output_type": "stream",
          "name": "stdout",
          "text": [
            "\n",
            "image 1/1 /content/Hucre-Detector-1/train/images/DJI_20231117110729_0293_Z_JPG.rf.e635951bf258c066ccc6f2b3731ad942.jpg: 640x640 300 PV CELLs, 582.0ms\n",
            "Speed: 5.2ms preprocess, 582.0ms inference, 25.5ms postprocess per image at shape (1, 3, 640, 640)\n"
          ]
        },
        {
          "output_type": "stream",
          "name": "stderr",
          "text": [
            "\rDetecting in /content/Hucre-Detector-1/train/images:   1%|          | 27/2450 [00:24<33:53,  1.19it/s]"
          ]
        },
        {
          "output_type": "stream",
          "name": "stdout",
          "text": [
            "\n",
            "image 1/1 /content/Hucre-Detector-1/train/images/DJI_20240218143618_0559_Z_JPG.rf.d072b72f0cf40d8570aab3bfbd71c93d.jpg: 640x640 300 PV CELLs, 548.9ms\n",
            "Speed: 4.6ms preprocess, 548.9ms inference, 36.8ms postprocess per image at shape (1, 3, 640, 640)\n"
          ]
        },
        {
          "output_type": "stream",
          "name": "stderr",
          "text": [
            "\rDetecting in /content/Hucre-Detector-1/train/images:   1%|          | 28/2450 [00:25<33:33,  1.20it/s]"
          ]
        },
        {
          "output_type": "stream",
          "name": "stdout",
          "text": [
            "\n",
            "image 1/1 /content/Hucre-Detector-1/train/images/MAX_0060_JPG.rf.0c808b805c1030cc24280209604ec291.jpg: 480x640 300 PV CELLs, 404.3ms\n",
            "Speed: 4.0ms preprocess, 404.3ms inference, 13.5ms postprocess per image at shape (1, 3, 480, 640)\n"
          ]
        },
        {
          "output_type": "stream",
          "name": "stderr",
          "text": [
            "\rDetecting in /content/Hucre-Detector-1/train/images:   1%|          | 29/2450 [00:26<34:43,  1.16it/s]"
          ]
        },
        {
          "output_type": "stream",
          "name": "stdout",
          "text": [
            "\n",
            "image 1/1 /content/Hucre-Detector-1/train/images/0932_JPG.rf.28d9a6378c213defd98dfeeafba1103b.jpg: 480x640 31 PV CELLs, 443.0ms\n",
            "Speed: 3.9ms preprocess, 443.0ms inference, 1.9ms postprocess per image at shape (1, 3, 480, 640)\n"
          ]
        },
        {
          "output_type": "stream",
          "name": "stderr",
          "text": [
            "\rDetecting in /content/Hucre-Detector-1/train/images:   1%|          | 30/2450 [00:27<30:40,  1.32it/s]"
          ]
        },
        {
          "output_type": "stream",
          "name": "stdout",
          "text": [
            "\n",
            "image 1/1 /content/Hucre-Detector-1/train/images/MAX_0062_JPG.rf.6b53d4e31b0126dd93c9589545ed2c5e.jpg: 480x640 300 PV CELLs, 432.0ms\n",
            "Speed: 4.6ms preprocess, 432.0ms inference, 18.8ms postprocess per image at shape (1, 3, 480, 640)\n"
          ]
        },
        {
          "output_type": "stream",
          "name": "stderr",
          "text": [
            "\rDetecting in /content/Hucre-Detector-1/train/images:   1%|▏         | 31/2450 [00:28<32:41,  1.23it/s]"
          ]
        },
        {
          "output_type": "stream",
          "name": "stdout",
          "text": [
            "\n",
            "image 1/1 /content/Hucre-Detector-1/train/images/DJI_20231117140529_0133_Z_JPG.rf.689f1f3365c871520272960bae8cdf44.jpg: 640x640 300 PV CELLs, 776.1ms\n",
            "Speed: 4.9ms preprocess, 776.1ms inference, 48.7ms postprocess per image at shape (1, 3, 640, 640)\n"
          ]
        },
        {
          "output_type": "stream",
          "name": "stderr",
          "text": [
            "\rDetecting in /content/Hucre-Detector-1/train/images:   1%|▏         | 32/2450 [00:29<37:25,  1.08it/s]"
          ]
        },
        {
          "output_type": "stream",
          "name": "stdout",
          "text": [
            "\n",
            "image 1/1 /content/Hucre-Detector-1/train/images/0617_JPG.rf.dbe4c62ebd3fb5ded107ad35660f6690.jpg: 480x640 168 PV CELLs, 737.6ms\n",
            "Speed: 5.6ms preprocess, 737.6ms inference, 14.9ms postprocess per image at shape (1, 3, 480, 640)\n"
          ]
        },
        {
          "output_type": "stream",
          "name": "stderr",
          "text": [
            "\rDetecting in /content/Hucre-Detector-1/train/images:   1%|▏         | 33/2450 [00:30<37:41,  1.07it/s]"
          ]
        },
        {
          "output_type": "stream",
          "name": "stdout",
          "text": [
            "\n",
            "image 1/1 /content/Hucre-Detector-1/train/images/0542_JPG.rf.fc223e5db231ea376f8d0c8627127527.jpg: 480x640 300 PV CELLs, 686.0ms\n",
            "Speed: 5.9ms preprocess, 686.0ms inference, 120.3ms postprocess per image at shape (1, 3, 480, 640)\n"
          ]
        },
        {
          "output_type": "stream",
          "name": "stderr",
          "text": [
            "\rDetecting in /content/Hucre-Detector-1/train/images:   1%|▏         | 34/2450 [00:31<39:40,  1.01it/s]"
          ]
        },
        {
          "output_type": "stream",
          "name": "stdout",
          "text": [
            "\n",
            "image 1/1 /content/Hucre-Detector-1/train/images/DJI_20231231123718_0448_Z_JPG.rf.c7022c9b5036615bf5f711f9f0d6c791.jpg: 640x640 262 PV CELLs, 655.1ms\n",
            "Speed: 7.2ms preprocess, 655.1ms inference, 43.2ms postprocess per image at shape (1, 3, 640, 640)\n"
          ]
        },
        {
          "output_type": "stream",
          "name": "stderr",
          "text": [
            "\rDetecting in /content/Hucre-Detector-1/train/images:   1%|▏         | 35/2450 [00:32<39:54,  1.01it/s]"
          ]
        },
        {
          "output_type": "stream",
          "name": "stdout",
          "text": [
            "\n",
            "image 1/1 /content/Hucre-Detector-1/train/images/0756_JPG.rf.0a34ee2505ee2729f8c49dccbf841c9b.jpg: 480x640 (no detections), 434.6ms\n",
            "Speed: 4.9ms preprocess, 434.6ms inference, 0.6ms postprocess per image at shape (1, 3, 480, 640)\n"
          ]
        },
        {
          "output_type": "stream",
          "name": "stderr",
          "text": [
            "\rDetecting in /content/Hucre-Detector-1/train/images:   1%|▏         | 36/2450 [00:32<33:57,  1.18it/s]"
          ]
        },
        {
          "output_type": "stream",
          "name": "stdout",
          "text": [
            "\n",
            "image 1/1 /content/Hucre-Detector-1/train/images/Screenshot-2023-12-01-231345_png.rf.efab9ee7dfa9432ccb7eb10e12ee33c0.jpg: 640x640 105 PV CELLs, 535.4ms\n",
            "Speed: 4.2ms preprocess, 535.4ms inference, 9.6ms postprocess per image at shape (1, 3, 640, 640)\n"
          ]
        },
        {
          "output_type": "stream",
          "name": "stderr",
          "text": [
            "\rDetecting in /content/Hucre-Detector-1/train/images:   2%|▏         | 37/2450 [00:33<31:04,  1.29it/s]"
          ]
        },
        {
          "output_type": "stream",
          "name": "stdout",
          "text": [
            "\n",
            "image 1/1 /content/Hucre-Detector-1/train/images/0221_JPG.rf.4d1de52adea689d1c7aedbd05ab84e6a.jpg: 480x640 16 PV CELLs, 437.8ms\n",
            "Speed: 3.3ms preprocess, 437.8ms inference, 2.2ms postprocess per image at shape (1, 3, 480, 640)\n"
          ]
        },
        {
          "output_type": "stream",
          "name": "stderr",
          "text": [
            "\rDetecting in /content/Hucre-Detector-1/train/images:   2%|▏         | 38/2450 [00:34<27:56,  1.44it/s]"
          ]
        },
        {
          "output_type": "stream",
          "name": "stdout",
          "text": [
            "\n",
            "image 1/1 /content/Hucre-Detector-1/train/images/0046_JPG.rf.20ceee66ec33609f3b12c014d0b436fc.jpg: 480x640 1 PV CELL, 476.0ms\n",
            "Speed: 3.3ms preprocess, 476.0ms inference, 0.8ms postprocess per image at shape (1, 3, 480, 640)\n"
          ]
        },
        {
          "output_type": "stream",
          "name": "stderr",
          "text": [
            "\rDetecting in /content/Hucre-Detector-1/train/images:   2%|▏         | 39/2450 [00:34<26:08,  1.54it/s]"
          ]
        },
        {
          "output_type": "stream",
          "name": "stdout",
          "text": [
            "\n",
            "image 1/1 /content/Hucre-Detector-1/train/images/DJI_20231117110819_0317_Z_JPG.rf.c5f1e245f80384c268f820898fa5b844.jpg: 640x640 300 PV CELLs, 664.1ms\n",
            "Speed: 4.2ms preprocess, 664.1ms inference, 26.8ms postprocess per image at shape (1, 3, 640, 640)\n"
          ]
        },
        {
          "output_type": "stream",
          "name": "stderr",
          "text": [
            "\rDetecting in /content/Hucre-Detector-1/train/images:   2%|▏         | 40/2450 [00:35<29:39,  1.35it/s]"
          ]
        },
        {
          "output_type": "stream",
          "name": "stdout",
          "text": [
            "\n",
            "image 1/1 /content/Hucre-Detector-1/train/images/DJI_20231117141226_0336_Z_JPG.rf.bd23f0c71fe4fe3e56ae25f054895ba9.jpg: 640x640 300 PV CELLs, 575.7ms\n",
            "Speed: 5.2ms preprocess, 575.7ms inference, 25.0ms postprocess per image at shape (1, 3, 640, 640)\n"
          ]
        },
        {
          "output_type": "stream",
          "name": "stderr",
          "text": [
            "\rDetecting in /content/Hucre-Detector-1/train/images:   2%|▏         | 41/2450 [00:36<30:55,  1.30it/s]"
          ]
        },
        {
          "output_type": "stream",
          "name": "stdout",
          "text": [
            "\n",
            "image 1/1 /content/Hucre-Detector-1/train/images/Screenshot-2023-12-01-205103_png.rf.21c21e9b5135d051e43cef906b491520.jpg: 640x640 35 PV CELLs, 564.6ms\n",
            "Speed: 4.6ms preprocess, 564.6ms inference, 6.1ms postprocess per image at shape (1, 3, 640, 640)\n"
          ]
        },
        {
          "output_type": "stream",
          "name": "stderr",
          "text": [
            "\rDetecting in /content/Hucre-Detector-1/train/images:   2%|▏         | 42/2450 [00:36<29:01,  1.38it/s]"
          ]
        },
        {
          "output_type": "stream",
          "name": "stdout",
          "text": [
            "\n",
            "image 1/1 /content/Hucre-Detector-1/train/images/DJI_20231230104339_0433_Z_JPG.rf.71f1dc923497f82088fa44d74704b01b.jpg: 480x640 300 PV CELLs, 418.3ms\n",
            "Speed: 3.8ms preprocess, 418.3ms inference, 42.3ms postprocess per image at shape (1, 3, 480, 640)\n"
          ]
        },
        {
          "output_type": "stream",
          "name": "stderr",
          "text": [
            "\rDetecting in /content/Hucre-Detector-1/train/images:   2%|▏         | 43/2450 [00:38<34:12,  1.17it/s]"
          ]
        },
        {
          "output_type": "stream",
          "name": "stdout",
          "text": [
            "\n",
            "image 1/1 /content/Hucre-Detector-1/train/images/0575_JPG.rf.43fe6f9f45e794f2125c46811759ed43.jpg: 480x640 300 PV CELLs, 429.1ms\n",
            "Speed: 4.0ms preprocess, 429.1ms inference, 33.9ms postprocess per image at shape (1, 3, 480, 640)\n"
          ]
        },
        {
          "output_type": "stream",
          "name": "stderr",
          "text": [
            "\rDetecting in /content/Hucre-Detector-1/train/images:   2%|▏         | 44/2450 [00:38<31:29,  1.27it/s]"
          ]
        },
        {
          "output_type": "stream",
          "name": "stdout",
          "text": [
            "\n",
            "image 1/1 /content/Hucre-Detector-1/train/images/DJI_20250506154942_0267_V_JPG.rf.7f6bece48e8728cf48521777eec81999.jpg: 640x640 300 PV CELLs, 623.0ms\n",
            "Speed: 3.9ms preprocess, 623.0ms inference, 84.4ms postprocess per image at shape (1, 3, 640, 640)\n"
          ]
        },
        {
          "output_type": "stream",
          "name": "stderr",
          "text": [
            "\rDetecting in /content/Hucre-Detector-1/train/images:   2%|▏         | 45/2450 [00:39<31:12,  1.28it/s]"
          ]
        },
        {
          "output_type": "stream",
          "name": "stdout",
          "text": [
            "\n",
            "image 1/1 /content/Hucre-Detector-1/train/images/Ekran-Goruntusu-2025-08-25-18-55-19_png.rf.27f6a678f269ec8c08780953e8f242c7.jpg: 288x640 70 PV CELLs, 274.8ms\n",
            "Speed: 3.0ms preprocess, 274.8ms inference, 10.3ms postprocess per image at shape (1, 3, 288, 640)\n"
          ]
        },
        {
          "output_type": "stream",
          "name": "stderr",
          "text": [
            "\rDetecting in /content/Hucre-Detector-1/train/images:   2%|▏         | 46/2450 [00:39<25:57,  1.54it/s]"
          ]
        },
        {
          "output_type": "stream",
          "name": "stdout",
          "text": [
            "\n",
            "image 1/1 /content/Hucre-Detector-1/train/images/DJI_20231117113053_0137_Z_JPG.rf.60c398acfe37e1e3f197d393a34f3299.jpg: 640x640 254 PV CELLs, 976.3ms\n",
            "Speed: 5.0ms preprocess, 976.3ms inference, 27.6ms postprocess per image at shape (1, 3, 640, 640)\n"
          ]
        },
        {
          "output_type": "stream",
          "name": "stderr",
          "text": [
            "\rDetecting in /content/Hucre-Detector-1/train/images:   2%|▏         | 47/2450 [00:41<33:19,  1.20it/s]"
          ]
        },
        {
          "output_type": "stream",
          "name": "stdout",
          "text": [
            "\n",
            "image 1/1 /content/Hucre-Detector-1/train/images/openart-image_Q7LxZ_Qr_1755615106900_raw_jpg.rf.12db40c54859d5dc91a1153174f150e7.jpg: 448x640 300 PV CELLs, 448.8ms\n",
            "Speed: 3.3ms preprocess, 448.8ms inference, 61.0ms postprocess per image at shape (1, 3, 448, 640)\n"
          ]
        },
        {
          "output_type": "stream",
          "name": "stderr",
          "text": [
            "\rDetecting in /content/Hucre-Detector-1/train/images:   2%|▏         | 48/2450 [00:41<31:44,  1.26it/s]"
          ]
        },
        {
          "output_type": "stream",
          "name": "stdout",
          "text": [
            "\n",
            "image 1/1 /content/Hucre-Detector-1/train/images/DJI_20240130112551_0633_Z_JPG.rf.5b308932c3350a055bc6c8140660016e.jpg: 640x640 155 PV CELLs, 921.7ms\n",
            "Speed: 7.1ms preprocess, 921.7ms inference, 26.5ms postprocess per image at shape (1, 3, 640, 640)\n"
          ]
        },
        {
          "output_type": "stream",
          "name": "stderr",
          "text": [
            "\rDetecting in /content/Hucre-Detector-1/train/images:   2%|▏         | 49/2450 [00:43<36:48,  1.09it/s]"
          ]
        },
        {
          "output_type": "stream",
          "name": "stdout",
          "text": [
            "\n",
            "image 1/1 /content/Hucre-Detector-1/train/images/DJI_20240227094721_0146_Z_JPG.rf.d7342adf0eabcf1e85b26927b834a9d2.jpg: 640x640 300 PV CELLs, 936.6ms\n",
            "Speed: 8.1ms preprocess, 936.6ms inference, 72.7ms postprocess per image at shape (1, 3, 640, 640)\n"
          ]
        },
        {
          "output_type": "stream",
          "name": "stderr",
          "text": [
            "\rDetecting in /content/Hucre-Detector-1/train/images:   2%|▏         | 50/2450 [00:44<42:06,  1.05s/it]"
          ]
        },
        {
          "output_type": "stream",
          "name": "stdout",
          "text": [
            "\n",
            "image 1/1 /content/Hucre-Detector-1/train/images/DJI_20231117111702_0572_Z_JPG.rf.edb4ce3b25077e6b25aa879fc1580736.jpg: 640x640 300 PV CELLs, 643.3ms\n",
            "Speed: 5.0ms preprocess, 643.3ms inference, 29.8ms postprocess per image at shape (1, 3, 640, 640)\n"
          ]
        },
        {
          "output_type": "stream",
          "name": "stderr",
          "text": [
            "\rDetecting in /content/Hucre-Detector-1/train/images:   2%|▏         | 51/2450 [00:45<40:39,  1.02s/it]"
          ]
        },
        {
          "output_type": "stream",
          "name": "stdout",
          "text": [
            "\n",
            "image 1/1 /content/Hucre-Detector-1/train/images/DJI_20231117103804_0251_Z_JPG.rf.bee3c40578ea757f45a984e53a7d9298.jpg: 640x640 237 PV CELLs, 541.4ms\n",
            "Speed: 4.4ms preprocess, 541.4ms inference, 29.9ms postprocess per image at shape (1, 3, 640, 640)\n"
          ]
        },
        {
          "output_type": "stream",
          "name": "stderr",
          "text": [
            "\rDetecting in /content/Hucre-Detector-1/train/images:   2%|▏         | 52/2450 [00:46<37:44,  1.06it/s]"
          ]
        },
        {
          "output_type": "stream",
          "name": "stdout",
          "text": [
            "\n",
            "image 1/1 /content/Hucre-Detector-1/train/images/DJI_20231231115602_0039_Z_JPG.rf.5cd6d9cf3de82f0436572b357bd8d3d6.jpg: 480x640 300 PV CELLs, 419.3ms\n",
            "Speed: 5.4ms preprocess, 419.3ms inference, 20.4ms postprocess per image at shape (1, 3, 480, 640)\n"
          ]
        },
        {
          "output_type": "stream",
          "name": "stderr",
          "text": [
            "\rDetecting in /content/Hucre-Detector-1/train/images:   2%|▏         | 53/2450 [00:47<41:24,  1.04s/it]"
          ]
        },
        {
          "output_type": "stream",
          "name": "stdout",
          "text": [
            "\n",
            "image 1/1 /content/Hucre-Detector-1/train/images/DJI_20231117132136_0084_Z_JPG.rf.3680f9a066116f25c3c0b29447e10f37.jpg: 640x640 300 PV CELLs, 548.5ms\n",
            "Speed: 4.7ms preprocess, 548.5ms inference, 33.3ms postprocess per image at shape (1, 3, 640, 640)\n"
          ]
        },
        {
          "output_type": "stream",
          "name": "stderr",
          "text": [
            "\rDetecting in /content/Hucre-Detector-1/train/images:   2%|▏         | 54/2450 [00:48<38:53,  1.03it/s]"
          ]
        },
        {
          "output_type": "stream",
          "name": "stdout",
          "text": [
            "\n",
            "image 1/1 /content/Hucre-Detector-1/train/images/DJI_20231117111238_0442_Z_JPG.rf.691e32cf0a5f28efcc1b3bbeb5460e56.jpg: 640x640 300 PV CELLs, 545.9ms\n",
            "Speed: 4.3ms preprocess, 545.9ms inference, 27.0ms postprocess per image at shape (1, 3, 640, 640)\n"
          ]
        },
        {
          "output_type": "stream",
          "name": "stderr",
          "text": [
            "\rDetecting in /content/Hucre-Detector-1/train/images:   2%|▏         | 55/2450 [00:48<36:49,  1.08it/s]"
          ]
        },
        {
          "output_type": "stream",
          "name": "stdout",
          "text": [
            "\n",
            "image 1/1 /content/Hucre-Detector-1/train/images/DJI_20231229111819_0517_Z_JPG.rf.04eb290a59fc71148f9290c478fc392a.jpg: 640x640 173 PV CELLs, 545.1ms\n",
            "Speed: 4.3ms preprocess, 545.1ms inference, 22.2ms postprocess per image at shape (1, 3, 640, 640)\n"
          ]
        },
        {
          "output_type": "stream",
          "name": "stderr",
          "text": [
            "\rDetecting in /content/Hucre-Detector-1/train/images:   2%|▏         | 56/2450 [00:49<34:23,  1.16it/s]"
          ]
        },
        {
          "output_type": "stream",
          "name": "stdout",
          "text": [
            "\n",
            "image 1/1 /content/Hucre-Detector-1/train/images/0615_JPG.rf.7097e027ccca83ab10138b570d09a71d.jpg: 480x640 300 PV CELLs, 399.2ms\n",
            "Speed: 3.2ms preprocess, 399.2ms inference, 18.0ms postprocess per image at shape (1, 3, 480, 640)\n"
          ]
        },
        {
          "output_type": "stream",
          "name": "stderr",
          "text": [
            "\rDetecting in /content/Hucre-Detector-1/train/images:   2%|▏         | 57/2450 [00:50<31:10,  1.28it/s]"
          ]
        },
        {
          "output_type": "stream",
          "name": "stdout",
          "text": [
            "\n",
            "image 1/1 /content/Hucre-Detector-1/train/images/DJI_20231117111326_0466_Z_JPG.rf.26397be38d924e876855408114a0088d.jpg: 640x640 182 PV CELLs, 586.6ms\n",
            "Speed: 4.9ms preprocess, 586.6ms inference, 6.5ms postprocess per image at shape (1, 3, 640, 640)\n"
          ]
        },
        {
          "output_type": "stream",
          "name": "stderr",
          "text": [
            "\rDetecting in /content/Hucre-Detector-1/train/images:   2%|▏         | 58/2450 [00:51<31:08,  1.28it/s]"
          ]
        },
        {
          "output_type": "stream",
          "name": "stdout",
          "text": [
            "\n",
            "image 1/1 /content/Hucre-Detector-1/train/images/Screenshot-2023-12-01-213947_png.rf.e1ea5fed303884a09cb88fab48308436.jpg: 640x640 77 PV CELLs, 610.6ms\n",
            "Speed: 4.4ms preprocess, 610.6ms inference, 9.6ms postprocess per image at shape (1, 3, 640, 640)\n"
          ]
        },
        {
          "output_type": "stream",
          "name": "stderr",
          "text": [
            "\rDetecting in /content/Hucre-Detector-1/train/images:   2%|▏         | 59/2450 [00:51<29:55,  1.33it/s]"
          ]
        },
        {
          "output_type": "stream",
          "name": "stdout",
          "text": [
            "\n",
            "image 1/1 /content/Hucre-Detector-1/train/images/0901_JPG.rf.67788057b34d9743e25f96bbf4c04e4d.jpg: 480x640 96 PV CELLs, 431.0ms\n",
            "Speed: 4.6ms preprocess, 431.0ms inference, 12.4ms postprocess per image at shape (1, 3, 480, 640)\n"
          ]
        },
        {
          "output_type": "stream",
          "name": "stderr",
          "text": [
            "\rDetecting in /content/Hucre-Detector-1/train/images:   2%|▏         | 60/2450 [00:52<27:30,  1.45it/s]"
          ]
        },
        {
          "output_type": "stream",
          "name": "stdout",
          "text": [
            "\n",
            "image 1/1 /content/Hucre-Detector-1/train/images/0166_JPG.rf.d2b6a47188a2887af2fdf3bee2cf1f62.jpg: 480x640 1 PV CELL, 457.0ms\n",
            "Speed: 4.0ms preprocess, 457.0ms inference, 1.3ms postprocess per image at shape (1, 3, 480, 640)\n"
          ]
        },
        {
          "output_type": "stream",
          "name": "stderr",
          "text": [
            "\rDetecting in /content/Hucre-Detector-1/train/images:   2%|▏         | 61/2450 [00:52<25:32,  1.56it/s]"
          ]
        },
        {
          "output_type": "stream",
          "name": "stdout",
          "text": [
            "\n",
            "image 1/1 /content/Hucre-Detector-1/train/images/DJI_20231115123619_0032_Z_JPG.rf.d9a9cb216722d9bd0beb7a697743bfce.jpg: 480x640 300 PV CELLs, 403.3ms\n",
            "Speed: 5.0ms preprocess, 403.3ms inference, 53.5ms postprocess per image at shape (1, 3, 480, 640)\n"
          ]
        },
        {
          "output_type": "stream",
          "name": "stderr",
          "text": [
            "\rDetecting in /content/Hucre-Detector-1/train/images:   3%|▎         | 62/2450 [00:54<34:53,  1.14it/s]"
          ]
        },
        {
          "output_type": "stream",
          "name": "stdout",
          "text": [
            "\n",
            "image 1/1 /content/Hucre-Detector-1/train/images/DJI_20231117130144_0573_Z_JPG.rf.0144662696fae545f660efa854155d4f.jpg: 640x640 300 PV CELLs, 1238.0ms\n",
            "Speed: 10.9ms preprocess, 1238.0ms inference, 85.4ms postprocess per image at shape (1, 3, 640, 640)\n"
          ]
        },
        {
          "output_type": "stream",
          "name": "stderr",
          "text": [
            "\rDetecting in /content/Hucre-Detector-1/train/images:   3%|▎         | 63/2450 [00:55<45:14,  1.14s/it]"
          ]
        },
        {
          "output_type": "stream",
          "name": "stdout",
          "text": [
            "\n",
            "image 1/1 /content/Hucre-Detector-1/train/images/0293_JPG.rf.7f8572912272f6d150521543e2ab37f8.jpg: 480x640 4 PV CELLs, 649.1ms\n",
            "Speed: 4.3ms preprocess, 649.1ms inference, 2.3ms postprocess per image at shape (1, 3, 480, 640)\n"
          ]
        },
        {
          "output_type": "stream",
          "name": "stderr",
          "text": [
            "\rDetecting in /content/Hucre-Detector-1/train/images:   3%|▎         | 64/2450 [00:56<40:34,  1.02s/it]"
          ]
        },
        {
          "output_type": "stream",
          "name": "stdout",
          "text": [
            "\n",
            "image 1/1 /content/Hucre-Detector-1/train/images/DJI_20231231115558_0037_Z_JPG.rf.011abebc5392ac98055589cbe4694a71.jpg: 640x640 78 PV CELLs, 898.8ms\n",
            "Speed: 8.6ms preprocess, 898.8ms inference, 12.5ms postprocess per image at shape (1, 3, 640, 640)\n"
          ]
        },
        {
          "output_type": "stream",
          "name": "stderr",
          "text": [
            "\rDetecting in /content/Hucre-Detector-1/train/images:   3%|▎         | 65/2450 [00:57<40:48,  1.03s/it]"
          ]
        },
        {
          "output_type": "stream",
          "name": "stdout",
          "text": [
            "\n",
            "image 1/1 /content/Hucre-Detector-1/train/images/DJI_20231117140249_0056_Z_JPG.rf.d7e87a4641071a5c0f0d604c734c2a9f.jpg: 640x640 300 PV CELLs, 580.4ms\n",
            "Speed: 7.1ms preprocess, 580.4ms inference, 32.1ms postprocess per image at shape (1, 3, 640, 640)\n"
          ]
        },
        {
          "output_type": "stream",
          "name": "stderr",
          "text": [
            "\rDetecting in /content/Hucre-Detector-1/train/images:   3%|▎         | 66/2450 [00:58<39:05,  1.02it/s]"
          ]
        },
        {
          "output_type": "stream",
          "name": "stdout",
          "text": [
            "\n",
            "image 1/1 /content/Hucre-Detector-1/train/images/DJI_20231229121937_0357_Z_JPG.rf.8da0391714f2abd703c10e080eb19497.jpg: 640x640 300 PV CELLs, 569.5ms\n",
            "Speed: 5.0ms preprocess, 569.5ms inference, 20.2ms postprocess per image at shape (1, 3, 640, 640)\n"
          ]
        },
        {
          "output_type": "stream",
          "name": "stderr",
          "text": [
            "\rDetecting in /content/Hucre-Detector-1/train/images:   3%|▎         | 67/2450 [00:59<37:11,  1.07it/s]"
          ]
        },
        {
          "output_type": "stream",
          "name": "stdout",
          "text": [
            "\n",
            "image 1/1 /content/Hucre-Detector-1/train/images/DJI_20231117104644_0500_Z_JPG.rf.5e8fbc3593f37172eebc3187ccb6e4eb.jpg: 640x640 284 PV CELLs, 544.1ms\n",
            "Speed: 4.4ms preprocess, 544.1ms inference, 28.9ms postprocess per image at shape (1, 3, 640, 640)\n"
          ]
        },
        {
          "output_type": "stream",
          "name": "stderr",
          "text": [
            "\rDetecting in /content/Hucre-Detector-1/train/images:   3%|▎         | 68/2450 [01:00<35:31,  1.12it/s]"
          ]
        },
        {
          "output_type": "stream",
          "name": "stdout",
          "text": [
            "\n",
            "image 1/1 /content/Hucre-Detector-1/train/images/Screenshot-2023-12-01-214127_png.rf.413387af1a6c8d3b38e264f5b24e746a.jpg: 640x640 38 PV CELLs, 518.9ms\n",
            "Speed: 3.9ms preprocess, 518.9ms inference, 7.5ms postprocess per image at shape (1, 3, 640, 640)\n"
          ]
        },
        {
          "output_type": "stream",
          "name": "stderr",
          "text": [
            "\rDetecting in /content/Hucre-Detector-1/train/images:   3%|▎         | 69/2450 [01:00<31:37,  1.26it/s]"
          ]
        },
        {
          "output_type": "stream",
          "name": "stdout",
          "text": [
            "\n",
            "image 1/1 /content/Hucre-Detector-1/train/images/Screenshot-2023-12-01-214018_png.rf.70d21a9fc21bca8d549ab8cff0d560ee.jpg: 640x640 46 PV CELLs, 722.7ms\n",
            "Speed: 5.5ms preprocess, 722.7ms inference, 6.2ms postprocess per image at shape (1, 3, 640, 640)\n"
          ]
        },
        {
          "output_type": "stream",
          "name": "stderr",
          "text": [
            "\rDetecting in /content/Hucre-Detector-1/train/images:   3%|▎         | 70/2450 [01:01<31:22,  1.26it/s]"
          ]
        },
        {
          "output_type": "stream",
          "name": "stdout",
          "text": [
            "\n",
            "image 1/1 /content/Hucre-Detector-1/train/images/DJI_20231115123733_0068_Z_JPG.rf.b37c7011d5d12cc6ad4bdc4f81c06209.jpg: 480x640 300 PV CELLs, 612.9ms\n",
            "Speed: 3.8ms preprocess, 612.9ms inference, 21.5ms postprocess per image at shape (1, 3, 480, 640)\n"
          ]
        },
        {
          "output_type": "stream",
          "name": "stderr",
          "text": [
            "\rDetecting in /content/Hucre-Detector-1/train/images:   3%|▎         | 71/2450 [01:03<40:01,  1.01s/it]"
          ]
        },
        {
          "output_type": "stream",
          "name": "stdout",
          "text": [
            "\n",
            "image 1/1 /content/Hucre-Detector-1/train/images/0334_JPG.rf.4173aa63f429c7fdf679c3acf57b74e9.jpg: 480x640 6 PV CELLs, 439.7ms\n",
            "Speed: 3.9ms preprocess, 439.7ms inference, 2.1ms postprocess per image at shape (1, 3, 480, 640)\n"
          ]
        },
        {
          "output_type": "stream",
          "name": "stderr",
          "text": [
            "\rDetecting in /content/Hucre-Detector-1/train/images:   3%|▎         | 72/2450 [01:03<34:08,  1.16it/s]"
          ]
        },
        {
          "output_type": "stream",
          "name": "stdout",
          "text": [
            "\n",
            "image 1/1 /content/Hucre-Detector-1/train/images/DJI_20231117111316_0461_Z_JPG.rf.744bed66631dda24f99a248de7be0e54.jpg: 640x640 300 PV CELLs, 577.4ms\n",
            "Speed: 4.2ms preprocess, 577.4ms inference, 9.9ms postprocess per image at shape (1, 3, 640, 640)\n"
          ]
        },
        {
          "output_type": "stream",
          "name": "stderr",
          "text": [
            "\rDetecting in /content/Hucre-Detector-1/train/images:   3%|▎         | 73/2450 [01:04<33:43,  1.17it/s]"
          ]
        },
        {
          "output_type": "stream",
          "name": "stdout",
          "text": [
            "\n",
            "image 1/1 /content/Hucre-Detector-1/train/images/DJI_20250506154946_0273_V_JPG.rf.89a12728124789c97155b0589abef4bc.jpg: 640x640 300 PV CELLs, 576.8ms\n",
            "Speed: 3.7ms preprocess, 576.8ms inference, 25.0ms postprocess per image at shape (1, 3, 640, 640)\n"
          ]
        },
        {
          "output_type": "stream",
          "name": "stderr",
          "text": [
            "\rDetecting in /content/Hucre-Detector-1/train/images:   3%|▎         | 74/2450 [01:05<31:25,  1.26it/s]"
          ]
        },
        {
          "output_type": "stream",
          "name": "stdout",
          "text": [
            "\n",
            "image 1/1 /content/Hucre-Detector-1/train/images/DJI_20231117134504_0078_Z_JPG.rf.1c779f6d33152fe5d01fa4f3f54b65a3.jpg: 640x640 73 PV CELLs, 932.6ms\n",
            "Speed: 5.1ms preprocess, 932.6ms inference, 14.0ms postprocess per image at shape (1, 3, 640, 640)\n"
          ]
        },
        {
          "output_type": "stream",
          "name": "stderr",
          "text": [
            "\rDetecting in /content/Hucre-Detector-1/train/images:   3%|▎         | 75/2450 [01:06<34:48,  1.14it/s]"
          ]
        },
        {
          "output_type": "stream",
          "name": "stdout",
          "text": [
            "\n",
            "image 1/1 /content/Hucre-Detector-1/train/images/DJI_20231231114523_0565_Z_JPG.rf.7755fa8ef0274e72b2a7d79ab2f460b6.jpg: 480x640 300 PV CELLs, 712.9ms\n",
            "Speed: 3.9ms preprocess, 712.9ms inference, 47.7ms postprocess per image at shape (1, 3, 480, 640)\n"
          ]
        },
        {
          "output_type": "stream",
          "name": "stderr",
          "text": [
            "\rDetecting in /content/Hucre-Detector-1/train/images:   3%|▎         | 76/2450 [01:07<41:26,  1.05s/it]"
          ]
        },
        {
          "output_type": "stream",
          "name": "stdout",
          "text": [
            "\n",
            "image 1/1 /content/Hucre-Detector-1/train/images/0188_JPG.rf.942618a04000d7d33d38e0b3d5067518.jpg: 480x640 1 PV CELL, 696.9ms\n",
            "Speed: 6.1ms preprocess, 696.9ms inference, 1.2ms postprocess per image at shape (1, 3, 480, 640)\n"
          ]
        },
        {
          "output_type": "stream",
          "name": "stderr",
          "text": [
            "\rDetecting in /content/Hucre-Detector-1/train/images:   3%|▎         | 77/2450 [01:08<38:31,  1.03it/s]"
          ]
        },
        {
          "output_type": "stream",
          "name": "stdout",
          "text": [
            "\n",
            "image 1/1 /content/Hucre-Detector-1/train/images/DJI_20231117130257_0609_Z_JPG.rf.8cc1a0b9f8969ea8c9a9b816b0e4714b.jpg: 640x640 300 PV CELLs, 949.4ms\n",
            "Speed: 7.5ms preprocess, 949.4ms inference, 78.2ms postprocess per image at shape (1, 3, 640, 640)\n"
          ]
        },
        {
          "output_type": "stream",
          "name": "stderr",
          "text": [
            "\rDetecting in /content/Hucre-Detector-1/train/images:   3%|▎         | 78/2450 [01:09<43:54,  1.11s/it]"
          ]
        },
        {
          "output_type": "stream",
          "name": "stdout",
          "text": [
            "\n",
            "image 1/1 /content/Hucre-Detector-1/train/images/DJI_20231122120212_0256_Z_JPG.rf.ea54e7dcd46dff79743604d9b2dbd23c.jpg: 640x640 300 PV CELLs, 772.0ms\n",
            "Speed: 7.6ms preprocess, 772.0ms inference, 34.0ms postprocess per image at shape (1, 3, 640, 640)\n"
          ]
        },
        {
          "output_type": "stream",
          "name": "stderr",
          "text": [
            "\rDetecting in /content/Hucre-Detector-1/train/images:   3%|▎         | 79/2450 [01:10<43:27,  1.10s/it]"
          ]
        },
        {
          "output_type": "stream",
          "name": "stdout",
          "text": [
            "\n",
            "image 1/1 /content/Hucre-Detector-1/train/images/0886_JPG.rf.2e8e1d1238f1154390b072e5f666ed70.jpg: 480x640 57 PV CELLs, 471.8ms\n",
            "Speed: 4.0ms preprocess, 471.8ms inference, 9.1ms postprocess per image at shape (1, 3, 480, 640)\n"
          ]
        },
        {
          "output_type": "stream",
          "name": "stderr",
          "text": [
            "\rDetecting in /content/Hucre-Detector-1/train/images:   3%|▎         | 80/2450 [01:11<37:20,  1.06it/s]"
          ]
        },
        {
          "output_type": "stream",
          "name": "stdout",
          "text": [
            "\n",
            "image 1/1 /content/Hucre-Detector-1/train/images/DJI_20231121101139_0137_Z_JPG.rf.a1308c88f5a9448a5dd8a564ab21b1d0.jpg: 640x640 155 PV CELLs, 634.2ms\n",
            "Speed: 5.0ms preprocess, 634.2ms inference, 18.2ms postprocess per image at shape (1, 3, 640, 640)\n"
          ]
        },
        {
          "output_type": "stream",
          "name": "stderr",
          "text": [
            "\rDetecting in /content/Hucre-Detector-1/train/images:   3%|▎         | 81/2450 [01:12<35:58,  1.10it/s]"
          ]
        },
        {
          "output_type": "stream",
          "name": "stdout",
          "text": [
            "\n",
            "image 1/1 /content/Hucre-Detector-1/train/images/0486_JPG.rf.f1393ed9c9b7f541fd51eb9b8240204e.jpg: 480x640 300 PV CELLs, 451.7ms\n",
            "Speed: 3.8ms preprocess, 451.7ms inference, 52.8ms postprocess per image at shape (1, 3, 480, 640)\n"
          ]
        },
        {
          "output_type": "stream",
          "name": "stderr",
          "text": [
            "\rDetecting in /content/Hucre-Detector-1/train/images:   3%|▎         | 82/2450 [01:13<33:11,  1.19it/s]"
          ]
        },
        {
          "output_type": "stream",
          "name": "stdout",
          "text": [
            "\n",
            "image 1/1 /content/Hucre-Detector-1/train/images/DJI_20231117134304_0021_Z_JPG.rf.f991a58e44a9179623464659f6f3cd19.jpg: 640x640 300 PV CELLs, 658.6ms\n",
            "Speed: 5.0ms preprocess, 658.6ms inference, 35.4ms postprocess per image at shape (1, 3, 640, 640)\n"
          ]
        },
        {
          "output_type": "stream",
          "name": "stderr",
          "text": [
            "\rDetecting in /content/Hucre-Detector-1/train/images:   3%|▎         | 83/2450 [01:14<34:21,  1.15it/s]"
          ]
        },
        {
          "output_type": "stream",
          "name": "stdout",
          "text": [
            "\n",
            "image 1/1 /content/Hucre-Detector-1/train/images/Screenshot-2023-12-01-230839_png.rf.6270e6aa4a989e915cf76f7162635ddd.jpg: 640x640 72 PV CELLs, 598.1ms\n",
            "Speed: 4.5ms preprocess, 598.1ms inference, 14.5ms postprocess per image at shape (1, 3, 640, 640)\n"
          ]
        },
        {
          "output_type": "stream",
          "name": "stderr",
          "text": [
            "\rDetecting in /content/Hucre-Detector-1/train/images:   3%|▎         | 84/2450 [01:14<32:00,  1.23it/s]"
          ]
        },
        {
          "output_type": "stream",
          "name": "stdout",
          "text": [
            "\n",
            "image 1/1 /content/Hucre-Detector-1/train/images/DJI_20231231123814_0475_Z_JPG.rf.0d8351d349cf8622f10a05f75220a446.jpg: 640x640 244 PV CELLs, 619.4ms\n",
            "Speed: 4.9ms preprocess, 619.4ms inference, 8.5ms postprocess per image at shape (1, 3, 640, 640)\n"
          ]
        },
        {
          "output_type": "stream",
          "name": "stderr",
          "text": [
            "\rDetecting in /content/Hucre-Detector-1/train/images:   3%|▎         | 85/2450 [01:15<32:24,  1.22it/s]"
          ]
        },
        {
          "output_type": "stream",
          "name": "stdout",
          "text": [
            "\n",
            "image 1/1 /content/Hucre-Detector-1/train/images/0829_JPG.rf.7279007dc39af4100f3a9fd036d46225.jpg: 480x640 300 PV CELLs, 431.1ms\n",
            "Speed: 3.9ms preprocess, 431.1ms inference, 46.1ms postprocess per image at shape (1, 3, 480, 640)\n"
          ]
        },
        {
          "output_type": "stream",
          "name": "stderr",
          "text": [
            "\rDetecting in /content/Hucre-Detector-1/train/images:   4%|▎         | 86/2450 [01:16<30:17,  1.30it/s]"
          ]
        },
        {
          "output_type": "stream",
          "name": "stdout",
          "text": [
            "\n",
            "image 1/1 /content/Hucre-Detector-1/train/images/Screenshot-2023-12-01-233201_png.rf.bf819846d402da9a4957b844cf15e25d.jpg: 640x640 158 PV CELLs, 574.8ms\n",
            "Speed: 3.9ms preprocess, 574.8ms inference, 9.5ms postprocess per image at shape (1, 3, 640, 640)\n"
          ]
        },
        {
          "output_type": "stream",
          "name": "stderr",
          "text": [
            "\rDetecting in /content/Hucre-Detector-1/train/images:   4%|▎         | 87/2450 [01:16<29:05,  1.35it/s]"
          ]
        },
        {
          "output_type": "stream",
          "name": "stdout",
          "text": [
            "\n",
            "image 1/1 /content/Hucre-Detector-1/train/images/DJI_20240131111622_0046_Z_JPG.rf.19d1d5c32bd4204110b37de98943e75b.jpg: 640x640 300 PV CELLs, 639.5ms\n",
            "Speed: 5.2ms preprocess, 639.5ms inference, 38.5ms postprocess per image at shape (1, 3, 640, 640)\n"
          ]
        },
        {
          "output_type": "stream",
          "name": "stderr",
          "text": [
            "\rDetecting in /content/Hucre-Detector-1/train/images:   4%|▎         | 88/2450 [01:17<31:46,  1.24it/s]"
          ]
        },
        {
          "output_type": "stream",
          "name": "stdout",
          "text": [
            "\n",
            "image 1/1 /content/Hucre-Detector-1/train/images/Screenshot-2023-12-01-205235_png.rf.e5d54ac6f99385cd02ce090f33c53a2b.jpg: 640x640 19 PV CELLs, 615.4ms\n",
            "Speed: 4.4ms preprocess, 615.4ms inference, 3.8ms postprocess per image at shape (1, 3, 640, 640)\n"
          ]
        },
        {
          "output_type": "stream",
          "name": "stderr",
          "text": [
            "\rDetecting in /content/Hucre-Detector-1/train/images:   4%|▎         | 89/2450 [01:18<30:00,  1.31it/s]"
          ]
        },
        {
          "output_type": "stream",
          "name": "stdout",
          "text": [
            "\n",
            "image 1/1 /content/Hucre-Detector-1/train/images/DJI_20240124131957_0217_Z_JPG.rf.6cd029c70d9de75709d33790702da956.jpg: 640x640 300 PV CELLs, 628.4ms\n",
            "Speed: 4.8ms preprocess, 628.4ms inference, 35.5ms postprocess per image at shape (1, 3, 640, 640)\n"
          ]
        },
        {
          "output_type": "stream",
          "name": "stderr",
          "text": [
            "\rDetecting in /content/Hucre-Detector-1/train/images:   4%|▎         | 90/2450 [01:19<31:48,  1.24it/s]"
          ]
        },
        {
          "output_type": "stream",
          "name": "stdout",
          "text": [
            "\n",
            "image 1/1 /content/Hucre-Detector-1/train/images/0525_JPG.rf.10e5e85cf871e407bf889341cc7c96e8.jpg: 480x640 300 PV CELLs, 454.2ms\n",
            "Speed: 3.9ms preprocess, 454.2ms inference, 29.0ms postprocess per image at shape (1, 3, 480, 640)\n"
          ]
        },
        {
          "output_type": "stream",
          "name": "stderr",
          "text": [
            "\rDetecting in /content/Hucre-Detector-1/train/images:   4%|▎         | 91/2450 [01:20<29:56,  1.31it/s]"
          ]
        },
        {
          "output_type": "stream",
          "name": "stdout",
          "text": [
            "\n",
            "image 1/1 /content/Hucre-Detector-1/train/images/0792_JPG.rf.0ebb53e43b33b2d6eea99fc8fbae5c51.jpg: 480x640 300 PV CELLs, 415.7ms\n",
            "Speed: 3.5ms preprocess, 415.7ms inference, 68.3ms postprocess per image at shape (1, 3, 480, 640)\n"
          ]
        },
        {
          "output_type": "stream",
          "name": "stderr",
          "text": [
            "\rDetecting in /content/Hucre-Detector-1/train/images:   4%|▍         | 92/2450 [01:20<29:38,  1.33it/s]"
          ]
        },
        {
          "output_type": "stream",
          "name": "stdout",
          "text": [
            "\n",
            "image 1/1 /content/Hucre-Detector-1/train/images/DJI_20231117131933_0025_Z_JPG.rf.efb0a316d0fd02ab71ebeea6840d3877.jpg: 640x640 249 PV CELLs, 917.3ms\n",
            "Speed: 9.9ms preprocess, 917.3ms inference, 34.6ms postprocess per image at shape (1, 3, 640, 640)\n"
          ]
        },
        {
          "output_type": "stream",
          "name": "stderr",
          "text": [
            "\rDetecting in /content/Hucre-Detector-1/train/images:   4%|▍         | 93/2450 [01:22<36:11,  1.09it/s]"
          ]
        },
        {
          "output_type": "stream",
          "name": "stdout",
          "text": [
            "\n",
            "image 1/1 /content/Hucre-Detector-1/train/images/DJI_20240227094359_0047_Z_JPG.rf.9c5e05e5d6b9984af47b07b3bfad0816.jpg: 640x640 300 PV CELLs, 989.9ms\n",
            "Speed: 7.4ms preprocess, 989.9ms inference, 94.2ms postprocess per image at shape (1, 3, 640, 640)\n"
          ]
        },
        {
          "output_type": "stream",
          "name": "stderr",
          "text": [
            "\rDetecting in /content/Hucre-Detector-1/train/images:   4%|▍         | 94/2450 [01:23<41:16,  1.05s/it]"
          ]
        },
        {
          "output_type": "stream",
          "name": "stdout",
          "text": [
            "\n",
            "image 1/1 /content/Hucre-Detector-1/train/images/Screenshot-2023-12-01-213511_png.rf.3a76b5cf20430e61f7959b5aded162e9.jpg: 640x640 23 PV CELLs, 584.0ms\n",
            "Speed: 4.3ms preprocess, 584.0ms inference, 4.0ms postprocess per image at shape (1, 3, 640, 640)\n"
          ]
        },
        {
          "output_type": "stream",
          "name": "stderr",
          "text": [
            "\rDetecting in /content/Hucre-Detector-1/train/images:   4%|▍         | 95/2450 [01:24<36:16,  1.08it/s]"
          ]
        },
        {
          "output_type": "stream",
          "name": "stdout",
          "text": [
            "\n",
            "image 1/1 /content/Hucre-Detector-1/train/images/DJI_20231117110026_0088_Z_JPG.rf.9d7ec2eb694a791cfdb585a263a60c3f.jpg: 640x640 119 PV CELLs, 581.4ms\n",
            "Speed: 4.2ms preprocess, 581.4ms inference, 8.9ms postprocess per image at shape (1, 3, 640, 640)\n"
          ]
        },
        {
          "output_type": "stream",
          "name": "stderr",
          "text": [
            "\rDetecting in /content/Hucre-Detector-1/train/images:   4%|▍         | 96/2450 [01:24<34:08,  1.15it/s]"
          ]
        },
        {
          "output_type": "stream",
          "name": "stdout",
          "text": [
            "\n",
            "image 1/1 /content/Hucre-Detector-1/train/images/Screenshot-2023-12-01-204250_png.rf.3834ad8cab44b402688212f7756b5484.jpg: 640x640 113 PV CELLs, 595.9ms\n",
            "Speed: 3.7ms preprocess, 595.9ms inference, 11.7ms postprocess per image at shape (1, 3, 640, 640)\n"
          ]
        },
        {
          "output_type": "stream",
          "name": "stderr",
          "text": [
            "\rDetecting in /content/Hucre-Detector-1/train/images:   4%|▍         | 97/2450 [01:25<31:50,  1.23it/s]"
          ]
        },
        {
          "output_type": "stream",
          "name": "stdout",
          "text": [
            "\n",
            "image 1/1 /content/Hucre-Detector-1/train/images/0855_JPG.rf.ae6459cb605885894cfd5522ffaf6e57.jpg: 480x640 6 PV CELLs, 437.0ms\n",
            "Speed: 3.9ms preprocess, 437.0ms inference, 1.7ms postprocess per image at shape (1, 3, 480, 640)\n"
          ]
        },
        {
          "output_type": "stream",
          "name": "stderr",
          "text": [
            "\rDetecting in /content/Hucre-Detector-1/train/images:   4%|▍         | 98/2450 [01:25<28:13,  1.39it/s]"
          ]
        },
        {
          "output_type": "stream",
          "name": "stdout",
          "text": [
            "\n",
            "image 1/1 /content/Hucre-Detector-1/train/images/DJI_20240110095251_0111_Z_JPG.rf.7de4db5371eeb09276ba0debd2d19ed0.jpg: 640x640 300 PV CELLs, 651.7ms\n",
            "Speed: 5.3ms preprocess, 651.7ms inference, 48.1ms postprocess per image at shape (1, 3, 640, 640)\n"
          ]
        },
        {
          "output_type": "stream",
          "name": "stderr",
          "text": [
            "\rDetecting in /content/Hucre-Detector-1/train/images:   4%|▍         | 99/2450 [01:26<31:02,  1.26it/s]"
          ]
        },
        {
          "output_type": "stream",
          "name": "stdout",
          "text": [
            "\n",
            "image 1/1 /content/Hucre-Detector-1/train/images/DJI_20231128113609_0110_Z_JPG.rf.8bbc1b5c5b72ba8568f3216b6daabbd6.jpg: 640x640 300 PV CELLs, 631.6ms\n",
            "Speed: 5.2ms preprocess, 631.6ms inference, 54.9ms postprocess per image at shape (1, 3, 640, 640)\n"
          ]
        },
        {
          "output_type": "stream",
          "name": "stderr",
          "text": [
            "\rDetecting in /content/Hucre-Detector-1/train/images:   4%|▍         | 100/2450 [01:27<32:47,  1.19it/s]"
          ]
        },
        {
          "output_type": "stream",
          "name": "stdout",
          "text": [
            "\n",
            "image 1/1 /content/Hucre-Detector-1/train/images/DJI_20231115123729_0066_Z_JPG.rf.64a8312632fc687954c71ec3aff56a11.jpg: 480x640 300 PV CELLs, 428.4ms\n",
            "Speed: 4.9ms preprocess, 428.4ms inference, 24.8ms postprocess per image at shape (1, 3, 480, 640)\n"
          ]
        },
        {
          "output_type": "stream",
          "name": "stderr",
          "text": [
            "\rDetecting in /content/Hucre-Detector-1/train/images:   4%|▍         | 101/2450 [01:29<43:09,  1.10s/it]"
          ]
        },
        {
          "output_type": "stream",
          "name": "stdout",
          "text": [
            "\n",
            "image 1/1 /content/Hucre-Detector-1/train/images/DJI_20231122120948_0480_Z_JPG.rf.c79a453741c429dda6e7e4b9dee5c3b5.jpg: 640x640 300 PV CELLs, 591.6ms\n",
            "Speed: 5.2ms preprocess, 591.6ms inference, 26.2ms postprocess per image at shape (1, 3, 640, 640)\n"
          ]
        },
        {
          "output_type": "stream",
          "name": "stderr",
          "text": [
            "\rDetecting in /content/Hucre-Detector-1/train/images:   4%|▍         | 102/2450 [01:30<40:31,  1.04s/it]"
          ]
        },
        {
          "output_type": "stream",
          "name": "stdout",
          "text": [
            "\n",
            "image 1/1 /content/Hucre-Detector-1/train/images/DJI_20240227111022_0191_Z_JPG.rf.9520d8d5b1a217db1f966ca653b411cf.jpg: 640x640 300 PV CELLs, 583.7ms\n",
            "Speed: 5.4ms preprocess, 583.7ms inference, 35.7ms postprocess per image at shape (1, 3, 640, 640)\n"
          ]
        },
        {
          "output_type": "stream",
          "name": "stderr",
          "text": [
            "\rDetecting in /content/Hucre-Detector-1/train/images:   4%|▍         | 103/2450 [01:31<38:31,  1.02it/s]"
          ]
        },
        {
          "output_type": "stream",
          "name": "stdout",
          "text": [
            "\n",
            "image 1/1 /content/Hucre-Detector-1/train/images/Screenshot-2023-12-01-214251_png.rf.f2158d53c850e49e639c58ec10ca0643.jpg: 640x640 61 PV CELLs, 648.9ms\n",
            "Speed: 4.4ms preprocess, 648.9ms inference, 8.0ms postprocess per image at shape (1, 3, 640, 640)\n"
          ]
        },
        {
          "output_type": "stream",
          "name": "stderr",
          "text": [
            "\rDetecting in /content/Hucre-Detector-1/train/images:   4%|▍         | 104/2450 [01:32<35:18,  1.11it/s]"
          ]
        },
        {
          "output_type": "stream",
          "name": "stdout",
          "text": [
            "\n",
            "image 1/1 /content/Hucre-Detector-1/train/images/DJI_20231117134540_0096_Z_JPG.rf.0e4aff41d6114f483329235f6daa3b87.jpg: 640x640 31 PV CELLs, 581.1ms\n",
            "Speed: 4.2ms preprocess, 581.1ms inference, 5.0ms postprocess per image at shape (1, 3, 640, 640)\n"
          ]
        },
        {
          "output_type": "stream",
          "name": "stderr",
          "text": [
            "\rDetecting in /content/Hucre-Detector-1/train/images:   4%|▍         | 105/2450 [01:32<32:58,  1.19it/s]"
          ]
        },
        {
          "output_type": "stream",
          "name": "stdout",
          "text": [
            "\n",
            "image 1/1 /content/Hucre-Detector-1/train/images/0992_JPG.rf.7f3d51b9d4447d86da9055564be7bcd0.jpg: 480x640 9 PV CELLs, 457.8ms\n",
            "Speed: 3.2ms preprocess, 457.8ms inference, 4.2ms postprocess per image at shape (1, 3, 480, 640)\n"
          ]
        },
        {
          "output_type": "stream",
          "name": "stderr",
          "text": [
            "\rDetecting in /content/Hucre-Detector-1/train/images:   4%|▍         | 106/2450 [01:33<29:21,  1.33it/s]"
          ]
        },
        {
          "output_type": "stream",
          "name": "stdout",
          "text": [
            "\n",
            "image 1/1 /content/Hucre-Detector-1/train/images/DJI_20231229121431_0207_Z_JPG.rf.262e2ff61e2d2e6c0956b3204cca9468.jpg: 480x640 300 PV CELLs, 661.5ms\n",
            "Speed: 6.8ms preprocess, 661.5ms inference, 63.9ms postprocess per image at shape (1, 3, 480, 640)\n"
          ]
        },
        {
          "output_type": "stream",
          "name": "stderr",
          "text": [
            "\rDetecting in /content/Hucre-Detector-1/train/images:   4%|▍         | 107/2450 [01:35<43:06,  1.10s/it]"
          ]
        },
        {
          "output_type": "stream",
          "name": "stdout",
          "text": [
            "\n",
            "image 1/1 /content/Hucre-Detector-1/train/images/0657_JPG.rf.a796f1c1a44edbf2c0db625ce0422d51.jpg: 480x640 300 PV CELLs, 712.0ms\n",
            "Speed: 5.6ms preprocess, 712.0ms inference, 47.6ms postprocess per image at shape (1, 3, 480, 640)\n"
          ]
        },
        {
          "output_type": "stream",
          "name": "stderr",
          "text": [
            "\rDetecting in /content/Hucre-Detector-1/train/images:   4%|▍         | 108/2450 [01:36<41:22,  1.06s/it]"
          ]
        },
        {
          "output_type": "stream",
          "name": "stdout",
          "text": [
            "\n",
            "image 1/1 /content/Hucre-Detector-1/train/images/MAX_0034_JPG.rf.9f051e3b7f892fddc40c2317ee6c26b9.jpg: 384x640 47 PV CELLs, 344.3ms\n",
            "Speed: 3.2ms preprocess, 344.3ms inference, 4.6ms postprocess per image at shape (1, 3, 384, 640)\n"
          ]
        },
        {
          "output_type": "stream",
          "name": "stderr",
          "text": [
            "\rDetecting in /content/Hucre-Detector-1/train/images:   4%|▍         | 109/2450 [01:36<34:58,  1.12it/s]"
          ]
        },
        {
          "output_type": "stream",
          "name": "stdout",
          "text": [
            "\n",
            "image 1/1 /content/Hucre-Detector-1/train/images/DJI_20231115122911_0702_Z_JPG.rf.c4367983469331fcda1d959ec7051605.jpg: 480x640 264 PV CELLs, 389.6ms\n",
            "Speed: 4.0ms preprocess, 389.6ms inference, 23.4ms postprocess per image at shape (1, 3, 480, 640)\n"
          ]
        },
        {
          "output_type": "stream",
          "name": "stderr",
          "text": [
            "\rDetecting in /content/Hucre-Detector-1/train/images:   4%|▍         | 110/2450 [01:37<37:25,  1.04it/s]"
          ]
        },
        {
          "output_type": "stream",
          "name": "stdout",
          "text": [
            "\n",
            "image 1/1 /content/Hucre-Detector-1/train/images/DJI_20250506154940_0265_V_JPG.rf.9578698789467d365dc055b28a13fff3.jpg: 640x640 300 PV CELLs, 691.1ms\n",
            "Speed: 3.3ms preprocess, 691.1ms inference, 86.4ms postprocess per image at shape (1, 3, 640, 640)\n"
          ]
        },
        {
          "output_type": "stream",
          "name": "stderr",
          "text": [
            "\rDetecting in /content/Hucre-Detector-1/train/images:   5%|▍         | 111/2450 [01:38<35:57,  1.08it/s]"
          ]
        },
        {
          "output_type": "stream",
          "name": "stdout",
          "text": [
            "\n",
            "image 1/1 /content/Hucre-Detector-1/train/images/0590_JPG.rf.325da5701c89cc91237b2a7383dc42e7.jpg: 480x640 300 PV CELLs, 412.6ms\n",
            "Speed: 3.3ms preprocess, 412.6ms inference, 48.5ms postprocess per image at shape (1, 3, 480, 640)\n"
          ]
        },
        {
          "output_type": "stream",
          "name": "stderr",
          "text": [
            "\rDetecting in /content/Hucre-Detector-1/train/images:   5%|▍         | 112/2450 [01:39<32:32,  1.20it/s]"
          ]
        },
        {
          "output_type": "stream",
          "name": "stdout",
          "text": [
            "\n",
            "image 1/1 /content/Hucre-Detector-1/train/images/DJI_20240125112453_0318_Z_JPG.rf.2800b77b3d68bfa5803186b68bb88c98.jpg: 640x640 300 PV CELLs, 564.4ms\n",
            "Speed: 4.9ms preprocess, 564.4ms inference, 39.3ms postprocess per image at shape (1, 3, 640, 640)\n"
          ]
        },
        {
          "output_type": "stream",
          "name": "stderr",
          "text": [
            "\rDetecting in /content/Hucre-Detector-1/train/images:   5%|▍         | 113/2450 [01:40<32:45,  1.19it/s]"
          ]
        },
        {
          "output_type": "stream",
          "name": "stdout",
          "text": [
            "\n",
            "image 1/1 /content/Hucre-Detector-1/train/images/DJI_20231117125546_0401_Z_JPG.rf.6d519928ed70fcb9026d6135452815da.jpg: 640x640 300 PV CELLs, 566.3ms\n",
            "Speed: 4.9ms preprocess, 566.3ms inference, 22.8ms postprocess per image at shape (1, 3, 640, 640)\n"
          ]
        },
        {
          "output_type": "stream",
          "name": "stderr",
          "text": [
            "\rDetecting in /content/Hucre-Detector-1/train/images:   5%|▍         | 114/2450 [01:40<32:43,  1.19it/s]"
          ]
        },
        {
          "output_type": "stream",
          "name": "stdout",
          "text": [
            "\n",
            "image 1/1 /content/Hucre-Detector-1/train/images/DJI_20231230122626_0138_Z_JPG.rf.9792275f7df318b23dd6c123fe4c5d63.jpg: 640x640 216 PV CELLs, 576.0ms\n",
            "Speed: 4.8ms preprocess, 576.0ms inference, 32.7ms postprocess per image at shape (1, 3, 640, 640)\n"
          ]
        },
        {
          "output_type": "stream",
          "name": "stderr",
          "text": [
            "\rDetecting in /content/Hucre-Detector-1/train/images:   5%|▍         | 115/2450 [01:41<32:27,  1.20it/s]"
          ]
        },
        {
          "output_type": "stream",
          "name": "stdout",
          "text": [
            "\n",
            "image 1/1 /content/Hucre-Detector-1/train/images/0143_JPG.rf.4667230b95c956e17137c182e8b6309b.jpg: 480x640 3 PV CELLs, 441.9ms\n",
            "Speed: 4.3ms preprocess, 441.9ms inference, 1.3ms postprocess per image at shape (1, 3, 480, 640)\n"
          ]
        },
        {
          "output_type": "stream",
          "name": "stderr",
          "text": [
            "\rDetecting in /content/Hucre-Detector-1/train/images:   5%|▍         | 116/2450 [01:42<28:41,  1.36it/s]"
          ]
        },
        {
          "output_type": "stream",
          "name": "stdout",
          "text": [
            "\n",
            "image 1/1 /content/Hucre-Detector-1/train/images/DJI_20231117130301_0611_Z_JPG.rf.3236531bb05b0673ea1ac2f516465a81.jpg: 640x640 300 PV CELLs, 557.6ms\n",
            "Speed: 5.7ms preprocess, 557.6ms inference, 46.2ms postprocess per image at shape (1, 3, 640, 640)\n"
          ]
        },
        {
          "output_type": "stream",
          "name": "stderr",
          "text": [
            "\rDetecting in /content/Hucre-Detector-1/train/images:   5%|▍         | 117/2450 [01:43<30:08,  1.29it/s]"
          ]
        },
        {
          "output_type": "stream",
          "name": "stdout",
          "text": [
            "\n",
            "image 1/1 /content/Hucre-Detector-1/train/images/0682_JPG.rf.2fe0c3b741f3a6eda84893c1d9e64e4a.jpg: 480x640 300 PV CELLs, 402.9ms\n",
            "Speed: 4.2ms preprocess, 402.9ms inference, 20.2ms postprocess per image at shape (1, 3, 480, 640)\n"
          ]
        },
        {
          "output_type": "stream",
          "name": "stderr",
          "text": [
            "\rDetecting in /content/Hucre-Detector-1/train/images:   5%|▍         | 118/2450 [01:43<28:02,  1.39it/s]"
          ]
        },
        {
          "output_type": "stream",
          "name": "stdout",
          "text": [
            "\n",
            "image 1/1 /content/Hucre-Detector-1/train/images/0313_JPG.rf.5dc5be1bf877702d0d5f54ee4047b8ea.jpg: 480x640 5 PV CELLs, 396.2ms\n",
            "Speed: 3.4ms preprocess, 396.2ms inference, 1.4ms postprocess per image at shape (1, 3, 480, 640)\n"
          ]
        },
        {
          "output_type": "stream",
          "name": "stderr",
          "text": [
            "\rDetecting in /content/Hucre-Detector-1/train/images:   5%|▍         | 119/2450 [01:44<25:03,  1.55it/s]"
          ]
        },
        {
          "output_type": "stream",
          "name": "stdout",
          "text": [
            "\n",
            "image 1/1 /content/Hucre-Detector-1/train/images/DJI_20231117130835_0770_Z_JPG.rf.02b748970472b4227fa028be6d162b39.jpg: 640x640 155 PV CELLs, 609.8ms\n",
            "Speed: 4.4ms preprocess, 609.8ms inference, 23.2ms postprocess per image at shape (1, 3, 640, 640)\n"
          ]
        },
        {
          "output_type": "stream",
          "name": "stderr",
          "text": [
            "\rDetecting in /content/Hucre-Detector-1/train/images:   5%|▍         | 120/2450 [01:45<27:01,  1.44it/s]"
          ]
        },
        {
          "output_type": "stream",
          "name": "stdout",
          "text": [
            "\n",
            "image 1/1 /content/Hucre-Detector-1/train/images/DJI_20231117110012_0081_Z_JPG.rf.2c3b5213583ff02dc3d00d0878a405a3.jpg: 640x640 300 PV CELLs, 571.5ms\n",
            "Speed: 5.0ms preprocess, 571.5ms inference, 28.8ms postprocess per image at shape (1, 3, 640, 640)\n"
          ]
        },
        {
          "output_type": "stream",
          "name": "stderr",
          "text": [
            "\rDetecting in /content/Hucre-Detector-1/train/images:   5%|▍         | 121/2450 [01:45<28:52,  1.34it/s]"
          ]
        },
        {
          "output_type": "stream",
          "name": "stdout",
          "text": [
            "\n",
            "image 1/1 /content/Hucre-Detector-1/train/images/Screenshot-2023-12-01-213453_png.rf.320619c3d1280d5ee915603ee21e8a06.jpg: 640x640 86 PV CELLs, 832.1ms\n",
            "Speed: 6.7ms preprocess, 832.1ms inference, 18.4ms postprocess per image at shape (1, 3, 640, 640)\n"
          ]
        },
        {
          "output_type": "stream",
          "name": "stderr",
          "text": [
            "\rDetecting in /content/Hucre-Detector-1/train/images:   5%|▍         | 122/2450 [01:46<31:10,  1.24it/s]"
          ]
        },
        {
          "output_type": "stream",
          "name": "stdout",
          "text": [
            "\n",
            "image 1/1 /content/Hucre-Detector-1/train/images/Ekran-Goruntusu-2025-08-14-10-23-45_png.rf.3c3aaff168d3d13f1cacf86bc0fe2c32.jpg: 320x640 68 PV CELLs, 475.1ms\n",
            "Speed: 3.7ms preprocess, 475.1ms inference, 7.3ms postprocess per image at shape (1, 3, 320, 640)\n"
          ]
        },
        {
          "output_type": "stream",
          "name": "stderr",
          "text": [
            "\rDetecting in /content/Hucre-Detector-1/train/images:   5%|▌         | 123/2450 [01:47<28:21,  1.37it/s]"
          ]
        },
        {
          "output_type": "stream",
          "name": "stdout",
          "text": [
            "\n",
            "image 1/1 /content/Hucre-Detector-1/train/images/DJI_20231121103711_0088_Z_JPG.rf.bda323315ddfd540aaa22818d7df2158.jpg: 640x640 195 PV CELLs, 1069.8ms\n",
            "Speed: 17.0ms preprocess, 1069.8ms inference, 22.8ms postprocess per image at shape (1, 3, 640, 640)\n"
          ]
        },
        {
          "output_type": "stream",
          "name": "stderr",
          "text": [
            "\rDetecting in /content/Hucre-Detector-1/train/images:   5%|▌         | 124/2450 [01:48<36:15,  1.07it/s]"
          ]
        },
        {
          "output_type": "stream",
          "name": "stdout",
          "text": [
            "\n",
            "image 1/1 /content/Hucre-Detector-1/train/images/0630_JPG.rf.79a8f6d515d4d01c9ab1748ee8de18dd.jpg: 480x640 298 PV CELLs, 427.2ms\n",
            "Speed: 4.1ms preprocess, 427.2ms inference, 39.3ms postprocess per image at shape (1, 3, 480, 640)\n"
          ]
        },
        {
          "output_type": "stream",
          "name": "stderr",
          "text": [
            "\rDetecting in /content/Hucre-Detector-1/train/images:   5%|▌         | 125/2450 [01:49<32:50,  1.18it/s]"
          ]
        },
        {
          "output_type": "stream",
          "name": "stdout",
          "text": [
            "\n",
            "image 1/1 /content/Hucre-Detector-1/train/images/0659_JPG.rf.46deba7957f0f5c22e7b08475d5d4c10.jpg: 480x640 300 PV CELLs, 441.0ms\n",
            "Speed: 3.9ms preprocess, 441.0ms inference, 22.4ms postprocess per image at shape (1, 3, 480, 640)\n"
          ]
        },
        {
          "output_type": "stream",
          "name": "stderr",
          "text": [
            "\rDetecting in /content/Hucre-Detector-1/train/images:   5%|▌         | 126/2450 [01:50<30:28,  1.27it/s]"
          ]
        },
        {
          "output_type": "stream",
          "name": "stdout",
          "text": [
            "\n",
            "image 1/1 /content/Hucre-Detector-1/train/images/DJI_20231117104356_0417_Z_JPG.rf.f7028be823bd29a24a3682e568039973.jpg: 640x640 293 PV CELLs, 578.4ms\n",
            "Speed: 5.2ms preprocess, 578.4ms inference, 22.6ms postprocess per image at shape (1, 3, 640, 640)\n"
          ]
        },
        {
          "output_type": "stream",
          "name": "stderr",
          "text": [
            "\rDetecting in /content/Hucre-Detector-1/train/images:   5%|▌         | 127/2450 [01:50<31:04,  1.25it/s]"
          ]
        },
        {
          "output_type": "stream",
          "name": "stdout",
          "text": [
            "\n",
            "image 1/1 /content/Hucre-Detector-1/train/images/Screenshot-2023-12-01-233353_png.rf.fc36c85e42d2df430302c36cf9a2bd02.jpg: 640x640 193 PV CELLs, 542.1ms\n",
            "Speed: 4.0ms preprocess, 542.1ms inference, 22.7ms postprocess per image at shape (1, 3, 640, 640)\n"
          ]
        },
        {
          "output_type": "stream",
          "name": "stderr",
          "text": [
            "\rDetecting in /content/Hucre-Detector-1/train/images:   5%|▌         | 128/2450 [01:51<29:24,  1.32it/s]"
          ]
        },
        {
          "output_type": "stream",
          "name": "stdout",
          "text": [
            "\n",
            "image 1/1 /content/Hucre-Detector-1/train/images/1066_jpg.rf.dc4d82038c3497c2b7afc07d5e8ba10f.jpg: 480x640 298 PV CELLs, 421.8ms\n",
            "Speed: 3.3ms preprocess, 421.8ms inference, 19.5ms postprocess per image at shape (1, 3, 480, 640)\n"
          ]
        },
        {
          "output_type": "stream",
          "name": "stderr",
          "text": [
            "\rDetecting in /content/Hucre-Detector-1/train/images:   5%|▌         | 129/2450 [01:52<27:32,  1.40it/s]"
          ]
        },
        {
          "output_type": "stream",
          "name": "stdout",
          "text": [
            "\n",
            "image 1/1 /content/Hucre-Detector-1/train/images/DJI_20240227094347_0041_Z_JPG.rf.3eb76b74e226bc56ae6ec731c24ccbda.jpg: 640x640 300 PV CELLs, 578.7ms\n",
            "Speed: 4.2ms preprocess, 578.7ms inference, 48.9ms postprocess per image at shape (1, 3, 640, 640)\n"
          ]
        },
        {
          "output_type": "stream",
          "name": "stderr",
          "text": [
            "\rDetecting in /content/Hucre-Detector-1/train/images:   5%|▌         | 130/2450 [01:53<29:17,  1.32it/s]"
          ]
        },
        {
          "output_type": "stream",
          "name": "stdout",
          "text": [
            "\n",
            "image 1/1 /content/Hucre-Detector-1/train/images/0252_JPG.rf.29f892f297283f3dd1503aaea4c765fc.jpg: 480x640 4 PV CELLs, 422.5ms\n",
            "Speed: 3.2ms preprocess, 422.5ms inference, 1.3ms postprocess per image at shape (1, 3, 480, 640)\n"
          ]
        },
        {
          "output_type": "stream",
          "name": "stderr",
          "text": [
            "\rDetecting in /content/Hucre-Detector-1/train/images:   5%|▌         | 131/2450 [01:53<26:04,  1.48it/s]"
          ]
        },
        {
          "output_type": "stream",
          "name": "stdout",
          "text": [
            "\n",
            "image 1/1 /content/Hucre-Detector-1/train/images/DJI_20240108112216_0606_Z_JPG.rf.7b0e48f0a935a52528f2208889608e1d.jpg: 640x640 300 PV CELLs, 543.5ms\n",
            "Speed: 4.2ms preprocess, 543.5ms inference, 20.1ms postprocess per image at shape (1, 3, 640, 640)\n"
          ]
        },
        {
          "output_type": "stream",
          "name": "stderr",
          "text": [
            "\rDetecting in /content/Hucre-Detector-1/train/images:   5%|▌         | 132/2450 [01:54<27:27,  1.41it/s]"
          ]
        },
        {
          "output_type": "stream",
          "name": "stdout",
          "text": [
            "\n",
            "image 1/1 /content/Hucre-Detector-1/train/images/0054_JPG.rf.3c9a0672e80aa4594ed747d3c6a8f696.jpg: 480x640 5 PV CELLs, 420.9ms\n",
            "Speed: 3.3ms preprocess, 420.9ms inference, 1.7ms postprocess per image at shape (1, 3, 480, 640)\n"
          ]
        },
        {
          "output_type": "stream",
          "name": "stderr",
          "text": [
            "\rDetecting in /content/Hucre-Detector-1/train/images:   5%|▌         | 133/2450 [01:54<24:56,  1.55it/s]"
          ]
        },
        {
          "output_type": "stream",
          "name": "stdout",
          "text": [
            "\n",
            "image 1/1 /content/Hucre-Detector-1/train/images/DJI_20231122122328_0081_Z_JPG.rf.e8211a7ea81a159f7dab3b1412452b24.jpg: 640x640 117 PV CELLs, 560.3ms\n",
            "Speed: 4.9ms preprocess, 560.3ms inference, 12.9ms postprocess per image at shape (1, 3, 640, 640)\n"
          ]
        },
        {
          "output_type": "stream",
          "name": "stderr",
          "text": [
            "\rDetecting in /content/Hucre-Detector-1/train/images:   5%|▌         | 134/2450 [01:55<25:51,  1.49it/s]"
          ]
        },
        {
          "output_type": "stream",
          "name": "stdout",
          "text": [
            "\n",
            "image 1/1 /content/Hucre-Detector-1/train/images/0524_JPG.rf.7cd0023919a3c6e05b52b06e5db0e016.jpg: 480x640 300 PV CELLs, 444.1ms\n",
            "Speed: 4.1ms preprocess, 444.1ms inference, 56.4ms postprocess per image at shape (1, 3, 480, 640)\n"
          ]
        },
        {
          "output_type": "stream",
          "name": "stderr",
          "text": [
            "\rDetecting in /content/Hucre-Detector-1/train/images:   6%|▌         | 135/2450 [01:56<26:00,  1.48it/s]"
          ]
        },
        {
          "output_type": "stream",
          "name": "stdout",
          "text": [
            "\n",
            "image 1/1 /content/Hucre-Detector-1/train/images/0613_JPG.rf.440a5aaa6f92f99a7c2060a39345d34c.jpg: 480x640 133 PV CELLs, 409.1ms\n",
            "Speed: 3.8ms preprocess, 409.1ms inference, 10.9ms postprocess per image at shape (1, 3, 480, 640)\n"
          ]
        },
        {
          "output_type": "stream",
          "name": "stderr",
          "text": [
            "\rDetecting in /content/Hucre-Detector-1/train/images:   6%|▌         | 136/2450 [01:56<24:20,  1.58it/s]"
          ]
        },
        {
          "output_type": "stream",
          "name": "stdout",
          "text": [
            "\n",
            "image 1/1 /content/Hucre-Detector-1/train/images/DJI_20231229115026_0501_Z_JPG.rf.85c0eb3a957d37098f2336233722b941.jpg: 640x640 229 PV CELLs, 550.1ms\n",
            "Speed: 4.1ms preprocess, 550.1ms inference, 23.7ms postprocess per image at shape (1, 3, 640, 640)\n"
          ]
        },
        {
          "output_type": "stream",
          "name": "stderr",
          "text": [
            "\rDetecting in /content/Hucre-Detector-1/train/images:   6%|▌         | 137/2450 [01:57<25:58,  1.48it/s]"
          ]
        },
        {
          "output_type": "stream",
          "name": "stdout",
          "text": [
            "\n",
            "image 1/1 /content/Hucre-Detector-1/train/images/DJI_20231117142046_0564_Z_JPG.rf.52d3e8e4d337d17d14bb97158e59a0ac.jpg: 640x640 73 PV CELLs, 589.9ms\n",
            "Speed: 4.3ms preprocess, 589.9ms inference, 9.9ms postprocess per image at shape (1, 3, 640, 640)\n"
          ]
        },
        {
          "output_type": "stream",
          "name": "stderr",
          "text": [
            "\rDetecting in /content/Hucre-Detector-1/train/images:   6%|▌         | 138/2450 [01:58<26:32,  1.45it/s]"
          ]
        },
        {
          "output_type": "stream",
          "name": "stdout",
          "text": [
            "\n",
            "image 1/1 /content/Hucre-Detector-1/train/images/0500_JPG.rf.99d7b4ea1198c28753ccef7d5b5a3474.jpg: 480x640 300 PV CELLs, 398.2ms\n",
            "Speed: 3.3ms preprocess, 398.2ms inference, 69.8ms postprocess per image at shape (1, 3, 480, 640)\n"
          ]
        },
        {
          "output_type": "stream",
          "name": "stderr",
          "text": [
            "\rDetecting in /content/Hucre-Detector-1/train/images:   6%|▌         | 139/2450 [01:59<26:49,  1.44it/s]"
          ]
        },
        {
          "output_type": "stream",
          "name": "stdout",
          "text": [
            "\n",
            "image 1/1 /content/Hucre-Detector-1/train/images/0388_JPG.rf.9b0a276bd6230aa950f5ef373c59f7e3.jpg: 480x640 300 PV CELLs, 716.3ms\n",
            "Speed: 5.6ms preprocess, 716.3ms inference, 72.2ms postprocess per image at shape (1, 3, 480, 640)\n"
          ]
        },
        {
          "output_type": "stream",
          "name": "stderr",
          "text": [
            "\rDetecting in /content/Hucre-Detector-1/train/images:   6%|▌         | 140/2450 [02:00<31:26,  1.22it/s]"
          ]
        },
        {
          "output_type": "stream",
          "name": "stdout",
          "text": [
            "\n",
            "image 1/1 /content/Hucre-Detector-1/train/images/Screenshot-2023-12-01-213238_png.rf.596f67576913aa62d17a64574325dc47.jpg: 640x640 60 PV CELLs, 887.9ms\n",
            "Speed: 6.6ms preprocess, 887.9ms inference, 10.8ms postprocess per image at shape (1, 3, 640, 640)\n"
          ]
        },
        {
          "output_type": "stream",
          "name": "stderr",
          "text": [
            "\rDetecting in /content/Hucre-Detector-1/train/images:   6%|▌         | 141/2450 [02:01<33:29,  1.15it/s]"
          ]
        },
        {
          "output_type": "stream",
          "name": "stdout",
          "text": [
            "\n",
            "image 1/1 /content/Hucre-Detector-1/train/images/DJI_20240108104855_0422_Z_JPG.rf.72ca9624c62608a3d0d0b58eb0ce879f.jpg: 640x640 300 PV CELLs, 723.5ms\n",
            "Speed: 7.2ms preprocess, 723.5ms inference, 30.6ms postprocess per image at shape (1, 3, 640, 640)\n"
          ]
        },
        {
          "output_type": "stream",
          "name": "stderr",
          "text": [
            "\rDetecting in /content/Hucre-Detector-1/train/images:   6%|▌         | 142/2450 [02:02<35:39,  1.08it/s]"
          ]
        },
        {
          "output_type": "stream",
          "name": "stdout",
          "text": [
            "\n",
            "image 1/1 /content/Hucre-Detector-1/train/images/0314_JPG.rf.b1029b92d045b37f18be7ed1072e7371.jpg: 480x640 3 PV CELLs, 501.1ms\n",
            "Speed: 5.5ms preprocess, 501.1ms inference, 1.4ms postprocess per image at shape (1, 3, 480, 640)\n"
          ]
        },
        {
          "output_type": "stream",
          "name": "stderr",
          "text": [
            "\rDetecting in /content/Hucre-Detector-1/train/images:   6%|▌         | 143/2450 [02:02<31:44,  1.21it/s]"
          ]
        },
        {
          "output_type": "stream",
          "name": "stdout",
          "text": [
            "\n",
            "image 1/1 /content/Hucre-Detector-1/train/images/DJI_20231122125314_0146_Z_JPG.rf.1403cc5748c272bf293eac1b69ddc996.jpg: 480x640 148 PV CELLs, 457.8ms\n",
            "Speed: 4.9ms preprocess, 457.8ms inference, 14.0ms postprocess per image at shape (1, 3, 480, 640)\n"
          ]
        },
        {
          "output_type": "stream",
          "name": "stderr",
          "text": [
            "\rDetecting in /content/Hucre-Detector-1/train/images:   6%|▌         | 144/2450 [02:04<38:06,  1.01it/s]"
          ]
        },
        {
          "output_type": "stream",
          "name": "stdout",
          "text": [
            "\n",
            "image 1/1 /content/Hucre-Detector-1/train/images/DJI_20231115122907_0700_Z_JPG.rf.53d71d85e4118e01e4d740639d3196b2.jpg: 480x640 300 PV CELLs, 435.4ms\n",
            "Speed: 5.3ms preprocess, 435.4ms inference, 20.7ms postprocess per image at shape (1, 3, 480, 640)\n"
          ]
        },
        {
          "output_type": "stream",
          "name": "stderr",
          "text": [
            "\rDetecting in /content/Hucre-Detector-1/train/images:   6%|▌         | 145/2450 [02:05<40:59,  1.07s/it]"
          ]
        },
        {
          "output_type": "stream",
          "name": "stdout",
          "text": [
            "\n",
            "image 1/1 /content/Hucre-Detector-1/train/images/DJI_20240218143632_0566_Z_JPG.rf.38000ac57d75f1514b7af3d82125320f.jpg: 640x640 286 PV CELLs, 567.1ms\n",
            "Speed: 4.3ms preprocess, 567.1ms inference, 45.7ms postprocess per image at shape (1, 3, 640, 640)\n"
          ]
        },
        {
          "output_type": "stream",
          "name": "stderr",
          "text": [
            "\rDetecting in /content/Hucre-Detector-1/train/images:   6%|▌         | 146/2450 [02:06<38:38,  1.01s/it]"
          ]
        },
        {
          "output_type": "stream",
          "name": "stdout",
          "text": [
            "\n",
            "image 1/1 /content/Hucre-Detector-1/train/images/DJI_20231117104402_0420_Z_JPG.rf.f8bc85621c52b13c968be238368063c0.jpg: 640x640 266 PV CELLs, 607.2ms\n",
            "Speed: 5.1ms preprocess, 607.2ms inference, 24.4ms postprocess per image at shape (1, 3, 640, 640)\n"
          ]
        },
        {
          "output_type": "stream",
          "name": "stderr",
          "text": [
            "\rDetecting in /content/Hucre-Detector-1/train/images:   6%|▌         | 147/2450 [02:07<37:04,  1.04it/s]"
          ]
        },
        {
          "output_type": "stream",
          "name": "stdout",
          "text": [
            "\n",
            "image 1/1 /content/Hucre-Detector-1/train/images/DJI_20231117113319_0208_Z_JPG.rf.3640b7f0b1027a154ba6103cb0bb17a9.jpg: 640x640 162 PV CELLs, 649.0ms\n",
            "Speed: 5.4ms preprocess, 649.0ms inference, 17.9ms postprocess per image at shape (1, 3, 640, 640)\n"
          ]
        },
        {
          "output_type": "stream",
          "name": "stderr",
          "text": [
            "\rDetecting in /content/Hucre-Detector-1/train/images:   6%|▌         | 148/2450 [02:07<35:41,  1.08it/s]"
          ]
        },
        {
          "output_type": "stream",
          "name": "stdout",
          "text": [
            "\n",
            "image 1/1 /content/Hucre-Detector-1/train/images/Ekran-Goruntusu-2025-08-25-18-37-04_png.rf.5cf6c6793dca1367e88750e364f14fc1.jpg: 288x640 86 PV CELLs, 262.9ms\n",
            "Speed: 3.9ms preprocess, 262.9ms inference, 9.0ms postprocess per image at shape (1, 3, 288, 640)\n"
          ]
        },
        {
          "output_type": "stream",
          "name": "stderr",
          "text": [
            "\rDetecting in /content/Hucre-Detector-1/train/images:   6%|▌         | 149/2450 [02:08<28:47,  1.33it/s]"
          ]
        },
        {
          "output_type": "stream",
          "name": "stdout",
          "text": [
            "\n",
            "image 1/1 /content/Hucre-Detector-1/train/images/DJI_20231117111222_0434_Z_JPG.rf.e046d62294699e9fc91e8b545f13dcd5.jpg: 640x640 300 PV CELLs, 593.1ms\n",
            "Speed: 4.4ms preprocess, 593.1ms inference, 23.9ms postprocess per image at shape (1, 3, 640, 640)\n"
          ]
        },
        {
          "output_type": "stream",
          "name": "stderr",
          "text": [
            "\rDetecting in /content/Hucre-Detector-1/train/images:   6%|▌         | 150/2450 [02:09<30:13,  1.27it/s]"
          ]
        },
        {
          "output_type": "stream",
          "name": "stdout",
          "text": [
            "\n",
            "image 1/1 /content/Hucre-Detector-1/train/images/DJI_20231230122640_0144_Z_JPG.rf.582e1a93eb8a92bbaa244fc9b0826e59.jpg: 640x640 229 PV CELLs, 598.5ms\n",
            "Speed: 5.0ms preprocess, 598.5ms inference, 11.4ms postprocess per image at shape (1, 3, 640, 640)\n"
          ]
        },
        {
          "output_type": "stream",
          "name": "stderr",
          "text": [
            "\rDetecting in /content/Hucre-Detector-1/train/images:   6%|▌         | 151/2450 [02:09<30:31,  1.26it/s]"
          ]
        },
        {
          "output_type": "stream",
          "name": "stdout",
          "text": [
            "\n",
            "image 1/1 /content/Hucre-Detector-1/train/images/DJI_20231117104319_0399_Z_JPG.rf.4bad68afbf6b5c9d5379b4e6f837e0cb.jpg: 640x640 32 PV CELLs, 586.0ms\n",
            "Speed: 5.3ms preprocess, 586.0ms inference, 5.5ms postprocess per image at shape (1, 3, 640, 640)\n"
          ]
        },
        {
          "output_type": "stream",
          "name": "stderr",
          "text": [
            "\rDetecting in /content/Hucre-Detector-1/train/images:   6%|▌         | 152/2450 [02:10<29:19,  1.31it/s]"
          ]
        },
        {
          "output_type": "stream",
          "name": "stdout",
          "text": [
            "\n",
            "image 1/1 /content/Hucre-Detector-1/train/images/DJI_20231117132109_0071_Z_JPG.rf.04baf142e248852453234ad22c4331fe.jpg: 640x640 151 PV CELLs, 586.3ms\n",
            "Speed: 5.3ms preprocess, 586.3ms inference, 23.2ms postprocess per image at shape (1, 3, 640, 640)\n"
          ]
        },
        {
          "output_type": "stream",
          "name": "stderr",
          "text": [
            "\rDetecting in /content/Hucre-Detector-1/train/images:   6%|▌         | 153/2450 [02:11<29:35,  1.29it/s]"
          ]
        },
        {
          "output_type": "stream",
          "name": "stdout",
          "text": [
            "\n",
            "image 1/1 /content/Hucre-Detector-1/train/images/Ekran-Goruntusu-2025-08-25-18-54-06_png.rf.836c8f6d25ab94dab35027f666fbe521.jpg: 288x640 124 PV CELLs, 366.0ms\n",
            "Speed: 3.2ms preprocess, 366.0ms inference, 25.3ms postprocess per image at shape (1, 3, 288, 640)\n"
          ]
        },
        {
          "output_type": "stream",
          "name": "stderr",
          "text": [
            "\rDetecting in /content/Hucre-Detector-1/train/images:   6%|▋         | 154/2450 [02:11<26:29,  1.44it/s]"
          ]
        },
        {
          "output_type": "stream",
          "name": "stdout",
          "text": [
            "\n",
            "image 1/1 /content/Hucre-Detector-1/train/images/0024_jpg.rf.930f5a767e760db5e337ce14a14da2c6.jpg: 480x640 300 PV CELLs, 692.0ms\n",
            "Speed: 5.6ms preprocess, 692.0ms inference, 25.3ms postprocess per image at shape (1, 3, 480, 640)\n"
          ]
        },
        {
          "output_type": "stream",
          "name": "stderr",
          "text": [
            "\rDetecting in /content/Hucre-Detector-1/train/images:   6%|▋         | 155/2450 [02:12<29:53,  1.28it/s]"
          ]
        },
        {
          "output_type": "stream",
          "name": "stdout",
          "text": [
            "\n",
            "image 1/1 /content/Hucre-Detector-1/train/images/DJI_20240107103011_0248_Z_JPG.rf.c84e5d03402b346b54784e1e2e5836bf.jpg: 640x640 300 PV CELLs, 1007.9ms\n",
            "Speed: 7.7ms preprocess, 1007.9ms inference, 85.5ms postprocess per image at shape (1, 3, 640, 640)\n"
          ]
        },
        {
          "output_type": "stream",
          "name": "stderr",
          "text": [
            "\rDetecting in /content/Hucre-Detector-1/train/images:   6%|▋         | 156/2450 [02:14<37:44,  1.01it/s]"
          ]
        },
        {
          "output_type": "stream",
          "name": "stdout",
          "text": [
            "\n",
            "image 1/1 /content/Hucre-Detector-1/train/images/0440_JPG.rf.b1b39cc6dc86e18c783e500bd48b0c7c.jpg: 480x640 300 PV CELLs, 493.2ms\n",
            "Speed: 4.1ms preprocess, 493.2ms inference, 73.5ms postprocess per image at shape (1, 3, 480, 640)\n"
          ]
        },
        {
          "output_type": "stream",
          "name": "stderr",
          "text": [
            "\rDetecting in /content/Hucre-Detector-1/train/images:   6%|▋         | 157/2450 [02:15<35:02,  1.09it/s]"
          ]
        },
        {
          "output_type": "stream",
          "name": "stdout",
          "text": [
            "\n",
            "image 1/1 /content/Hucre-Detector-1/train/images/0739_JPG.rf.0bfa01474bcb4feba16000162bd223a3.jpg: 480x640 103 PV CELLs, 431.5ms\n",
            "Speed: 3.8ms preprocess, 431.5ms inference, 10.5ms postprocess per image at shape (1, 3, 480, 640)\n"
          ]
        },
        {
          "output_type": "stream",
          "name": "stderr",
          "text": [
            "\rDetecting in /content/Hucre-Detector-1/train/images:   6%|▋         | 158/2450 [02:15<30:47,  1.24it/s]"
          ]
        },
        {
          "output_type": "stream",
          "name": "stdout",
          "text": [
            "\n",
            "image 1/1 /content/Hucre-Detector-1/train/images/1049_jpg.rf.660c15679bfbe379a240ee67d361898d.jpg: 480x640 300 PV CELLs, 447.5ms\n",
            "Speed: 4.0ms preprocess, 447.5ms inference, 17.7ms postprocess per image at shape (1, 3, 480, 640)\n"
          ]
        },
        {
          "output_type": "stream",
          "name": "stderr",
          "text": [
            "\rDetecting in /content/Hucre-Detector-1/train/images:   6%|▋         | 159/2450 [02:16<28:46,  1.33it/s]"
          ]
        },
        {
          "output_type": "stream",
          "name": "stdout",
          "text": [
            "\n",
            "image 1/1 /content/Hucre-Detector-1/train/images/0352_JPG.rf.66ae733958caa34f96d588e156a4e4c9.jpg: 480x640 137 PV CELLs, 400.0ms\n",
            "Speed: 3.3ms preprocess, 400.0ms inference, 7.0ms postprocess per image at shape (1, 3, 480, 640)\n"
          ]
        },
        {
          "output_type": "stream",
          "name": "stderr",
          "text": [
            "\rDetecting in /content/Hucre-Detector-1/train/images:   7%|▋         | 160/2450 [02:16<26:04,  1.46it/s]"
          ]
        },
        {
          "output_type": "stream",
          "name": "stdout",
          "text": [
            "\n",
            "image 1/1 /content/Hucre-Detector-1/train/images/DJI_20231117112040_0678_Z_JPG.rf.aef5c06f6c1542d4d407aa141d575599.jpg: 640x640 300 PV CELLs, 591.0ms\n",
            "Speed: 4.6ms preprocess, 591.0ms inference, 27.1ms postprocess per image at shape (1, 3, 640, 640)\n"
          ]
        },
        {
          "output_type": "stream",
          "name": "stderr",
          "text": [
            "\rDetecting in /content/Hucre-Detector-1/train/images:   7%|▋         | 161/2450 [02:17<28:12,  1.35it/s]"
          ]
        },
        {
          "output_type": "stream",
          "name": "stdout",
          "text": [
            "\n",
            "image 1/1 /content/Hucre-Detector-1/train/images/Ekran-Goruntusu-2025-08-14-10-59-24_png.rf.d8eb5c722e65f1aea4010403a62a01cb.jpg: 384x640 22 PV CELLs, 344.3ms\n",
            "Speed: 3.5ms preprocess, 344.3ms inference, 3.3ms postprocess per image at shape (1, 3, 384, 640)\n"
          ]
        },
        {
          "output_type": "stream",
          "name": "stderr",
          "text": [
            "\rDetecting in /content/Hucre-Detector-1/train/images:   7%|▋         | 162/2450 [02:18<23:56,  1.59it/s]"
          ]
        },
        {
          "output_type": "stream",
          "name": "stdout",
          "text": [
            "\n",
            "image 1/1 /content/Hucre-Detector-1/train/images/DJI_20240106132106_0098_Z_JPG.rf.54f7897b893eff1c0f972cc35a6850ce.jpg: 640x640 231 PV CELLs, 562.1ms\n",
            "Speed: 4.4ms preprocess, 562.1ms inference, 29.6ms postprocess per image at shape (1, 3, 640, 640)\n"
          ]
        },
        {
          "output_type": "stream",
          "name": "stderr",
          "text": [
            "\rDetecting in /content/Hucre-Detector-1/train/images:   7%|▋         | 163/2450 [02:18<25:59,  1.47it/s]"
          ]
        },
        {
          "output_type": "stream",
          "name": "stdout",
          "text": [
            "\n",
            "image 1/1 /content/Hucre-Detector-1/train/images/DJI_20231231123812_0474_Z_JPG.rf.458aa12cad440439a81dd8ebaea24c3a.jpg: 640x640 281 PV CELLs, 681.1ms\n",
            "Speed: 5.0ms preprocess, 681.1ms inference, 34.4ms postprocess per image at shape (1, 3, 640, 640)\n"
          ]
        },
        {
          "output_type": "stream",
          "name": "stderr",
          "text": [
            "\rDetecting in /content/Hucre-Detector-1/train/images:   7%|▋         | 164/2450 [02:19<29:14,  1.30it/s]"
          ]
        },
        {
          "output_type": "stream",
          "name": "stdout",
          "text": [
            "\n",
            "image 1/1 /content/Hucre-Detector-1/train/images/DJI_20240227102937_0076_Z_JPG.rf.ba0d66b62a849822602b717022c947a6.jpg: 640x640 300 PV CELLs, 600.5ms\n",
            "Speed: 5.1ms preprocess, 600.5ms inference, 58.7ms postprocess per image at shape (1, 3, 640, 640)\n"
          ]
        },
        {
          "output_type": "stream",
          "name": "stderr",
          "text": [
            "\rDetecting in /content/Hucre-Detector-1/train/images:   7%|▋         | 165/2450 [02:20<31:03,  1.23it/s]"
          ]
        },
        {
          "output_type": "stream",
          "name": "stdout",
          "text": [
            "\n",
            "image 1/1 /content/Hucre-Detector-1/train/images/0732_JPG.rf.c6263d6dad120115b232101786df47d4.jpg: 480x640 300 PV CELLs, 446.3ms\n",
            "Speed: 3.8ms preprocess, 446.3ms inference, 73.5ms postprocess per image at shape (1, 3, 480, 640)\n"
          ]
        },
        {
          "output_type": "stream",
          "name": "stderr",
          "text": [
            "\rDetecting in /content/Hucre-Detector-1/train/images:   7%|▋         | 166/2450 [02:21<29:49,  1.28it/s]"
          ]
        },
        {
          "output_type": "stream",
          "name": "stdout",
          "text": [
            "\n",
            "image 1/1 /content/Hucre-Detector-1/train/images/1056_jpg.rf.3514a1d1115b93a31e795f9322b6a68b.jpg: 480x640 196 PV CELLs, 462.3ms\n",
            "Speed: 3.9ms preprocess, 462.3ms inference, 20.4ms postprocess per image at shape (1, 3, 480, 640)\n"
          ]
        },
        {
          "output_type": "stream",
          "name": "stderr",
          "text": [
            "\rDetecting in /content/Hucre-Detector-1/train/images:   7%|▋         | 167/2450 [02:22<28:09,  1.35it/s]"
          ]
        },
        {
          "output_type": "stream",
          "name": "stdout",
          "text": [
            "\n",
            "image 1/1 /content/Hucre-Detector-1/train/images/DJI_20231117140422_0101_Z_JPG.rf.ff4b5e25ba145e4c3483a93642026c91.jpg: 640x640 300 PV CELLs, 605.2ms\n",
            "Speed: 4.9ms preprocess, 605.2ms inference, 36.2ms postprocess per image at shape (1, 3, 640, 640)\n"
          ]
        },
        {
          "output_type": "stream",
          "name": "stderr",
          "text": [
            "\rDetecting in /content/Hucre-Detector-1/train/images:   7%|▋         | 168/2450 [02:23<29:55,  1.27it/s]"
          ]
        },
        {
          "output_type": "stream",
          "name": "stdout",
          "text": [
            "\n",
            "image 1/1 /content/Hucre-Detector-1/train/images/DJI_20231229142441_0081_Z_JPG.rf.7b2958e9eb301a146a315c0943df0e46.jpg: 640x640 300 PV CELLs, 575.2ms\n",
            "Speed: 5.1ms preprocess, 575.2ms inference, 27.5ms postprocess per image at shape (1, 3, 640, 640)\n"
          ]
        },
        {
          "output_type": "stream",
          "name": "stderr",
          "text": [
            "\rDetecting in /content/Hucre-Detector-1/train/images:   7%|▋         | 169/2450 [02:23<30:51,  1.23it/s]"
          ]
        },
        {
          "output_type": "stream",
          "name": "stdout",
          "text": [
            "\n",
            "image 1/1 /content/Hucre-Detector-1/train/images/Screenshot-2023-12-01-233657_png.rf.56d336455448c663f6530a51bdb82b81.jpg: 640x640 58 PV CELLs, 680.6ms\n",
            "Speed: 4.3ms preprocess, 680.6ms inference, 15.7ms postprocess per image at shape (1, 3, 640, 640)\n"
          ]
        },
        {
          "output_type": "stream",
          "name": "stderr",
          "text": [
            "\rDetecting in /content/Hucre-Detector-1/train/images:   7%|▋         | 170/2450 [02:24<30:22,  1.25it/s]"
          ]
        },
        {
          "output_type": "stream",
          "name": "stdout",
          "text": [
            "\n",
            "image 1/1 /content/Hucre-Detector-1/train/images/DJI_20240227103648_0015_Z_JPG.rf.8ad74d996bfd5f93feec94e8b7464ea1.jpg: 640x640 300 PV CELLs, 903.1ms\n",
            "Speed: 7.5ms preprocess, 903.1ms inference, 65.5ms postprocess per image at shape (1, 3, 640, 640)\n"
          ]
        },
        {
          "output_type": "stream",
          "name": "stderr",
          "text": [
            "\rDetecting in /content/Hucre-Detector-1/train/images:   7%|▋         | 171/2450 [02:26<36:48,  1.03it/s]"
          ]
        },
        {
          "output_type": "stream",
          "name": "stdout",
          "text": [
            "\n",
            "image 1/1 /content/Hucre-Detector-1/train/images/DJI_20231117130745_0746_Z_JPG.rf.7eb86661b04b6c2cb7ac2dfdaf80340f.jpg: 640x640 281 PV CELLs, 946.0ms\n",
            "Speed: 7.7ms preprocess, 946.0ms inference, 50.4ms postprocess per image at shape (1, 3, 640, 640)\n"
          ]
        },
        {
          "output_type": "stream",
          "name": "stderr",
          "text": [
            "\rDetecting in /content/Hucre-Detector-1/train/images:   7%|▋         | 172/2450 [02:27<39:58,  1.05s/it]"
          ]
        },
        {
          "output_type": "stream",
          "name": "stdout",
          "text": [
            "\n",
            "image 1/1 /content/Hucre-Detector-1/train/images/DJI_20231117112833_0070_Z_JPG.rf.db3fd8104a2970e77c79e7dd3f80e9bb.jpg: 640x640 252 PV CELLs, 563.3ms\n",
            "Speed: 5.2ms preprocess, 563.3ms inference, 28.8ms postprocess per image at shape (1, 3, 640, 640)\n"
          ]
        },
        {
          "output_type": "stream",
          "name": "stderr",
          "text": [
            "\rDetecting in /content/Hucre-Detector-1/train/images:   7%|▋         | 173/2450 [02:28<37:20,  1.02it/s]"
          ]
        },
        {
          "output_type": "stream",
          "name": "stdout",
          "text": [
            "\n",
            "image 1/1 /content/Hucre-Detector-1/train/images/DJI_20240305101859_0534_Z_JPG.rf.f6b94bf40414b374a2bda8c3607338dd.jpg: 640x640 190 PV CELLs, 629.3ms\n",
            "Speed: 5.0ms preprocess, 629.3ms inference, 21.8ms postprocess per image at shape (1, 3, 640, 640)\n"
          ]
        },
        {
          "output_type": "stream",
          "name": "stderr",
          "text": [
            "\rDetecting in /content/Hucre-Detector-1/train/images:   7%|▋         | 174/2450 [02:28<35:46,  1.06it/s]"
          ]
        },
        {
          "output_type": "stream",
          "name": "stdout",
          "text": [
            "\n",
            "image 1/1 /content/Hucre-Detector-1/train/images/DJI_20231122120212_0256_Z_JPG.rf.b8be83263a29088a3511e4976b535d40.jpg: 640x640 274 PV CELLs, 602.5ms\n",
            "Speed: 5.0ms preprocess, 602.5ms inference, 32.8ms postprocess per image at shape (1, 3, 640, 640)\n"
          ]
        },
        {
          "output_type": "stream",
          "name": "stderr",
          "text": [
            "\rDetecting in /content/Hucre-Detector-1/train/images:   7%|▋         | 175/2450 [02:29<34:55,  1.09it/s]"
          ]
        },
        {
          "output_type": "stream",
          "name": "stdout",
          "text": [
            "\n",
            "image 1/1 /content/Hucre-Detector-1/train/images/DJI_20231117104222_0371_Z_JPG.rf.d2a85c32a64e31b3b1065ac5763c475e.jpg: 640x640 300 PV CELLs, 556.7ms\n",
            "Speed: 4.3ms preprocess, 556.7ms inference, 25.8ms postprocess per image at shape (1, 3, 640, 640)\n"
          ]
        },
        {
          "output_type": "stream",
          "name": "stderr",
          "text": [
            "\rDetecting in /content/Hucre-Detector-1/train/images:   7%|▋         | 176/2450 [02:30<34:56,  1.08it/s]"
          ]
        },
        {
          "output_type": "stream",
          "name": "stdout",
          "text": [
            "\n",
            "image 1/1 /content/Hucre-Detector-1/train/images/DJI_20231117130318_0619_Z_JPG.rf.c7f344b214506da67c15fc9b06e21561.jpg: 640x640 300 PV CELLs, 550.4ms\n",
            "Speed: 5.2ms preprocess, 550.4ms inference, 50.6ms postprocess per image at shape (1, 3, 640, 640)\n"
          ]
        },
        {
          "output_type": "stream",
          "name": "stderr",
          "text": [
            "\rDetecting in /content/Hucre-Detector-1/train/images:   7%|▋         | 177/2450 [02:31<34:09,  1.11it/s]"
          ]
        },
        {
          "output_type": "stream",
          "name": "stdout",
          "text": [
            "\n",
            "image 1/1 /content/Hucre-Detector-1/train/images/0196_JPG.rf.ee6c40fb4a5ed1ace33772c537a812f2.jpg: 480x640 1 PV CELL, 403.1ms\n",
            "Speed: 5.2ms preprocess, 403.1ms inference, 1.0ms postprocess per image at shape (1, 3, 480, 640)\n"
          ]
        },
        {
          "output_type": "stream",
          "name": "stderr",
          "text": [
            "\rDetecting in /content/Hucre-Detector-1/train/images:   7%|▋         | 178/2450 [02:32<29:26,  1.29it/s]"
          ]
        },
        {
          "output_type": "stream",
          "name": "stdout",
          "text": [
            "\n",
            "image 1/1 /content/Hucre-Detector-1/train/images/0653_JPG.rf.20d2d228148c7df8f004033d1e485917.jpg: 480x640 300 PV CELLs, 435.1ms\n",
            "Speed: 4.7ms preprocess, 435.1ms inference, 34.5ms postprocess per image at shape (1, 3, 480, 640)\n"
          ]
        },
        {
          "output_type": "stream",
          "name": "stderr",
          "text": [
            "\rDetecting in /content/Hucre-Detector-1/train/images:   7%|▋         | 179/2450 [02:32<28:05,  1.35it/s]"
          ]
        },
        {
          "output_type": "stream",
          "name": "stdout",
          "text": [
            "\n",
            "image 1/1 /content/Hucre-Detector-1/train/images/DJI_20231117113216_0177_Z_JPG.rf.da721e506d695765b61cf512e1e7d906.jpg: 640x640 300 PV CELLs, 587.5ms\n",
            "Speed: 4.3ms preprocess, 587.5ms inference, 24.7ms postprocess per image at shape (1, 3, 640, 640)\n"
          ]
        },
        {
          "output_type": "stream",
          "name": "stderr",
          "text": [
            "\rDetecting in /content/Hucre-Detector-1/train/images:   7%|▋         | 180/2450 [02:33<29:33,  1.28it/s]"
          ]
        },
        {
          "output_type": "stream",
          "name": "stdout",
          "text": [
            "\n",
            "image 1/1 /content/Hucre-Detector-1/train/images/DJI_20231229121815_0317_Z_JPG.rf.3e8d58e1343203fa9d8450ff32eb2f06.jpg: 640x640 300 PV CELLs, 636.1ms\n",
            "Speed: 5.1ms preprocess, 636.1ms inference, 43.5ms postprocess per image at shape (1, 3, 640, 640)\n"
          ]
        },
        {
          "output_type": "stream",
          "name": "stderr",
          "text": [
            "\rDetecting in /content/Hucre-Detector-1/train/images:   7%|▋         | 181/2450 [02:34<31:23,  1.20it/s]"
          ]
        },
        {
          "output_type": "stream",
          "name": "stdout",
          "text": [
            "\n",
            "image 1/1 /content/Hucre-Detector-1/train/images/0986_JPG.rf.176cfe8ad165249f90072389ee303def.jpg: 480x640 78 PV CELLs, 433.3ms\n",
            "Speed: 3.8ms preprocess, 433.3ms inference, 4.7ms postprocess per image at shape (1, 3, 480, 640)\n"
          ]
        },
        {
          "output_type": "stream",
          "name": "stderr",
          "text": [
            "\rDetecting in /content/Hucre-Detector-1/train/images:   7%|▋         | 182/2450 [02:35<28:05,  1.35it/s]"
          ]
        },
        {
          "output_type": "stream",
          "name": "stdout",
          "text": [
            "\n",
            "image 1/1 /content/Hucre-Detector-1/train/images/0136_JPG.rf.a7a3f6a1042514ff2873ab5bc80cec25.jpg: 480x640 46 PV CELLs, 440.0ms\n",
            "Speed: 4.6ms preprocess, 440.0ms inference, 3.1ms postprocess per image at shape (1, 3, 480, 640)\n"
          ]
        },
        {
          "output_type": "stream",
          "name": "stderr",
          "text": [
            "\rDetecting in /content/Hucre-Detector-1/train/images:   7%|▋         | 183/2450 [02:35<25:46,  1.47it/s]"
          ]
        },
        {
          "output_type": "stream",
          "name": "stdout",
          "text": [
            "\n",
            "image 1/1 /content/Hucre-Detector-1/train/images/0154_JPG.rf.f1f7fc4288ec897c025238006a464d0a.jpg: 480x640 5 PV CELLs, 440.6ms\n",
            "Speed: 3.8ms preprocess, 440.6ms inference, 1.2ms postprocess per image at shape (1, 3, 480, 640)\n"
          ]
        },
        {
          "output_type": "stream",
          "name": "stderr",
          "text": [
            "\rDetecting in /content/Hucre-Detector-1/train/images:   8%|▊         | 184/2450 [02:36<23:52,  1.58it/s]"
          ]
        },
        {
          "output_type": "stream",
          "name": "stdout",
          "text": [
            "\n",
            "image 1/1 /content/Hucre-Detector-1/train/images/DJI_20231117110117_0113_Z_JPG.rf.b960231d609c45c883de23928c74237e.jpg: 640x640 300 PV CELLs, 666.2ms\n",
            "Speed: 5.2ms preprocess, 666.2ms inference, 31.0ms postprocess per image at shape (1, 3, 640, 640)\n"
          ]
        },
        {
          "output_type": "stream",
          "name": "stderr",
          "text": [
            "\rDetecting in /content/Hucre-Detector-1/train/images:   8%|▊         | 185/2450 [02:37<27:36,  1.37it/s]"
          ]
        },
        {
          "output_type": "stream",
          "name": "stdout",
          "text": [
            "\n",
            "image 1/1 /content/Hucre-Detector-1/train/images/DJI_20231117112042_0679_Z_JPG.rf.c45122bee4c86a8ce7f12853ff40a6c2.jpg: 640x640 300 PV CELLs, 916.3ms\n",
            "Speed: 10.3ms preprocess, 916.3ms inference, 38.5ms postprocess per image at shape (1, 3, 640, 640)\n"
          ]
        },
        {
          "output_type": "stream",
          "name": "stderr",
          "text": [
            "\rDetecting in /content/Hucre-Detector-1/train/images:   8%|▊         | 186/2450 [02:38<34:43,  1.09it/s]"
          ]
        },
        {
          "output_type": "stream",
          "name": "stdout",
          "text": [
            "\n",
            "image 1/1 /content/Hucre-Detector-1/train/images/0743_JPG.rf.45344504d7fcf313513a2176a4d420a5.jpg: 480x640 221 PV CELLs, 670.4ms\n",
            "Speed: 5.6ms preprocess, 670.4ms inference, 34.1ms postprocess per image at shape (1, 3, 480, 640)\n"
          ]
        },
        {
          "output_type": "stream",
          "name": "stderr",
          "text": [
            "\rDetecting in /content/Hucre-Detector-1/train/images:   8%|▊         | 187/2450 [02:39<35:08,  1.07it/s]"
          ]
        },
        {
          "output_type": "stream",
          "name": "stdout",
          "text": [
            "\n",
            "image 1/1 /content/Hucre-Detector-1/train/images/DJI_20231117110117_0113_Z_JPG.rf.74add4c52b357ea19dd91d9416af4fee.jpg: 480x640 300 PV CELLs, 468.7ms\n",
            "Speed: 6.5ms preprocess, 468.7ms inference, 13.7ms postprocess per image at shape (1, 3, 480, 640)\n"
          ]
        },
        {
          "output_type": "stream",
          "name": "stderr",
          "text": [
            "\rDetecting in /content/Hucre-Detector-1/train/images:   8%|▊         | 188/2450 [02:41<41:58,  1.11s/it]"
          ]
        },
        {
          "output_type": "stream",
          "name": "stdout",
          "text": [
            "\n",
            "image 1/1 /content/Hucre-Detector-1/train/images/DJI_20231117141741_0488_Z_JPG.rf.b8022634c7ca1a44d5acc22da9573ee6.jpg: 640x640 300 PV CELLs, 642.2ms\n",
            "Speed: 5.1ms preprocess, 642.2ms inference, 20.4ms postprocess per image at shape (1, 3, 640, 640)\n"
          ]
        },
        {
          "output_type": "stream",
          "name": "stderr",
          "text": [
            "\rDetecting in /content/Hucre-Detector-1/train/images:   8%|▊         | 189/2450 [02:41<39:46,  1.06s/it]"
          ]
        },
        {
          "output_type": "stream",
          "name": "stdout",
          "text": [
            "\n",
            "image 1/1 /content/Hucre-Detector-1/train/images/DJI_20240303125609_0209_Z_JPG.rf.1a0524d5e08214c932c247fcd9a9cec6.jpg: 640x640 300 PV CELLs, 569.6ms\n",
            "Speed: 4.2ms preprocess, 569.6ms inference, 42.8ms postprocess per image at shape (1, 3, 640, 640)\n"
          ]
        },
        {
          "output_type": "stream",
          "name": "stderr",
          "text": [
            "\rDetecting in /content/Hucre-Detector-1/train/images:   8%|▊         | 190/2450 [02:42<37:28,  1.01it/s]"
          ]
        },
        {
          "output_type": "stream",
          "name": "stdout",
          "text": [
            "\n",
            "image 1/1 /content/Hucre-Detector-1/train/images/DJI_20231117113105_0143_Z_JPG.rf.bfc6d8c95a9cef247e48fa68801e0402.jpg: 640x640 282 PV CELLs, 592.1ms\n",
            "Speed: 4.3ms preprocess, 592.1ms inference, 27.9ms postprocess per image at shape (1, 3, 640, 640)\n"
          ]
        },
        {
          "output_type": "stream",
          "name": "stderr",
          "text": [
            "\rDetecting in /content/Hucre-Detector-1/train/images:   8%|▊         | 191/2450 [02:43<35:52,  1.05it/s]"
          ]
        },
        {
          "output_type": "stream",
          "name": "stdout",
          "text": [
            "\n",
            "image 1/1 /content/Hucre-Detector-1/train/images/0934_JPG.rf.8b8950349d93528d8cbf198fc3969e30.jpg: 480x640 50 PV CELLs, 392.5ms\n",
            "Speed: 3.2ms preprocess, 392.5ms inference, 3.7ms postprocess per image at shape (1, 3, 480, 640)\n"
          ]
        },
        {
          "output_type": "stream",
          "name": "stderr",
          "text": [
            "\rDetecting in /content/Hucre-Detector-1/train/images:   8%|▊         | 192/2450 [02:44<30:29,  1.23it/s]"
          ]
        },
        {
          "output_type": "stream",
          "name": "stdout",
          "text": [
            "\n",
            "image 1/1 /content/Hucre-Detector-1/train/images/0185_JPG.rf.091e0d9af287833965a913d39501e354.jpg: 480x640 (no detections), 417.9ms\n",
            "Speed: 3.3ms preprocess, 417.9ms inference, 0.5ms postprocess per image at shape (1, 3, 480, 640)\n"
          ]
        },
        {
          "output_type": "stream",
          "name": "stderr",
          "text": [
            "\rDetecting in /content/Hucre-Detector-1/train/images:   8%|▊         | 193/2450 [02:44<26:49,  1.40it/s]"
          ]
        },
        {
          "output_type": "stream",
          "name": "stdout",
          "text": [
            "\n",
            "image 1/1 /content/Hucre-Detector-1/train/images/DJI_20231122120720_0408_Z_JPG.rf.12ff08067e09589f112bdb9ef1d1dddd.jpg: 640x640 300 PV CELLs, 539.3ms\n",
            "Speed: 4.3ms preprocess, 539.3ms inference, 29.2ms postprocess per image at shape (1, 3, 640, 640)\n"
          ]
        },
        {
          "output_type": "stream",
          "name": "stderr",
          "text": [
            "\rDetecting in /content/Hucre-Detector-1/train/images:   8%|▊         | 194/2450 [02:45<28:03,  1.34it/s]"
          ]
        },
        {
          "output_type": "stream",
          "name": "stdout",
          "text": [
            "\n",
            "image 1/1 /content/Hucre-Detector-1/train/images/DJI_20240225121811_0126_Z_JPG.rf.5e0cb6c2b5ba3f39a8d54731effb326f.jpg: 640x640 300 PV CELLs, 580.0ms\n",
            "Speed: 4.2ms preprocess, 580.0ms inference, 54.7ms postprocess per image at shape (1, 3, 640, 640)\n"
          ]
        },
        {
          "output_type": "stream",
          "name": "stderr",
          "text": [
            "\rDetecting in /content/Hucre-Detector-1/train/images:   8%|▊         | 195/2450 [02:46<29:32,  1.27it/s]"
          ]
        },
        {
          "output_type": "stream",
          "name": "stdout",
          "text": [
            "\n",
            "image 1/1 /content/Hucre-Detector-1/train/images/MAX_0035_JPG.rf.a0ecb0e4b1064d84c81d74a62098fc6a.jpg: 384x640 51 PV CELLs, 326.2ms\n",
            "Speed: 2.8ms preprocess, 326.2ms inference, 5.8ms postprocess per image at shape (1, 3, 384, 640)\n"
          ]
        },
        {
          "output_type": "stream",
          "name": "stderr",
          "text": [
            "\rDetecting in /content/Hucre-Detector-1/train/images:   8%|▊         | 196/2450 [02:46<26:32,  1.42it/s]"
          ]
        },
        {
          "output_type": "stream",
          "name": "stdout",
          "text": [
            "\n",
            "image 1/1 /content/Hucre-Detector-1/train/images/0016_jpg.rf.14f97453e5ff5c711186fd458954c5f3.jpg: 480x640 247 PV CELLs, 407.1ms\n",
            "Speed: 3.3ms preprocess, 407.1ms inference, 23.8ms postprocess per image at shape (1, 3, 480, 640)\n"
          ]
        },
        {
          "output_type": "stream",
          "name": "stderr",
          "text": [
            "\rDetecting in /content/Hucre-Detector-1/train/images:   8%|▊         | 197/2450 [02:47<25:18,  1.48it/s]"
          ]
        },
        {
          "output_type": "stream",
          "name": "stdout",
          "text": [
            "\n",
            "image 1/1 /content/Hucre-Detector-1/train/images/DJI_20240108113732_0224_Z_JPG.rf.e34954e5275a76de54f9e1539f17fbde.jpg: 480x640 300 PV CELLs, 413.0ms\n",
            "Speed: 3.8ms preprocess, 413.0ms inference, 33.9ms postprocess per image at shape (1, 3, 480, 640)\n"
          ]
        },
        {
          "output_type": "stream",
          "name": "stderr",
          "text": [
            "\rDetecting in /content/Hucre-Detector-1/train/images:   8%|▊         | 198/2450 [02:48<33:40,  1.11it/s]"
          ]
        },
        {
          "output_type": "stream",
          "name": "stdout",
          "text": [
            "\n",
            "image 1/1 /content/Hucre-Detector-1/train/images/0838_JPG.rf.e3dd8c4e40fb4756fa50bca75bb5d41c.jpg: 480x640 300 PV CELLs, 433.9ms\n",
            "Speed: 3.9ms preprocess, 433.9ms inference, 26.4ms postprocess per image at shape (1, 3, 480, 640)\n"
          ]
        },
        {
          "output_type": "stream",
          "name": "stderr",
          "text": [
            "\rDetecting in /content/Hucre-Detector-1/train/images:   8%|▊         | 199/2450 [02:49<30:49,  1.22it/s]"
          ]
        },
        {
          "output_type": "stream",
          "name": "stdout",
          "text": [
            "\n",
            "image 1/1 /content/Hucre-Detector-1/train/images/0417_JPG.rf.34e874b46bfa468b88462a12861c3a4a.jpg: 480x640 300 PV CELLs, 487.4ms\n",
            "Speed: 5.4ms preprocess, 487.4ms inference, 114.7ms postprocess per image at shape (1, 3, 480, 640)\n"
          ]
        },
        {
          "output_type": "stream",
          "name": "stderr",
          "text": [
            "\rDetecting in /content/Hucre-Detector-1/train/images:   8%|▊         | 200/2450 [02:50<31:29,  1.19it/s]"
          ]
        },
        {
          "output_type": "stream",
          "name": "stdout",
          "text": [
            "\n",
            "image 1/1 /content/Hucre-Detector-1/train/images/DJI_20231230122642_0145_Z_JPG.rf.c45dc518f66767e3f89e5303de1fea0c.jpg: 640x640 83 PV CELLs, 983.7ms\n",
            "Speed: 7.3ms preprocess, 983.7ms inference, 21.2ms postprocess per image at shape (1, 3, 640, 640)\n"
          ]
        },
        {
          "output_type": "stream",
          "name": "stderr",
          "text": [
            "\rDetecting in /content/Hucre-Detector-1/train/images:   8%|▊         | 201/2450 [02:51<35:10,  1.07it/s]"
          ]
        },
        {
          "output_type": "stream",
          "name": "stdout",
          "text": [
            "\n",
            "image 1/1 /content/Hucre-Detector-1/train/images/DJI_20231122121548_0656_Z_JPG.rf.54762dbeec5a53936af1d76a4fea2fe0.jpg: 640x640 206 PV CELLs, 882.5ms\n",
            "Speed: 7.3ms preprocess, 882.5ms inference, 25.0ms postprocess per image at shape (1, 3, 640, 640)\n"
          ]
        },
        {
          "output_type": "stream",
          "name": "stderr",
          "text": [
            "\rDetecting in /content/Hucre-Detector-1/train/images:   8%|▊         | 202/2450 [02:52<38:37,  1.03s/it]"
          ]
        },
        {
          "output_type": "stream",
          "name": "stdout",
          "text": [
            "\n",
            "image 1/1 /content/Hucre-Detector-1/train/images/DJI_20231117110746_0301_Z_JPG.rf.81af080cce8bbe166fef1573457ba298.jpg: 640x640 300 PV CELLs, 570.1ms\n",
            "Speed: 7.0ms preprocess, 570.1ms inference, 26.1ms postprocess per image at shape (1, 3, 640, 640)\n"
          ]
        },
        {
          "output_type": "stream",
          "name": "stderr",
          "text": [
            "\rDetecting in /content/Hucre-Detector-1/train/images:   8%|▊         | 203/2450 [02:53<36:37,  1.02it/s]"
          ]
        },
        {
          "output_type": "stream",
          "name": "stdout",
          "text": [
            "\n",
            "image 1/1 /content/Hucre-Detector-1/train/images/0163_JPG.rf.1e56c98f38830a637c60f6dc9d438618.jpg: 480x640 (no detections), 418.2ms\n",
            "Speed: 3.4ms preprocess, 418.2ms inference, 0.6ms postprocess per image at shape (1, 3, 480, 640)\n"
          ]
        },
        {
          "output_type": "stream",
          "name": "stderr",
          "text": [
            "\rDetecting in /content/Hucre-Detector-1/train/images:   8%|▊         | 204/2450 [02:54<31:05,  1.20it/s]"
          ]
        },
        {
          "output_type": "stream",
          "name": "stdout",
          "text": [
            "\n",
            "image 1/1 /content/Hucre-Detector-1/train/images/1013_JPG.rf.9fbafc4232e846677b2582070910814c.jpg: 480x640 300 PV CELLs, 428.0ms\n",
            "Speed: 3.8ms preprocess, 428.0ms inference, 18.9ms postprocess per image at shape (1, 3, 480, 640)\n"
          ]
        },
        {
          "output_type": "stream",
          "name": "stderr",
          "text": [
            "\rDetecting in /content/Hucre-Detector-1/train/images:   8%|▊         | 205/2450 [02:54<28:50,  1.30it/s]"
          ]
        },
        {
          "output_type": "stream",
          "name": "stdout",
          "text": [
            "\n",
            "image 1/1 /content/Hucre-Detector-1/train/images/0286_JPG.rf.c3a013b8a5e2bda2298f31c38c3520a1.jpg: 480x640 2 PV CELLs, 435.5ms\n",
            "Speed: 4.2ms preprocess, 435.5ms inference, 1.2ms postprocess per image at shape (1, 3, 480, 640)\n"
          ]
        },
        {
          "output_type": "stream",
          "name": "stderr",
          "text": [
            "\rDetecting in /content/Hucre-Detector-1/train/images:   8%|▊         | 206/2450 [02:55<25:52,  1.45it/s]"
          ]
        },
        {
          "output_type": "stream",
          "name": "stdout",
          "text": [
            "\n",
            "image 1/1 /content/Hucre-Detector-1/train/images/DJI_20231122123404_0390_Z_JPG.rf.f19b517019da6cbdb7ff475eca35f024.jpg: 640x640 161 PV CELLs, 645.5ms\n",
            "Speed: 4.4ms preprocess, 645.5ms inference, 14.8ms postprocess per image at shape (1, 3, 640, 640)\n"
          ]
        },
        {
          "output_type": "stream",
          "name": "stderr",
          "text": [
            "\rDetecting in /content/Hucre-Detector-1/train/images:   8%|▊         | 207/2450 [02:56<27:27,  1.36it/s]"
          ]
        },
        {
          "output_type": "stream",
          "name": "stdout",
          "text": [
            "\n",
            "image 1/1 /content/Hucre-Detector-1/train/images/DJI_20240306143422_0252_Z_JPG.rf.3d679f06f8c01c1b06feaca3dd2b4740.jpg: 640x640 300 PV CELLs, 589.1ms\n",
            "Speed: 5.2ms preprocess, 589.1ms inference, 73.3ms postprocess per image at shape (1, 3, 640, 640)\n"
          ]
        },
        {
          "output_type": "stream",
          "name": "stderr",
          "text": [
            "\rDetecting in /content/Hucre-Detector-1/train/images:   8%|▊         | 208/2450 [02:57<29:46,  1.25it/s]"
          ]
        },
        {
          "output_type": "stream",
          "name": "stdout",
          "text": [
            "\n",
            "image 1/1 /content/Hucre-Detector-1/train/images/0260_JPG.rf.24b388504b135f339dbbd49db495576e.jpg: 480x640 9 PV CELLs, 420.4ms\n",
            "Speed: 3.9ms preprocess, 420.4ms inference, 1.7ms postprocess per image at shape (1, 3, 480, 640)\n"
          ]
        },
        {
          "output_type": "stream",
          "name": "stderr",
          "text": [
            "\rDetecting in /content/Hucre-Detector-1/train/images:   9%|▊         | 209/2450 [02:57<26:25,  1.41it/s]"
          ]
        },
        {
          "output_type": "stream",
          "name": "stdout",
          "text": [
            "\n",
            "image 1/1 /content/Hucre-Detector-1/train/images/0692_JPG.rf.5b634c4442e9a01a75a7c10fe9653472.jpg: 480x640 300 PV CELLs, 435.7ms\n",
            "Speed: 3.9ms preprocess, 435.7ms inference, 56.1ms postprocess per image at shape (1, 3, 480, 640)\n"
          ]
        },
        {
          "output_type": "stream",
          "name": "stderr",
          "text": [
            "\rDetecting in /content/Hucre-Detector-1/train/images:   9%|▊         | 210/2450 [02:58<26:00,  1.44it/s]"
          ]
        },
        {
          "output_type": "stream",
          "name": "stdout",
          "text": [
            "\n",
            "image 1/1 /content/Hucre-Detector-1/train/images/DJI_20231117134534_0093_Z_JPG.rf.403bf0d5c0f4f939bafe107ba771fa94.jpg: 640x640 300 PV CELLs, 575.2ms\n",
            "Speed: 5.1ms preprocess, 575.2ms inference, 25.8ms postprocess per image at shape (1, 3, 640, 640)\n"
          ]
        },
        {
          "output_type": "stream",
          "name": "stderr",
          "text": [
            "\rDetecting in /content/Hucre-Detector-1/train/images:   9%|▊         | 211/2450 [02:59<27:57,  1.33it/s]"
          ]
        },
        {
          "output_type": "stream",
          "name": "stdout",
          "text": [
            "\n",
            "image 1/1 /content/Hucre-Detector-1/train/images/DJI_20240106140439_0160_Z_JPG.rf.719dc561d798f0b3987723d09f638423.jpg: 640x640 300 PV CELLs, 533.3ms\n",
            "Speed: 5.4ms preprocess, 533.3ms inference, 38.4ms postprocess per image at shape (1, 3, 640, 640)\n"
          ]
        },
        {
          "output_type": "stream",
          "name": "stderr",
          "text": [
            "\rDetecting in /content/Hucre-Detector-1/train/images:   9%|▊         | 212/2450 [02:59<28:43,  1.30it/s]"
          ]
        },
        {
          "output_type": "stream",
          "name": "stdout",
          "text": [
            "\n",
            "image 1/1 /content/Hucre-Detector-1/train/images/0899_JPG.rf.be1dceb57d3a2eb9a03c742fb7dc849d.jpg: 480x640 117 PV CELLs, 419.5ms\n",
            "Speed: 3.3ms preprocess, 419.5ms inference, 20.4ms postprocess per image at shape (1, 3, 480, 640)\n"
          ]
        },
        {
          "output_type": "stream",
          "name": "stderr",
          "text": [
            "\rDetecting in /content/Hucre-Detector-1/train/images:   9%|▊         | 213/2450 [03:00<26:15,  1.42it/s]"
          ]
        },
        {
          "output_type": "stream",
          "name": "stdout",
          "text": [
            "\n",
            "image 1/1 /content/Hucre-Detector-1/train/images/0622_JPG.rf.b52c9d42ec3aba918c081a9cef2608e7.jpg: 480x640 300 PV CELLs, 419.3ms\n",
            "Speed: 4.1ms preprocess, 419.3ms inference, 41.2ms postprocess per image at shape (1, 3, 480, 640)\n"
          ]
        },
        {
          "output_type": "stream",
          "name": "stderr",
          "text": [
            "\rDetecting in /content/Hucre-Detector-1/train/images:   9%|▊         | 214/2450 [03:01<25:36,  1.46it/s]"
          ]
        },
        {
          "output_type": "stream",
          "name": "stdout",
          "text": [
            "\n",
            "image 1/1 /content/Hucre-Detector-1/train/images/0771_JPG.rf.f9c7fb8e2dff81e4d3f7851e72e3ad53.jpg: 480x640 162 PV CELLs, 425.8ms\n",
            "Speed: 3.8ms preprocess, 425.8ms inference, 18.8ms postprocess per image at shape (1, 3, 480, 640)\n"
          ]
        },
        {
          "output_type": "stream",
          "name": "stderr",
          "text": [
            "\rDetecting in /content/Hucre-Detector-1/train/images:   9%|▉         | 215/2450 [03:01<24:20,  1.53it/s]"
          ]
        },
        {
          "output_type": "stream",
          "name": "stdout",
          "text": [
            "\n",
            "image 1/1 /content/Hucre-Detector-1/train/images/DJI_20231120115756_0465_Z_JPG.rf.c3b26e2812b20a8e5282ae121c7a85c3.jpg: 640x640 300 PV CELLs, 590.5ms\n",
            "Speed: 5.0ms preprocess, 590.5ms inference, 37.1ms postprocess per image at shape (1, 3, 640, 640)\n"
          ]
        },
        {
          "output_type": "stream",
          "name": "stderr",
          "text": [
            "\rDetecting in /content/Hucre-Detector-1/train/images:   9%|▉         | 216/2450 [03:02<26:38,  1.40it/s]"
          ]
        },
        {
          "output_type": "stream",
          "name": "stdout",
          "text": [
            "\n",
            "image 1/1 /content/Hucre-Detector-1/train/images/DJI_20240219101311_0037_Z_JPG.rf.80380af8e42b31231d1ee03c38e11681.jpg: 640x640 227 PV CELLs, 721.1ms\n",
            "Speed: 4.2ms preprocess, 721.1ms inference, 74.6ms postprocess per image at shape (1, 3, 640, 640)\n"
          ]
        },
        {
          "output_type": "stream",
          "name": "stderr",
          "text": [
            "\rDetecting in /content/Hucre-Detector-1/train/images:   9%|▉         | 217/2450 [03:03<30:50,  1.21it/s]"
          ]
        },
        {
          "output_type": "stream",
          "name": "stdout",
          "text": [
            "\n",
            "image 1/1 /content/Hucre-Detector-1/train/images/0885_JPG.rf.cc002c66b64d57f5cebb6c4173a71306.jpg: 480x640 3 PV CELLs, 675.1ms\n",
            "Speed: 5.6ms preprocess, 675.1ms inference, 1.6ms postprocess per image at shape (1, 3, 480, 640)\n"
          ]
        },
        {
          "output_type": "stream",
          "name": "stderr",
          "text": [
            "\rDetecting in /content/Hucre-Detector-1/train/images:   9%|▉         | 218/2450 [03:04<30:13,  1.23it/s]"
          ]
        },
        {
          "output_type": "stream",
          "name": "stdout",
          "text": [
            "\n",
            "image 1/1 /content/Hucre-Detector-1/train/images/DJI_20231122122331_0082_Z_JPG.rf.a591eeb537e620520e986801f1519d43.jpg: 640x640 87 PV CELLs, 900.3ms\n",
            "Speed: 7.3ms preprocess, 900.3ms inference, 16.1ms postprocess per image at shape (1, 3, 640, 640)\n"
          ]
        },
        {
          "output_type": "stream",
          "name": "stderr",
          "text": [
            "\rDetecting in /content/Hucre-Detector-1/train/images:   9%|▉         | 219/2450 [03:05<33:47,  1.10it/s]"
          ]
        },
        {
          "output_type": "stream",
          "name": "stdout",
          "text": [
            "\n",
            "image 1/1 /content/Hucre-Detector-1/train/images/0631_JPG.rf.a7943ad5206f7bdb9ae4892ade212cfa.jpg: 480x640 300 PV CELLs, 399.0ms\n",
            "Speed: 3.5ms preprocess, 399.0ms inference, 40.3ms postprocess per image at shape (1, 3, 480, 640)\n"
          ]
        },
        {
          "output_type": "stream",
          "name": "stderr",
          "text": [
            "\rDetecting in /content/Hucre-Detector-1/train/images:   9%|▉         | 220/2450 [03:06<30:30,  1.22it/s]"
          ]
        },
        {
          "output_type": "stream",
          "name": "stdout",
          "text": [
            "\n",
            "image 1/1 /content/Hucre-Detector-1/train/images/DJI_20231229121933_0355_Z_JPG.rf.c99f0864885842b5484ed42caf73c423.jpg: 640x640 188 PV CELLs, 543.2ms\n",
            "Speed: 4.3ms preprocess, 543.2ms inference, 9.5ms postprocess per image at shape (1, 3, 640, 640)\n"
          ]
        },
        {
          "output_type": "stream",
          "name": "stderr",
          "text": [
            "\rDetecting in /content/Hucre-Detector-1/train/images:   9%|▉         | 221/2450 [03:06<29:26,  1.26it/s]"
          ]
        },
        {
          "output_type": "stream",
          "name": "stdout",
          "text": [
            "\n",
            "image 1/1 /content/Hucre-Detector-1/train/images/DJI_20231230125451_0113_Z_JPG.rf.04158ba21fcda621c2187cb58b998f9e.jpg: 640x640 300 PV CELLs, 533.4ms\n",
            "Speed: 4.4ms preprocess, 533.4ms inference, 50.8ms postprocess per image at shape (1, 3, 640, 640)\n"
          ]
        },
        {
          "output_type": "stream",
          "name": "stderr",
          "text": [
            "\rDetecting in /content/Hucre-Detector-1/train/images:   9%|▉         | 222/2450 [03:07<29:46,  1.25it/s]"
          ]
        },
        {
          "output_type": "stream",
          "name": "stdout",
          "text": [
            "\n",
            "image 1/1 /content/Hucre-Detector-1/train/images/DJI_20231115123743_0073_Z_JPG.rf.f99807241a282c7f1a9c3414c74e9b37.jpg: 480x640 300 PV CELLs, 419.8ms\n",
            "Speed: 3.9ms preprocess, 419.8ms inference, 51.3ms postprocess per image at shape (1, 3, 480, 640)\n"
          ]
        },
        {
          "output_type": "stream",
          "name": "stderr",
          "text": [
            "\rDetecting in /content/Hucre-Detector-1/train/images:   9%|▉         | 223/2450 [03:08<35:02,  1.06it/s]"
          ]
        },
        {
          "output_type": "stream",
          "name": "stdout",
          "text": [
            "\n",
            "image 1/1 /content/Hucre-Detector-1/train/images/Screenshot-2023-12-01-231925_png.rf.a4cf42de5c07667b52ef7f94ce928d72.jpg: 640x640 73 PV CELLs, 552.7ms\n",
            "Speed: 7.2ms preprocess, 552.7ms inference, 9.1ms postprocess per image at shape (1, 3, 640, 640)\n"
          ]
        },
        {
          "output_type": "stream",
          "name": "stderr",
          "text": [
            "\rDetecting in /content/Hucre-Detector-1/train/images:   9%|▉         | 224/2450 [03:09<31:29,  1.18it/s]"
          ]
        },
        {
          "output_type": "stream",
          "name": "stdout",
          "text": [
            "\n",
            "image 1/1 /content/Hucre-Detector-1/train/images/MAX_0007_JPG.rf.d762e9e68fdb8a638d935c9072678818.jpg: 384x640 76 PV CELLs, 320.5ms\n",
            "Speed: 2.7ms preprocess, 320.5ms inference, 6.5ms postprocess per image at shape (1, 3, 384, 640)\n"
          ]
        },
        {
          "output_type": "stream",
          "name": "stderr",
          "text": [
            "\rDetecting in /content/Hucre-Detector-1/train/images:   9%|▉         | 225/2450 [03:10<27:37,  1.34it/s]"
          ]
        },
        {
          "output_type": "stream",
          "name": "stdout",
          "text": [
            "\n",
            "image 1/1 /content/Hucre-Detector-1/train/images/DJI_20250506154843_0183_V_JPG.rf.255d724612e60e486412660406420368.jpg: 640x640 300 PV CELLs, 558.9ms\n",
            "Speed: 3.6ms preprocess, 558.9ms inference, 39.6ms postprocess per image at shape (1, 3, 640, 640)\n"
          ]
        },
        {
          "output_type": "stream",
          "name": "stderr",
          "text": [
            "\rDetecting in /content/Hucre-Detector-1/train/images:   9%|▉         | 226/2450 [03:10<26:34,  1.39it/s]"
          ]
        },
        {
          "output_type": "stream",
          "name": "stdout",
          "text": [
            "\n",
            "image 1/1 /content/Hucre-Detector-1/train/images/1039_JPG.rf.4b9f1cbb735183b52f687757abeed90c.jpg: 480x640 83 PV CELLs, 439.5ms\n",
            "Speed: 3.8ms preprocess, 439.5ms inference, 8.4ms postprocess per image at shape (1, 3, 480, 640)\n"
          ]
        },
        {
          "output_type": "stream",
          "name": "stderr",
          "text": [
            "\rDetecting in /content/Hucre-Detector-1/train/images:   9%|▉         | 227/2450 [03:11<24:45,  1.50it/s]"
          ]
        },
        {
          "output_type": "stream",
          "name": "stdout",
          "text": [
            "\n",
            "image 1/1 /content/Hucre-Detector-1/train/images/DJI_20231117134506_0079_Z_JPG.rf.dc27764083c9c2e790142373f3f2e866.jpg: 640x640 152 PV CELLs, 569.3ms\n",
            "Speed: 5.2ms preprocess, 569.3ms inference, 21.8ms postprocess per image at shape (1, 3, 640, 640)\n"
          ]
        },
        {
          "output_type": "stream",
          "name": "stderr",
          "text": [
            "\rDetecting in /content/Hucre-Detector-1/train/images:   9%|▉         | 228/2450 [03:12<25:45,  1.44it/s]"
          ]
        },
        {
          "output_type": "stream",
          "name": "stdout",
          "text": [
            "\n",
            "image 1/1 /content/Hucre-Detector-1/train/images/0372_JPG.rf.65ae4b4a6e79d06717671af049fda08e.jpg: 480x640 300 PV CELLs, 397.9ms\n",
            "Speed: 4.4ms preprocess, 397.9ms inference, 49.5ms postprocess per image at shape (1, 3, 480, 640)\n"
          ]
        },
        {
          "output_type": "stream",
          "name": "stderr",
          "text": [
            "\rDetecting in /content/Hucre-Detector-1/train/images:   9%|▉         | 229/2450 [03:12<25:13,  1.47it/s]"
          ]
        },
        {
          "output_type": "stream",
          "name": "stdout",
          "text": [
            "\n",
            "image 1/1 /content/Hucre-Detector-1/train/images/0559_JPG.rf.d535cec136c61106b4057a39a6f6ed1e.jpg: 480x640 136 PV CELLs, 420.9ms\n",
            "Speed: 3.9ms preprocess, 420.9ms inference, 15.2ms postprocess per image at shape (1, 3, 480, 640)\n"
          ]
        },
        {
          "output_type": "stream",
          "name": "stderr",
          "text": [
            "\rDetecting in /content/Hucre-Detector-1/train/images:   9%|▉         | 230/2450 [03:13<23:47,  1.56it/s]"
          ]
        },
        {
          "output_type": "stream",
          "name": "stdout",
          "text": [
            "\n",
            "image 1/1 /content/Hucre-Detector-1/train/images/0853_JPG.rf.4534f7072ac3725a8ebfee15186c033a.jpg: 480x640 5 PV CELLs, 444.1ms\n",
            "Speed: 4.0ms preprocess, 444.1ms inference, 1.2ms postprocess per image at shape (1, 3, 480, 640)\n"
          ]
        },
        {
          "output_type": "stream",
          "name": "stderr",
          "text": [
            "\rDetecting in /content/Hucre-Detector-1/train/images:   9%|▉         | 231/2450 [03:13<22:22,  1.65it/s]"
          ]
        },
        {
          "output_type": "stream",
          "name": "stdout",
          "text": [
            "\n",
            "image 1/1 /content/Hucre-Detector-1/train/images/0874_JPG.rf.7060b6ebb6c2d583a5931e5064284d12.jpg: 480x640 4 PV CELLs, 427.8ms\n",
            "Speed: 4.0ms preprocess, 427.8ms inference, 1.5ms postprocess per image at shape (1, 3, 480, 640)\n"
          ]
        },
        {
          "output_type": "stream",
          "name": "stderr",
          "text": [
            "\rDetecting in /content/Hucre-Detector-1/train/images:   9%|▉         | 232/2450 [03:14<21:09,  1.75it/s]"
          ]
        },
        {
          "output_type": "stream",
          "name": "stdout",
          "text": [
            "\n",
            "image 1/1 /content/Hucre-Detector-1/train/images/DJI_20240110100238_0396_Z_JPG.rf.caecff1e5d7cd38c8216683970075bc4.jpg: 640x640 300 PV CELLs, 593.8ms\n",
            "Speed: 5.2ms preprocess, 593.8ms inference, 34.7ms postprocess per image at shape (1, 3, 640, 640)\n"
          ]
        },
        {
          "output_type": "stream",
          "name": "stderr",
          "text": [
            "\rDetecting in /content/Hucre-Detector-1/train/images:  10%|▉         | 233/2450 [03:15<24:45,  1.49it/s]"
          ]
        },
        {
          "output_type": "stream",
          "name": "stdout",
          "text": [
            "\n",
            "image 1/1 /content/Hucre-Detector-1/train/images/MAX_0050_JPG.rf.89dd5db9aaf2b9cb900eff258d151704.jpg: 480x640 216 PV CELLs, 530.4ms\n",
            "Speed: 4.4ms preprocess, 530.4ms inference, 17.9ms postprocess per image at shape (1, 3, 480, 640)\n"
          ]
        },
        {
          "output_type": "stream",
          "name": "stderr",
          "text": [
            "\rDetecting in /content/Hucre-Detector-1/train/images:  10%|▉         | 234/2450 [03:16<29:43,  1.24it/s]"
          ]
        },
        {
          "output_type": "stream",
          "name": "stdout",
          "text": [
            "\n",
            "image 1/1 /content/Hucre-Detector-1/train/images/DJI_20231121100703_0002_Z_JPG.rf.8279be14066054f9a60d8aaa8251958d.jpg: 640x640 229 PV CELLs, 870.3ms\n",
            "Speed: 7.5ms preprocess, 870.3ms inference, 39.3ms postprocess per image at shape (1, 3, 640, 640)\n"
          ]
        },
        {
          "output_type": "stream",
          "name": "stderr",
          "text": [
            "\rDetecting in /content/Hucre-Detector-1/train/images:  10%|▉         | 235/2450 [03:17<34:53,  1.06it/s]"
          ]
        },
        {
          "output_type": "stream",
          "name": "stdout",
          "text": [
            "\n",
            "image 1/1 /content/Hucre-Detector-1/train/images/0160_JPG.rf.bd7e2c94f067b6394281dafea9dd5a6c.jpg: 480x640 (no detections), 646.4ms\n",
            "Speed: 6.4ms preprocess, 646.4ms inference, 0.5ms postprocess per image at shape (1, 3, 480, 640)\n"
          ]
        },
        {
          "output_type": "stream",
          "name": "stderr",
          "text": [
            "\rDetecting in /content/Hucre-Detector-1/train/images:  10%|▉         | 236/2450 [03:18<32:25,  1.14it/s]"
          ]
        },
        {
          "output_type": "stream",
          "name": "stdout",
          "text": [
            "\n",
            "image 1/1 /content/Hucre-Detector-1/train/images/0485_JPG.rf.0f4209224cf743541fa978694a188a5a.jpg: 480x640 300 PV CELLs, 394.8ms\n",
            "Speed: 3.3ms preprocess, 394.8ms inference, 25.1ms postprocess per image at shape (1, 3, 480, 640)\n"
          ]
        },
        {
          "output_type": "stream",
          "name": "stderr",
          "text": [
            "\rDetecting in /content/Hucre-Detector-1/train/images:  10%|▉         | 237/2450 [03:18<29:09,  1.26it/s]"
          ]
        },
        {
          "output_type": "stream",
          "name": "stdout",
          "text": [
            "\n",
            "image 1/1 /content/Hucre-Detector-1/train/images/DJI_20231117132435_0171_Z_JPG.rf.ffa496b8bdb3718288a058f3acb1fe7b.jpg: 640x640 300 PV CELLs, 574.6ms\n",
            "Speed: 4.2ms preprocess, 574.6ms inference, 33.3ms postprocess per image at shape (1, 3, 640, 640)\n"
          ]
        },
        {
          "output_type": "stream",
          "name": "stderr",
          "text": [
            "\rDetecting in /content/Hucre-Detector-1/train/images:  10%|▉         | 238/2450 [03:19<29:50,  1.24it/s]"
          ]
        },
        {
          "output_type": "stream",
          "name": "stdout",
          "text": [
            "\n",
            "image 1/1 /content/Hucre-Detector-1/train/images/0295_JPG.rf.c2f2fb979596336272adbd787dcb0190.jpg: 480x640 (no detections), 416.1ms\n",
            "Speed: 3.2ms preprocess, 416.1ms inference, 0.5ms postprocess per image at shape (1, 3, 480, 640)\n"
          ]
        },
        {
          "output_type": "stream",
          "name": "stderr",
          "text": [
            "\rDetecting in /content/Hucre-Detector-1/train/images:  10%|▉         | 239/2450 [03:20<26:13,  1.41it/s]"
          ]
        },
        {
          "output_type": "stream",
          "name": "stdout",
          "text": [
            "\n",
            "image 1/1 /content/Hucre-Detector-1/train/images/0867_JPG.rf.19af2a22b2fa49088e668fa588a40c1a.jpg: 480x640 9 PV CELLs, 393.6ms\n",
            "Speed: 3.3ms preprocess, 393.6ms inference, 2.0ms postprocess per image at shape (1, 3, 480, 640)\n"
          ]
        },
        {
          "output_type": "stream",
          "name": "stderr",
          "text": [
            "\rDetecting in /content/Hucre-Detector-1/train/images:  10%|▉         | 240/2450 [03:20<23:29,  1.57it/s]"
          ]
        },
        {
          "output_type": "stream",
          "name": "stdout",
          "text": [
            "\n",
            "image 1/1 /content/Hucre-Detector-1/train/images/Ekran-Goruntusu-2025-08-25-18-30-25_png.rf.d3f11ae3c488fbf7dbf7bfd790daf9c0.jpg: 288x640 80 PV CELLs, 245.6ms\n",
            "Speed: 2.9ms preprocess, 245.6ms inference, 9.0ms postprocess per image at shape (1, 3, 288, 640)\n"
          ]
        },
        {
          "output_type": "stream",
          "name": "stderr",
          "text": [
            "\rDetecting in /content/Hucre-Detector-1/train/images:  10%|▉         | 241/2450 [03:21<19:54,  1.85it/s]"
          ]
        },
        {
          "output_type": "stream",
          "name": "stdout",
          "text": [
            "\n",
            "image 1/1 /content/Hucre-Detector-1/train/images/DJI_20231122120722_0409_Z_JPG.rf.a130d1337e4bfbd53124053fed541844.jpg: 640x640 300 PV CELLs, 532.2ms\n",
            "Speed: 6.3ms preprocess, 532.2ms inference, 32.6ms postprocess per image at shape (1, 3, 640, 640)\n"
          ]
        },
        {
          "output_type": "stream",
          "name": "stderr",
          "text": [
            "\rDetecting in /content/Hucre-Detector-1/train/images:  10%|▉         | 242/2450 [03:21<23:00,  1.60it/s]"
          ]
        },
        {
          "output_type": "stream",
          "name": "stdout",
          "text": [
            "\n",
            "image 1/1 /content/Hucre-Detector-1/train/images/DJI_20231122121129_0529_Z_JPG.rf.7ebbcb23a2ed7f6c5d00d84cd59aff91.jpg: 640x640 286 PV CELLs, 549.5ms\n",
            "Speed: 4.3ms preprocess, 549.5ms inference, 28.3ms postprocess per image at shape (1, 3, 640, 640)\n"
          ]
        },
        {
          "output_type": "stream",
          "name": "stderr",
          "text": [
            "\rDetecting in /content/Hucre-Detector-1/train/images:  10%|▉         | 243/2450 [03:22<24:57,  1.47it/s]"
          ]
        },
        {
          "output_type": "stream",
          "name": "stdout",
          "text": [
            "\n",
            "image 1/1 /content/Hucre-Detector-1/train/images/DJI_20231122120422_0320_Z_JPG.rf.9a73de7c4706d43a51b7c802c3f9bb0f.jpg: 640x640 145 PV CELLs, 532.8ms\n",
            "Speed: 4.2ms preprocess, 532.8ms inference, 7.9ms postprocess per image at shape (1, 3, 640, 640)\n"
          ]
        },
        {
          "output_type": "stream",
          "name": "stderr",
          "text": [
            "\rDetecting in /content/Hucre-Detector-1/train/images:  10%|▉         | 244/2450 [03:23<25:06,  1.46it/s]"
          ]
        },
        {
          "output_type": "stream",
          "name": "stdout",
          "text": [
            "\n",
            "image 1/1 /content/Hucre-Detector-1/train/images/DJI_20231117105846_0039_Z_JPG.rf.c43325e5bd20e1662f1c861b2e5366bc.jpg: 640x640 296 PV CELLs, 525.0ms\n",
            "Speed: 4.6ms preprocess, 525.0ms inference, 16.4ms postprocess per image at shape (1, 3, 640, 640)\n"
          ]
        },
        {
          "output_type": "stream",
          "name": "stderr",
          "text": [
            "\rDetecting in /content/Hucre-Detector-1/train/images:  10%|█         | 245/2450 [03:24<26:08,  1.41it/s]"
          ]
        },
        {
          "output_type": "stream",
          "name": "stdout",
          "text": [
            "\n",
            "image 1/1 /content/Hucre-Detector-1/train/images/0171_JPG.rf.50de068c83dc6a8209b8fa5fc789b21c.jpg: 480x640 (no detections), 407.3ms\n",
            "Speed: 3.8ms preprocess, 407.3ms inference, 0.5ms postprocess per image at shape (1, 3, 480, 640)\n"
          ]
        },
        {
          "output_type": "stream",
          "name": "stderr",
          "text": [
            "\rDetecting in /content/Hucre-Detector-1/train/images:  10%|█         | 246/2450 [03:24<23:27,  1.57it/s]"
          ]
        },
        {
          "output_type": "stream",
          "name": "stdout",
          "text": [
            "\n",
            "image 1/1 /content/Hucre-Detector-1/train/images/DJI_20231117110307_0166_Z_JPG.rf.51c82b2c1b4c03fb05b1ad5865ec0e43.jpg: 640x640 200 PV CELLs, 539.4ms\n",
            "Speed: 4.2ms preprocess, 539.4ms inference, 34.4ms postprocess per image at shape (1, 3, 640, 640)\n"
          ]
        },
        {
          "output_type": "stream",
          "name": "stderr",
          "text": [
            "\rDetecting in /content/Hucre-Detector-1/train/images:  10%|█         | 247/2450 [03:25<24:54,  1.47it/s]"
          ]
        },
        {
          "output_type": "stream",
          "name": "stdout",
          "text": [
            "\n",
            "image 1/1 /content/Hucre-Detector-1/train/images/Screenshot-2023-12-01-214000_png.rf.f56dd425284ca1af4a12696a18460dac.jpg: 640x640 118 PV CELLs, 543.5ms\n",
            "Speed: 5.4ms preprocess, 543.5ms inference, 15.4ms postprocess per image at shape (1, 3, 640, 640)\n"
          ]
        },
        {
          "output_type": "stream",
          "name": "stderr",
          "text": [
            "\rDetecting in /content/Hucre-Detector-1/train/images:  10%|█         | 248/2450 [03:25<24:28,  1.50it/s]"
          ]
        },
        {
          "output_type": "stream",
          "name": "stdout",
          "text": [
            "\n",
            "image 1/1 /content/Hucre-Detector-1/train/images/DJI_20231230104337_0432_Z_JPG.rf.629b46385e8cb4a9bfb166426bd784af.jpg: 640x640 300 PV CELLs, 592.4ms\n",
            "Speed: 5.0ms preprocess, 592.4ms inference, 33.8ms postprocess per image at shape (1, 3, 640, 640)\n"
          ]
        },
        {
          "output_type": "stream",
          "name": "stderr",
          "text": [
            "\rDetecting in /content/Hucre-Detector-1/train/images:  10%|█         | 249/2450 [03:26<27:03,  1.36it/s]"
          ]
        },
        {
          "output_type": "stream",
          "name": "stdout",
          "text": [
            "\n",
            "image 1/1 /content/Hucre-Detector-1/train/images/Screenshot-2023-12-01-205206_png.rf.5d3b093a5416eba34e564e9cceb74951.jpg: 640x640 29 PV CELLs, 568.3ms\n",
            "Speed: 5.7ms preprocess, 568.3ms inference, 5.3ms postprocess per image at shape (1, 3, 640, 640)\n"
          ]
        },
        {
          "output_type": "stream",
          "name": "stderr",
          "text": [
            "\rDetecting in /content/Hucre-Detector-1/train/images:  10%|█         | 250/2450 [03:27<25:45,  1.42it/s]"
          ]
        },
        {
          "output_type": "stream",
          "name": "stdout",
          "text": [
            "\n",
            "image 1/1 /content/Hucre-Detector-1/train/images/DJI_20231117113315_0206_Z_JPG.rf.048e3e23e14be5c01ba6db1e4e9c2da4.jpg: 640x640 300 PV CELLs, 568.1ms\n",
            "Speed: 5.1ms preprocess, 568.1ms inference, 22.4ms postprocess per image at shape (1, 3, 640, 640)\n"
          ]
        },
        {
          "output_type": "stream",
          "name": "stderr",
          "text": [
            "\rDetecting in /content/Hucre-Detector-1/train/images:  10%|█         | 251/2450 [03:28<28:09,  1.30it/s]"
          ]
        },
        {
          "output_type": "stream",
          "name": "stdout",
          "text": [
            "\n",
            "image 1/1 /content/Hucre-Detector-1/train/images/0943_JPG.rf.9f8b31bef4134b6beb0908fda87a20f7.jpg: 480x640 13 PV CELLs, 666.9ms\n",
            "Speed: 6.6ms preprocess, 666.9ms inference, 2.8ms postprocess per image at shape (1, 3, 480, 640)\n"
          ]
        },
        {
          "output_type": "stream",
          "name": "stderr",
          "text": [
            "\rDetecting in /content/Hucre-Detector-1/train/images:  10%|█         | 252/2450 [03:29<28:07,  1.30it/s]"
          ]
        },
        {
          "output_type": "stream",
          "name": "stdout",
          "text": [
            "\n",
            "image 1/1 /content/Hucre-Detector-1/train/images/DJI_20240305142136_0054_Z_JPG.rf.bf71be902459e0a713455bd09b489a16.jpg: 640x640 300 PV CELLs, 887.7ms\n",
            "Speed: 7.2ms preprocess, 887.7ms inference, 78.9ms postprocess per image at shape (1, 3, 640, 640)\n"
          ]
        },
        {
          "output_type": "stream",
          "name": "stderr",
          "text": [
            "\rDetecting in /content/Hucre-Detector-1/train/images:  10%|█         | 253/2450 [03:30<34:44,  1.05it/s]"
          ]
        },
        {
          "output_type": "stream",
          "name": "stdout",
          "text": [
            "\n",
            "image 1/1 /content/Hucre-Detector-1/train/images/0338_JPG.rf.1796cc0920ece5aea1b86fce920599eb.jpg: 480x640 2 PV CELLs, 560.2ms\n",
            "Speed: 5.6ms preprocess, 560.2ms inference, 1.1ms postprocess per image at shape (1, 3, 480, 640)\n"
          ]
        },
        {
          "output_type": "stream",
          "name": "stderr",
          "text": [
            "\rDetecting in /content/Hucre-Detector-1/train/images:  10%|█         | 254/2450 [03:31<31:28,  1.16it/s]"
          ]
        },
        {
          "output_type": "stream",
          "name": "stdout",
          "text": [
            "\n",
            "image 1/1 /content/Hucre-Detector-1/train/images/1007_JPG.rf.ca69b649970e190697f919a18e744cb2.jpg: 480x640 300 PV CELLs, 434.5ms\n",
            "Speed: 4.0ms preprocess, 434.5ms inference, 54.9ms postprocess per image at shape (1, 3, 480, 640)\n"
          ]
        },
        {
          "output_type": "stream",
          "name": "stderr",
          "text": [
            "\rDetecting in /content/Hucre-Detector-1/train/images:  10%|█         | 255/2450 [03:31<29:28,  1.24it/s]"
          ]
        },
        {
          "output_type": "stream",
          "name": "stdout",
          "text": [
            "\n",
            "image 1/1 /content/Hucre-Detector-1/train/images/DJI_20231117104807_0540_Z_JPG.rf.75f6e52a01a8f50185925888cfaf5a4c.jpg: 640x640 156 PV CELLs, 582.0ms\n",
            "Speed: 5.2ms preprocess, 582.0ms inference, 20.4ms postprocess per image at shape (1, 3, 640, 640)\n"
          ]
        },
        {
          "output_type": "stream",
          "name": "stderr",
          "text": [
            "\rDetecting in /content/Hucre-Detector-1/train/images:  10%|█         | 256/2450 [03:32<29:23,  1.24it/s]"
          ]
        },
        {
          "output_type": "stream",
          "name": "stdout",
          "text": [
            "\n",
            "image 1/1 /content/Hucre-Detector-1/train/images/DJI_20231117125956_0521_Z_JPG.rf.a966fb53ad433f426e014c655f6014b0.jpg: 640x640 300 PV CELLs, 591.1ms\n",
            "Speed: 8.7ms preprocess, 591.1ms inference, 39.9ms postprocess per image at shape (1, 3, 640, 640)\n"
          ]
        },
        {
          "output_type": "stream",
          "name": "stderr",
          "text": [
            "\rDetecting in /content/Hucre-Detector-1/train/images:  10%|█         | 257/2450 [03:33<30:19,  1.21it/s]"
          ]
        },
        {
          "output_type": "stream",
          "name": "stdout",
          "text": [
            "\n",
            "image 1/1 /content/Hucre-Detector-1/train/images/0536_JPG.rf.09a8b31515cc48f2dffb8503a0651332.jpg: 480x640 300 PV CELLs, 422.7ms\n",
            "Speed: 6.0ms preprocess, 422.7ms inference, 28.6ms postprocess per image at shape (1, 3, 480, 640)\n"
          ]
        },
        {
          "output_type": "stream",
          "name": "stderr",
          "text": [
            "\rDetecting in /content/Hucre-Detector-1/train/images:  11%|█         | 258/2450 [03:34<28:18,  1.29it/s]"
          ]
        },
        {
          "output_type": "stream",
          "name": "stdout",
          "text": [
            "\n",
            "image 1/1 /content/Hucre-Detector-1/train/images/DJI_20231229131214_0557_Z_JPG.rf.2eede638233176708ed350cdbdc2ee8c.jpg: 640x640 300 PV CELLs, 555.7ms\n",
            "Speed: 4.2ms preprocess, 555.7ms inference, 51.0ms postprocess per image at shape (1, 3, 640, 640)\n"
          ]
        },
        {
          "output_type": "stream",
          "name": "stderr",
          "text": [
            "\rDetecting in /content/Hucre-Detector-1/train/images:  11%|█         | 259/2450 [03:35<29:23,  1.24it/s]"
          ]
        },
        {
          "output_type": "stream",
          "name": "stdout",
          "text": [
            "\n",
            "image 1/1 /content/Hucre-Detector-1/train/images/DJI_20231117134508_0080_Z_JPG.rf.33750416b97fc481d46b129f7d22a6be.jpg: 640x640 300 PV CELLs, 549.1ms\n",
            "Speed: 4.3ms preprocess, 549.1ms inference, 32.6ms postprocess per image at shape (1, 3, 640, 640)\n"
          ]
        },
        {
          "output_type": "stream",
          "name": "stderr",
          "text": [
            "\rDetecting in /content/Hucre-Detector-1/train/images:  11%|█         | 260/2450 [03:35<29:34,  1.23it/s]"
          ]
        },
        {
          "output_type": "stream",
          "name": "stdout",
          "text": [
            "\n",
            "image 1/1 /content/Hucre-Detector-1/train/images/DJI_20231117103237_0092_Z_JPG.rf.913620e241fbc956a54363a13c1daf5b.jpg: 640x640 97 PV CELLs, 531.3ms\n",
            "Speed: 4.2ms preprocess, 531.3ms inference, 11.0ms postprocess per image at shape (1, 3, 640, 640)\n"
          ]
        },
        {
          "output_type": "stream",
          "name": "stderr",
          "text": [
            "\rDetecting in /content/Hucre-Detector-1/train/images:  11%|█         | 261/2450 [03:36<28:04,  1.30it/s]"
          ]
        },
        {
          "output_type": "stream",
          "name": "stdout",
          "text": [
            "\n",
            "image 1/1 /content/Hucre-Detector-1/train/images/DJI_20231230122644_0146_Z_JPG.rf.4cddc810235cb58bc34a209ff01ff42d.jpg: 480x640 300 PV CELLs, 391.8ms\n",
            "Speed: 5.0ms preprocess, 391.8ms inference, 33.5ms postprocess per image at shape (1, 3, 480, 640)\n"
          ]
        },
        {
          "output_type": "stream",
          "name": "stderr",
          "text": [
            "\rDetecting in /content/Hucre-Detector-1/train/images:  11%|█         | 262/2450 [03:37<31:58,  1.14it/s]"
          ]
        },
        {
          "output_type": "stream",
          "name": "stdout",
          "text": [
            "\n",
            "image 1/1 /content/Hucre-Detector-1/train/images/DJI_20231117134421_0058_Z_JPG.rf.b07bcb2b9a67029fc592c8662b7ae743.jpg: 640x640 300 PV CELLs, 569.5ms\n",
            "Speed: 5.3ms preprocess, 569.5ms inference, 28.1ms postprocess per image at shape (1, 3, 640, 640)\n"
          ]
        },
        {
          "output_type": "stream",
          "name": "stderr",
          "text": [
            "\rDetecting in /content/Hucre-Detector-1/train/images:  11%|█         | 263/2450 [03:38<31:48,  1.15it/s]"
          ]
        },
        {
          "output_type": "stream",
          "name": "stdout",
          "text": [
            "\n",
            "image 1/1 /content/Hucre-Detector-1/train/images/DJI_20231117111940_0648_Z_JPG.rf.0a0ae433cdd96d1d827c287e0beae140.jpg: 640x640 49 PV CELLs, 583.7ms\n",
            "Speed: 5.6ms preprocess, 583.7ms inference, 7.4ms postprocess per image at shape (1, 3, 640, 640)\n"
          ]
        },
        {
          "output_type": "stream",
          "name": "stderr",
          "text": [
            "\rDetecting in /content/Hucre-Detector-1/train/images:  11%|█         | 264/2450 [03:39<29:58,  1.22it/s]"
          ]
        },
        {
          "output_type": "stream",
          "name": "stdout",
          "text": [
            "\n",
            "image 1/1 /content/Hucre-Detector-1/train/images/DJI_20231117140311_0067_Z_JPG.rf.8537b3bfaf915df53a8f47c9c4b20ca7.jpg: 640x640 300 PV CELLs, 586.1ms\n",
            "Speed: 5.1ms preprocess, 586.1ms inference, 26.2ms postprocess per image at shape (1, 3, 640, 640)\n"
          ]
        },
        {
          "output_type": "stream",
          "name": "stderr",
          "text": [
            "\rDetecting in /content/Hucre-Detector-1/train/images:  11%|█         | 265/2450 [03:40<30:31,  1.19it/s]"
          ]
        },
        {
          "output_type": "stream",
          "name": "stdout",
          "text": [
            "\n",
            "image 1/1 /content/Hucre-Detector-1/train/images/DJI_20231117110424_0203_Z_JPG.rf.484cf23dce5dbdcacee4b5ba5f40e13c.jpg: 640x640 180 PV CELLs, 530.8ms\n",
            "Speed: 4.5ms preprocess, 530.8ms inference, 13.0ms postprocess per image at shape (1, 3, 640, 640)\n"
          ]
        },
        {
          "output_type": "stream",
          "name": "stderr",
          "text": [
            "\rDetecting in /content/Hucre-Detector-1/train/images:  11%|█         | 266/2450 [03:40<29:13,  1.25it/s]"
          ]
        },
        {
          "output_type": "stream",
          "name": "stdout",
          "text": [
            "\n",
            "image 1/1 /content/Hucre-Detector-1/train/images/DJI_20240106140331_0127_Z_JPG.rf.99f3567761a0e4ba64e1a69301252f84.jpg: 640x640 280 PV CELLs, 834.9ms\n",
            "Speed: 4.7ms preprocess, 834.9ms inference, 67.8ms postprocess per image at shape (1, 3, 640, 640)\n"
          ]
        },
        {
          "output_type": "stream",
          "name": "stderr",
          "text": [
            "\rDetecting in /content/Hucre-Detector-1/train/images:  11%|█         | 267/2450 [03:42<34:46,  1.05it/s]"
          ]
        },
        {
          "output_type": "stream",
          "name": "stdout",
          "text": [
            "\n",
            "image 1/1 /content/Hucre-Detector-1/train/images/0401_JPG.rf.459c180676f0f451fa65262e86d71c86.jpg: 480x640 300 PV CELLs, 656.9ms\n",
            "Speed: 5.5ms preprocess, 656.9ms inference, 56.6ms postprocess per image at shape (1, 3, 480, 640)\n"
          ]
        },
        {
          "output_type": "stream",
          "name": "stderr",
          "text": [
            "\rDetecting in /content/Hucre-Detector-1/train/images:  11%|█         | 268/2450 [03:43<35:23,  1.03it/s]"
          ]
        },
        {
          "output_type": "stream",
          "name": "stdout",
          "text": [
            "\n",
            "image 1/1 /content/Hucre-Detector-1/train/images/0146_JPG.rf.16b7a8703e602015aaf3bb3255b9e63a.jpg: 480x640 10 PV CELLs, 559.3ms\n",
            "Speed: 5.5ms preprocess, 559.3ms inference, 1.9ms postprocess per image at shape (1, 3, 480, 640)\n"
          ]
        },
        {
          "output_type": "stream",
          "name": "stderr",
          "text": [
            "\rDetecting in /content/Hucre-Detector-1/train/images:  11%|█         | 269/2450 [03:43<31:54,  1.14it/s]"
          ]
        },
        {
          "output_type": "stream",
          "name": "stdout",
          "text": [
            "\n",
            "image 1/1 /content/Hucre-Detector-1/train/images/DJI_20231117110947_0360_Z_JPG.rf.b30ce91012d19ec9062d122d1a0d0890.jpg: 640x640 300 PV CELLs, 588.6ms\n",
            "Speed: 5.3ms preprocess, 588.6ms inference, 23.2ms postprocess per image at shape (1, 3, 640, 640)\n"
          ]
        },
        {
          "output_type": "stream",
          "name": "stderr",
          "text": [
            "\rDetecting in /content/Hucre-Detector-1/train/images:  11%|█         | 270/2450 [03:44<31:43,  1.15it/s]"
          ]
        },
        {
          "output_type": "stream",
          "name": "stdout",
          "text": [
            "\n",
            "image 1/1 /content/Hucre-Detector-1/train/images/DJI_20250506154747_0103_V_JPG.rf.7945ca4c87329811572ca513ede26db2.jpg: 640x640 300 PV CELLs, 547.7ms\n",
            "Speed: 5.5ms preprocess, 547.7ms inference, 15.4ms postprocess per image at shape (1, 3, 640, 640)\n"
          ]
        },
        {
          "output_type": "stream",
          "name": "stderr",
          "text": [
            "\rDetecting in /content/Hucre-Detector-1/train/images:  11%|█         | 271/2450 [03:45<28:59,  1.25it/s]"
          ]
        },
        {
          "output_type": "stream",
          "name": "stdout",
          "text": [
            "\n",
            "image 1/1 /content/Hucre-Detector-1/train/images/DJI_20231121123014_0120_Z_JPG.rf.7aeebfab2aa068ee5925cf2117b021b5.jpg: 640x640 58 PV CELLs, 578.8ms\n",
            "Speed: 5.0ms preprocess, 578.8ms inference, 8.1ms postprocess per image at shape (1, 3, 640, 640)\n"
          ]
        },
        {
          "output_type": "stream",
          "name": "stderr",
          "text": [
            "\rDetecting in /content/Hucre-Detector-1/train/images:  11%|█         | 272/2450 [03:46<28:18,  1.28it/s]"
          ]
        },
        {
          "output_type": "stream",
          "name": "stdout",
          "text": [
            "\n",
            "image 1/1 /content/Hucre-Detector-1/train/images/DJI_20231115122845_0689_Z_JPG.rf.a0399430bf60b03a16728ec8ae97cf11.jpg: 480x640 300 PV CELLs, 399.7ms\n",
            "Speed: 4.2ms preprocess, 399.7ms inference, 35.2ms postprocess per image at shape (1, 3, 480, 640)\n"
          ]
        },
        {
          "output_type": "stream",
          "name": "stderr",
          "text": [
            "\rDetecting in /content/Hucre-Detector-1/train/images:  11%|█         | 273/2450 [03:47<32:53,  1.10it/s]"
          ]
        },
        {
          "output_type": "stream",
          "name": "stdout",
          "text": [
            "\n",
            "image 1/1 /content/Hucre-Detector-1/train/images/0418_JPG.rf.43d0d61ee0270413c318255526312181.jpg: 480x640 300 PV CELLs, 437.5ms\n",
            "Speed: 3.9ms preprocess, 437.5ms inference, 41.5ms postprocess per image at shape (1, 3, 480, 640)\n"
          ]
        },
        {
          "output_type": "stream",
          "name": "stderr",
          "text": [
            "\rDetecting in /content/Hucre-Detector-1/train/images:  11%|█         | 274/2450 [03:47<30:27,  1.19it/s]"
          ]
        },
        {
          "output_type": "stream",
          "name": "stdout",
          "text": [
            "\n",
            "image 1/1 /content/Hucre-Detector-1/train/images/DJI_20231229115022_0499_Z_JPG.rf.e296d15258e02fc8a32b31ed6e11454e.jpg: 640x640 194 PV CELLs, 587.6ms\n",
            "Speed: 5.0ms preprocess, 587.6ms inference, 16.0ms postprocess per image at shape (1, 3, 640, 640)\n"
          ]
        },
        {
          "output_type": "stream",
          "name": "stderr",
          "text": [
            "\rDetecting in /content/Hucre-Detector-1/train/images:  11%|█         | 275/2450 [03:48<30:04,  1.21it/s]"
          ]
        },
        {
          "output_type": "stream",
          "name": "stdout",
          "text": [
            "\n",
            "image 1/1 /content/Hucre-Detector-1/train/images/0786_JPG.rf.03e386b5e902c0a1a9371f11131ede37.jpg: 480x640 300 PV CELLs, 420.5ms\n",
            "Speed: 3.8ms preprocess, 420.5ms inference, 42.9ms postprocess per image at shape (1, 3, 480, 640)\n"
          ]
        },
        {
          "output_type": "stream",
          "name": "stderr",
          "text": [
            "\rDetecting in /content/Hucre-Detector-1/train/images:  11%|█▏        | 276/2450 [03:49<28:18,  1.28it/s]"
          ]
        },
        {
          "output_type": "stream",
          "name": "stdout",
          "text": [
            "\n",
            "image 1/1 /content/Hucre-Detector-1/train/images/DJI_20240227094347_0041_Z_JPG.rf.eba9e9fb2a915cfd6d1dd2b77fce43de.jpg: 640x640 300 PV CELLs, 564.9ms\n",
            "Speed: 5.7ms preprocess, 564.9ms inference, 48.9ms postprocess per image at shape (1, 3, 640, 640)\n"
          ]
        },
        {
          "output_type": "stream",
          "name": "stderr",
          "text": [
            "\rDetecting in /content/Hucre-Detector-1/train/images:  11%|█▏        | 277/2450 [03:50<29:10,  1.24it/s]"
          ]
        },
        {
          "output_type": "stream",
          "name": "stdout",
          "text": [
            "\n",
            "image 1/1 /content/Hucre-Detector-1/train/images/DJI_20240303120149_0194_Z_JPG.rf.7277158d581b48ebfe7e3f2747a8616a.jpg: 640x640 300 PV CELLs, 583.6ms\n",
            "Speed: 5.2ms preprocess, 583.6ms inference, 52.6ms postprocess per image at shape (1, 3, 640, 640)\n"
          ]
        },
        {
          "output_type": "stream",
          "name": "stderr",
          "text": [
            "\rDetecting in /content/Hucre-Detector-1/train/images:  11%|█▏        | 278/2450 [03:51<30:00,  1.21it/s]"
          ]
        },
        {
          "output_type": "stream",
          "name": "stdout",
          "text": [
            "\n",
            "image 1/1 /content/Hucre-Detector-1/train/images/1063_jpg.rf.078a09d4dbda85356682a683b4f49a53.jpg: 480x640 140 PV CELLs, 440.1ms\n",
            "Speed: 3.8ms preprocess, 440.1ms inference, 18.8ms postprocess per image at shape (1, 3, 480, 640)\n"
          ]
        },
        {
          "output_type": "stream",
          "name": "stderr",
          "text": [
            "\rDetecting in /content/Hucre-Detector-1/train/images:  11%|█▏        | 279/2450 [03:51<27:21,  1.32it/s]"
          ]
        },
        {
          "output_type": "stream",
          "name": "stdout",
          "text": [
            "\n",
            "image 1/1 /content/Hucre-Detector-1/train/images/0159_JPG.rf.c52ad8d13eb5c2c79f9a3c268760f422.jpg: 480x640 3 PV CELLs, 438.9ms\n",
            "Speed: 3.7ms preprocess, 438.9ms inference, 1.5ms postprocess per image at shape (1, 3, 480, 640)\n"
          ]
        },
        {
          "output_type": "stream",
          "name": "stderr",
          "text": [
            "\rDetecting in /content/Hucre-Detector-1/train/images:  11%|█▏        | 280/2450 [03:52<24:44,  1.46it/s]"
          ]
        },
        {
          "output_type": "stream",
          "name": "stdout",
          "text": [
            "\n",
            "image 1/1 /content/Hucre-Detector-1/train/images/0385_JPG.rf.02825e51b0c0473d6eb7da941c74acf9.jpg: 480x640 300 PV CELLs, 440.3ms\n",
            "Speed: 3.9ms preprocess, 440.3ms inference, 48.0ms postprocess per image at shape (1, 3, 480, 640)\n"
          ]
        },
        {
          "output_type": "stream",
          "name": "stderr",
          "text": [
            "\rDetecting in /content/Hucre-Detector-1/train/images:  11%|█▏        | 281/2450 [03:52<24:40,  1.46it/s]"
          ]
        },
        {
          "output_type": "stream",
          "name": "stdout",
          "text": [
            "\n",
            "image 1/1 /content/Hucre-Detector-1/train/images/0396_JPG.rf.c779f6da3c773df09bd4407110060fba.jpg: 480x640 300 PV CELLs, 418.5ms\n",
            "Speed: 3.8ms preprocess, 418.5ms inference, 76.7ms postprocess per image at shape (1, 3, 480, 640)\n"
          ]
        },
        {
          "output_type": "stream",
          "name": "stderr",
          "text": [
            "\rDetecting in /content/Hucre-Detector-1/train/images:  12%|█▏        | 282/2450 [03:53<24:34,  1.47it/s]"
          ]
        },
        {
          "output_type": "stream",
          "name": "stdout",
          "text": [
            "\n",
            "image 1/1 /content/Hucre-Detector-1/train/images/0386_JPG.rf.a963d2b76a1cecb2e2be671e5d8fc7ed.jpg: 480x640 300 PV CELLs, 642.7ms\n",
            "Speed: 4.9ms preprocess, 642.7ms inference, 109.7ms postprocess per image at shape (1, 3, 480, 640)\n"
          ]
        },
        {
          "output_type": "stream",
          "name": "stderr",
          "text": [
            "\rDetecting in /content/Hucre-Detector-1/train/images:  12%|█▏        | 283/2450 [03:54<28:31,  1.27it/s]"
          ]
        },
        {
          "output_type": "stream",
          "name": "stdout",
          "text": [
            "\n",
            "image 1/1 /content/Hucre-Detector-1/train/images/DJI_20231229121427_0205_Z_JPG.rf.f124dbab32e493c32b5eb15f89e10d59.jpg: 480x640 300 PV CELLs, 653.8ms\n",
            "Speed: 5.3ms preprocess, 653.8ms inference, 66.6ms postprocess per image at shape (1, 3, 480, 640)\n"
          ]
        },
        {
          "output_type": "stream",
          "name": "stderr",
          "text": [
            "\rDetecting in /content/Hucre-Detector-1/train/images:  12%|█▏        | 284/2450 [03:56<39:57,  1.11s/it]"
          ]
        },
        {
          "output_type": "stream",
          "name": "stdout",
          "text": [
            "\n",
            "image 1/1 /content/Hucre-Detector-1/train/images/DJI_20240107103009_0247_Z_JPG.rf.4ec7e04a65c136b9c77d044dfbed6fb2.jpg: 640x640 300 PV CELLs, 573.8ms\n",
            "Speed: 5.3ms preprocess, 573.8ms inference, 24.1ms postprocess per image at shape (1, 3, 640, 640)\n"
          ]
        },
        {
          "output_type": "stream",
          "name": "stderr",
          "text": [
            "\rDetecting in /content/Hucre-Detector-1/train/images:  12%|█▏        | 285/2450 [03:57<37:11,  1.03s/it]"
          ]
        },
        {
          "output_type": "stream",
          "name": "stdout",
          "text": [
            "\n",
            "image 1/1 /content/Hucre-Detector-1/train/images/DJI_20231120121601_0220_Z_JPG.rf.37f703fae296cecaeacd30a6f5ae3e21.jpg: 640x640 142 PV CELLs, 559.8ms\n",
            "Speed: 5.0ms preprocess, 559.8ms inference, 16.0ms postprocess per image at shape (1, 3, 640, 640)\n"
          ]
        },
        {
          "output_type": "stream",
          "name": "stderr",
          "text": [
            "\rDetecting in /content/Hucre-Detector-1/train/images:  12%|█▏        | 286/2450 [03:58<33:54,  1.06it/s]"
          ]
        },
        {
          "output_type": "stream",
          "name": "stdout",
          "text": [
            "\n",
            "image 1/1 /content/Hucre-Detector-1/train/images/DJI_20231117132746_0263_Z_JPG.rf.65d4d00d6859d150bb7e30c79d0b0525.jpg: 640x640 145 PV CELLs, 538.2ms\n",
            "Speed: 4.4ms preprocess, 538.2ms inference, 15.8ms postprocess per image at shape (1, 3, 640, 640)\n"
          ]
        },
        {
          "output_type": "stream",
          "name": "stderr",
          "text": [
            "\rDetecting in /content/Hucre-Detector-1/train/images:  12%|█▏        | 287/2450 [03:58<31:38,  1.14it/s]"
          ]
        },
        {
          "output_type": "stream",
          "name": "stdout",
          "text": [
            "\n",
            "image 1/1 /content/Hucre-Detector-1/train/images/0947_JPG.rf.e4c8fb73d2b8819e2e6bd26424a9b679.jpg: 480x640 10 PV CELLs, 397.5ms\n",
            "Speed: 3.3ms preprocess, 397.5ms inference, 1.2ms postprocess per image at shape (1, 3, 480, 640)\n"
          ]
        },
        {
          "output_type": "stream",
          "name": "stderr",
          "text": [
            "\rDetecting in /content/Hucre-Detector-1/train/images:  12%|█▏        | 288/2450 [03:59<27:11,  1.33it/s]"
          ]
        },
        {
          "output_type": "stream",
          "name": "stdout",
          "text": [
            "\n",
            "image 1/1 /content/Hucre-Detector-1/train/images/DJI_20231121133915_0270_Z_JPG.rf.11e31d438971a740c3af1dcc33a2967c.jpg: 640x640 126 PV CELLs, 566.1ms\n",
            "Speed: 4.3ms preprocess, 566.1ms inference, 19.4ms postprocess per image at shape (1, 3, 640, 640)\n"
          ]
        },
        {
          "output_type": "stream",
          "name": "stderr",
          "text": [
            "\rDetecting in /content/Hucre-Detector-1/train/images:  12%|█▏        | 289/2450 [04:00<27:08,  1.33it/s]"
          ]
        },
        {
          "output_type": "stream",
          "name": "stdout",
          "text": [
            "\n",
            "image 1/1 /content/Hucre-Detector-1/train/images/DJI_20231117130523_0680_Z_JPG.rf.1fcaaf91b4ce244ba3dff2f72ed589ff.jpg: 640x640 72 PV CELLs, 561.3ms\n",
            "Speed: 5.0ms preprocess, 561.3ms inference, 10.0ms postprocess per image at shape (1, 3, 640, 640)\n"
          ]
        },
        {
          "output_type": "stream",
          "name": "stderr",
          "text": [
            "\rDetecting in /content/Hucre-Detector-1/train/images:  12%|█▏        | 290/2450 [04:00<26:39,  1.35it/s]"
          ]
        },
        {
          "output_type": "stream",
          "name": "stdout",
          "text": [
            "\n",
            "image 1/1 /content/Hucre-Detector-1/train/images/0131_JPG.rf.14134d801e34c5070eb3768f99d3be0b.jpg: 480x640 (no detections), 411.9ms\n",
            "Speed: 4.9ms preprocess, 411.9ms inference, 0.6ms postprocess per image at shape (1, 3, 480, 640)\n"
          ]
        },
        {
          "output_type": "stream",
          "name": "stderr",
          "text": [
            "\rDetecting in /content/Hucre-Detector-1/train/images:  12%|█▏        | 291/2450 [04:01<23:56,  1.50it/s]"
          ]
        },
        {
          "output_type": "stream",
          "name": "stdout",
          "text": [
            "\n",
            "image 1/1 /content/Hucre-Detector-1/train/images/DJI_20231117141724_0480_Z_JPG.rf.3c48ea472f6c7f5c76cd2432a89e0fb9.jpg: 640x640 300 PV CELLs, 572.8ms\n",
            "Speed: 4.3ms preprocess, 572.8ms inference, 32.1ms postprocess per image at shape (1, 3, 640, 640)\n"
          ]
        },
        {
          "output_type": "stream",
          "name": "stderr",
          "text": [
            "\rDetecting in /content/Hucre-Detector-1/train/images:  12%|█▏        | 292/2450 [04:02<26:08,  1.38it/s]"
          ]
        },
        {
          "output_type": "stream",
          "name": "stdout",
          "text": [
            "\n",
            "image 1/1 /content/Hucre-Detector-1/train/images/DJI_20231122122520_0136_Z_JPG.rf.122b6d4eafdeb5214662b163d56dae9f.jpg: 480x640 300 PV CELLs, 411.1ms\n",
            "Speed: 5.2ms preprocess, 411.1ms inference, 7.7ms postprocess per image at shape (1, 3, 480, 640)\n"
          ]
        },
        {
          "output_type": "stream",
          "name": "stderr",
          "text": [
            "\rDetecting in /content/Hucre-Detector-1/train/images:  12%|█▏        | 293/2450 [04:03<31:40,  1.14it/s]"
          ]
        },
        {
          "output_type": "stream",
          "name": "stdout",
          "text": [
            "\n",
            "image 1/1 /content/Hucre-Detector-1/train/images/DJI_20231229115022_0499_Z_JPG.rf.4c6e0e5f08a228a18364e9ebaef52332.jpg: 640x640 300 PV CELLs, 556.1ms\n",
            "Speed: 4.3ms preprocess, 556.1ms inference, 20.0ms postprocess per image at shape (1, 3, 640, 640)\n"
          ]
        },
        {
          "output_type": "stream",
          "name": "stderr",
          "text": [
            "\rDetecting in /content/Hucre-Detector-1/train/images:  12%|█▏        | 294/2450 [04:04<31:02,  1.16it/s]"
          ]
        },
        {
          "output_type": "stream",
          "name": "stdout",
          "text": [
            "\n",
            "image 1/1 /content/Hucre-Detector-1/train/images/0686_JPG.rf.d8b79da4f9ad7b7e395c0a05ed0198d9.jpg: 480x640 300 PV CELLs, 407.3ms\n",
            "Speed: 3.3ms preprocess, 407.3ms inference, 55.3ms postprocess per image at shape (1, 3, 480, 640)\n"
          ]
        },
        {
          "output_type": "stream",
          "name": "stderr",
          "text": [
            "\rDetecting in /content/Hucre-Detector-1/train/images:  12%|█▏        | 295/2450 [04:04<28:40,  1.25it/s]"
          ]
        },
        {
          "output_type": "stream",
          "name": "stdout",
          "text": [
            "\n",
            "image 1/1 /content/Hucre-Detector-1/train/images/0449_JPG.rf.4057c9e46a4715b8fc6542e5810cbc3c.jpg: 480x640 300 PV CELLs, 445.0ms\n",
            "Speed: 4.0ms preprocess, 445.0ms inference, 83.7ms postprocess per image at shape (1, 3, 480, 640)\n"
          ]
        },
        {
          "output_type": "stream",
          "name": "stderr",
          "text": [
            "\rDetecting in /content/Hucre-Detector-1/train/images:  12%|█▏        | 296/2450 [04:05<27:48,  1.29it/s]"
          ]
        },
        {
          "output_type": "stream",
          "name": "stdout",
          "text": [
            "\n",
            "image 1/1 /content/Hucre-Detector-1/train/images/DJI_20231122121558_0661_Z_JPG.rf.b0306050bc7751df9da37fa450150d9d.jpg: 640x640 273 PV CELLs, 578.8ms\n",
            "Speed: 5.3ms preprocess, 578.8ms inference, 24.5ms postprocess per image at shape (1, 3, 640, 640)\n"
          ]
        },
        {
          "output_type": "stream",
          "name": "stderr",
          "text": [
            "\rDetecting in /content/Hucre-Detector-1/train/images:  12%|█▏        | 297/2450 [04:06<28:51,  1.24it/s]"
          ]
        },
        {
          "output_type": "stream",
          "name": "stdout",
          "text": [
            "\n",
            "image 1/1 /content/Hucre-Detector-1/train/images/DJI_20231117111320_0463_Z_JPG.rf.536c3a91d2eb430375ce944a6d4ddd39.jpg: 640x640 236 PV CELLs, 931.1ms\n",
            "Speed: 7.3ms preprocess, 931.1ms inference, 6.3ms postprocess per image at shape (1, 3, 640, 640)\n"
          ]
        },
        {
          "output_type": "stream",
          "name": "stderr",
          "text": [
            "\rDetecting in /content/Hucre-Detector-1/train/images:  12%|█▏        | 298/2450 [04:07<34:04,  1.05it/s]"
          ]
        },
        {
          "output_type": "stream",
          "name": "stdout",
          "text": [
            "\n",
            "image 1/1 /content/Hucre-Detector-1/train/images/DJI_20231117111120_0405_Z_JPG.rf.84e24848736e7ef54db5fae5944cbf76.jpg: 640x640 300 PV CELLs, 826.9ms\n",
            "Speed: 6.8ms preprocess, 826.9ms inference, 59.3ms postprocess per image at shape (1, 3, 640, 640)\n"
          ]
        },
        {
          "output_type": "stream",
          "name": "stderr",
          "text": [
            "\rDetecting in /content/Hucre-Detector-1/train/images:  12%|█▏        | 299/2450 [04:09<37:32,  1.05s/it]"
          ]
        },
        {
          "output_type": "stream",
          "name": "stdout",
          "text": [
            "\n",
            "image 1/1 /content/Hucre-Detector-1/train/images/0183_JPG.rf.72702b2b43356ff8a2586bd09da60fb6.jpg: 480x640 31 PV CELLs, 505.1ms\n",
            "Speed: 5.9ms preprocess, 505.1ms inference, 4.1ms postprocess per image at shape (1, 3, 480, 640)\n"
          ]
        },
        {
          "output_type": "stream",
          "name": "stderr",
          "text": [
            "\rDetecting in /content/Hucre-Detector-1/train/images:  12%|█▏        | 300/2450 [04:09<32:54,  1.09it/s]"
          ]
        },
        {
          "output_type": "stream",
          "name": "stdout",
          "text": [
            "\n",
            "image 1/1 /content/Hucre-Detector-1/train/images/0821_JPG.rf.edde1ef0e82a863b556d3ae029d839db.jpg: 480x640 300 PV CELLs, 409.2ms\n",
            "Speed: 3.8ms preprocess, 409.2ms inference, 27.2ms postprocess per image at shape (1, 3, 480, 640)\n"
          ]
        },
        {
          "output_type": "stream",
          "name": "stderr",
          "text": [
            "\rDetecting in /content/Hucre-Detector-1/train/images:  12%|█▏        | 301/2450 [04:10<29:41,  1.21it/s]"
          ]
        },
        {
          "output_type": "stream",
          "name": "stdout",
          "text": [
            "\n",
            "image 1/1 /content/Hucre-Detector-1/train/images/DJI_20231122122522_0137_Z_JPG.rf.85a4f4425a30b816e6ae27c6c92e6168.jpg: 640x640 263 PV CELLs, 563.6ms\n",
            "Speed: 4.3ms preprocess, 563.6ms inference, 33.8ms postprocess per image at shape (1, 3, 640, 640)\n"
          ]
        },
        {
          "output_type": "stream",
          "name": "stderr",
          "text": [
            "\rDetecting in /content/Hucre-Detector-1/train/images:  12%|█▏        | 302/2450 [04:11<29:56,  1.20it/s]"
          ]
        },
        {
          "output_type": "stream",
          "name": "stdout",
          "text": [
            "\n",
            "image 1/1 /content/Hucre-Detector-1/train/images/DJI_20240107135827_0440_Z_JPG.rf.57b81736bbf50255beda4c07aaea3305.jpg: 640x640 119 PV CELLs, 594.8ms\n",
            "Speed: 5.2ms preprocess, 594.8ms inference, 20.5ms postprocess per image at shape (1, 3, 640, 640)\n"
          ]
        },
        {
          "output_type": "stream",
          "name": "stderr",
          "text": [
            "\rDetecting in /content/Hucre-Detector-1/train/images:  12%|█▏        | 303/2450 [04:11<29:11,  1.23it/s]"
          ]
        },
        {
          "output_type": "stream",
          "name": "stdout",
          "text": [
            "\n",
            "image 1/1 /content/Hucre-Detector-1/train/images/0367_JPG.rf.22eed23791c37d4c1d329c28396fa140.jpg: 480x640 300 PV CELLs, 404.4ms\n",
            "Speed: 3.5ms preprocess, 404.4ms inference, 15.6ms postprocess per image at shape (1, 3, 480, 640)\n"
          ]
        },
        {
          "output_type": "stream",
          "name": "stderr",
          "text": [
            "\rDetecting in /content/Hucre-Detector-1/train/images:  12%|█▏        | 304/2450 [04:12<27:08,  1.32it/s]"
          ]
        },
        {
          "output_type": "stream",
          "name": "stdout",
          "text": [
            "\n",
            "image 1/1 /content/Hucre-Detector-1/train/images/DJI_20231229131125_0533_Z_JPG.rf.7d187f81364b6698c6b362dcd747e89f.jpg: 640x640 268 PV CELLs, 549.0ms\n",
            "Speed: 4.5ms preprocess, 549.0ms inference, 33.1ms postprocess per image at shape (1, 3, 640, 640)\n"
          ]
        },
        {
          "output_type": "stream",
          "name": "stderr",
          "text": [
            "\rDetecting in /content/Hucre-Detector-1/train/images:  12%|█▏        | 305/2450 [04:13<27:52,  1.28it/s]"
          ]
        },
        {
          "output_type": "stream",
          "name": "stdout",
          "text": [
            "\n",
            "image 1/1 /content/Hucre-Detector-1/train/images/0354_JPG.rf.0e4e96e16f3bb281192903c7fc5b3d2d.jpg: 480x640 21 PV CELLs, 407.9ms\n",
            "Speed: 3.4ms preprocess, 407.9ms inference, 1.3ms postprocess per image at shape (1, 3, 480, 640)\n"
          ]
        },
        {
          "output_type": "stream",
          "name": "stderr",
          "text": [
            "\rDetecting in /content/Hucre-Detector-1/train/images:  12%|█▏        | 306/2450 [04:13<24:40,  1.45it/s]"
          ]
        },
        {
          "output_type": "stream",
          "name": "stdout",
          "text": [
            "\n",
            "image 1/1 /content/Hucre-Detector-1/train/images/Ekran-Goruntusu-2025-08-25-18-55-16_png.rf.7071f34ab5a7cf64ba7beda6f9286782.jpg: 288x640 70 PV CELLs, 248.0ms\n",
            "Speed: 2.0ms preprocess, 248.0ms inference, 10.2ms postprocess per image at shape (1, 3, 288, 640)\n"
          ]
        },
        {
          "output_type": "stream",
          "name": "stderr",
          "text": [
            "\rDetecting in /content/Hucre-Detector-1/train/images:  13%|█▎        | 307/2450 [04:14<20:40,  1.73it/s]"
          ]
        },
        {
          "output_type": "stream",
          "name": "stdout",
          "text": [
            "\n",
            "image 1/1 /content/Hucre-Detector-1/train/images/Screenshot-2023-12-01-215351_png.rf.6ce3368419e691802ecce470acfdcb9e.jpg: 640x640 73 PV CELLs, 536.5ms\n",
            "Speed: 5.1ms preprocess, 536.5ms inference, 7.2ms postprocess per image at shape (1, 3, 640, 640)\n"
          ]
        },
        {
          "output_type": "stream",
          "name": "stderr",
          "text": [
            "\rDetecting in /content/Hucre-Detector-1/train/images:  13%|█▎        | 308/2450 [04:14<20:54,  1.71it/s]"
          ]
        },
        {
          "output_type": "stream",
          "name": "stdout",
          "text": [
            "\n",
            "image 1/1 /content/Hucre-Detector-1/train/images/DJI_20231122121558_0661_Z_JPG.rf.25c9a860ba4c49af6afa3fddb85dbd0c.jpg: 640x640 82 PV CELLs, 529.1ms\n",
            "Speed: 4.3ms preprocess, 529.1ms inference, 8.3ms postprocess per image at shape (1, 3, 640, 640)\n"
          ]
        },
        {
          "output_type": "stream",
          "name": "stderr",
          "text": [
            "\rDetecting in /content/Hucre-Detector-1/train/images:  13%|█▎        | 309/2450 [04:15<21:42,  1.64it/s]"
          ]
        },
        {
          "output_type": "stream",
          "name": "stdout",
          "text": [
            "\n",
            "image 1/1 /content/Hucre-Detector-1/train/images/DJI_20231117132437_0172_Z_JPG.rf.4e14e63ed9b033bd2ba403a113012f2c.jpg: 640x640 300 PV CELLs, 592.1ms\n",
            "Speed: 4.3ms preprocess, 592.1ms inference, 38.6ms postprocess per image at shape (1, 3, 640, 640)\n"
          ]
        },
        {
          "output_type": "stream",
          "name": "stderr",
          "text": [
            "\rDetecting in /content/Hucre-Detector-1/train/images:  13%|█▎        | 310/2450 [04:16<24:42,  1.44it/s]"
          ]
        },
        {
          "output_type": "stream",
          "name": "stdout",
          "text": [
            "\n",
            "image 1/1 /content/Hucre-Detector-1/train/images/DJI_20240108113952_0293_Z_JPG.rf.4355e22f8995a32fd97ac081a8de5e08.jpg: 640x640 300 PV CELLs, 570.8ms\n",
            "Speed: 5.1ms preprocess, 570.8ms inference, 15.4ms postprocess per image at shape (1, 3, 640, 640)\n"
          ]
        },
        {
          "output_type": "stream",
          "name": "stderr",
          "text": [
            "\rDetecting in /content/Hucre-Detector-1/train/images:  13%|█▎        | 311/2450 [04:17<26:17,  1.36it/s]"
          ]
        },
        {
          "output_type": "stream",
          "name": "stdout",
          "text": [
            "\n",
            "image 1/1 /content/Hucre-Detector-1/train/images/0494_JPG.rf.19479ee400c25773313245576a739945.jpg: 480x640 300 PV CELLs, 438.2ms\n",
            "Speed: 4.0ms preprocess, 438.2ms inference, 21.3ms postprocess per image at shape (1, 3, 480, 640)\n"
          ]
        },
        {
          "output_type": "stream",
          "name": "stderr",
          "text": [
            "\rDetecting in /content/Hucre-Detector-1/train/images:  13%|█▎        | 312/2450 [04:17<25:15,  1.41it/s]"
          ]
        },
        {
          "output_type": "stream",
          "name": "stdout",
          "text": [
            "\n",
            "image 1/1 /content/Hucre-Detector-1/train/images/DJI_20231117111218_0432_Z_JPG.rf.ff41380c682a4d6c5165075685da21d2.jpg: 640x640 300 PV CELLs, 593.3ms\n",
            "Speed: 4.9ms preprocess, 593.3ms inference, 25.1ms postprocess per image at shape (1, 3, 640, 640)\n"
          ]
        },
        {
          "output_type": "stream",
          "name": "stderr",
          "text": [
            "\rDetecting in /content/Hucre-Detector-1/train/images:  13%|█▎        | 313/2450 [04:18<27:32,  1.29it/s]"
          ]
        },
        {
          "output_type": "stream",
          "name": "stdout",
          "text": [
            "\n",
            "image 1/1 /content/Hucre-Detector-1/train/images/DJI_20231229121817_0318_Z_JPG.rf.d78e324800a07f4ac4b7ae8df9c4a611.jpg: 640x640 300 PV CELLs, 702.4ms\n",
            "Speed: 8.6ms preprocess, 702.4ms inference, 121.1ms postprocess per image at shape (1, 3, 640, 640)\n"
          ]
        },
        {
          "output_type": "stream",
          "name": "stderr",
          "text": [
            "\rDetecting in /content/Hucre-Detector-1/train/images:  13%|█▎        | 314/2450 [04:19<32:30,  1.10it/s]"
          ]
        },
        {
          "output_type": "stream",
          "name": "stdout",
          "text": [
            "\n",
            "image 1/1 /content/Hucre-Detector-1/train/images/0546_JPG.rf.0e345910a70da002bd7298316215098c.jpg: 480x640 300 PV CELLs, 653.0ms\n",
            "Speed: 5.6ms preprocess, 653.0ms inference, 46.2ms postprocess per image at shape (1, 3, 480, 640)\n"
          ]
        },
        {
          "output_type": "stream",
          "name": "stderr",
          "text": [
            "\rDetecting in /content/Hucre-Detector-1/train/images:  13%|█▎        | 315/2450 [04:20<33:30,  1.06it/s]"
          ]
        },
        {
          "output_type": "stream",
          "name": "stdout",
          "text": [
            "\n",
            "image 1/1 /content/Hucre-Detector-1/train/images/0134_JPG.rf.dcfab523e68329eb23373059f9c9f2f9.jpg: 480x640 221 PV CELLs, 702.5ms\n",
            "Speed: 5.9ms preprocess, 702.5ms inference, 18.1ms postprocess per image at shape (1, 3, 480, 640)\n"
          ]
        },
        {
          "output_type": "stream",
          "name": "stderr",
          "text": [
            "\rDetecting in /content/Hucre-Detector-1/train/images:  13%|█▎        | 316/2450 [04:21<34:11,  1.04it/s]"
          ]
        },
        {
          "output_type": "stream",
          "name": "stdout",
          "text": [
            "\n",
            "image 1/1 /content/Hucre-Detector-1/train/images/0078_JPG.rf.921303c40d4a916bc9b93afded98e2c9.jpg: 480x640 130 PV CELLs, 417.7ms\n",
            "Speed: 5.7ms preprocess, 417.7ms inference, 8.7ms postprocess per image at shape (1, 3, 480, 640)\n"
          ]
        },
        {
          "output_type": "stream",
          "name": "stderr",
          "text": [
            "\rDetecting in /content/Hucre-Detector-1/train/images:  13%|█▎        | 317/2450 [04:22<30:08,  1.18it/s]"
          ]
        },
        {
          "output_type": "stream",
          "name": "stdout",
          "text": [
            "\n",
            "image 1/1 /content/Hucre-Detector-1/train/images/0455_JPG.rf.bbd5429dee1cb3c0fdfcb9b640870e14.jpg: 480x640 300 PV CELLs, 437.4ms\n",
            "Speed: 3.8ms preprocess, 437.4ms inference, 45.2ms postprocess per image at shape (1, 3, 480, 640)\n"
          ]
        },
        {
          "output_type": "stream",
          "name": "stderr",
          "text": [
            "\rDetecting in /content/Hucre-Detector-1/train/images:  13%|█▎        | 318/2450 [04:23<28:14,  1.26it/s]"
          ]
        },
        {
          "output_type": "stream",
          "name": "stdout",
          "text": [
            "\n",
            "image 1/1 /content/Hucre-Detector-1/train/images/DJI_20240131125235_0283_Z_JPG.rf.9a43f7ddc2a2dc8f637a4039032e1e8b.jpg: 640x640 300 PV CELLs, 577.5ms\n",
            "Speed: 5.1ms preprocess, 577.5ms inference, 66.5ms postprocess per image at shape (1, 3, 640, 640)\n"
          ]
        },
        {
          "output_type": "stream",
          "name": "stderr",
          "text": [
            "\rDetecting in /content/Hucre-Detector-1/train/images:  13%|█▎        | 319/2450 [04:24<29:35,  1.20it/s]"
          ]
        },
        {
          "output_type": "stream",
          "name": "stdout",
          "text": [
            "\n",
            "image 1/1 /content/Hucre-Detector-1/train/images/0914_JPG.rf.59cebe790059c54fac192c8bab3a145f.jpg: 480x640 197 PV CELLs, 410.1ms\n",
            "Speed: 5.3ms preprocess, 410.1ms inference, 20.7ms postprocess per image at shape (1, 3, 480, 640)\n"
          ]
        },
        {
          "output_type": "stream",
          "name": "stderr",
          "text": [
            "\rDetecting in /content/Hucre-Detector-1/train/images:  13%|█▎        | 320/2450 [04:24<26:54,  1.32it/s]"
          ]
        },
        {
          "output_type": "stream",
          "name": "stdout",
          "text": [
            "\n",
            "image 1/1 /content/Hucre-Detector-1/train/images/DJI_20231117104612_0484_Z_JPG.rf.7f5d7e9e2cb5a3a4835bcddda09bee5a.jpg: 640x640 245 PV CELLs, 559.4ms\n",
            "Speed: 4.3ms preprocess, 559.4ms inference, 24.8ms postprocess per image at shape (1, 3, 640, 640)\n"
          ]
        },
        {
          "output_type": "stream",
          "name": "stderr",
          "text": [
            "\rDetecting in /content/Hucre-Detector-1/train/images:  13%|█▎        | 321/2450 [04:25<27:36,  1.28it/s]"
          ]
        },
        {
          "output_type": "stream",
          "name": "stdout",
          "text": [
            "\n",
            "image 1/1 /content/Hucre-Detector-1/train/images/DJI_20250506154807_0132_V_JPG.rf.f2865d703c03a7073a1fb092cc219fa2.jpg: 640x640 300 PV CELLs, 542.4ms\n",
            "Speed: 3.2ms preprocess, 542.4ms inference, 39.2ms postprocess per image at shape (1, 3, 640, 640)\n"
          ]
        },
        {
          "output_type": "stream",
          "name": "stderr",
          "text": [
            "\rDetecting in /content/Hucre-Detector-1/train/images:  13%|█▎        | 322/2450 [04:26<26:05,  1.36it/s]"
          ]
        },
        {
          "output_type": "stream",
          "name": "stdout",
          "text": [
            "\n",
            "image 1/1 /content/Hucre-Detector-1/train/images/0148_JPG.rf.0467532cc3fa6b09fc54a724e5a4f92f.jpg: 480x640 5 PV CELLs, 439.6ms\n",
            "Speed: 4.0ms preprocess, 439.6ms inference, 1.5ms postprocess per image at shape (1, 3, 480, 640)\n"
          ]
        },
        {
          "output_type": "stream",
          "name": "stderr",
          "text": [
            "\rDetecting in /content/Hucre-Detector-1/train/images:  13%|█▎        | 323/2450 [04:26<23:56,  1.48it/s]"
          ]
        },
        {
          "output_type": "stream",
          "name": "stdout",
          "text": [
            "\n",
            "image 1/1 /content/Hucre-Detector-1/train/images/0555_JPG.rf.a0243743a2f3542dee8a7293b1e765e8.jpg: 480x640 257 PV CELLs, 448.5ms\n",
            "Speed: 4.3ms preprocess, 448.5ms inference, 29.2ms postprocess per image at shape (1, 3, 480, 640)\n"
          ]
        },
        {
          "output_type": "stream",
          "name": "stderr",
          "text": [
            "\rDetecting in /content/Hucre-Detector-1/train/images:  13%|█▎        | 324/2450 [04:27<23:42,  1.49it/s]"
          ]
        },
        {
          "output_type": "stream",
          "name": "stdout",
          "text": [
            "\n",
            "image 1/1 /content/Hucre-Detector-1/train/images/0845_JPG.rf.d6e2f5ffa5a3a146872a0a33a82c66f5.jpg: 480x640 292 PV CELLs, 424.9ms\n",
            "Speed: 4.0ms preprocess, 424.9ms inference, 20.8ms postprocess per image at shape (1, 3, 480, 640)\n"
          ]
        },
        {
          "output_type": "stream",
          "name": "stderr",
          "text": [
            "\rDetecting in /content/Hucre-Detector-1/train/images:  13%|█▎        | 325/2450 [04:27<23:16,  1.52it/s]"
          ]
        },
        {
          "output_type": "stream",
          "name": "stdout",
          "text": [
            "\n",
            "image 1/1 /content/Hucre-Detector-1/train/images/0864_JPG.rf.45b7ce8adcd7e78b261d00585e556d46.jpg: 480x640 15 PV CELLs, 443.7ms\n",
            "Speed: 3.9ms preprocess, 443.7ms inference, 1.5ms postprocess per image at shape (1, 3, 480, 640)\n"
          ]
        },
        {
          "output_type": "stream",
          "name": "stderr",
          "text": [
            "\rDetecting in /content/Hucre-Detector-1/train/images:  13%|█▎        | 326/2450 [04:28<21:50,  1.62it/s]"
          ]
        },
        {
          "output_type": "stream",
          "name": "stdout",
          "text": [
            "\n",
            "image 1/1 /content/Hucre-Detector-1/train/images/DJI_20250506154848_0191_V_JPG.rf.e7407d366cc1754700a7ea503efd32b5.jpg: 640x640 300 PV CELLs, 573.1ms\n",
            "Speed: 3.7ms preprocess, 573.1ms inference, 20.5ms postprocess per image at shape (1, 3, 640, 640)\n"
          ]
        },
        {
          "output_type": "stream",
          "name": "stderr",
          "text": [
            "\rDetecting in /content/Hucre-Detector-1/train/images:  13%|█▎        | 327/2450 [04:29<22:27,  1.58it/s]"
          ]
        },
        {
          "output_type": "stream",
          "name": "stdout",
          "text": [
            "\n",
            "image 1/1 /content/Hucre-Detector-1/train/images/0013_jpg.rf.7e5fdfccd03b115292b1774c815739cd.jpg: 480x640 247 PV CELLs, 432.6ms\n",
            "Speed: 4.0ms preprocess, 432.6ms inference, 18.2ms postprocess per image at shape (1, 3, 480, 640)\n"
          ]
        },
        {
          "output_type": "stream",
          "name": "stderr",
          "text": [
            "\rDetecting in /content/Hucre-Detector-1/train/images:  13%|█▎        | 328/2450 [04:29<22:18,  1.59it/s]"
          ]
        },
        {
          "output_type": "stream",
          "name": "stdout",
          "text": [
            "\n",
            "image 1/1 /content/Hucre-Detector-1/train/images/DJI_20231230122644_0146_Z_JPG.rf.8f1570728ea56a1b3e60066a1075b28b.jpg: 640x640 266 PV CELLs, 592.6ms\n",
            "Speed: 4.2ms preprocess, 592.6ms inference, 33.6ms postprocess per image at shape (1, 3, 640, 640)\n"
          ]
        },
        {
          "output_type": "stream",
          "name": "stderr",
          "text": [
            "\rDetecting in /content/Hucre-Detector-1/train/images:  13%|█▎        | 329/2450 [04:30<24:48,  1.42it/s]"
          ]
        },
        {
          "output_type": "stream",
          "name": "stdout",
          "text": [
            "\n",
            "image 1/1 /content/Hucre-Detector-1/train/images/DJI_20231229121857_0338_Z_JPG.rf.c6e1cf755e4beac6d492cce9f6ea8efa.jpg: 640x640 300 PV CELLs, 588.8ms\n",
            "Speed: 5.2ms preprocess, 588.8ms inference, 35.8ms postprocess per image at shape (1, 3, 640, 640)\n"
          ]
        },
        {
          "output_type": "stream",
          "name": "stderr",
          "text": [
            "\rDetecting in /content/Hucre-Detector-1/train/images:  13%|█▎        | 330/2450 [04:31<26:51,  1.32it/s]"
          ]
        },
        {
          "output_type": "stream",
          "name": "stdout",
          "text": [
            "\n",
            "image 1/1 /content/Hucre-Detector-1/train/images/DJI_20231120115530_0394_Z_JPG.rf.92907e4761aaaacb8e0b6705eda613c5.jpg: 640x640 288 PV CELLs, 672.5ms\n",
            "Speed: 6.3ms preprocess, 672.5ms inference, 51.3ms postprocess per image at shape (1, 3, 640, 640)\n"
          ]
        },
        {
          "output_type": "stream",
          "name": "stderr",
          "text": [
            "\rDetecting in /content/Hucre-Detector-1/train/images:  14%|█▎        | 331/2450 [04:32<30:29,  1.16it/s]"
          ]
        },
        {
          "output_type": "stream",
          "name": "stdout",
          "text": [
            "\n",
            "image 1/1 /content/Hucre-Detector-1/train/images/0269_JPG.rf.bfa19b0dccfe3a9ed6cce8bfb21e5914.jpg: 480x640 193 PV CELLs, 690.0ms\n",
            "Speed: 5.7ms preprocess, 690.0ms inference, 15.5ms postprocess per image at shape (1, 3, 480, 640)\n"
          ]
        },
        {
          "output_type": "stream",
          "name": "stderr",
          "text": [
            "\rDetecting in /content/Hucre-Detector-1/train/images:  14%|█▎        | 332/2450 [04:33<31:07,  1.13it/s]"
          ]
        },
        {
          "output_type": "stream",
          "name": "stdout",
          "text": [
            "\n",
            "image 1/1 /content/Hucre-Detector-1/train/images/0345_JPG.rf.c612dde4e68cb2caad7a5f19a972debd.jpg: 480x640 85 PV CELLs, 649.6ms\n",
            "Speed: 5.5ms preprocess, 649.6ms inference, 10.5ms postprocess per image at shape (1, 3, 480, 640)\n"
          ]
        },
        {
          "output_type": "stream",
          "name": "stderr",
          "text": [
            "\rDetecting in /content/Hucre-Detector-1/train/images:  14%|█▎        | 333/2450 [04:34<30:30,  1.16it/s]"
          ]
        },
        {
          "output_type": "stream",
          "name": "stdout",
          "text": [
            "\n",
            "image 1/1 /content/Hucre-Detector-1/train/images/DJI_20231230104041_0345_Z_JPG.rf.632c77fd11a7cf7e6eaa00cb014ecda2.jpg: 640x640 292 PV CELLs, 738.8ms\n",
            "Speed: 10.5ms preprocess, 738.8ms inference, 47.6ms postprocess per image at shape (1, 3, 640, 640)\n"
          ]
        },
        {
          "output_type": "stream",
          "name": "stderr",
          "text": [
            "\rDetecting in /content/Hucre-Detector-1/train/images:  14%|█▎        | 334/2450 [04:35<32:42,  1.08it/s]"
          ]
        },
        {
          "output_type": "stream",
          "name": "stdout",
          "text": [
            "\n",
            "image 1/1 /content/Hucre-Detector-1/train/images/DJI_20231117110111_0110_Z_JPG.rf.355e26ee53cac145a16776958199454c.jpg: 640x640 238 PV CELLs, 562.1ms\n",
            "Speed: 4.4ms preprocess, 562.1ms inference, 32.4ms postprocess per image at shape (1, 3, 640, 640)\n"
          ]
        },
        {
          "output_type": "stream",
          "name": "stderr",
          "text": [
            "\rDetecting in /content/Hucre-Detector-1/train/images:  14%|█▎        | 335/2450 [04:36<31:31,  1.12it/s]"
          ]
        },
        {
          "output_type": "stream",
          "name": "stdout",
          "text": [
            "\n",
            "image 1/1 /content/Hucre-Detector-1/train/images/0959_JPG.rf.96168d971484b303cf389481b6612069.jpg: 480x640 7 PV CELLs, 435.0ms\n",
            "Speed: 3.3ms preprocess, 435.0ms inference, 1.7ms postprocess per image at shape (1, 3, 480, 640)\n"
          ]
        },
        {
          "output_type": "stream",
          "name": "stderr",
          "text": [
            "\rDetecting in /content/Hucre-Detector-1/train/images:  14%|█▎        | 336/2450 [04:36<27:45,  1.27it/s]"
          ]
        },
        {
          "output_type": "stream",
          "name": "stdout",
          "text": [
            "\n",
            "image 1/1 /content/Hucre-Detector-1/train/images/DJI_20231229121431_0207_Z_JPG.rf.66fe3efb41ffd409fc126cde086bb291.jpg: 640x640 300 PV CELLs, 594.3ms\n",
            "Speed: 5.3ms preprocess, 594.3ms inference, 26.0ms postprocess per image at shape (1, 3, 640, 640)\n"
          ]
        },
        {
          "output_type": "stream",
          "name": "stderr",
          "text": [
            "\rDetecting in /content/Hucre-Detector-1/train/images:  14%|█▍        | 337/2450 [04:37<29:08,  1.21it/s]"
          ]
        },
        {
          "output_type": "stream",
          "name": "stdout",
          "text": [
            "\n",
            "image 1/1 /content/Hucre-Detector-1/train/images/MAX_0027_JPG.rf.36cba50b6caa08684c219f74f243127e.jpg: 384x640 58 PV CELLs, 345.2ms\n",
            "Speed: 3.6ms preprocess, 345.2ms inference, 5.6ms postprocess per image at shape (1, 3, 384, 640)\n"
          ]
        },
        {
          "output_type": "stream",
          "name": "stderr",
          "text": [
            "\rDetecting in /content/Hucre-Detector-1/train/images:  14%|█▍        | 338/2450 [04:38<27:04,  1.30it/s]"
          ]
        },
        {
          "output_type": "stream",
          "name": "stdout",
          "text": [
            "\n",
            "image 1/1 /content/Hucre-Detector-1/train/images/MAX_0045_JPG.rf.c44b55c2fadd19638ebf9e0203377a57.jpg: 480x640 4 PV CELLs, 421.4ms\n",
            "Speed: 3.9ms preprocess, 421.4ms inference, 1.5ms postprocess per image at shape (1, 3, 480, 640)\n"
          ]
        },
        {
          "output_type": "stream",
          "name": "stderr",
          "text": [
            "\rDetecting in /content/Hucre-Detector-1/train/images:  14%|█▍        | 339/2450 [04:39<27:11,  1.29it/s]"
          ]
        },
        {
          "output_type": "stream",
          "name": "stdout",
          "text": [
            "\n",
            "image 1/1 /content/Hucre-Detector-1/train/images/0055_JPG.rf.0cacb6a96dfbff478f1521e82ac6708a.jpg: 480x640 65 PV CELLs, 467.1ms\n",
            "Speed: 3.2ms preprocess, 467.1ms inference, 4.8ms postprocess per image at shape (1, 3, 480, 640)\n"
          ]
        },
        {
          "output_type": "stream",
          "name": "stderr",
          "text": [
            "\rDetecting in /content/Hucre-Detector-1/train/images:  14%|█▍        | 340/2450 [04:39<25:18,  1.39it/s]"
          ]
        },
        {
          "output_type": "stream",
          "name": "stdout",
          "text": [
            "\n",
            "image 1/1 /content/Hucre-Detector-1/train/images/DJI_20240227094403_0049_Z_JPG.rf.c8dc7b253e27d935f63cc354d2579b88.jpg: 640x640 300 PV CELLs, 589.7ms\n",
            "Speed: 5.1ms preprocess, 589.7ms inference, 52.2ms postprocess per image at shape (1, 3, 640, 640)\n"
          ]
        },
        {
          "output_type": "stream",
          "name": "stderr",
          "text": [
            "\rDetecting in /content/Hucre-Detector-1/train/images:  14%|█▍        | 341/2450 [04:40<27:11,  1.29it/s]"
          ]
        },
        {
          "output_type": "stream",
          "name": "stdout",
          "text": [
            "\n",
            "image 1/1 /content/Hucre-Detector-1/train/images/0836_JPG.rf.84a2d1b9e0d1f9332846f064807c762c.jpg: 448x640 300 PV CELLs, 409.3ms\n",
            "Speed: 3.8ms preprocess, 409.3ms inference, 23.5ms postprocess per image at shape (1, 3, 448, 640)\n"
          ]
        },
        {
          "output_type": "stream",
          "name": "stderr",
          "text": [
            "\rDetecting in /content/Hucre-Detector-1/train/images:  14%|█▍        | 342/2450 [04:41<25:31,  1.38it/s]"
          ]
        },
        {
          "output_type": "stream",
          "name": "stdout",
          "text": [
            "\n",
            "image 1/1 /content/Hucre-Detector-1/train/images/0906_JPG.rf.410845c17da27de77ef287000c5a5cbd.jpg: 480x640 17 PV CELLs, 427.2ms\n",
            "Speed: 4.1ms preprocess, 427.2ms inference, 1.8ms postprocess per image at shape (1, 3, 480, 640)\n"
          ]
        },
        {
          "output_type": "stream",
          "name": "stderr",
          "text": [
            "\rDetecting in /content/Hucre-Detector-1/train/images:  14%|█▍        | 343/2450 [04:41<23:16,  1.51it/s]"
          ]
        },
        {
          "output_type": "stream",
          "name": "stdout",
          "text": [
            "\n",
            "image 1/1 /content/Hucre-Detector-1/train/images/0276_JPG.rf.1f274bfabc39fafd426388dd8b264dff.jpg: 480x640 300 PV CELLs, 437.0ms\n",
            "Speed: 3.9ms preprocess, 437.0ms inference, 65.6ms postprocess per image at shape (1, 3, 480, 640)\n"
          ]
        },
        {
          "output_type": "stream",
          "name": "stderr",
          "text": [
            "\rDetecting in /content/Hucre-Detector-1/train/images:  14%|█▍        | 344/2450 [04:42<23:47,  1.48it/s]"
          ]
        },
        {
          "output_type": "stream",
          "name": "stdout",
          "text": [
            "\n",
            "image 1/1 /content/Hucre-Detector-1/train/images/0493_JPG.rf.51db723676950204f05159122079b4e4.jpg: 480x640 14 PV CELLs, 438.6ms\n",
            "Speed: 3.9ms preprocess, 438.6ms inference, 2.7ms postprocess per image at shape (1, 3, 480, 640)\n"
          ]
        },
        {
          "output_type": "stream",
          "name": "stderr",
          "text": [
            "\rDetecting in /content/Hucre-Detector-1/train/images:  14%|█▍        | 345/2450 [04:43<22:10,  1.58it/s]"
          ]
        },
        {
          "output_type": "stream",
          "name": "stdout",
          "text": [
            "\n",
            "image 1/1 /content/Hucre-Detector-1/train/images/DJI_20240304143053_0142_Z_JPG.rf.53f00db44d5b3594e22f071107bf2961.jpg: 640x640 300 PV CELLs, 555.7ms\n",
            "Speed: 5.2ms preprocess, 555.7ms inference, 37.3ms postprocess per image at shape (1, 3, 640, 640)\n"
          ]
        },
        {
          "output_type": "stream",
          "name": "stderr",
          "text": [
            "\rDetecting in /content/Hucre-Detector-1/train/images:  14%|█▍        | 346/2450 [04:43<24:23,  1.44it/s]"
          ]
        },
        {
          "output_type": "stream",
          "name": "stdout",
          "text": [
            "\n",
            "image 1/1 /content/Hucre-Detector-1/train/images/0999_JPG.rf.129b0cb20efabe2f43efcc5d658e38c7.jpg: 480x640 300 PV CELLs, 403.3ms\n",
            "Speed: 3.4ms preprocess, 403.3ms inference, 47.7ms postprocess per image at shape (1, 3, 480, 640)\n"
          ]
        },
        {
          "output_type": "stream",
          "name": "stderr",
          "text": [
            "\rDetecting in /content/Hucre-Detector-1/train/images:  14%|█▍        | 347/2450 [04:44<23:51,  1.47it/s]"
          ]
        },
        {
          "output_type": "stream",
          "name": "stdout",
          "text": [
            "\n",
            "image 1/1 /content/Hucre-Detector-1/train/images/Screenshot-2023-12-01-215628_png.rf.6791c59649975d3ccffda7e218e1452e.jpg: 640x640 39 PV CELLs, 725.0ms\n",
            "Speed: 5.7ms preprocess, 725.0ms inference, 7.7ms postprocess per image at shape (1, 3, 640, 640)\n"
          ]
        },
        {
          "output_type": "stream",
          "name": "stderr",
          "text": [
            "\rDetecting in /content/Hucre-Detector-1/train/images:  14%|█▍        | 348/2450 [04:45<25:06,  1.40it/s]"
          ]
        },
        {
          "output_type": "stream",
          "name": "stdout",
          "text": [
            "\n",
            "image 1/1 /content/Hucre-Detector-1/train/images/DJI_20231117130829_0767_Z_JPG.rf.bb25e69e91d85b3da07b4b12c66e5417.jpg: 640x640 129 PV CELLs, 1004.6ms\n",
            "Speed: 7.7ms preprocess, 1004.6ms inference, 26.4ms postprocess per image at shape (1, 3, 640, 640)\n"
          ]
        },
        {
          "output_type": "stream",
          "name": "stderr",
          "text": [
            "\rDetecting in /content/Hucre-Detector-1/train/images:  14%|█▍        | 349/2450 [04:46<30:53,  1.13it/s]"
          ]
        },
        {
          "output_type": "stream",
          "name": "stdout",
          "text": [
            "\n",
            "image 1/1 /content/Hucre-Detector-1/train/images/DJI_20240227094606_0109_Z_JPG.rf.21578493588cc32aaf21cb01bc26aeb2.jpg: 640x640 300 PV CELLs, 883.7ms\n",
            "Speed: 6.7ms preprocess, 883.7ms inference, 79.0ms postprocess per image at shape (1, 3, 640, 640)\n"
          ]
        },
        {
          "output_type": "stream",
          "name": "stderr",
          "text": [
            "\rDetecting in /content/Hucre-Detector-1/train/images:  14%|█▍        | 350/2450 [04:47<34:48,  1.01it/s]"
          ]
        },
        {
          "output_type": "stream",
          "name": "stdout",
          "text": [
            "\n",
            "image 1/1 /content/Hucre-Detector-1/train/images/0258_JPG.rf.de88c337713ea1b6e020469e88322152.jpg: 480x640 9 PV CELLs, 404.1ms\n",
            "Speed: 3.2ms preprocess, 404.1ms inference, 2.0ms postprocess per image at shape (1, 3, 480, 640)\n"
          ]
        },
        {
          "output_type": "stream",
          "name": "stderr",
          "text": [
            "\rDetecting in /content/Hucre-Detector-1/train/images:  14%|█▍        | 351/2450 [04:48<29:20,  1.19it/s]"
          ]
        },
        {
          "output_type": "stream",
          "name": "stdout",
          "text": [
            "\n",
            "image 1/1 /content/Hucre-Detector-1/train/images/DJI_20231117110127_0118_Z_JPG.rf.be4bd9c42a28e40248851785023cc7ba.jpg: 640x640 201 PV CELLs, 533.7ms\n",
            "Speed: 4.1ms preprocess, 533.7ms inference, 14.6ms postprocess per image at shape (1, 3, 640, 640)\n"
          ]
        },
        {
          "output_type": "stream",
          "name": "stderr",
          "text": [
            "\rDetecting in /content/Hucre-Detector-1/train/images:  14%|█▍        | 352/2450 [04:49<28:27,  1.23it/s]"
          ]
        },
        {
          "output_type": "stream",
          "name": "stdout",
          "text": [
            "\n",
            "image 1/1 /content/Hucre-Detector-1/train/images/DJI_20231120121555_0217_Z_JPG.rf.f18102ca96dc0183e6cb7429350b808f.jpg: 640x640 237 PV CELLs, 630.6ms\n",
            "Speed: 5.3ms preprocess, 630.6ms inference, 25.8ms postprocess per image at shape (1, 3, 640, 640)\n"
          ]
        },
        {
          "output_type": "stream",
          "name": "stderr",
          "text": [
            "\rDetecting in /content/Hucre-Detector-1/train/images:  14%|█▍        | 353/2450 [04:50<29:17,  1.19it/s]"
          ]
        },
        {
          "output_type": "stream",
          "name": "stdout",
          "text": [
            "\n",
            "image 1/1 /content/Hucre-Detector-1/train/images/DJI_20231117110341_0182_Z_JPG.rf.b4af498b7e92f98a1a20a4e284dcaec7.jpg: 640x640 300 PV CELLs, 737.8ms\n",
            "Speed: 5.1ms preprocess, 737.8ms inference, 43.9ms postprocess per image at shape (1, 3, 640, 640)\n"
          ]
        },
        {
          "output_type": "stream",
          "name": "stderr",
          "text": [
            "\rDetecting in /content/Hucre-Detector-1/train/images:  14%|█▍        | 354/2450 [04:51<33:25,  1.05it/s]"
          ]
        },
        {
          "output_type": "stream",
          "name": "stdout",
          "text": [
            "\n",
            "image 1/1 /content/Hucre-Detector-1/train/images/DJI_20231117132511_0188_Z_JPG.rf.5e95b2dbb11e623d250b7592ba991782.jpg: 640x640 300 PV CELLs, 1401.2ms\n",
            "Speed: 7.3ms preprocess, 1401.2ms inference, 28.0ms postprocess per image at shape (1, 3, 640, 640)\n"
          ]
        },
        {
          "output_type": "stream",
          "name": "stderr",
          "text": [
            "\rDetecting in /content/Hucre-Detector-1/train/images:  14%|█▍        | 355/2450 [04:53<44:42,  1.28s/it]"
          ]
        },
        {
          "output_type": "stream",
          "name": "stdout",
          "text": [
            "\n",
            "image 1/1 /content/Hucre-Detector-1/train/images/Screenshot-2023-12-01-205617_png.rf.fc6fe3e68753af98e996a20ce046772a.jpg: 640x640 90 PV CELLs, 1300.6ms\n",
            "Speed: 6.1ms preprocess, 1300.6ms inference, 11.7ms postprocess per image at shape (1, 3, 640, 640)\n"
          ]
        },
        {
          "output_type": "stream",
          "name": "stderr",
          "text": [
            "\rDetecting in /content/Hucre-Detector-1/train/images:  15%|█▍        | 356/2450 [04:54<45:47,  1.31s/it]"
          ]
        },
        {
          "output_type": "stream",
          "name": "stdout",
          "text": [
            "\n",
            "image 1/1 /content/Hucre-Detector-1/train/images/DJI_20231231130715_0492_Z_JPG.rf.6c3b5ec19f69d9b69e83928fa4ce620e.jpg: 640x640 124 PV CELLs, 580.5ms\n",
            "Speed: 5.3ms preprocess, 580.5ms inference, 19.8ms postprocess per image at shape (1, 3, 640, 640)\n"
          ]
        },
        {
          "output_type": "stream",
          "name": "stderr",
          "text": [
            "\rDetecting in /content/Hucre-Detector-1/train/images:  15%|█▍        | 357/2450 [04:55<40:19,  1.16s/it]"
          ]
        },
        {
          "output_type": "stream",
          "name": "stdout",
          "text": [
            "\n",
            "image 1/1 /content/Hucre-Detector-1/train/images/Screenshot-2023-12-01-204059_png.rf.fb465b400714f7986bb9e835c3349715.jpg: 640x640 128 PV CELLs, 600.1ms\n",
            "Speed: 6.3ms preprocess, 600.1ms inference, 17.6ms postprocess per image at shape (1, 3, 640, 640)\n"
          ]
        },
        {
          "output_type": "stream",
          "name": "stderr",
          "text": [
            "\rDetecting in /content/Hucre-Detector-1/train/images:  15%|█▍        | 358/2450 [04:56<35:31,  1.02s/it]"
          ]
        },
        {
          "output_type": "stream",
          "name": "stdout",
          "text": [
            "\n",
            "image 1/1 /content/Hucre-Detector-1/train/images/DJI_20231117103002_0016_Z_JPG.rf.0088a379142b4bd7b00adcccf4876f84.jpg: 640x640 135 PV CELLs, 563.3ms\n",
            "Speed: 5.3ms preprocess, 563.3ms inference, 18.4ms postprocess per image at shape (1, 3, 640, 640)\n"
          ]
        },
        {
          "output_type": "stream",
          "name": "stderr",
          "text": [
            "\rDetecting in /content/Hucre-Detector-1/train/images:  15%|█▍        | 359/2450 [04:56<32:41,  1.07it/s]"
          ]
        },
        {
          "output_type": "stream",
          "name": "stdout",
          "text": [
            "\n",
            "image 1/1 /content/Hucre-Detector-1/train/images/DJI_20231122122312_0073_Z_JPG.rf.b347ac485783de16c91a25f34efa63fa.jpg: 480x640 300 PV CELLs, 433.1ms\n",
            "Speed: 5.0ms preprocess, 433.1ms inference, 24.4ms postprocess per image at shape (1, 3, 480, 640)\n"
          ]
        },
        {
          "output_type": "stream",
          "name": "stderr",
          "text": [
            "\rDetecting in /content/Hucre-Detector-1/train/images:  15%|█▍        | 360/2450 [04:58<40:55,  1.17s/it]"
          ]
        },
        {
          "output_type": "stream",
          "name": "stdout",
          "text": [
            "\n",
            "image 1/1 /content/Hucre-Detector-1/train/images/DJI_20240227115217_0635_Z_JPG.rf.8165db2202560b27b7d7691a2210eaa7.jpg: 640x640 (no detections), 883.6ms\n",
            "Speed: 10.3ms preprocess, 883.6ms inference, 0.8ms postprocess per image at shape (1, 3, 640, 640)\n"
          ]
        },
        {
          "output_type": "stream",
          "name": "stderr",
          "text": [
            "\rDetecting in /content/Hucre-Detector-1/train/images:  15%|█▍        | 361/2450 [04:59<39:06,  1.12s/it]"
          ]
        },
        {
          "output_type": "stream",
          "name": "stdout",
          "text": [
            "\n",
            "image 1/1 /content/Hucre-Detector-1/train/images/DJI_20231117130833_0769_Z_JPG.rf.2ed010a2ae81b51e59c0767658e28cd5.jpg: 640x640 221 PV CELLs, 920.5ms\n",
            "Speed: 7.6ms preprocess, 920.5ms inference, 19.9ms postprocess per image at shape (1, 3, 640, 640)\n"
          ]
        },
        {
          "output_type": "stream",
          "name": "stderr",
          "text": [
            "\rDetecting in /content/Hucre-Detector-1/train/images:  15%|█▍        | 362/2450 [05:00<39:41,  1.14s/it]"
          ]
        },
        {
          "output_type": "stream",
          "name": "stdout",
          "text": [
            "\n",
            "image 1/1 /content/Hucre-Detector-1/train/images/0688_JPG.rf.24c57dd4051088a0d7c839d0c530abab.jpg: 480x640 300 PV CELLs, 422.5ms\n",
            "Speed: 6.6ms preprocess, 422.5ms inference, 41.5ms postprocess per image at shape (1, 3, 480, 640)\n"
          ]
        },
        {
          "output_type": "stream",
          "name": "stderr",
          "text": [
            "\rDetecting in /content/Hucre-Detector-1/train/images:  15%|█▍        | 363/2450 [05:01<34:48,  1.00s/it]"
          ]
        },
        {
          "output_type": "stream",
          "name": "stdout",
          "text": [
            "\n",
            "image 1/1 /content/Hucre-Detector-1/train/images/DJI_20231117110042_0096_Z_JPG.rf.b6e5a57239e8cba40c31747ca5ca3bc2.jpg: 640x640 300 PV CELLs, 600.9ms\n",
            "Speed: 5.1ms preprocess, 600.9ms inference, 21.5ms postprocess per image at shape (1, 3, 640, 640)\n"
          ]
        },
        {
          "output_type": "stream",
          "name": "stderr",
          "text": [
            "\rDetecting in /content/Hucre-Detector-1/train/images:  15%|█▍        | 364/2450 [05:02<33:25,  1.04it/s]"
          ]
        },
        {
          "output_type": "stream",
          "name": "stdout",
          "text": [
            "\n",
            "image 1/1 /content/Hucre-Detector-1/train/images/Screenshot-2023-12-01-215245_png.rf.35dc2e407d302fe86f00461f74ce4757.jpg: 640x640 62 PV CELLs, 532.1ms\n",
            "Speed: 5.3ms preprocess, 532.1ms inference, 11.1ms postprocess per image at shape (1, 3, 640, 640)\n"
          ]
        },
        {
          "output_type": "stream",
          "name": "stderr",
          "text": [
            "\rDetecting in /content/Hucre-Detector-1/train/images:  15%|█▍        | 365/2450 [05:02<29:47,  1.17it/s]"
          ]
        },
        {
          "output_type": "stream",
          "name": "stdout",
          "text": [
            "\n",
            "image 1/1 /content/Hucre-Detector-1/train/images/DJI_20231117125943_0515_Z_JPG.rf.cf0c810a97bb4f890a0512da17f17e02.jpg: 640x640 155 PV CELLs, 601.7ms\n",
            "Speed: 4.1ms preprocess, 601.7ms inference, 25.3ms postprocess per image at shape (1, 3, 640, 640)\n"
          ]
        },
        {
          "output_type": "stream",
          "name": "stderr",
          "text": [
            "\rDetecting in /content/Hucre-Detector-1/train/images:  15%|█▍        | 366/2450 [05:03<29:24,  1.18it/s]"
          ]
        },
        {
          "output_type": "stream",
          "name": "stdout",
          "text": [
            "\n",
            "image 1/1 /content/Hucre-Detector-1/train/images/DJI_20240227101259_0104_Z_JPG.rf.4748a36f83aedf744563b4d7c77fa5ce.jpg: 640x640 300 PV CELLs, 602.7ms\n",
            "Speed: 5.0ms preprocess, 602.7ms inference, 48.5ms postprocess per image at shape (1, 3, 640, 640)\n"
          ]
        },
        {
          "output_type": "stream",
          "name": "stderr",
          "text": [
            "\rDetecting in /content/Hucre-Detector-1/train/images:  15%|█▍        | 367/2450 [05:04<30:03,  1.15it/s]"
          ]
        },
        {
          "output_type": "stream",
          "name": "stdout",
          "text": [
            "\n",
            "image 1/1 /content/Hucre-Detector-1/train/images/DJI_20231229121510_0226_Z_JPG.rf.649f679e6fc691b93e0285f6912a593a.jpg: 640x640 300 PV CELLs, 571.4ms\n",
            "Speed: 7.1ms preprocess, 571.4ms inference, 19.0ms postprocess per image at shape (1, 3, 640, 640)\n"
          ]
        },
        {
          "output_type": "stream",
          "name": "stderr",
          "text": [
            "\rDetecting in /content/Hucre-Detector-1/train/images:  15%|█▌        | 368/2450 [05:05<29:57,  1.16it/s]"
          ]
        },
        {
          "output_type": "stream",
          "name": "stdout",
          "text": [
            "\n",
            "image 1/1 /content/Hucre-Detector-1/train/images/0825_JPG.rf.1d515c08506a38f0a92ca63f1bd88aba.jpg: 480x640 300 PV CELLs, 421.3ms\n",
            "Speed: 4.0ms preprocess, 421.3ms inference, 19.2ms postprocess per image at shape (1, 3, 480, 640)\n"
          ]
        },
        {
          "output_type": "stream",
          "name": "stderr",
          "text": [
            "\rDetecting in /content/Hucre-Detector-1/train/images:  15%|█▌        | 369/2450 [05:06<27:42,  1.25it/s]"
          ]
        },
        {
          "output_type": "stream",
          "name": "stdout",
          "text": [
            "\n",
            "image 1/1 /content/Hucre-Detector-1/train/images/DJI_20231117112723_0036_Z_JPG.rf.5a807c6716ecd24acbefe479ca54a71b.jpg: 640x640 300 PV CELLs, 552.7ms\n",
            "Speed: 4.4ms preprocess, 552.7ms inference, 22.0ms postprocess per image at shape (1, 3, 640, 640)\n"
          ]
        },
        {
          "output_type": "stream",
          "name": "stderr",
          "text": [
            "\rDetecting in /content/Hucre-Detector-1/train/images:  15%|█▌        | 370/2450 [05:07<28:01,  1.24it/s]"
          ]
        },
        {
          "output_type": "stream",
          "name": "stdout",
          "text": [
            "\n",
            "image 1/1 /content/Hucre-Detector-1/train/images/0802_JPG.rf.369ea014329de248b477568a9d275a81.jpg: 480x640 300 PV CELLs, 436.5ms\n",
            "Speed: 3.4ms preprocess, 436.5ms inference, 36.9ms postprocess per image at shape (1, 3, 480, 640)\n"
          ]
        },
        {
          "output_type": "stream",
          "name": "stderr",
          "text": [
            "\rDetecting in /content/Hucre-Detector-1/train/images:  15%|█▌        | 371/2450 [05:07<26:32,  1.31it/s]"
          ]
        },
        {
          "output_type": "stream",
          "name": "stdout",
          "text": [
            "\n",
            "image 1/1 /content/Hucre-Detector-1/train/images/DJI_20231120115707_0441_Z_JPG.rf.1a61518bd5c9b2e9f499a798a9dcb08d.jpg: 640x640 300 PV CELLs, 589.8ms\n",
            "Speed: 5.8ms preprocess, 589.8ms inference, 36.0ms postprocess per image at shape (1, 3, 640, 640)\n"
          ]
        },
        {
          "output_type": "stream",
          "name": "stderr",
          "text": [
            "\rDetecting in /content/Hucre-Detector-1/train/images:  15%|█▌        | 372/2450 [05:08<27:46,  1.25it/s]"
          ]
        },
        {
          "output_type": "stream",
          "name": "stdout",
          "text": [
            "\n",
            "image 1/1 /content/Hucre-Detector-1/train/images/DJI_20231117132234_0112_Z_JPG.rf.365535d110189fef76283359380398dd.jpg: 640x640 300 PV CELLs, 661.9ms\n",
            "Speed: 5.6ms preprocess, 661.9ms inference, 31.1ms postprocess per image at shape (1, 3, 640, 640)\n"
          ]
        },
        {
          "output_type": "stream",
          "name": "stderr",
          "text": [
            "\rDetecting in /content/Hucre-Detector-1/train/images:  15%|█▌        | 373/2450 [05:09<29:25,  1.18it/s]"
          ]
        },
        {
          "output_type": "stream",
          "name": "stdout",
          "text": [
            "\n",
            "image 1/1 /content/Hucre-Detector-1/train/images/DJI_20231117140430_0105_Z_JPG.rf.d7a5be5493d2c82b6a798ff05437d5ac.jpg: 640x640 300 PV CELLs, 529.2ms\n",
            "Speed: 4.3ms preprocess, 529.2ms inference, 28.2ms postprocess per image at shape (1, 3, 640, 640)\n"
          ]
        },
        {
          "output_type": "stream",
          "name": "stderr",
          "text": [
            "\rDetecting in /content/Hucre-Detector-1/train/images:  15%|█▌        | 374/2450 [05:10<29:23,  1.18it/s]"
          ]
        },
        {
          "output_type": "stream",
          "name": "stdout",
          "text": [
            "\n",
            "image 1/1 /content/Hucre-Detector-1/train/images/DJI_20240227114349_0385_Z_JPG.rf.3eb11a4fd17362e3c6ebcf5fb141728e.jpg: 640x640 300 PV CELLs, 772.0ms\n",
            "Speed: 4.4ms preprocess, 772.0ms inference, 163.4ms postprocess per image at shape (1, 3, 640, 640)\n"
          ]
        },
        {
          "output_type": "stream",
          "name": "stderr",
          "text": [
            "\rDetecting in /content/Hucre-Detector-1/train/images:  15%|█▌        | 375/2450 [05:11<34:08,  1.01it/s]"
          ]
        },
        {
          "output_type": "stream",
          "name": "stdout",
          "text": [
            "\n",
            "image 1/1 /content/Hucre-Detector-1/train/images/0484_JPG.rf.631d3d22b193a938ddaca94701467019.jpg: 480x640 300 PV CELLs, 637.5ms\n",
            "Speed: 8.3ms preprocess, 637.5ms inference, 46.5ms postprocess per image at shape (1, 3, 480, 640)\n"
          ]
        },
        {
          "output_type": "stream",
          "name": "stderr",
          "text": [
            "\rDetecting in /content/Hucre-Detector-1/train/images:  15%|█▌        | 376/2450 [05:12<34:11,  1.01it/s]"
          ]
        },
        {
          "output_type": "stream",
          "name": "stdout",
          "text": [
            "\n",
            "image 1/1 /content/Hucre-Detector-1/train/images/DJI_20231229115026_0501_Z_JPG.rf.ef0146fbeddaef6d4823f99f4d5d7494.jpg: 640x640 288 PV CELLs, 835.2ms\n",
            "Speed: 7.0ms preprocess, 835.2ms inference, 20.4ms postprocess per image at shape (1, 3, 640, 640)\n"
          ]
        },
        {
          "output_type": "stream",
          "name": "stderr",
          "text": [
            "\rDetecting in /content/Hucre-Detector-1/train/images:  15%|█▌        | 377/2450 [05:13<35:25,  1.03s/it]"
          ]
        },
        {
          "output_type": "stream",
          "name": "stdout",
          "text": [
            "\n",
            "image 1/1 /content/Hucre-Detector-1/train/images/DJI_20231117104324_0401_Z_JPG.rf.a1509469a5dcd4b21561c3a2b8703397.jpg: 640x640 90 PV CELLs, 520.1ms\n",
            "Speed: 4.4ms preprocess, 520.1ms inference, 9.1ms postprocess per image at shape (1, 3, 640, 640)\n"
          ]
        },
        {
          "output_type": "stream",
          "name": "stderr",
          "text": [
            "\rDetecting in /content/Hucre-Detector-1/train/images:  15%|█▌        | 378/2450 [05:14<31:38,  1.09it/s]"
          ]
        },
        {
          "output_type": "stream",
          "name": "stdout",
          "text": [
            "\n",
            "image 1/1 /content/Hucre-Detector-1/train/images/DJI_20231122120952_0482_Z_JPG.rf.67e8f61c9aa2c068d981e952ed96bc88.jpg: 640x640 300 PV CELLs, 565.9ms\n",
            "Speed: 4.2ms preprocess, 565.9ms inference, 69.0ms postprocess per image at shape (1, 3, 640, 640)\n"
          ]
        },
        {
          "output_type": "stream",
          "name": "stderr",
          "text": [
            "\rDetecting in /content/Hucre-Detector-1/train/images:  15%|█▌        | 379/2450 [05:15<31:26,  1.10it/s]"
          ]
        },
        {
          "output_type": "stream",
          "name": "stdout",
          "text": [
            "\n",
            "image 1/1 /content/Hucre-Detector-1/train/images/Screenshot-2023-12-01-230806_png.rf.708706ac78b08d103979d9f832991c8a.jpg: 640x640 81 PV CELLs, 567.3ms\n",
            "Speed: 6.6ms preprocess, 567.3ms inference, 6.2ms postprocess per image at shape (1, 3, 640, 640)\n"
          ]
        },
        {
          "output_type": "stream",
          "name": "stderr",
          "text": [
            "\rDetecting in /content/Hucre-Detector-1/train/images:  16%|█▌        | 380/2450 [05:16<28:41,  1.20it/s]"
          ]
        },
        {
          "output_type": "stream",
          "name": "stdout",
          "text": [
            "\n",
            "image 1/1 /content/Hucre-Detector-1/train/images/DJI_20231117132525_0195_Z_JPG.rf.6e6556b54b9871b1cfe75dbd1ea9b0e5.jpg: 640x640 300 PV CELLs, 595.9ms\n",
            "Speed: 5.3ms preprocess, 595.9ms inference, 41.4ms postprocess per image at shape (1, 3, 640, 640)\n"
          ]
        },
        {
          "output_type": "stream",
          "name": "stderr",
          "text": [
            "\rDetecting in /content/Hucre-Detector-1/train/images:  16%|█▌        | 381/2450 [05:16<29:37,  1.16it/s]"
          ]
        },
        {
          "output_type": "stream",
          "name": "stdout",
          "text": [
            "\n",
            "image 1/1 /content/Hucre-Detector-1/train/images/DJI_20231117141610_0444_Z_JPG.rf.ed45ed295b294736b7ed387880c90c10.jpg: 640x640 300 PV CELLs, 568.6ms\n",
            "Speed: 5.0ms preprocess, 568.6ms inference, 39.2ms postprocess per image at shape (1, 3, 640, 640)\n"
          ]
        },
        {
          "output_type": "stream",
          "name": "stderr",
          "text": [
            "\rDetecting in /content/Hucre-Detector-1/train/images:  16%|█▌        | 382/2450 [05:17<30:01,  1.15it/s]"
          ]
        },
        {
          "output_type": "stream",
          "name": "stdout",
          "text": [
            "\n",
            "image 1/1 /content/Hucre-Detector-1/train/images/0347_JPG.rf.1fd4e72d254ff058692263e89e8cf795.jpg: 480x640 75 PV CELLs, 462.4ms\n",
            "Speed: 3.9ms preprocess, 462.4ms inference, 3.0ms postprocess per image at shape (1, 3, 480, 640)\n"
          ]
        },
        {
          "output_type": "stream",
          "name": "stderr",
          "text": [
            "\rDetecting in /content/Hucre-Detector-1/train/images:  16%|█▌        | 383/2450 [05:18<26:56,  1.28it/s]"
          ]
        },
        {
          "output_type": "stream",
          "name": "stdout",
          "text": [
            "\n",
            "image 1/1 /content/Hucre-Detector-1/train/images/DJI_20250506154701_0038_V_JPG.rf.6e0649e6246a23ab2e4a5e464d16f728.jpg: 640x640 300 PV CELLs, 595.6ms\n",
            "Speed: 3.8ms preprocess, 595.6ms inference, 70.0ms postprocess per image at shape (1, 3, 640, 640)\n"
          ]
        },
        {
          "output_type": "stream",
          "name": "stderr",
          "text": [
            "\rDetecting in /content/Hucre-Detector-1/train/images:  16%|█▌        | 384/2450 [05:19<26:20,  1.31it/s]"
          ]
        },
        {
          "output_type": "stream",
          "name": "stdout",
          "text": [
            "\n",
            "image 1/1 /content/Hucre-Detector-1/train/images/0950_JPG.rf.eb6b7bba96556c4e90d96622dc75ee56.jpg: 480x640 2 PV CELLs, 436.1ms\n",
            "Speed: 4.1ms preprocess, 436.1ms inference, 1.2ms postprocess per image at shape (1, 3, 480, 640)\n"
          ]
        },
        {
          "output_type": "stream",
          "name": "stderr",
          "text": [
            "\rDetecting in /content/Hucre-Detector-1/train/images:  16%|█▌        | 385/2450 [05:19<23:46,  1.45it/s]"
          ]
        },
        {
          "output_type": "stream",
          "name": "stdout",
          "text": [
            "\n",
            "image 1/1 /content/Hucre-Detector-1/train/images/MAX_0085_JPG.rf.d64b98f711448f12f5741ceeb9540244.jpg: 480x640 300 PV CELLs, 420.8ms\n",
            "Speed: 4.7ms preprocess, 420.8ms inference, 11.8ms postprocess per image at shape (1, 3, 480, 640)\n"
          ]
        },
        {
          "output_type": "stream",
          "name": "stderr",
          "text": [
            "\rDetecting in /content/Hucre-Detector-1/train/images:  16%|█▌        | 386/2450 [05:20<27:08,  1.27it/s]"
          ]
        },
        {
          "output_type": "stream",
          "name": "stdout",
          "text": [
            "\n",
            "image 1/1 /content/Hucre-Detector-1/train/images/0073_JPG.rf.d935f2bee62195d8b72a7f1d760843e4.jpg: 480x640 72 PV CELLs, 453.1ms\n",
            "Speed: 3.9ms preprocess, 453.1ms inference, 6.1ms postprocess per image at shape (1, 3, 480, 640)\n"
          ]
        },
        {
          "output_type": "stream",
          "name": "stderr",
          "text": [
            "\rDetecting in /content/Hucre-Detector-1/train/images:  16%|█▌        | 387/2450 [05:21<24:56,  1.38it/s]"
          ]
        },
        {
          "output_type": "stream",
          "name": "stdout",
          "text": [
            "\n",
            "image 1/1 /content/Hucre-Detector-1/train/images/DJI_20240124132210_0283_Z_JPG.rf.2cdaa6d3f0936e9d91125626bc31a0b6.jpg: 640x640 300 PV CELLs, 599.1ms\n",
            "Speed: 5.1ms preprocess, 599.1ms inference, 26.7ms postprocess per image at shape (1, 3, 640, 640)\n"
          ]
        },
        {
          "output_type": "stream",
          "name": "stderr",
          "text": [
            "\rDetecting in /content/Hucre-Detector-1/train/images:  16%|█▌        | 388/2450 [05:22<26:33,  1.29it/s]"
          ]
        },
        {
          "output_type": "stream",
          "name": "stdout",
          "text": [
            "\n",
            "image 1/1 /content/Hucre-Detector-1/train/images/DJI_20240227101332_0120_Z_JPG.rf.e6f21a48c7d02fd313ff7a9d1c5adb4b.jpg: 640x640 300 PV CELLs, 561.0ms\n",
            "Speed: 5.2ms preprocess, 561.0ms inference, 48.6ms postprocess per image at shape (1, 3, 640, 640)\n"
          ]
        },
        {
          "output_type": "stream",
          "name": "stderr",
          "text": [
            "\rDetecting in /content/Hucre-Detector-1/train/images:  16%|█▌        | 389/2450 [05:23<27:37,  1.24it/s]"
          ]
        },
        {
          "output_type": "stream",
          "name": "stdout",
          "text": [
            "\n",
            "image 1/1 /content/Hucre-Detector-1/train/images/DJI_20231117111013_0373_Z_JPG.rf.de988bd1641faecf48e80741aeb20b83.jpg: 640x640 3 PV CELLs, 609.0ms\n",
            "Speed: 4.5ms preprocess, 609.0ms inference, 2.1ms postprocess per image at shape (1, 3, 640, 640)\n"
          ]
        },
        {
          "output_type": "stream",
          "name": "stderr",
          "text": [
            "\rDetecting in /content/Hucre-Detector-1/train/images:  16%|█▌        | 390/2450 [05:23<26:48,  1.28it/s]"
          ]
        },
        {
          "output_type": "stream",
          "name": "stdout",
          "text": [
            "\n",
            "image 1/1 /content/Hucre-Detector-1/train/images/DJI_20231117134302_0020_Z_JPG.rf.4e3911e642894f55e3043aca287cd16d.jpg: 640x640 300 PV CELLs, 899.9ms\n",
            "Speed: 7.8ms preprocess, 899.9ms inference, 37.4ms postprocess per image at shape (1, 3, 640, 640)\n"
          ]
        },
        {
          "output_type": "stream",
          "name": "stderr",
          "text": [
            "\rDetecting in /content/Hucre-Detector-1/train/images:  16%|█▌        | 391/2450 [05:25<32:48,  1.05it/s]"
          ]
        },
        {
          "output_type": "stream",
          "name": "stdout",
          "text": [
            "\n",
            "image 1/1 /content/Hucre-Detector-1/train/images/Ekran-Goruntusu-2025-08-25-18-36-15_png.rf.9ce72c816e2b920f3ec618e6feffd7a1.jpg: 288x640 31 PV CELLs, 420.1ms\n",
            "Speed: 3.3ms preprocess, 420.1ms inference, 8.8ms postprocess per image at shape (1, 3, 288, 640)\n"
          ]
        },
        {
          "output_type": "stream",
          "name": "stderr",
          "text": [
            "\rDetecting in /content/Hucre-Detector-1/train/images:  16%|█▌        | 392/2450 [05:25<28:05,  1.22it/s]"
          ]
        },
        {
          "output_type": "stream",
          "name": "stdout",
          "text": [
            "\n",
            "image 1/1 /content/Hucre-Detector-1/train/images/DJI_20240219102753_0473_Z_JPG.rf.f54e72d5b52ac06fd7aafebda16fc1d1.jpg: 640x640 226 PV CELLs, 825.2ms\n",
            "Speed: 7.3ms preprocess, 825.2ms inference, 38.9ms postprocess per image at shape (1, 3, 640, 640)\n"
          ]
        },
        {
          "output_type": "stream",
          "name": "stderr",
          "text": [
            "\rDetecting in /content/Hucre-Detector-1/train/images:  16%|█▌        | 393/2450 [05:26<31:33,  1.09it/s]"
          ]
        },
        {
          "output_type": "stream",
          "name": "stdout",
          "text": [
            "\n",
            "image 1/1 /content/Hucre-Detector-1/train/images/DJI_20240307095205_0461_Z_JPG.rf.a7d51749a8288948265a6f0bed4391ab.jpg: 640x640 300 PV CELLs, 603.6ms\n",
            "Speed: 4.9ms preprocess, 603.6ms inference, 46.3ms postprocess per image at shape (1, 3, 640, 640)\n"
          ]
        },
        {
          "output_type": "stream",
          "name": "stderr",
          "text": [
            "\rDetecting in /content/Hucre-Detector-1/train/images:  16%|█▌        | 394/2450 [05:27<31:33,  1.09it/s]"
          ]
        },
        {
          "output_type": "stream",
          "name": "stdout",
          "text": [
            "\n",
            "image 1/1 /content/Hucre-Detector-1/train/images/0090_JPG.rf.66c2fac081cfbe632245698c4c18d6fe.jpg: 480x640 4 PV CELLs, 421.5ms\n",
            "Speed: 3.9ms preprocess, 421.5ms inference, 1.4ms postprocess per image at shape (1, 3, 480, 640)\n"
          ]
        },
        {
          "output_type": "stream",
          "name": "stderr",
          "text": [
            "\rDetecting in /content/Hucre-Detector-1/train/images:  16%|█▌        | 395/2450 [05:28<27:11,  1.26it/s]"
          ]
        },
        {
          "output_type": "stream",
          "name": "stdout",
          "text": [
            "\n",
            "image 1/1 /content/Hucre-Detector-1/train/images/DJI_20231230104339_0433_Z_JPG.rf.26d5aab1d0b21c49b8034ec9d14a25bf.jpg: 640x640 300 PV CELLs, 593.9ms\n",
            "Speed: 5.1ms preprocess, 593.9ms inference, 42.1ms postprocess per image at shape (1, 3, 640, 640)\n"
          ]
        },
        {
          "output_type": "stream",
          "name": "stderr",
          "text": [
            "\rDetecting in /content/Hucre-Detector-1/train/images:  16%|█▌        | 396/2450 [05:29<28:25,  1.20it/s]"
          ]
        },
        {
          "output_type": "stream",
          "name": "stdout",
          "text": [
            "\n",
            "image 1/1 /content/Hucre-Detector-1/train/images/DJI_20231229131218_0559_Z_JPG.rf.0f3785d9fd04419451dcd281cf69c05f.jpg: 640x640 250 PV CELLs, 605.2ms\n",
            "Speed: 5.0ms preprocess, 605.2ms inference, 33.6ms postprocess per image at shape (1, 3, 640, 640)\n"
          ]
        },
        {
          "output_type": "stream",
          "name": "stderr",
          "text": [
            "\rDetecting in /content/Hucre-Detector-1/train/images:  16%|█▌        | 397/2450 [05:29<28:44,  1.19it/s]"
          ]
        },
        {
          "output_type": "stream",
          "name": "stdout",
          "text": [
            "\n",
            "image 1/1 /content/Hucre-Detector-1/train/images/DJI_20240307111540_0366_Z_JPG.rf.a149c49a2ba0dc8a293d498ba9fe47bd.jpg: 640x640 300 PV CELLs, 571.4ms\n",
            "Speed: 5.0ms preprocess, 571.4ms inference, 35.9ms postprocess per image at shape (1, 3, 640, 640)\n"
          ]
        },
        {
          "output_type": "stream",
          "name": "stderr",
          "text": [
            "\rDetecting in /content/Hucre-Detector-1/train/images:  16%|█▌        | 398/2450 [05:30<29:14,  1.17it/s]"
          ]
        },
        {
          "output_type": "stream",
          "name": "stdout",
          "text": [
            "\n",
            "image 1/1 /content/Hucre-Detector-1/train/images/DJI_20231121103725_0095_Z_JPG.rf.5fee292ff2634d890f7af1f7379f272c.jpg: 640x640 212 PV CELLs, 586.7ms\n",
            "Speed: 5.9ms preprocess, 586.7ms inference, 27.1ms postprocess per image at shape (1, 3, 640, 640)\n"
          ]
        },
        {
          "output_type": "stream",
          "name": "stderr",
          "text": [
            "\rDetecting in /content/Hucre-Detector-1/train/images:  16%|█▋        | 399/2450 [05:31<29:02,  1.18it/s]"
          ]
        },
        {
          "output_type": "stream",
          "name": "stdout",
          "text": [
            "\n",
            "image 1/1 /content/Hucre-Detector-1/train/images/0667_JPG.rf.9197801c58ea0602f9426064e80c7a69.jpg: 480x640 117 PV CELLs, 418.1ms\n",
            "Speed: 3.8ms preprocess, 418.1ms inference, 15.9ms postprocess per image at shape (1, 3, 480, 640)\n"
          ]
        },
        {
          "output_type": "stream",
          "name": "stderr",
          "text": [
            "\rDetecting in /content/Hucre-Detector-1/train/images:  16%|█▋        | 400/2450 [05:32<25:57,  1.32it/s]"
          ]
        },
        {
          "output_type": "stream",
          "name": "stdout",
          "text": [
            "\n",
            "image 1/1 /content/Hucre-Detector-1/train/images/DJI_20231117110555_0247_Z_JPG.rf.58b1bb421ef6a7dbf57c760754c38c9f.jpg: 640x640 300 PV CELLs, 615.1ms\n",
            "Speed: 5.0ms preprocess, 615.1ms inference, 26.9ms postprocess per image at shape (1, 3, 640, 640)\n"
          ]
        },
        {
          "output_type": "stream",
          "name": "stderr",
          "text": [
            "\rDetecting in /content/Hucre-Detector-1/train/images:  16%|█▋        | 401/2450 [05:33<27:27,  1.24it/s]"
          ]
        },
        {
          "output_type": "stream",
          "name": "stdout",
          "text": [
            "\n",
            "image 1/1 /content/Hucre-Detector-1/train/images/DJI_20231122121314_0581_Z_JPG.rf.647f8b70b9530e12fd66b31b65887fdc.jpg: 640x640 300 PV CELLs, 598.3ms\n",
            "Speed: 5.2ms preprocess, 598.3ms inference, 42.3ms postprocess per image at shape (1, 3, 640, 640)\n"
          ]
        },
        {
          "output_type": "stream",
          "name": "stderr",
          "text": [
            "\rDetecting in /content/Hucre-Detector-1/train/images:  16%|█▋        | 402/2450 [05:34<28:27,  1.20it/s]"
          ]
        },
        {
          "output_type": "stream",
          "name": "stdout",
          "text": [
            "\n",
            "image 1/1 /content/Hucre-Detector-1/train/images/DJI_20231117142032_0557_Z_JPG.rf.2d7124e7714b73d0fe3a68ba38c6c669.jpg: 640x640 206 PV CELLs, 587.2ms\n",
            "Speed: 5.1ms preprocess, 587.2ms inference, 16.0ms postprocess per image at shape (1, 3, 640, 640)\n"
          ]
        },
        {
          "output_type": "stream",
          "name": "stderr",
          "text": [
            "\rDetecting in /content/Hucre-Detector-1/train/images:  16%|█▋        | 403/2450 [05:34<28:17,  1.21it/s]"
          ]
        },
        {
          "output_type": "stream",
          "name": "stdout",
          "text": [
            "\n",
            "image 1/1 /content/Hucre-Detector-1/train/images/0967_JPG.rf.babbaddc76f46f5161f40c4df8f59f42.jpg: 480x640 5 PV CELLs, 421.9ms\n",
            "Speed: 4.0ms preprocess, 421.9ms inference, 1.4ms postprocess per image at shape (1, 3, 480, 640)\n"
          ]
        },
        {
          "output_type": "stream",
          "name": "stderr",
          "text": [
            "\rDetecting in /content/Hucre-Detector-1/train/images:  16%|█▋        | 404/2450 [05:35<24:57,  1.37it/s]"
          ]
        },
        {
          "output_type": "stream",
          "name": "stdout",
          "text": [
            "\n",
            "image 1/1 /content/Hucre-Detector-1/train/images/0416_JPG.rf.b7dcb8cb507a740c41de213b60ad6d67.jpg: 480x640 300 PV CELLs, 450.7ms\n",
            "Speed: 4.2ms preprocess, 450.7ms inference, 16.1ms postprocess per image at shape (1, 3, 480, 640)\n"
          ]
        },
        {
          "output_type": "stream",
          "name": "stderr",
          "text": [
            "\rDetecting in /content/Hucre-Detector-1/train/images:  17%|█▋        | 405/2450 [05:36<24:03,  1.42it/s]"
          ]
        },
        {
          "output_type": "stream",
          "name": "stdout",
          "text": [
            "\n",
            "image 1/1 /content/Hucre-Detector-1/train/images/0365_JPG.rf.45cc77e89eb7baebc8ba67e5051ad58e.jpg: 480x640 300 PV CELLs, 431.4ms\n",
            "Speed: 3.5ms preprocess, 431.4ms inference, 72.9ms postprocess per image at shape (1, 3, 480, 640)\n"
          ]
        },
        {
          "output_type": "stream",
          "name": "stderr",
          "text": [
            "\rDetecting in /content/Hucre-Detector-1/train/images:  17%|█▋        | 406/2450 [05:36<24:48,  1.37it/s]"
          ]
        },
        {
          "output_type": "stream",
          "name": "stdout",
          "text": [
            "\n",
            "image 1/1 /content/Hucre-Detector-1/train/images/MAX_0070_JPG.rf.07425bc52498a934da197a3ca3f9d8d1.jpg: 480x640 300 PV CELLs, 657.5ms\n",
            "Speed: 6.0ms preprocess, 657.5ms inference, 33.5ms postprocess per image at shape (1, 3, 480, 640)\n"
          ]
        },
        {
          "output_type": "stream",
          "name": "stderr",
          "text": [
            "\rDetecting in /content/Hucre-Detector-1/train/images:  17%|█▋        | 407/2450 [05:38<32:26,  1.05it/s]"
          ]
        },
        {
          "output_type": "stream",
          "name": "stdout",
          "text": [
            "\n",
            "image 1/1 /content/Hucre-Detector-1/train/images/0315_JPG.rf.f8524b8e785800e1a6fe0eadfffc5a5b.jpg: 480x640 (no detections), 703.1ms\n",
            "Speed: 8.0ms preprocess, 703.1ms inference, 0.9ms postprocess per image at shape (1, 3, 480, 640)\n"
          ]
        },
        {
          "output_type": "stream",
          "name": "stderr",
          "text": [
            "\rDetecting in /content/Hucre-Detector-1/train/images:  17%|█▋        | 408/2450 [05:39<31:01,  1.10it/s]"
          ]
        },
        {
          "output_type": "stream",
          "name": "stdout",
          "text": [
            "\n",
            "image 1/1 /content/Hucre-Detector-1/train/images/DJI_20231229121851_0335_Z_JPG.rf.41d2c8bbb4ad9e6a7b268ea4c34dea53.jpg: 640x640 300 PV CELLs, 662.2ms\n",
            "Speed: 7.3ms preprocess, 662.2ms inference, 42.0ms postprocess per image at shape (1, 3, 640, 640)\n"
          ]
        },
        {
          "output_type": "stream",
          "name": "stderr",
          "text": [
            "\rDetecting in /content/Hucre-Detector-1/train/images:  17%|█▋        | 409/2450 [05:40<31:53,  1.07it/s]"
          ]
        },
        {
          "output_type": "stream",
          "name": "stdout",
          "text": [
            "\n",
            "image 1/1 /content/Hucre-Detector-1/train/images/DJI_20231117143755_0176_Z_JPG.rf.253dc571d9d968fb1b87b00df552a789.jpg: 640x640 300 PV CELLs, 564.6ms\n",
            "Speed: 5.7ms preprocess, 564.6ms inference, 32.5ms postprocess per image at shape (1, 3, 640, 640)\n"
          ]
        },
        {
          "output_type": "stream",
          "name": "stderr",
          "text": [
            "\rDetecting in /content/Hucre-Detector-1/train/images:  17%|█▋        | 410/2450 [05:40<31:23,  1.08it/s]"
          ]
        },
        {
          "output_type": "stream",
          "name": "stdout",
          "text": [
            "\n",
            "image 1/1 /content/Hucre-Detector-1/train/images/DJI_20231117110723_0290_Z_JPG.rf.3be15d15d23a22fd2cbd24d57cf654b0.jpg: 640x640 300 PV CELLs, 571.3ms\n",
            "Speed: 5.0ms preprocess, 571.3ms inference, 27.3ms postprocess per image at shape (1, 3, 640, 640)\n"
          ]
        },
        {
          "output_type": "stream",
          "name": "stderr",
          "text": [
            "\rDetecting in /content/Hucre-Detector-1/train/images:  17%|█▋        | 411/2450 [05:41<30:57,  1.10it/s]"
          ]
        },
        {
          "output_type": "stream",
          "name": "stdout",
          "text": [
            "\n",
            "image 1/1 /content/Hucre-Detector-1/train/images/DJI_20231117132507_0186_Z_JPG.rf.cd058c602430fcb10847b3d79fc2d9bd.jpg: 640x640 144 PV CELLs, 557.5ms\n",
            "Speed: 5.2ms preprocess, 557.5ms inference, 11.3ms postprocess per image at shape (1, 3, 640, 640)\n"
          ]
        },
        {
          "output_type": "stream",
          "name": "stderr",
          "text": [
            "\rDetecting in /content/Hucre-Detector-1/train/images:  17%|█▋        | 412/2450 [05:42<29:18,  1.16it/s]"
          ]
        },
        {
          "output_type": "stream",
          "name": "stdout",
          "text": [
            "\n",
            "image 1/1 /content/Hucre-Detector-1/train/images/0204_JPG.rf.def4e361fc7e65097bc847f24e559974.jpg: 480x640 2 PV CELLs, 433.0ms\n",
            "Speed: 3.3ms preprocess, 433.0ms inference, 1.2ms postprocess per image at shape (1, 3, 480, 640)\n"
          ]
        },
        {
          "output_type": "stream",
          "name": "stderr",
          "text": [
            "\rDetecting in /content/Hucre-Detector-1/train/images:  17%|█▋        | 413/2450 [05:43<25:42,  1.32it/s]"
          ]
        },
        {
          "output_type": "stream",
          "name": "stdout",
          "text": [
            "\n",
            "image 1/1 /content/Hucre-Detector-1/train/images/DJI_20231117130338_0629_Z_JPG.rf.9928c9b3e019a40a682881b7193df816.jpg: 640x640 300 PV CELLs, 552.4ms\n",
            "Speed: 5.0ms preprocess, 552.4ms inference, 19.5ms postprocess per image at shape (1, 3, 640, 640)\n"
          ]
        },
        {
          "output_type": "stream",
          "name": "stderr",
          "text": [
            "\rDetecting in /content/Hucre-Detector-1/train/images:  17%|█▋        | 414/2450 [05:43<26:32,  1.28it/s]"
          ]
        },
        {
          "output_type": "stream",
          "name": "stdout",
          "text": [
            "\n",
            "image 1/1 /content/Hucre-Detector-1/train/images/DJI_20231117132115_0074_Z_JPG.rf.3b5cfdac3e5add5fff10b515f324844a.jpg: 640x640 143 PV CELLs, 624.5ms\n",
            "Speed: 5.2ms preprocess, 624.5ms inference, 21.6ms postprocess per image at shape (1, 3, 640, 640)\n"
          ]
        },
        {
          "output_type": "stream",
          "name": "stderr",
          "text": [
            "\rDetecting in /content/Hucre-Detector-1/train/images:  17%|█▋        | 415/2450 [05:44<27:11,  1.25it/s]"
          ]
        },
        {
          "output_type": "stream",
          "name": "stdout",
          "text": [
            "\n",
            "image 1/1 /content/Hucre-Detector-1/train/images/0125_JPG.rf.7320eb8f0d59b495a6e6f488370194d1.jpg: 480x640 3 PV CELLs, 431.6ms\n",
            "Speed: 4.1ms preprocess, 431.6ms inference, 1.3ms postprocess per image at shape (1, 3, 480, 640)\n"
          ]
        },
        {
          "output_type": "stream",
          "name": "stderr",
          "text": [
            "\rDetecting in /content/Hucre-Detector-1/train/images:  17%|█▋        | 416/2450 [05:45<24:20,  1.39it/s]"
          ]
        },
        {
          "output_type": "stream",
          "name": "stdout",
          "text": [
            "\n",
            "image 1/1 /content/Hucre-Detector-1/train/images/Screenshot-2023-12-01-230100_png.rf.0dbde70bf1448703818be08b9fbba148.jpg: 640x640 28 PV CELLs, 556.8ms\n",
            "Speed: 6.1ms preprocess, 556.8ms inference, 4.6ms postprocess per image at shape (1, 3, 640, 640)\n"
          ]
        },
        {
          "output_type": "stream",
          "name": "stderr",
          "text": [
            "\rDetecting in /content/Hucre-Detector-1/train/images:  17%|█▋        | 417/2450 [05:45<23:16,  1.46it/s]"
          ]
        },
        {
          "output_type": "stream",
          "name": "stdout",
          "text": [
            "\n",
            "image 1/1 /content/Hucre-Detector-1/train/images/Ekran-Goruntusu-2025-08-25-18-54-14_png.rf.0277c8702be6de1b0fe4fd67733e321c.jpg: 288x640 61 PV CELLs, 273.1ms\n",
            "Speed: 3.0ms preprocess, 273.1ms inference, 5.6ms postprocess per image at shape (1, 3, 288, 640)\n"
          ]
        },
        {
          "output_type": "stream",
          "name": "stderr",
          "text": [
            "\rDetecting in /content/Hucre-Detector-1/train/images:  17%|█▋        | 418/2450 [05:46<19:40,  1.72it/s]"
          ]
        },
        {
          "output_type": "stream",
          "name": "stdout",
          "text": [
            "\n",
            "image 1/1 /content/Hucre-Detector-1/train/images/DJI_20240218111830_0527_Z_JPG.rf.23a4be64913e3e855024a7e8babe1713.jpg: 640x640 300 PV CELLs, 548.4ms\n",
            "Speed: 4.4ms preprocess, 548.4ms inference, 42.3ms postprocess per image at shape (1, 3, 640, 640)\n"
          ]
        },
        {
          "output_type": "stream",
          "name": "stderr",
          "text": [
            "\rDetecting in /content/Hucre-Detector-1/train/images:  17%|█▋        | 419/2450 [05:47<22:17,  1.52it/s]"
          ]
        },
        {
          "output_type": "stream",
          "name": "stdout",
          "text": [
            "\n",
            "image 1/1 /content/Hucre-Detector-1/train/images/DJI_20240219115438_0589_Z_JPG.rf.75414ae6db63b34227cd26992f2ef6d6.jpg: 640x640 300 PV CELLs, 571.9ms\n",
            "Speed: 6.6ms preprocess, 571.9ms inference, 49.8ms postprocess per image at shape (1, 3, 640, 640)\n"
          ]
        },
        {
          "output_type": "stream",
          "name": "stderr",
          "text": [
            "\rDetecting in /content/Hucre-Detector-1/train/images:  17%|█▋        | 420/2450 [05:47<24:26,  1.38it/s]"
          ]
        },
        {
          "output_type": "stream",
          "name": "stdout",
          "text": [
            "\n",
            "image 1/1 /content/Hucre-Detector-1/train/images/DJI_20231115123633_0039_Z_JPG.rf.5d6068549a79ecab4b99ed77065c5ef3.jpg: 480x640 300 PV CELLs, 401.3ms\n",
            "Speed: 3.9ms preprocess, 401.3ms inference, 45.4ms postprocess per image at shape (1, 3, 480, 640)\n"
          ]
        },
        {
          "output_type": "stream",
          "name": "stderr",
          "text": [
            "\rDetecting in /content/Hucre-Detector-1/train/images:  17%|█▋        | 421/2450 [05:49<30:21,  1.11it/s]"
          ]
        },
        {
          "output_type": "stream",
          "name": "stdout",
          "text": [
            "\n",
            "image 1/1 /content/Hucre-Detector-1/train/images/DJI_20231122120909_0461_Z_JPG.rf.6cff0da43e010757544aee6204afda7c.jpg: 640x640 300 PV CELLs, 838.9ms\n",
            "Speed: 6.5ms preprocess, 838.9ms inference, 56.9ms postprocess per image at shape (1, 3, 640, 640)\n"
          ]
        },
        {
          "output_type": "stream",
          "name": "stderr",
          "text": [
            "\rDetecting in /content/Hucre-Detector-1/train/images:  17%|█▋        | 422/2450 [05:50<34:29,  1.02s/it]"
          ]
        },
        {
          "output_type": "stream",
          "name": "stdout",
          "text": [
            "\n",
            "image 1/1 /content/Hucre-Detector-1/train/images/0308_JPG.rf.a558313dc9d2a34c2592f86645e03493.jpg: 480x640 2 PV CELLs, 629.5ms\n",
            "Speed: 7.4ms preprocess, 629.5ms inference, 1.3ms postprocess per image at shape (1, 3, 480, 640)\n"
          ]
        },
        {
          "output_type": "stream",
          "name": "stderr",
          "text": [
            "\rDetecting in /content/Hucre-Detector-1/train/images:  17%|█▋        | 423/2450 [05:51<31:41,  1.07it/s]"
          ]
        },
        {
          "output_type": "stream",
          "name": "stdout",
          "text": [
            "\n",
            "image 1/1 /content/Hucre-Detector-1/train/images/1026_JPG.rf.9ece7c2cfa8811040ae5c8a191b5ae30.jpg: 480x640 157 PV CELLs, 642.2ms\n",
            "Speed: 5.0ms preprocess, 642.2ms inference, 8.0ms postprocess per image at shape (1, 3, 480, 640)\n"
          ]
        },
        {
          "output_type": "stream",
          "name": "stderr",
          "text": [
            "\rDetecting in /content/Hucre-Detector-1/train/images:  17%|█▋        | 424/2450 [05:52<30:06,  1.12it/s]"
          ]
        },
        {
          "output_type": "stream",
          "name": "stdout",
          "text": [
            "\n",
            "image 1/1 /content/Hucre-Detector-1/train/images/DJI_20240227102434_0443_Z_JPG.rf.2e786a61820b20f8118211b54990018a.jpg: 640x640 300 PV CELLs, 583.2ms\n",
            "Speed: 4.4ms preprocess, 583.2ms inference, 55.9ms postprocess per image at shape (1, 3, 640, 640)\n"
          ]
        },
        {
          "output_type": "stream",
          "name": "stderr",
          "text": [
            "\rDetecting in /content/Hucre-Detector-1/train/images:  17%|█▋        | 425/2450 [05:53<30:09,  1.12it/s]"
          ]
        },
        {
          "output_type": "stream",
          "name": "stdout",
          "text": [
            "\n",
            "image 1/1 /content/Hucre-Detector-1/train/images/DJI_20231117103802_0250_Z_JPG.rf.6bedc605a9f9b019db23a08848cfe63e.jpg: 640x640 218 PV CELLs, 578.1ms\n",
            "Speed: 5.2ms preprocess, 578.1ms inference, 30.7ms postprocess per image at shape (1, 3, 640, 640)\n"
          ]
        },
        {
          "output_type": "stream",
          "name": "stderr",
          "text": [
            "\rDetecting in /content/Hucre-Detector-1/train/images:  17%|█▋        | 426/2450 [05:53<29:23,  1.15it/s]"
          ]
        },
        {
          "output_type": "stream",
          "name": "stdout",
          "text": [
            "\n",
            "image 1/1 /content/Hucre-Detector-1/train/images/0774_JPG.rf.20671d61d1048e31684a982a4e31d377.jpg: 480x640 300 PV CELLs, 398.1ms\n",
            "Speed: 3.5ms preprocess, 398.1ms inference, 28.4ms postprocess per image at shape (1, 3, 480, 640)\n"
          ]
        },
        {
          "output_type": "stream",
          "name": "stderr",
          "text": [
            "\rDetecting in /content/Hucre-Detector-1/train/images:  17%|█▋        | 427/2450 [05:54<26:52,  1.25it/s]"
          ]
        },
        {
          "output_type": "stream",
          "name": "stdout",
          "text": [
            "\n",
            "image 1/1 /content/Hucre-Detector-1/train/images/DJI_20231230103708_0240_Z_JPG.rf.0cec6728a01a35c088df92158f7b6a04.jpg: 640x640 240 PV CELLs, 584.4ms\n",
            "Speed: 7.1ms preprocess, 584.4ms inference, 34.6ms postprocess per image at shape (1, 3, 640, 640)\n"
          ]
        },
        {
          "output_type": "stream",
          "name": "stderr",
          "text": [
            "\rDetecting in /content/Hucre-Detector-1/train/images:  17%|█▋        | 428/2450 [05:55<27:40,  1.22it/s]"
          ]
        },
        {
          "output_type": "stream",
          "name": "stdout",
          "text": [
            "\n",
            "image 1/1 /content/Hucre-Detector-1/train/images/Ekran-Goruntusu-2025-08-14-10-27-59_png.rf.3845f3e12828dff3afb35ea213277869.jpg: 384x640 300 PV CELLs, 363.5ms\n",
            "Speed: 3.3ms preprocess, 363.5ms inference, 1.8ms postprocess per image at shape (1, 3, 384, 640)\n"
          ]
        },
        {
          "output_type": "stream",
          "name": "stderr",
          "text": [
            "\rDetecting in /content/Hucre-Detector-1/train/images:  18%|█▊        | 429/2450 [05:55<23:34,  1.43it/s]"
          ]
        },
        {
          "output_type": "stream",
          "name": "stdout",
          "text": [
            "\n",
            "image 1/1 /content/Hucre-Detector-1/train/images/DJI_20240107135829_0441_Z_JPG.rf.e7133399cf6f52a0f2f3f34296cb0c85.jpg: 640x640 183 PV CELLs, 591.2ms\n",
            "Speed: 4.9ms preprocess, 591.2ms inference, 29.0ms postprocess per image at shape (1, 3, 640, 640)\n"
          ]
        },
        {
          "output_type": "stream",
          "name": "stderr",
          "text": [
            "\rDetecting in /content/Hucre-Detector-1/train/images:  18%|█▊        | 430/2450 [05:56<24:47,  1.36it/s]"
          ]
        },
        {
          "output_type": "stream",
          "name": "stdout",
          "text": [
            "\n",
            "image 1/1 /content/Hucre-Detector-1/train/images/0857_JPG.rf.5a1ed2976d6370d78421749acf1f91c3.jpg: 480x640 1 PV CELL, 405.6ms\n",
            "Speed: 4.2ms preprocess, 405.6ms inference, 0.8ms postprocess per image at shape (1, 3, 480, 640)\n"
          ]
        },
        {
          "output_type": "stream",
          "name": "stderr",
          "text": [
            "\rDetecting in /content/Hucre-Detector-1/train/images:  18%|█▊        | 431/2450 [05:57<22:16,  1.51it/s]"
          ]
        },
        {
          "output_type": "stream",
          "name": "stdout",
          "text": [
            "\n",
            "image 1/1 /content/Hucre-Detector-1/train/images/DJI_20240125123240_0303_Z_JPG.rf.21fc1e79e26296c080b3ec9effa8d26d.jpg: 640x640 300 PV CELLs, 590.1ms\n",
            "Speed: 4.4ms preprocess, 590.1ms inference, 47.4ms postprocess per image at shape (1, 3, 640, 640)\n"
          ]
        },
        {
          "output_type": "stream",
          "name": "stderr",
          "text": [
            "\rDetecting in /content/Hucre-Detector-1/train/images:  18%|█▊        | 432/2450 [05:57<24:44,  1.36it/s]"
          ]
        },
        {
          "output_type": "stream",
          "name": "stdout",
          "text": [
            "\n",
            "image 1/1 /content/Hucre-Detector-1/train/images/0312_JPG.rf.8317d881d659a3263cc8e14b7d7b82a5.jpg: 480x640 2 PV CELLs, 419.8ms\n",
            "Speed: 3.9ms preprocess, 419.8ms inference, 1.2ms postprocess per image at shape (1, 3, 480, 640)\n"
          ]
        },
        {
          "output_type": "stream",
          "name": "stderr",
          "text": [
            "\rDetecting in /content/Hucre-Detector-1/train/images:  18%|█▊        | 433/2450 [05:58<22:20,  1.50it/s]"
          ]
        },
        {
          "output_type": "stream",
          "name": "stdout",
          "text": [
            "\n",
            "image 1/1 /content/Hucre-Detector-1/train/images/DJI_20231231123816_0476_Z_JPG.rf.7f8159ab0fa4105cc78a1684acdb4906.jpg: 640x640 300 PV CELLs, 578.9ms\n",
            "Speed: 5.1ms preprocess, 578.9ms inference, 11.5ms postprocess per image at shape (1, 3, 640, 640)\n"
          ]
        },
        {
          "output_type": "stream",
          "name": "stderr",
          "text": [
            "\rDetecting in /content/Hucre-Detector-1/train/images:  18%|█▊        | 434/2450 [05:59<24:13,  1.39it/s]"
          ]
        },
        {
          "output_type": "stream",
          "name": "stdout",
          "text": [
            "\n",
            "image 1/1 /content/Hucre-Detector-1/train/images/DJI_20231231114736_0630_Z_JPG.rf.88e5353e1589b7ab9083887ed20b6c2e.jpg: 640x640 244 PV CELLs, 633.7ms\n",
            "Speed: 5.3ms preprocess, 633.7ms inference, 35.9ms postprocess per image at shape (1, 3, 640, 640)\n"
          ]
        },
        {
          "output_type": "stream",
          "name": "stderr",
          "text": [
            "\rDetecting in /content/Hucre-Detector-1/train/images:  18%|█▊        | 435/2450 [06:00<25:59,  1.29it/s]"
          ]
        },
        {
          "output_type": "stream",
          "name": "stdout",
          "text": [
            "\n",
            "image 1/1 /content/Hucre-Detector-1/train/images/0763_JPG.rf.d162e4271d0a9b950cfeee4068d4161b.jpg: 480x640 (no detections), 421.7ms\n",
            "Speed: 3.9ms preprocess, 421.7ms inference, 0.6ms postprocess per image at shape (1, 3, 480, 640)\n"
          ]
        },
        {
          "output_type": "stream",
          "name": "stderr",
          "text": [
            "\rDetecting in /content/Hucre-Detector-1/train/images:  18%|█▊        | 436/2450 [06:00<23:22,  1.44it/s]"
          ]
        },
        {
          "output_type": "stream",
          "name": "stdout",
          "text": [
            "\n",
            "image 1/1 /content/Hucre-Detector-1/train/images/0303_JPG.rf.e4a60a4431552f2c16d2ece246ceb518.jpg: 480x640 5 PV CELLs, 438.0ms\n",
            "Speed: 5.7ms preprocess, 438.0ms inference, 1.6ms postprocess per image at shape (1, 3, 480, 640)\n"
          ]
        },
        {
          "output_type": "stream",
          "name": "stderr",
          "text": [
            "\rDetecting in /content/Hucre-Detector-1/train/images:  18%|█▊        | 437/2450 [06:01<21:48,  1.54it/s]"
          ]
        },
        {
          "output_type": "stream",
          "name": "stdout",
          "text": [
            "\n",
            "image 1/1 /content/Hucre-Detector-1/train/images/DJI_20240304143033_0133_Z_JPG.rf.52069b7fe619415a9ba9ec03eac68ed6.jpg: 640x640 300 PV CELLs, 633.9ms\n",
            "Speed: 5.3ms preprocess, 633.9ms inference, 42.6ms postprocess per image at shape (1, 3, 640, 640)\n"
          ]
        },
        {
          "output_type": "stream",
          "name": "stderr",
          "text": [
            "\rDetecting in /content/Hucre-Detector-1/train/images:  18%|█▊        | 438/2450 [06:02<26:02,  1.29it/s]"
          ]
        },
        {
          "output_type": "stream",
          "name": "stdout",
          "text": [
            "\n",
            "image 1/1 /content/Hucre-Detector-1/train/images/0973_JPG.rf.3e34cf27b4ba3ffe9dc3ca37bb3138f4.jpg: 480x640 300 PV CELLs, 668.4ms\n",
            "Speed: 9.9ms preprocess, 668.4ms inference, 52.9ms postprocess per image at shape (1, 3, 480, 640)\n"
          ]
        },
        {
          "output_type": "stream",
          "name": "stderr",
          "text": [
            "\rDetecting in /content/Hucre-Detector-1/train/images:  18%|█▊        | 439/2450 [06:03<28:29,  1.18it/s]"
          ]
        },
        {
          "output_type": "stream",
          "name": "stdout",
          "text": [
            "\n",
            "image 1/1 /content/Hucre-Detector-1/train/images/0100_JPG.rf.fea65cd2fbbf798bbd16ffdd28b85ac4.jpg: 480x640 65 PV CELLs, 682.8ms\n",
            "Speed: 5.8ms preprocess, 682.8ms inference, 8.3ms postprocess per image at shape (1, 3, 480, 640)\n"
          ]
        },
        {
          "output_type": "stream",
          "name": "stderr",
          "text": [
            "\rDetecting in /content/Hucre-Detector-1/train/images:  18%|█▊        | 440/2450 [06:04<28:25,  1.18it/s]"
          ]
        },
        {
          "output_type": "stream",
          "name": "stdout",
          "text": [
            "\n",
            "image 1/1 /content/Hucre-Detector-1/train/images/DJI_20240108104256_0246_Z_JPG.rf.f961e88f350be7a2bbc70c03b6c13ae4.jpg: 640x640 300 PV CELLs, 825.5ms\n",
            "Speed: 7.1ms preprocess, 825.5ms inference, 30.4ms postprocess per image at shape (1, 3, 640, 640)\n"
          ]
        },
        {
          "output_type": "stream",
          "name": "stderr",
          "text": [
            "\rDetecting in /content/Hucre-Detector-1/train/images:  18%|█▊        | 441/2450 [06:05<31:02,  1.08it/s]"
          ]
        },
        {
          "output_type": "stream",
          "name": "stdout",
          "text": [
            "\n",
            "image 1/1 /content/Hucre-Detector-1/train/images/0361_JPG.rf.c7d7403d7069544e07321a0f99f32486.jpg: 480x640 300 PV CELLs, 418.3ms\n",
            "Speed: 4.3ms preprocess, 418.3ms inference, 46.0ms postprocess per image at shape (1, 3, 480, 640)\n"
          ]
        },
        {
          "output_type": "stream",
          "name": "stderr",
          "text": [
            "\rDetecting in /content/Hucre-Detector-1/train/images:  18%|█▊        | 442/2450 [06:05<28:18,  1.18it/s]"
          ]
        },
        {
          "output_type": "stream",
          "name": "stdout",
          "text": [
            "\n",
            "image 1/1 /content/Hucre-Detector-1/train/images/DJI_20231229111819_0517_Z_JPG.rf.36d16e73cdf7e6b017161251c4cff33e.jpg: 640x640 266 PV CELLs, 551.0ms\n",
            "Speed: 5.5ms preprocess, 551.0ms inference, 30.0ms postprocess per image at shape (1, 3, 640, 640)\n"
          ]
        },
        {
          "output_type": "stream",
          "name": "stderr",
          "text": [
            "\rDetecting in /content/Hucre-Detector-1/train/images:  18%|█▊        | 443/2450 [06:06<28:03,  1.19it/s]"
          ]
        },
        {
          "output_type": "stream",
          "name": "stdout",
          "text": [
            "\n",
            "image 1/1 /content/Hucre-Detector-1/train/images/DJI_20231231114426_0537_Z_JPG.rf.f33e52e5bc2072b1c5ce66c25ae5ae3b.jpg: 480x640 300 PV CELLs, 460.3ms\n",
            "Speed: 6.4ms preprocess, 460.3ms inference, 45.2ms postprocess per image at shape (1, 3, 480, 640)\n"
          ]
        },
        {
          "output_type": "stream",
          "name": "stderr",
          "text": [
            "\rDetecting in /content/Hucre-Detector-1/train/images:  18%|█▊        | 444/2450 [06:08<34:07,  1.02s/it]"
          ]
        },
        {
          "output_type": "stream",
          "name": "stdout",
          "text": [
            "\n",
            "image 1/1 /content/Hucre-Detector-1/train/images/0854_JPG.rf.403aebb8a8dbbac0093bbeeb173d980e.jpg: 480x640 64 PV CELLs, 431.6ms\n",
            "Speed: 4.1ms preprocess, 431.6ms inference, 7.3ms postprocess per image at shape (1, 3, 480, 640)\n"
          ]
        },
        {
          "output_type": "stream",
          "name": "stderr",
          "text": [
            "\rDetecting in /content/Hucre-Detector-1/train/images:  18%|█▊        | 445/2450 [06:08<29:25,  1.14it/s]"
          ]
        },
        {
          "output_type": "stream",
          "name": "stdout",
          "text": [
            "\n",
            "image 1/1 /content/Hucre-Detector-1/train/images/DJI_20231229121937_0357_Z_JPG.rf.3e831d969f53fb0ceb5f146a6af45aae.jpg: 640x640 300 PV CELLs, 567.1ms\n",
            "Speed: 4.4ms preprocess, 567.1ms inference, 65.5ms postprocess per image at shape (1, 3, 640, 640)\n"
          ]
        },
        {
          "output_type": "stream",
          "name": "stderr",
          "text": [
            "\rDetecting in /content/Hucre-Detector-1/train/images:  18%|█▊        | 446/2450 [06:09<29:26,  1.13it/s]"
          ]
        },
        {
          "output_type": "stream",
          "name": "stdout",
          "text": [
            "\n",
            "image 1/1 /content/Hucre-Detector-1/train/images/DJI_20250506154909_0221_V_JPG.rf.19fc0cb76aa7eb70bdd67506fe7b3bdb.jpg: 640x640 300 PV CELLs, 530.2ms\n",
            "Speed: 3.7ms preprocess, 530.2ms inference, 13.8ms postprocess per image at shape (1, 3, 640, 640)\n"
          ]
        },
        {
          "output_type": "stream",
          "name": "stderr",
          "text": [
            "\rDetecting in /content/Hucre-Detector-1/train/images:  18%|█▊        | 447/2450 [06:10<26:42,  1.25it/s]"
          ]
        },
        {
          "output_type": "stream",
          "name": "stdout",
          "text": [
            "\n",
            "image 1/1 /content/Hucre-Detector-1/train/images/0227_JPG.rf.28dff3b56e9e0f84dc0d14944cd4595c.jpg: 480x640 44 PV CELLs, 416.8ms\n",
            "Speed: 3.5ms preprocess, 416.8ms inference, 3.9ms postprocess per image at shape (1, 3, 480, 640)\n"
          ]
        },
        {
          "output_type": "stream",
          "name": "stderr",
          "text": [
            "\rDetecting in /content/Hucre-Detector-1/train/images:  18%|█▊        | 448/2450 [06:10<24:03,  1.39it/s]"
          ]
        },
        {
          "output_type": "stream",
          "name": "stdout",
          "text": [
            "\n",
            "image 1/1 /content/Hucre-Detector-1/train/images/DJI_20240107103122_0283_Z_JPG.rf.3aeff386d3546001257899676b65b093.jpg: 640x640 300 PV CELLs, 607.1ms\n",
            "Speed: 5.1ms preprocess, 607.1ms inference, 20.5ms postprocess per image at shape (1, 3, 640, 640)\n"
          ]
        },
        {
          "output_type": "stream",
          "name": "stderr",
          "text": [
            "\rDetecting in /content/Hucre-Detector-1/train/images:  18%|█▊        | 449/2450 [06:11<25:44,  1.30it/s]"
          ]
        },
        {
          "output_type": "stream",
          "name": "stdout",
          "text": [
            "\n",
            "image 1/1 /content/Hucre-Detector-1/train/images/DJI_20231121140514_0256_Z_JPG.rf.f59c300da6ba5dbea23dbc54a7741326.jpg: 640x640 187 PV CELLs, 604.4ms\n",
            "Speed: 5.2ms preprocess, 604.4ms inference, 14.3ms postprocess per image at shape (1, 3, 640, 640)\n"
          ]
        },
        {
          "output_type": "stream",
          "name": "stderr",
          "text": [
            "\rDetecting in /content/Hucre-Detector-1/train/images:  18%|█▊        | 450/2450 [06:12<26:18,  1.27it/s]"
          ]
        },
        {
          "output_type": "stream",
          "name": "stdout",
          "text": [
            "\n",
            "image 1/1 /content/Hucre-Detector-1/train/images/0389_JPG.rf.0775ee162f6c7511cb657e34a3a02bc6.jpg: 480x640 300 PV CELLs, 426.3ms\n",
            "Speed: 3.9ms preprocess, 426.3ms inference, 61.5ms postprocess per image at shape (1, 3, 480, 640)\n"
          ]
        },
        {
          "output_type": "stream",
          "name": "stderr",
          "text": [
            "\rDetecting in /content/Hucre-Detector-1/train/images:  18%|█▊        | 451/2450 [06:13<25:17,  1.32it/s]"
          ]
        },
        {
          "output_type": "stream",
          "name": "stdout",
          "text": [
            "\n",
            "image 1/1 /content/Hucre-Detector-1/train/images/DJI_20231117130148_0575_Z_JPG.rf.2e0ab32152ceed09bb4c755135e71b4c.jpg: 640x640 300 PV CELLs, 576.5ms\n",
            "Speed: 5.3ms preprocess, 576.5ms inference, 39.2ms postprocess per image at shape (1, 3, 640, 640)\n"
          ]
        },
        {
          "output_type": "stream",
          "name": "stderr",
          "text": [
            "\rDetecting in /content/Hucre-Detector-1/train/images:  18%|█▊        | 452/2450 [06:14<26:47,  1.24it/s]"
          ]
        },
        {
          "output_type": "stream",
          "name": "stdout",
          "text": [
            "\n",
            "image 1/1 /content/Hucre-Detector-1/train/images/DJI_20231117111209_0428_Z_JPG.rf.c47ce58d7a0fccded0272a0ff247242a.jpg: 640x640 300 PV CELLs, 594.9ms\n",
            "Speed: 5.2ms preprocess, 594.9ms inference, 31.9ms postprocess per image at shape (1, 3, 640, 640)\n"
          ]
        },
        {
          "output_type": "stream",
          "name": "stderr",
          "text": [
            "\rDetecting in /content/Hucre-Detector-1/train/images:  18%|█▊        | 453/2450 [06:15<28:56,  1.15it/s]"
          ]
        },
        {
          "output_type": "stream",
          "name": "stdout",
          "text": [
            "\n",
            "image 1/1 /content/Hucre-Detector-1/train/images/DJI_20231117110607_0253_Z_JPG.rf.efed0f2120b4516607a6e12f8076333e.jpg: 640x640 165 PV CELLs, 1544.9ms\n",
            "Speed: 7.6ms preprocess, 1544.9ms inference, 89.9ms postprocess per image at shape (1, 3, 640, 640)\n"
          ]
        },
        {
          "output_type": "stream",
          "name": "stderr",
          "text": [
            "\rDetecting in /content/Hucre-Detector-1/train/images:  19%|█▊        | 454/2450 [06:17<41:03,  1.23s/it]"
          ]
        },
        {
          "output_type": "stream",
          "name": "stdout",
          "text": [
            "\n",
            "image 1/1 /content/Hucre-Detector-1/train/images/DJI_20231229123846_0022_Z_JPG.rf.7b2ca6d1b31961843c3a326e6f4a49e0.jpg: 640x640 300 PV CELLs, 760.6ms\n",
            "Speed: 8.4ms preprocess, 760.6ms inference, 55.7ms postprocess per image at shape (1, 3, 640, 640)\n"
          ]
        },
        {
          "output_type": "stream",
          "name": "stderr",
          "text": [
            "\rDetecting in /content/Hucre-Detector-1/train/images:  19%|█▊        | 455/2450 [06:18<39:46,  1.20s/it]"
          ]
        },
        {
          "output_type": "stream",
          "name": "stdout",
          "text": [
            "\n",
            "image 1/1 /content/Hucre-Detector-1/train/images/0560_JPG.rf.614c86a79c67cefba5593ad06d6c995f.jpg: 480x640 300 PV CELLs, 433.3ms\n",
            "Speed: 4.1ms preprocess, 433.3ms inference, 13.9ms postprocess per image at shape (1, 3, 480, 640)\n"
          ]
        },
        {
          "output_type": "stream",
          "name": "stderr",
          "text": [
            "\rDetecting in /content/Hucre-Detector-1/train/images:  19%|█▊        | 456/2450 [06:19<34:11,  1.03s/it]"
          ]
        },
        {
          "output_type": "stream",
          "name": "stdout",
          "text": [
            "\n",
            "image 1/1 /content/Hucre-Detector-1/train/images/DJI_20231122122331_0082_Z_JPG.rf.7361be232e1a0c629576a8a070158e40.jpg: 480x640 45 PV CELLs, 396.0ms\n",
            "Speed: 4.2ms preprocess, 396.0ms inference, 6.2ms postprocess per image at shape (1, 3, 480, 640)\n"
          ]
        },
        {
          "output_type": "stream",
          "name": "stderr",
          "text": [
            "\rDetecting in /content/Hucre-Detector-1/train/images:  19%|█▊        | 457/2450 [06:20<34:11,  1.03s/it]"
          ]
        },
        {
          "output_type": "stream",
          "name": "stdout",
          "text": [
            "\n",
            "image 1/1 /content/Hucre-Detector-1/train/images/DJI_20231229111819_0517_Z_JPG.rf.46132e649bc8b7578abaadd44c5558fe.jpg: 640x640 163 PV CELLs, 580.2ms\n",
            "Speed: 6.4ms preprocess, 580.2ms inference, 24.1ms postprocess per image at shape (1, 3, 640, 640)\n"
          ]
        },
        {
          "output_type": "stream",
          "name": "stderr",
          "text": [
            "\rDetecting in /content/Hucre-Detector-1/train/images:  19%|█▊        | 458/2450 [06:20<31:52,  1.04it/s]"
          ]
        },
        {
          "output_type": "stream",
          "name": "stdout",
          "text": [
            "\n",
            "image 1/1 /content/Hucre-Detector-1/train/images/DJI_20231117112956_0111_Z_JPG.rf.bf18d44e500a22c6fba28b054e9da053.jpg: 640x640 300 PV CELLs, 581.8ms\n",
            "Speed: 5.1ms preprocess, 581.8ms inference, 22.8ms postprocess per image at shape (1, 3, 640, 640)\n"
          ]
        },
        {
          "output_type": "stream",
          "name": "stderr",
          "text": [
            "\rDetecting in /content/Hucre-Detector-1/train/images:  19%|█▊        | 459/2450 [06:21<31:07,  1.07it/s]"
          ]
        },
        {
          "output_type": "stream",
          "name": "stdout",
          "text": [
            "\n",
            "image 1/1 /content/Hucre-Detector-1/train/images/MAX_0082_JPG.rf.d5e448875486b6c4fd17642a7891e4ea.jpg: 480x640 300 PV CELLs, 448.2ms\n",
            "Speed: 4.7ms preprocess, 448.2ms inference, 32.9ms postprocess per image at shape (1, 3, 480, 640)\n"
          ]
        },
        {
          "output_type": "stream",
          "name": "stderr",
          "text": [
            "\rDetecting in /content/Hucre-Detector-1/train/images:  19%|█▉        | 460/2450 [06:22<31:48,  1.04it/s]"
          ]
        },
        {
          "output_type": "stream",
          "name": "stdout",
          "text": [
            "\n",
            "image 1/1 /content/Hucre-Detector-1/train/images/DJI_20231117110637_0267_Z_JPG.rf.233190306e9c4dab0963d4201f297957.jpg: 640x640 300 PV CELLs, 575.7ms\n",
            "Speed: 5.2ms preprocess, 575.7ms inference, 30.7ms postprocess per image at shape (1, 3, 640, 640)\n"
          ]
        },
        {
          "output_type": "stream",
          "name": "stderr",
          "text": [
            "\rDetecting in /content/Hucre-Detector-1/train/images:  19%|█▉        | 461/2450 [06:23<31:00,  1.07it/s]"
          ]
        },
        {
          "output_type": "stream",
          "name": "stdout",
          "text": [
            "\n",
            "image 1/1 /content/Hucre-Detector-1/train/images/DJI_20231117111009_0371_Z_JPG.rf.67dda46824519d088dfd0ac8c7f83045.jpg: 640x640 274 PV CELLs, 540.3ms\n",
            "Speed: 4.4ms preprocess, 540.3ms inference, 14.9ms postprocess per image at shape (1, 3, 640, 640)\n"
          ]
        },
        {
          "output_type": "stream",
          "name": "stderr",
          "text": [
            "\rDetecting in /content/Hucre-Detector-1/train/images:  19%|█▉        | 462/2450 [06:24<29:34,  1.12it/s]"
          ]
        },
        {
          "output_type": "stream",
          "name": "stdout",
          "text": [
            "\n",
            "image 1/1 /content/Hucre-Detector-1/train/images/DJI_20240227100354_0633_Z_JPG.rf.2b92dbfeed86ad49e0b1ebddaf87523a.jpg: 640x640 300 PV CELLs, 528.5ms\n",
            "Speed: 4.2ms preprocess, 528.5ms inference, 91.9ms postprocess per image at shape (1, 3, 640, 640)\n"
          ]
        },
        {
          "output_type": "stream",
          "name": "stderr",
          "text": [
            "\rDetecting in /content/Hucre-Detector-1/train/images:  19%|█▉        | 463/2450 [06:25<29:19,  1.13it/s]"
          ]
        },
        {
          "output_type": "stream",
          "name": "stdout",
          "text": [
            "\n",
            "image 1/1 /content/Hucre-Detector-1/train/images/DJI_20231121101738_0312_Z_JPG.rf.1a72d26f48192457fae2aad2122bd0ae.jpg: 640x640 32 PV CELLs, 541.8ms\n",
            "Speed: 4.3ms preprocess, 541.8ms inference, 8.7ms postprocess per image at shape (1, 3, 640, 640)\n"
          ]
        },
        {
          "output_type": "stream",
          "name": "stderr",
          "text": [
            "\rDetecting in /content/Hucre-Detector-1/train/images:  19%|█▉        | 464/2450 [06:25<27:03,  1.22it/s]"
          ]
        },
        {
          "output_type": "stream",
          "name": "stdout",
          "text": [
            "\n",
            "image 1/1 /content/Hucre-Detector-1/train/images/DJI_20240108113946_0290_Z_JPG.rf.cce18198de32716453480f5c1e97840b.jpg: 640x640 300 PV CELLs, 539.8ms\n",
            "Speed: 4.3ms preprocess, 539.8ms inference, 32.2ms postprocess per image at shape (1, 3, 640, 640)\n"
          ]
        },
        {
          "output_type": "stream",
          "name": "stderr",
          "text": [
            "\rDetecting in /content/Hucre-Detector-1/train/images:  19%|█▉        | 465/2450 [06:26<27:07,  1.22it/s]"
          ]
        },
        {
          "output_type": "stream",
          "name": "stdout",
          "text": [
            "\n",
            "image 1/1 /content/Hucre-Detector-1/train/images/DJI_20240108105539_0620_Z_JPG.rf.f606984520d0d711c8624085bff9cfc8.jpg: 480x640 155 PV CELLs, 409.1ms\n",
            "Speed: 3.9ms preprocess, 409.1ms inference, 24.7ms postprocess per image at shape (1, 3, 480, 640)\n"
          ]
        },
        {
          "output_type": "stream",
          "name": "stderr",
          "text": [
            "\rDetecting in /content/Hucre-Detector-1/train/images:  19%|█▉        | 466/2450 [06:27<30:21,  1.09it/s]"
          ]
        },
        {
          "output_type": "stream",
          "name": "stdout",
          "text": [
            "\n",
            "image 1/1 /content/Hucre-Detector-1/train/images/DJI_20231115123004_0728_Z_JPG.rf.3dd9f8ec11a6bf36c1e61b376a8894dd.jpg: 480x640 300 PV CELLs, 630.6ms\n",
            "Speed: 5.5ms preprocess, 630.6ms inference, 51.8ms postprocess per image at shape (1, 3, 480, 640)\n"
          ]
        },
        {
          "output_type": "stream",
          "name": "stderr",
          "text": [
            "\rDetecting in /content/Hucre-Detector-1/train/images:  19%|█▉        | 467/2450 [06:29<40:06,  1.21s/it]"
          ]
        },
        {
          "output_type": "stream",
          "name": "stdout",
          "text": [
            "\n",
            "image 1/1 /content/Hucre-Detector-1/train/images/DJI_20231117110451_0216_Z_JPG.rf.36640f95d1a17128eefce32f7b15c2aa.jpg: 640x640 (no detections), 896.2ms\n",
            "Speed: 8.0ms preprocess, 896.2ms inference, 0.8ms postprocess per image at shape (1, 3, 640, 640)\n"
          ]
        },
        {
          "output_type": "stream",
          "name": "stderr",
          "text": [
            "\rDetecting in /content/Hucre-Detector-1/train/images:  19%|█▉        | 468/2450 [06:30<38:11,  1.16s/it]"
          ]
        },
        {
          "output_type": "stream",
          "name": "stdout",
          "text": [
            "\n",
            "image 1/1 /content/Hucre-Detector-1/train/images/DJI_20240304143035_0134_Z_JPG.rf.611767f75173c26f13e97993c7d830b6.jpg: 640x640 300 PV CELLs, 588.1ms\n",
            "Speed: 5.2ms preprocess, 588.1ms inference, 44.9ms postprocess per image at shape (1, 3, 640, 640)\n"
          ]
        },
        {
          "output_type": "stream",
          "name": "stderr",
          "text": [
            "\rDetecting in /content/Hucre-Detector-1/train/images:  19%|█▉        | 469/2450 [06:31<35:36,  1.08s/it]"
          ]
        },
        {
          "output_type": "stream",
          "name": "stdout",
          "text": [
            "\n",
            "image 1/1 /content/Hucre-Detector-1/train/images/DJI_20231117130650_0722_Z_JPG.rf.c5841f8a1e771e04945b4ce5d19def33.jpg: 640x640 7 PV CELLs, 564.9ms\n",
            "Speed: 5.3ms preprocess, 564.9ms inference, 2.1ms postprocess per image at shape (1, 3, 640, 640)\n"
          ]
        },
        {
          "output_type": "stream",
          "name": "stderr",
          "text": [
            "\rDetecting in /content/Hucre-Detector-1/train/images:  19%|█▉        | 470/2450 [06:32<31:50,  1.04it/s]"
          ]
        },
        {
          "output_type": "stream",
          "name": "stdout",
          "text": [
            "\n",
            "image 1/1 /content/Hucre-Detector-1/train/images/MAX_0068_JPG.rf.e2445b14015bcdc923329c46a955a5ec.jpg: 480x640 300 PV CELLs, 421.9ms\n",
            "Speed: 4.6ms preprocess, 421.9ms inference, 11.6ms postprocess per image at shape (1, 3, 480, 640)\n"
          ]
        },
        {
          "output_type": "stream",
          "name": "stderr",
          "text": [
            "\rDetecting in /content/Hucre-Detector-1/train/images:  19%|█▉        | 471/2450 [06:33<32:39,  1.01it/s]"
          ]
        },
        {
          "output_type": "stream",
          "name": "stdout",
          "text": [
            "\n",
            "image 1/1 /content/Hucre-Detector-1/train/images/0138_JPG.rf.92fe2ad5ab8796e2946fed07332b8d46.jpg: 480x640 92 PV CELLs, 450.8ms\n",
            "Speed: 3.9ms preprocess, 450.8ms inference, 6.7ms postprocess per image at shape (1, 3, 480, 640)\n"
          ]
        },
        {
          "output_type": "stream",
          "name": "stderr",
          "text": [
            "\rDetecting in /content/Hucre-Detector-1/train/images:  19%|█▉        | 472/2450 [06:34<28:46,  1.15it/s]"
          ]
        },
        {
          "output_type": "stream",
          "name": "stdout",
          "text": [
            "\n",
            "image 1/1 /content/Hucre-Detector-1/train/images/0687_JPG.rf.dcaceeae9049163c7a2b9922052c3bcf.jpg: 480x640 300 PV CELLs, 404.7ms\n",
            "Speed: 3.9ms preprocess, 404.7ms inference, 51.2ms postprocess per image at shape (1, 3, 480, 640)\n"
          ]
        },
        {
          "output_type": "stream",
          "name": "stderr",
          "text": [
            "\rDetecting in /content/Hucre-Detector-1/train/images:  19%|█▉        | 473/2450 [06:34<26:27,  1.25it/s]"
          ]
        },
        {
          "output_type": "stream",
          "name": "stdout",
          "text": [
            "\n",
            "image 1/1 /content/Hucre-Detector-1/train/images/DJI_20240107104914_0150_Z_JPG.rf.aba4f10d12d00ba54a46a8963211a205.jpg: 640x640 281 PV CELLs, 561.4ms\n",
            "Speed: 4.2ms preprocess, 561.4ms inference, 51.4ms postprocess per image at shape (1, 3, 640, 640)\n"
          ]
        },
        {
          "output_type": "stream",
          "name": "stderr",
          "text": [
            "\rDetecting in /content/Hucre-Detector-1/train/images:  19%|█▉        | 474/2450 [06:35<27:05,  1.22it/s]"
          ]
        },
        {
          "output_type": "stream",
          "name": "stdout",
          "text": [
            "\n",
            "image 1/1 /content/Hucre-Detector-1/train/images/DJI_20231117132718_0250_Z_JPG.rf.9dd5ee9f830b2d503afff5db0b29e691.jpg: 640x640 300 PV CELLs, 583.9ms\n",
            "Speed: 5.1ms preprocess, 583.9ms inference, 36.4ms postprocess per image at shape (1, 3, 640, 640)\n"
          ]
        },
        {
          "output_type": "stream",
          "name": "stderr",
          "text": [
            "\rDetecting in /content/Hucre-Detector-1/train/images:  19%|█▉        | 475/2450 [06:36<27:40,  1.19it/s]"
          ]
        },
        {
          "output_type": "stream",
          "name": "stdout",
          "text": [
            "\n",
            "image 1/1 /content/Hucre-Detector-1/train/images/0873_JPG.rf.c00ca63467b9a8ddf882ac35592b20ff.jpg: 480x640 300 PV CELLs, 408.5ms\n",
            "Speed: 3.4ms preprocess, 408.5ms inference, 36.3ms postprocess per image at shape (1, 3, 480, 640)\n"
          ]
        },
        {
          "output_type": "stream",
          "name": "stderr",
          "text": [
            "\rDetecting in /content/Hucre-Detector-1/train/images:  19%|█▉        | 476/2450 [06:37<25:32,  1.29it/s]"
          ]
        },
        {
          "output_type": "stream",
          "name": "stdout",
          "text": [
            "\n",
            "image 1/1 /content/Hucre-Detector-1/train/images/DJI_20231117111553_0538_Z_JPG.rf.8a3835b228db9e96c666842b7b7e23ff.jpg: 640x640 290 PV CELLs, 546.8ms\n",
            "Speed: 4.3ms preprocess, 546.8ms inference, 16.0ms postprocess per image at shape (1, 3, 640, 640)\n"
          ]
        },
        {
          "output_type": "stream",
          "name": "stderr",
          "text": [
            "\rDetecting in /content/Hucre-Detector-1/train/images:  19%|█▉        | 477/2450 [06:37<25:59,  1.27it/s]"
          ]
        },
        {
          "output_type": "stream",
          "name": "stdout",
          "text": [
            "\n",
            "image 1/1 /content/Hucre-Detector-1/train/images/0680_JPG.rf.bbb8de030c9d80893e906498db3e3e3d.jpg: 480x640 226 PV CELLs, 400.5ms\n",
            "Speed: 3.3ms preprocess, 400.5ms inference, 10.5ms postprocess per image at shape (1, 3, 480, 640)\n"
          ]
        },
        {
          "output_type": "stream",
          "name": "stderr",
          "text": [
            "\rDetecting in /content/Hucre-Detector-1/train/images:  20%|█▉        | 478/2450 [06:38<23:45,  1.38it/s]"
          ]
        },
        {
          "output_type": "stream",
          "name": "stdout",
          "text": [
            "\n",
            "image 1/1 /content/Hucre-Detector-1/train/images/Ekran-Goruntusu-2025-08-25-18-30-55_png.rf.52ca15acfd7e095cfbe999ca130b6153.jpg: 288x640 62 PV CELLs, 261.8ms\n",
            "Speed: 3.4ms preprocess, 261.8ms inference, 7.8ms postprocess per image at shape (1, 3, 288, 640)\n"
          ]
        },
        {
          "output_type": "stream",
          "name": "stderr",
          "text": [
            "\rDetecting in /content/Hucre-Detector-1/train/images:  20%|█▉        | 479/2450 [06:38<19:51,  1.65it/s]"
          ]
        },
        {
          "output_type": "stream",
          "name": "stdout",
          "text": [
            "\n",
            "image 1/1 /content/Hucre-Detector-1/train/images/DJI_20231117125811_0470_Z_JPG.rf.fcf7ff60ee193d42832132623df70998.jpg: 640x640 300 PV CELLs, 545.4ms\n",
            "Speed: 4.4ms preprocess, 545.4ms inference, 26.7ms postprocess per image at shape (1, 3, 640, 640)\n"
          ]
        },
        {
          "output_type": "stream",
          "name": "stderr",
          "text": [
            "\rDetecting in /content/Hucre-Detector-1/train/images:  20%|█▉        | 480/2450 [06:39<22:06,  1.49it/s]"
          ]
        },
        {
          "output_type": "stream",
          "name": "stdout",
          "text": [
            "\n",
            "image 1/1 /content/Hucre-Detector-1/train/images/DJI_20231117132849_0294_Z_JPG.rf.6e6bdc1655e5dec492d0d7dd08e5eb07.jpg: 640x640 53 PV CELLs, 575.5ms\n",
            "Speed: 5.2ms preprocess, 575.5ms inference, 8.2ms postprocess per image at shape (1, 3, 640, 640)\n"
          ]
        },
        {
          "output_type": "stream",
          "name": "stderr",
          "text": [
            "\rDetecting in /content/Hucre-Detector-1/train/images:  20%|█▉        | 481/2450 [06:40<22:29,  1.46it/s]"
          ]
        },
        {
          "output_type": "stream",
          "name": "stdout",
          "text": [
            "\n",
            "image 1/1 /content/Hucre-Detector-1/train/images/MAX_0077_JPG.rf.0ad319040a288fa8ec287e01cb44a738.jpg: 480x640 300 PV CELLs, 590.1ms\n",
            "Speed: 4.8ms preprocess, 590.1ms inference, 41.0ms postprocess per image at shape (1, 3, 480, 640)\n"
          ]
        },
        {
          "output_type": "stream",
          "name": "stderr",
          "text": [
            "\rDetecting in /content/Hucre-Detector-1/train/images:  20%|█▉        | 482/2450 [06:41<30:04,  1.09it/s]"
          ]
        },
        {
          "output_type": "stream",
          "name": "stdout",
          "text": [
            "\n",
            "image 1/1 /content/Hucre-Detector-1/train/images/DJI_20231117132513_0189_Z_JPG.rf.0f02db4752281a66413c0d903659b69b.jpg: 640x640 300 PV CELLs, 923.0ms\n",
            "Speed: 10.6ms preprocess, 923.0ms inference, 45.4ms postprocess per image at shape (1, 3, 640, 640)\n"
          ]
        },
        {
          "output_type": "stream",
          "name": "stderr",
          "text": [
            "\rDetecting in /content/Hucre-Detector-1/train/images:  20%|█▉        | 483/2450 [06:43<35:32,  1.08s/it]"
          ]
        },
        {
          "output_type": "stream",
          "name": "stdout",
          "text": [
            "\n",
            "image 1/1 /content/Hucre-Detector-1/train/images/DJI_20231117111458_0511_Z_JPG.rf.3409c11ee4da5acd56361492a681556e.jpg: 640x640 248 PV CELLs, 713.6ms\n",
            "Speed: 7.3ms preprocess, 713.6ms inference, 20.6ms postprocess per image at shape (1, 3, 640, 640)\n"
          ]
        },
        {
          "output_type": "stream",
          "name": "stderr",
          "text": [
            "\rDetecting in /content/Hucre-Detector-1/train/images:  20%|█▉        | 484/2450 [06:44<34:34,  1.06s/it]"
          ]
        },
        {
          "output_type": "stream",
          "name": "stdout",
          "text": [
            "\n",
            "image 1/1 /content/Hucre-Detector-1/train/images/DJI_20231117105748_0013_Z_JPG.rf.f11b6ea62eb62a6d258b4134d564b574.jpg: 640x640 300 PV CELLs, 560.7ms\n",
            "Speed: 5.1ms preprocess, 560.7ms inference, 30.5ms postprocess per image at shape (1, 3, 640, 640)\n"
          ]
        },
        {
          "output_type": "stream",
          "name": "stderr",
          "text": [
            "\rDetecting in /content/Hucre-Detector-1/train/images:  20%|█▉        | 485/2450 [06:45<32:48,  1.00s/it]"
          ]
        },
        {
          "output_type": "stream",
          "name": "stdout",
          "text": [
            "\n",
            "image 1/1 /content/Hucre-Detector-1/train/images/DJI_20231117140101_0004_Z_JPG.rf.420e2c84b6e6c7eada535de4b2230e9d.jpg: 640x640 300 PV CELLs, 556.9ms\n",
            "Speed: 5.3ms preprocess, 556.9ms inference, 19.8ms postprocess per image at shape (1, 3, 640, 640)\n"
          ]
        },
        {
          "output_type": "stream",
          "name": "stderr",
          "text": [
            "\rDetecting in /content/Hucre-Detector-1/train/images:  20%|█▉        | 486/2450 [06:46<31:21,  1.04it/s]"
          ]
        },
        {
          "output_type": "stream",
          "name": "stdout",
          "text": [
            "\n",
            "image 1/1 /content/Hucre-Detector-1/train/images/DJI_20231117110303_0164_Z_JPG.rf.c1c94df60c9367deb0b12483a944a8b7.jpg: 640x640 300 PV CELLs, 563.6ms\n",
            "Speed: 4.9ms preprocess, 563.6ms inference, 28.5ms postprocess per image at shape (1, 3, 640, 640)\n"
          ]
        },
        {
          "output_type": "stream",
          "name": "stderr",
          "text": [
            "\rDetecting in /content/Hucre-Detector-1/train/images:  20%|█▉        | 487/2450 [06:46<30:14,  1.08it/s]"
          ]
        },
        {
          "output_type": "stream",
          "name": "stdout",
          "text": [
            "\n",
            "image 1/1 /content/Hucre-Detector-1/train/images/DJI_20231231115600_0038_Z_JPG.rf.a3945c61fdc1ef8421bef725e075257e.jpg: 640x640 218 PV CELLs, 579.3ms\n",
            "Speed: 4.4ms preprocess, 579.3ms inference, 21.1ms postprocess per image at shape (1, 3, 640, 640)\n"
          ]
        },
        {
          "output_type": "stream",
          "name": "stderr",
          "text": [
            "\rDetecting in /content/Hucre-Detector-1/train/images:  20%|█▉        | 488/2450 [06:47<29:17,  1.12it/s]"
          ]
        },
        {
          "output_type": "stream",
          "name": "stdout",
          "text": [
            "\n",
            "image 1/1 /content/Hucre-Detector-1/train/images/0694_JPG.rf.64dd9bdbffdf3a5a70108b1bcb557f24.jpg: 480x640 76 PV CELLs, 423.6ms\n",
            "Speed: 4.0ms preprocess, 423.6ms inference, 4.2ms postprocess per image at shape (1, 3, 480, 640)\n"
          ]
        },
        {
          "output_type": "stream",
          "name": "stderr",
          "text": [
            "\rDetecting in /content/Hucre-Detector-1/train/images:  20%|█▉        | 489/2450 [06:48<25:52,  1.26it/s]"
          ]
        },
        {
          "output_type": "stream",
          "name": "stdout",
          "text": [
            "\n",
            "image 1/1 /content/Hucre-Detector-1/train/images/MAX_0071_JPG.rf.e08f2880b6f178af89e99b63aed4e3b7.jpg: 480x640 300 PV CELLs, 403.0ms\n",
            "Speed: 5.0ms preprocess, 403.0ms inference, 17.8ms postprocess per image at shape (1, 3, 480, 640)\n"
          ]
        },
        {
          "output_type": "stream",
          "name": "stderr",
          "text": [
            "\rDetecting in /content/Hucre-Detector-1/train/images:  20%|██        | 490/2450 [06:49<28:04,  1.16it/s]"
          ]
        },
        {
          "output_type": "stream",
          "name": "stdout",
          "text": [
            "\n",
            "image 1/1 /content/Hucre-Detector-1/train/images/DJI_20231117110309_0167_Z_JPG.rf.60410ccdb034050b44fdd9bb640f33bc.jpg: 640x640 300 PV CELLs, 533.1ms\n",
            "Speed: 4.1ms preprocess, 533.1ms inference, 24.3ms postprocess per image at shape (1, 3, 640, 640)\n"
          ]
        },
        {
          "output_type": "stream",
          "name": "stderr",
          "text": [
            "\rDetecting in /content/Hucre-Detector-1/train/images:  20%|██        | 491/2450 [06:50<27:43,  1.18it/s]"
          ]
        },
        {
          "output_type": "stream",
          "name": "stdout",
          "text": [
            "\n",
            "image 1/1 /content/Hucre-Detector-1/train/images/0775_JPG.rf.69f86e6f9a0293cd7dc7493adb221237.jpg: 480x640 300 PV CELLs, 404.2ms\n",
            "Speed: 3.4ms preprocess, 404.2ms inference, 28.4ms postprocess per image at shape (1, 3, 480, 640)\n"
          ]
        },
        {
          "output_type": "stream",
          "name": "stderr",
          "text": [
            "\rDetecting in /content/Hucre-Detector-1/train/images:  20%|██        | 492/2450 [06:50<25:21,  1.29it/s]"
          ]
        },
        {
          "output_type": "stream",
          "name": "stdout",
          "text": [
            "\n",
            "image 1/1 /content/Hucre-Detector-1/train/images/DJI_20250506154639_0006_V_JPG.rf.2f59273b84be374a98f6c8a818ba7452.jpg: 640x640 300 PV CELLs, 527.8ms\n",
            "Speed: 4.4ms preprocess, 527.8ms inference, 7.7ms postprocess per image at shape (1, 3, 640, 640)\n"
          ]
        },
        {
          "output_type": "stream",
          "name": "stderr",
          "text": [
            "\rDetecting in /content/Hucre-Detector-1/train/images:  20%|██        | 493/2450 [06:51<23:31,  1.39it/s]"
          ]
        },
        {
          "output_type": "stream",
          "name": "stdout",
          "text": [
            "\n",
            "image 1/1 /content/Hucre-Detector-1/train/images/MAX_0020_JPG.rf.344565cdcab7dc4f87dd6506743794cf.jpg: 384x640 300 PV CELLs, 330.5ms\n",
            "Speed: 2.9ms preprocess, 330.5ms inference, 6.4ms postprocess per image at shape (1, 3, 384, 640)\n"
          ]
        },
        {
          "output_type": "stream",
          "name": "stderr",
          "text": [
            "\rDetecting in /content/Hucre-Detector-1/train/images:  20%|██        | 494/2450 [06:52<23:44,  1.37it/s]"
          ]
        },
        {
          "output_type": "stream",
          "name": "stdout",
          "text": [
            "\n",
            "image 1/1 /content/Hucre-Detector-1/train/images/DJI_20240110095249_0110_Z_JPG.rf.9e0296776f2bab7c03a93445e80dddcd.jpg: 640x640 300 PV CELLs, 590.2ms\n",
            "Speed: 5.2ms preprocess, 590.2ms inference, 50.2ms postprocess per image at shape (1, 3, 640, 640)\n"
          ]
        },
        {
          "output_type": "stream",
          "name": "stderr",
          "text": [
            "\rDetecting in /content/Hucre-Detector-1/train/images:  20%|██        | 495/2450 [06:52<25:36,  1.27it/s]"
          ]
        },
        {
          "output_type": "stream",
          "name": "stdout",
          "text": [
            "\n",
            "image 1/1 /content/Hucre-Detector-1/train/images/DJI_20231120120235_0600_Z_JPG.rf.b54d0e407285895747862f6f9bd75e33.jpg: 640x640 300 PV CELLs, 542.9ms\n",
            "Speed: 4.2ms preprocess, 542.9ms inference, 47.1ms postprocess per image at shape (1, 3, 640, 640)\n"
          ]
        },
        {
          "output_type": "stream",
          "name": "stderr",
          "text": [
            "\rDetecting in /content/Hucre-Detector-1/train/images:  20%|██        | 496/2450 [06:53<26:14,  1.24it/s]"
          ]
        },
        {
          "output_type": "stream",
          "name": "stdout",
          "text": [
            "\n",
            "image 1/1 /content/Hucre-Detector-1/train/images/0145_JPG.rf.b32317bc04cdfd979433d0847d309569.jpg: 480x640 (no detections), 635.3ms\n",
            "Speed: 5.0ms preprocess, 635.3ms inference, 0.7ms postprocess per image at shape (1, 3, 480, 640)\n"
          ]
        },
        {
          "output_type": "stream",
          "name": "stderr",
          "text": [
            "\rDetecting in /content/Hucre-Detector-1/train/images:  20%|██        | 497/2450 [06:54<25:28,  1.28it/s]"
          ]
        },
        {
          "output_type": "stream",
          "name": "stdout",
          "text": [
            "\n",
            "image 1/1 /content/Hucre-Detector-1/train/images/DJI_20240306143539_0290_Z_JPG.rf.462d011635e1ddef97d0615a419b6120.jpg: 640x640 300 PV CELLs, 860.8ms\n",
            "Speed: 6.4ms preprocess, 860.8ms inference, 61.6ms postprocess per image at shape (1, 3, 640, 640)\n"
          ]
        },
        {
          "output_type": "stream",
          "name": "stderr",
          "text": [
            "\rDetecting in /content/Hucre-Detector-1/train/images:  20%|██        | 498/2450 [06:55<31:04,  1.05it/s]"
          ]
        },
        {
          "output_type": "stream",
          "name": "stdout",
          "text": [
            "\n",
            "image 1/1 /content/Hucre-Detector-1/train/images/0296_JPG.rf.20d6eca84e33c820fb06356de681b2fc.jpg: 480x640 4 PV CELLs, 667.9ms\n",
            "Speed: 6.8ms preprocess, 667.9ms inference, 2.0ms postprocess per image at shape (1, 3, 480, 640)\n"
          ]
        },
        {
          "output_type": "stream",
          "name": "stderr",
          "text": [
            "\rDetecting in /content/Hucre-Detector-1/train/images:  20%|██        | 499/2450 [06:56<29:22,  1.11it/s]"
          ]
        },
        {
          "output_type": "stream",
          "name": "stdout",
          "text": [
            "\n",
            "image 1/1 /content/Hucre-Detector-1/train/images/Ekran-Goruntusu-2025-08-25-18-56-21_png.rf.3c0e40e5822c4065553f764f5708ed67.jpg: 288x640 58 PV CELLs, 268.9ms\n",
            "Speed: 3.4ms preprocess, 268.9ms inference, 9.0ms postprocess per image at shape (1, 3, 288, 640)\n"
          ]
        },
        {
          "output_type": "stream",
          "name": "stderr",
          "text": [
            "\rDetecting in /content/Hucre-Detector-1/train/images:  20%|██        | 500/2450 [06:57<23:53,  1.36it/s]"
          ]
        },
        {
          "output_type": "stream",
          "name": "stdout",
          "text": [
            "\n",
            "image 1/1 /content/Hucre-Detector-1/train/images/DJI_20240227094401_0048_Z_JPG.rf.2f94b466e1898ee5bc46cb1d9046dddf.jpg: 640x640 300 PV CELLs, 567.5ms\n",
            "Speed: 5.2ms preprocess, 567.5ms inference, 63.3ms postprocess per image at shape (1, 3, 640, 640)\n"
          ]
        },
        {
          "output_type": "stream",
          "name": "stderr",
          "text": [
            "\rDetecting in /content/Hucre-Detector-1/train/images:  20%|██        | 501/2450 [06:57<25:33,  1.27it/s]"
          ]
        },
        {
          "output_type": "stream",
          "name": "stdout",
          "text": [
            "\n",
            "image 1/1 /content/Hucre-Detector-1/train/images/0746_JPG.rf.4ff442a9bcf3ee4e1259a2078528ab85.jpg: 480x640 289 PV CELLs, 443.1ms\n",
            "Speed: 3.7ms preprocess, 443.1ms inference, 39.2ms postprocess per image at shape (1, 3, 480, 640)\n"
          ]
        },
        {
          "output_type": "stream",
          "name": "stderr",
          "text": [
            "\rDetecting in /content/Hucre-Detector-1/train/images:  20%|██        | 502/2450 [06:58<24:32,  1.32it/s]"
          ]
        },
        {
          "output_type": "stream",
          "name": "stdout",
          "text": [
            "\n",
            "image 1/1 /content/Hucre-Detector-1/train/images/DJI_20231117141907_0529_Z_JPG.rf.77c8f9cb758259d4c14a353b28cf9bcd.jpg: 640x640 300 PV CELLs, 604.5ms\n",
            "Speed: 5.1ms preprocess, 604.5ms inference, 30.5ms postprocess per image at shape (1, 3, 640, 640)\n"
          ]
        },
        {
          "output_type": "stream",
          "name": "stderr",
          "text": [
            "\rDetecting in /content/Hucre-Detector-1/train/images:  21%|██        | 503/2450 [06:59<26:03,  1.25it/s]"
          ]
        },
        {
          "output_type": "stream",
          "name": "stdout",
          "text": [
            "\n",
            "image 1/1 /content/Hucre-Detector-1/train/images/0460_JPG.rf.4b2c056b1fcfeba13484418abe58584b.jpg: 480x640 300 PV CELLs, 429.1ms\n",
            "Speed: 4.1ms preprocess, 429.1ms inference, 51.9ms postprocess per image at shape (1, 3, 480, 640)\n"
          ]
        },
        {
          "output_type": "stream",
          "name": "stderr",
          "text": [
            "\rDetecting in /content/Hucre-Detector-1/train/images:  21%|██        | 504/2450 [07:00<24:48,  1.31it/s]"
          ]
        },
        {
          "output_type": "stream",
          "name": "stdout",
          "text": [
            "\n",
            "image 1/1 /content/Hucre-Detector-1/train/images/DJI_20231120120231_0598_Z_JPG.rf.f9291e47ba198f5c806de288591cfe69.jpg: 640x640 300 PV CELLs, 613.4ms\n",
            "Speed: 5.3ms preprocess, 613.4ms inference, 43.2ms postprocess per image at shape (1, 3, 640, 640)\n"
          ]
        },
        {
          "output_type": "stream",
          "name": "stderr",
          "text": [
            "\rDetecting in /content/Hucre-Detector-1/train/images:  21%|██        | 505/2450 [07:01<26:15,  1.23it/s]"
          ]
        },
        {
          "output_type": "stream",
          "name": "stdout",
          "text": [
            "\n",
            "image 1/1 /content/Hucre-Detector-1/train/images/DJI_20231122122114_0015_Z_JPG.rf.e4cb3b678f7a712e9af754565a2dc221.jpg: 480x640 300 PV CELLs, 398.4ms\n",
            "Speed: 4.6ms preprocess, 398.4ms inference, 17.2ms postprocess per image at shape (1, 3, 480, 640)\n"
          ]
        },
        {
          "output_type": "stream",
          "name": "stderr",
          "text": [
            "\rDetecting in /content/Hucre-Detector-1/train/images:  21%|██        | 506/2450 [07:02<31:16,  1.04it/s]"
          ]
        },
        {
          "output_type": "stream",
          "name": "stdout",
          "text": [
            "\n",
            "image 1/1 /content/Hucre-Detector-1/train/images/DJI_20240227101257_0103_Z_JPG.rf.c0912d028ffe4f89d525b59a7dc94bec.jpg: 640x640 300 PV CELLs, 584.4ms\n",
            "Speed: 5.1ms preprocess, 584.4ms inference, 61.3ms postprocess per image at shape (1, 3, 640, 640)\n"
          ]
        },
        {
          "output_type": "stream",
          "name": "stderr",
          "text": [
            "\rDetecting in /content/Hucre-Detector-1/train/images:  21%|██        | 507/2450 [07:03<30:47,  1.05it/s]"
          ]
        },
        {
          "output_type": "stream",
          "name": "stdout",
          "text": [
            "\n",
            "image 1/1 /content/Hucre-Detector-1/train/images/Screenshot-2023-12-01-215917_png.rf.6bdc3f9a337e7ac077fb4552da1e5438.jpg: 640x640 131 PV CELLs, 552.3ms\n",
            "Speed: 5.4ms preprocess, 552.3ms inference, 8.1ms postprocess per image at shape (1, 3, 640, 640)\n"
          ]
        },
        {
          "output_type": "stream",
          "name": "stderr",
          "text": [
            "\rDetecting in /content/Hucre-Detector-1/train/images:  21%|██        | 508/2450 [07:04<27:56,  1.16it/s]"
          ]
        },
        {
          "output_type": "stream",
          "name": "stdout",
          "text": [
            "\n",
            "image 1/1 /content/Hucre-Detector-1/train/images/DJI_20231229110103_0007_Z_JPG.rf.e296c7aed0d818211843e21979d6ba62.jpg: 640x640 270 PV CELLs, 521.6ms\n",
            "Speed: 4.1ms preprocess, 521.6ms inference, 25.3ms postprocess per image at shape (1, 3, 640, 640)\n"
          ]
        },
        {
          "output_type": "stream",
          "name": "stderr",
          "text": [
            "\rDetecting in /content/Hucre-Detector-1/train/images:  21%|██        | 509/2450 [07:04<27:06,  1.19it/s]"
          ]
        },
        {
          "output_type": "stream",
          "name": "stdout",
          "text": [
            "\n",
            "image 1/1 /content/Hucre-Detector-1/train/images/0062_JPG.rf.9527eba0b65b95ea2d3f48fd130c0f53.jpg: 480x640 40 PV CELLs, 409.8ms\n",
            "Speed: 3.2ms preprocess, 409.8ms inference, 3.9ms postprocess per image at shape (1, 3, 480, 640)\n"
          ]
        },
        {
          "output_type": "stream",
          "name": "stderr",
          "text": [
            "\rDetecting in /content/Hucre-Detector-1/train/images:  21%|██        | 510/2450 [07:05<23:51,  1.36it/s]"
          ]
        },
        {
          "output_type": "stream",
          "name": "stdout",
          "text": [
            "\n",
            "image 1/1 /content/Hucre-Detector-1/train/images/0804_JPG.rf.cc55c346aacbdf5ba3f0921c51718691.jpg: 480x640 300 PV CELLs, 395.7ms\n",
            "Speed: 3.5ms preprocess, 395.7ms inference, 33.5ms postprocess per image at shape (1, 3, 480, 640)\n"
          ]
        },
        {
          "output_type": "stream",
          "name": "stderr",
          "text": [
            "\rDetecting in /content/Hucre-Detector-1/train/images:  21%|██        | 511/2450 [07:05<22:33,  1.43it/s]"
          ]
        },
        {
          "output_type": "stream",
          "name": "stdout",
          "text": [
            "\n",
            "image 1/1 /content/Hucre-Detector-1/train/images/0257_JPG.rf.bc4a6a65da96c76ede3b759890e58e77.jpg: 480x640 36 PV CELLs, 437.0ms\n",
            "Speed: 4.0ms preprocess, 437.0ms inference, 1.5ms postprocess per image at shape (1, 3, 480, 640)\n"
          ]
        },
        {
          "output_type": "stream",
          "name": "stderr",
          "text": [
            "\rDetecting in /content/Hucre-Detector-1/train/images:  21%|██        | 512/2450 [07:06<20:57,  1.54it/s]"
          ]
        },
        {
          "output_type": "stream",
          "name": "stdout",
          "text": [
            "\n",
            "image 1/1 /content/Hucre-Detector-1/train/images/Ekran-Goruntusu-2025-08-25-18-23-43_png.rf.996284879e44c35cdc37026d07be0711.jpg: 160x640 27 PV CELLs, 200.8ms\n",
            "Speed: 2.3ms preprocess, 200.8ms inference, 7.0ms postprocess per image at shape (1, 3, 160, 640)\n"
          ]
        },
        {
          "output_type": "stream",
          "name": "stderr",
          "text": [
            "\rDetecting in /content/Hucre-Detector-1/train/images:  21%|██        | 513/2450 [07:06<17:06,  1.89it/s]"
          ]
        },
        {
          "output_type": "stream",
          "name": "stdout",
          "text": [
            "\n",
            "image 1/1 /content/Hucre-Detector-1/train/images/DJI_20231117105800_0019_Z_JPG.rf.48cce4f681562e4355ba92f6d5185585.jpg: 640x640 300 PV CELLs, 890.9ms\n",
            "Speed: 7.3ms preprocess, 890.9ms inference, 62.4ms postprocess per image at shape (1, 3, 640, 640)\n"
          ]
        },
        {
          "output_type": "stream",
          "name": "stderr",
          "text": [
            "\rDetecting in /content/Hucre-Detector-1/train/images:  21%|██        | 514/2450 [07:08<25:01,  1.29it/s]"
          ]
        },
        {
          "output_type": "stream",
          "name": "stdout",
          "text": [
            "\n",
            "image 1/1 /content/Hucre-Detector-1/train/images/0558_JPG.rf.d98c7111ed84d5d2105847554b707b09.jpg: 480x640 300 PV CELLs, 688.3ms\n",
            "Speed: 5.8ms preprocess, 688.3ms inference, 51.2ms postprocess per image at shape (1, 3, 480, 640)\n"
          ]
        },
        {
          "output_type": "stream",
          "name": "stderr",
          "text": [
            "\rDetecting in /content/Hucre-Detector-1/train/images:  21%|██        | 515/2450 [07:09<27:58,  1.15it/s]"
          ]
        },
        {
          "output_type": "stream",
          "name": "stdout",
          "text": [
            "\n",
            "image 1/1 /content/Hucre-Detector-1/train/images/DJI_20231120115220_0301_Z_JPG.rf.d5a3c8e5a3edd458863c15da34381af4.jpg: 640x640 300 PV CELLs, 683.4ms\n",
            "Speed: 10.8ms preprocess, 683.4ms inference, 24.0ms postprocess per image at shape (1, 3, 640, 640)\n"
          ]
        },
        {
          "output_type": "stream",
          "name": "stderr",
          "text": [
            "\rDetecting in /content/Hucre-Detector-1/train/images:  21%|██        | 516/2450 [07:10<29:16,  1.10it/s]"
          ]
        },
        {
          "output_type": "stream",
          "name": "stdout",
          "text": [
            "\n",
            "image 1/1 /content/Hucre-Detector-1/train/images/0066_JPG.rf.3e9784467183efba2ed2353e0cbeb29b.jpg: 480x640 300 PV CELLs, 435.8ms\n",
            "Speed: 4.1ms preprocess, 435.8ms inference, 25.2ms postprocess per image at shape (1, 3, 480, 640)\n"
          ]
        },
        {
          "output_type": "stream",
          "name": "stderr",
          "text": [
            "\rDetecting in /content/Hucre-Detector-1/train/images:  21%|██        | 517/2450 [07:10<26:46,  1.20it/s]"
          ]
        },
        {
          "output_type": "stream",
          "name": "stdout",
          "text": [
            "\n",
            "image 1/1 /content/Hucre-Detector-1/train/images/DJI_20231117140821_0216_Z_JPG.rf.c16eab99025ac8c97e9075f6d227b6fb.jpg: 640x640 300 PV CELLs, 615.2ms\n",
            "Speed: 5.0ms preprocess, 615.2ms inference, 23.2ms postprocess per image at shape (1, 3, 640, 640)\n"
          ]
        },
        {
          "output_type": "stream",
          "name": "stderr",
          "text": [
            "\rDetecting in /content/Hucre-Detector-1/train/images:  21%|██        | 518/2450 [07:11<27:30,  1.17it/s]"
          ]
        },
        {
          "output_type": "stream",
          "name": "stdout",
          "text": [
            "\n",
            "image 1/1 /content/Hucre-Detector-1/train/images/0105_JPG.rf.1213817a45b0b4d1611e253e8a158c16.jpg: 480x640 300 PV CELLs, 413.3ms\n",
            "Speed: 4.0ms preprocess, 413.3ms inference, 70.7ms postprocess per image at shape (1, 3, 480, 640)\n"
          ]
        },
        {
          "output_type": "stream",
          "name": "stderr",
          "text": [
            "\rDetecting in /content/Hucre-Detector-1/train/images:  21%|██        | 519/2450 [07:12<25:51,  1.24it/s]"
          ]
        },
        {
          "output_type": "stream",
          "name": "stdout",
          "text": [
            "\n",
            "image 1/1 /content/Hucre-Detector-1/train/images/0172_JPG.rf.a0616874ce4f186e7df769bfab533960.jpg: 480x640 4 PV CELLs, 440.4ms\n",
            "Speed: 4.0ms preprocess, 440.4ms inference, 1.2ms postprocess per image at shape (1, 3, 480, 640)\n"
          ]
        },
        {
          "output_type": "stream",
          "name": "stderr",
          "text": [
            "\rDetecting in /content/Hucre-Detector-1/train/images:  21%|██        | 520/2450 [07:12<23:10,  1.39it/s]"
          ]
        },
        {
          "output_type": "stream",
          "name": "stdout",
          "text": [
            "\n",
            "image 1/1 /content/Hucre-Detector-1/train/images/DJI_20240227115225_0639_Z_JPG.rf.e7d9dc28ba80b7afe287ccad447ecd55.jpg: 640x640 300 PV CELLs, 611.3ms\n",
            "Speed: 8.5ms preprocess, 611.3ms inference, 81.9ms postprocess per image at shape (1, 3, 640, 640)\n"
          ]
        },
        {
          "output_type": "stream",
          "name": "stderr",
          "text": [
            "\rDetecting in /content/Hucre-Detector-1/train/images:  21%|██▏       | 521/2450 [07:13<25:31,  1.26it/s]"
          ]
        },
        {
          "output_type": "stream",
          "name": "stdout",
          "text": [
            "\n",
            "image 1/1 /content/Hucre-Detector-1/train/images/Ekran-Goruntusu-2025-08-25-18-56-08_png.rf.ce8a78685a44e3dca22c3b4f137f37a6.jpg: 288x640 77 PV CELLs, 267.2ms\n",
            "Speed: 3.4ms preprocess, 267.2ms inference, 6.4ms postprocess per image at shape (1, 3, 288, 640)\n"
          ]
        },
        {
          "output_type": "stream",
          "name": "stderr",
          "text": [
            "\rDetecting in /content/Hucre-Detector-1/train/images:  21%|██▏       | 522/2450 [07:14<21:10,  1.52it/s]"
          ]
        },
        {
          "output_type": "stream",
          "name": "stdout",
          "text": [
            "\n",
            "image 1/1 /content/Hucre-Detector-1/train/images/0951_JPG.rf.36759a4e6108c4ab08f7050d360e5b28.jpg: 480x640 18 PV CELLs, 436.7ms\n",
            "Speed: 3.4ms preprocess, 436.7ms inference, 2.6ms postprocess per image at shape (1, 3, 480, 640)\n"
          ]
        },
        {
          "output_type": "stream",
          "name": "stderr",
          "text": [
            "\rDetecting in /content/Hucre-Detector-1/train/images:  21%|██▏       | 523/2450 [07:14<19:54,  1.61it/s]"
          ]
        },
        {
          "output_type": "stream",
          "name": "stdout",
          "text": [
            "\n",
            "image 1/1 /content/Hucre-Detector-1/train/images/0430_JPG.rf.027b2008a79856a844fec09f67dcd3f9.jpg: 480x640 300 PV CELLs, 392.1ms\n",
            "Speed: 3.3ms preprocess, 392.1ms inference, 32.2ms postprocess per image at shape (1, 3, 480, 640)\n"
          ]
        },
        {
          "output_type": "stream",
          "name": "stderr",
          "text": [
            "\rDetecting in /content/Hucre-Detector-1/train/images:  21%|██▏       | 524/2450 [07:15<19:45,  1.62it/s]"
          ]
        },
        {
          "output_type": "stream",
          "name": "stdout",
          "text": [
            "\n",
            "image 1/1 /content/Hucre-Detector-1/train/images/DJI_20231121123518_0005_Z_JPG.rf.ec211b1cd9830d380c7cbcd41ca1df31.jpg: 640x640 300 PV CELLs, 573.1ms\n",
            "Speed: 4.4ms preprocess, 573.1ms inference, 28.3ms postprocess per image at shape (1, 3, 640, 640)\n"
          ]
        },
        {
          "output_type": "stream",
          "name": "stderr",
          "text": [
            "\rDetecting in /content/Hucre-Detector-1/train/images:  21%|██▏       | 525/2450 [07:16<22:11,  1.45it/s]"
          ]
        },
        {
          "output_type": "stream",
          "name": "stdout",
          "text": [
            "\n",
            "image 1/1 /content/Hucre-Detector-1/train/images/Screenshot-2023-12-01-232849_png.rf.d05d4148cc543aa9b8040b75034797b0.jpg: 640x640 47 PV CELLs, 580.5ms\n",
            "Speed: 7.2ms preprocess, 580.5ms inference, 6.5ms postprocess per image at shape (1, 3, 640, 640)\n"
          ]
        },
        {
          "output_type": "stream",
          "name": "stderr",
          "text": [
            "\rDetecting in /content/Hucre-Detector-1/train/images:  21%|██▏       | 526/2450 [07:16<21:45,  1.47it/s]"
          ]
        },
        {
          "output_type": "stream",
          "name": "stdout",
          "text": [
            "\n",
            "image 1/1 /content/Hucre-Detector-1/train/images/0355_JPG.rf.a88e3cfd14b176b630b420310ff03242.jpg: 480x640 232 PV CELLs, 441.7ms\n",
            "Speed: 4.0ms preprocess, 441.7ms inference, 24.9ms postprocess per image at shape (1, 3, 480, 640)\n"
          ]
        },
        {
          "output_type": "stream",
          "name": "stderr",
          "text": [
            "\rDetecting in /content/Hucre-Detector-1/train/images:  22%|██▏       | 527/2450 [07:17<21:31,  1.49it/s]"
          ]
        },
        {
          "output_type": "stream",
          "name": "stdout",
          "text": [
            "\n",
            "image 1/1 /content/Hucre-Detector-1/train/images/DJI_20231117141158_0322_Z_JPG.rf.8d20b72762857aac9162e92a4ea8a7b7.jpg: 640x640 300 PV CELLs, 579.3ms\n",
            "Speed: 5.1ms preprocess, 579.3ms inference, 35.2ms postprocess per image at shape (1, 3, 640, 640)\n"
          ]
        },
        {
          "output_type": "stream",
          "name": "stderr",
          "text": [
            "\rDetecting in /content/Hucre-Detector-1/train/images:  22%|██▏       | 528/2450 [07:18<23:38,  1.35it/s]"
          ]
        },
        {
          "output_type": "stream",
          "name": "stdout",
          "text": [
            "\n",
            "image 1/1 /content/Hucre-Detector-1/train/images/1042_JPG.rf.1eabc4fe7fdc8c6a63e147be8bb10fd7.jpg: 480x640 75 PV CELLs, 452.0ms\n",
            "Speed: 4.0ms preprocess, 452.0ms inference, 5.2ms postprocess per image at shape (1, 3, 480, 640)\n"
          ]
        },
        {
          "output_type": "stream",
          "name": "stderr",
          "text": [
            "\rDetecting in /content/Hucre-Detector-1/train/images:  22%|██▏       | 529/2450 [07:18<22:02,  1.45it/s]"
          ]
        },
        {
          "output_type": "stream",
          "name": "stdout",
          "text": [
            "\n",
            "image 1/1 /content/Hucre-Detector-1/train/images/0793_JPG.rf.cb0fd9869b9524a0339921f01a84f949.jpg: 480x640 300 PV CELLs, 467.8ms\n",
            "Speed: 3.9ms preprocess, 467.8ms inference, 81.0ms postprocess per image at shape (1, 3, 480, 640)\n"
          ]
        },
        {
          "output_type": "stream",
          "name": "stderr",
          "text": [
            "\rDetecting in /content/Hucre-Detector-1/train/images:  22%|██▏       | 530/2450 [07:19<23:23,  1.37it/s]"
          ]
        },
        {
          "output_type": "stream",
          "name": "stdout",
          "text": [
            "\n",
            "image 1/1 /content/Hucre-Detector-1/train/images/0810_JPG.rf.2db460042fffe7f22297d0d434138852.jpg: 480x640 300 PV CELLs, 678.9ms\n",
            "Speed: 5.8ms preprocess, 678.9ms inference, 69.8ms postprocess per image at shape (1, 3, 480, 640)\n"
          ]
        },
        {
          "output_type": "stream",
          "name": "stderr",
          "text": [
            "\rDetecting in /content/Hucre-Detector-1/train/images:  22%|██▏       | 531/2450 [07:20<26:24,  1.21it/s]"
          ]
        },
        {
          "output_type": "stream",
          "name": "stdout",
          "text": [
            "\n",
            "image 1/1 /content/Hucre-Detector-1/train/images/DJI_20231117140208_0037_Z_JPG.rf.4f28b7f7bdc090080258df85d0a5aa51.jpg: 640x640 300 PV CELLs, 919.7ms\n",
            "Speed: 7.9ms preprocess, 919.7ms inference, 40.5ms postprocess per image at shape (1, 3, 640, 640)\n"
          ]
        },
        {
          "output_type": "stream",
          "name": "stderr",
          "text": [
            "\rDetecting in /content/Hucre-Detector-1/train/images:  22%|██▏       | 532/2450 [07:22<32:00,  1.00s/it]"
          ]
        },
        {
          "output_type": "stream",
          "name": "stdout",
          "text": [
            "\n",
            "image 1/1 /content/Hucre-Detector-1/train/images/0245_JPG.rf.28546952da0cf77faf93f6d47403bb47.jpg: 480x640 13 PV CELLs, 476.7ms\n",
            "Speed: 9.5ms preprocess, 476.7ms inference, 2.2ms postprocess per image at shape (1, 3, 480, 640)\n"
          ]
        },
        {
          "output_type": "stream",
          "name": "stderr",
          "text": [
            "\rDetecting in /content/Hucre-Detector-1/train/images:  22%|██▏       | 533/2450 [07:22<28:00,  1.14it/s]"
          ]
        },
        {
          "output_type": "stream",
          "name": "stdout",
          "text": [
            "\n",
            "image 1/1 /content/Hucre-Detector-1/train/images/DJI_20231117104556_0476_Z_JPG.rf.f9471ad6c23036610fac5d27d249adbb.jpg: 640x640 93 PV CELLs, 574.8ms\n",
            "Speed: 5.3ms preprocess, 574.8ms inference, 8.8ms postprocess per image at shape (1, 3, 640, 640)\n"
          ]
        },
        {
          "output_type": "stream",
          "name": "stderr",
          "text": [
            "\rDetecting in /content/Hucre-Detector-1/train/images:  22%|██▏       | 534/2450 [07:23<26:37,  1.20it/s]"
          ]
        },
        {
          "output_type": "stream",
          "name": "stdout",
          "text": [
            "\n",
            "image 1/1 /content/Hucre-Detector-1/train/images/0962_JPG.rf.f66ad3e5690f405974d303808b6c710c.jpg: 480x640 29 PV CELLs, 430.8ms\n",
            "Speed: 3.9ms preprocess, 430.8ms inference, 5.0ms postprocess per image at shape (1, 3, 480, 640)\n"
          ]
        },
        {
          "output_type": "stream",
          "name": "stderr",
          "text": [
            "\rDetecting in /content/Hucre-Detector-1/train/images:  22%|██▏       | 535/2450 [07:24<23:47,  1.34it/s]"
          ]
        },
        {
          "output_type": "stream",
          "name": "stdout",
          "text": [
            "\n",
            "image 1/1 /content/Hucre-Detector-1/train/images/MAX_0010_JPG.rf.0ef9ca889768599c6994eba1ac541fbc.jpg: 384x640 292 PV CELLs, 348.6ms\n",
            "Speed: 3.7ms preprocess, 348.6ms inference, 18.4ms postprocess per image at shape (1, 3, 384, 640)\n"
          ]
        },
        {
          "output_type": "stream",
          "name": "stderr",
          "text": [
            "\rDetecting in /content/Hucre-Detector-1/train/images:  22%|██▏       | 536/2450 [07:24<24:22,  1.31it/s]"
          ]
        },
        {
          "output_type": "stream",
          "name": "stdout",
          "text": [
            "\n",
            "image 1/1 /content/Hucre-Detector-1/train/images/DJI_20231229121817_0318_Z_JPG.rf.17a0f9cca04afc74802219bc4dbf64a7.jpg: 480x640 300 PV CELLs, 411.2ms\n",
            "Speed: 7.4ms preprocess, 411.2ms inference, 29.5ms postprocess per image at shape (1, 3, 480, 640)\n"
          ]
        },
        {
          "output_type": "stream",
          "name": "stderr",
          "text": [
            "\rDetecting in /content/Hucre-Detector-1/train/images:  22%|██▏       | 537/2450 [07:26<30:14,  1.05it/s]"
          ]
        },
        {
          "output_type": "stream",
          "name": "stdout",
          "text": [
            "\n",
            "image 1/1 /content/Hucre-Detector-1/train/images/0018_jpg.rf.d4b57e664759fe1cef2ff69fa82a1072.jpg: 480x640 200 PV CELLs, 427.0ms\n",
            "Speed: 3.3ms preprocess, 427.0ms inference, 23.0ms postprocess per image at shape (1, 3, 480, 640)\n"
          ]
        },
        {
          "output_type": "stream",
          "name": "stderr",
          "text": [
            "\rDetecting in /content/Hucre-Detector-1/train/images:  22%|██▏       | 538/2450 [07:26<26:56,  1.18it/s]"
          ]
        },
        {
          "output_type": "stream",
          "name": "stdout",
          "text": [
            "\n",
            "image 1/1 /content/Hucre-Detector-1/train/images/DJI_20231115123727_0065_Z_JPG.rf.29a7412a836ceb3c181bf08d840137c4.jpg: 480x640 300 PV CELLs, 430.9ms\n",
            "Speed: 6.3ms preprocess, 430.9ms inference, 28.6ms postprocess per image at shape (1, 3, 480, 640)\n"
          ]
        },
        {
          "output_type": "stream",
          "name": "stderr",
          "text": [
            "\rDetecting in /content/Hucre-Detector-1/train/images:  22%|██▏       | 539/2450 [07:28<32:02,  1.01s/it]"
          ]
        },
        {
          "output_type": "stream",
          "name": "stdout",
          "text": [
            "\n",
            "image 1/1 /content/Hucre-Detector-1/train/images/Screenshot-2023-12-01-204957_png.rf.385c93f00bc66d9ceae2218062f39baf.jpg: 640x640 15 PV CELLs, 590.2ms\n",
            "Speed: 6.6ms preprocess, 590.2ms inference, 3.0ms postprocess per image at shape (1, 3, 640, 640)\n"
          ]
        },
        {
          "output_type": "stream",
          "name": "stderr",
          "text": [
            "\rDetecting in /content/Hucre-Detector-1/train/images:  22%|██▏       | 540/2450 [07:28<28:33,  1.11it/s]"
          ]
        },
        {
          "output_type": "stream",
          "name": "stdout",
          "text": [
            "\n",
            "image 1/1 /content/Hucre-Detector-1/train/images/DJI_20231117111559_0541_Z_JPG.rf.ec7f22b02014bbda05280cec54222520.jpg: 640x640 16 PV CELLs, 588.3ms\n",
            "Speed: 5.1ms preprocess, 588.3ms inference, 3.3ms postprocess per image at shape (1, 3, 640, 640)\n"
          ]
        },
        {
          "output_type": "stream",
          "name": "stderr",
          "text": [
            "\rDetecting in /content/Hucre-Detector-1/train/images:  22%|██▏       | 541/2450 [07:29<26:42,  1.19it/s]"
          ]
        },
        {
          "output_type": "stream",
          "name": "stdout",
          "text": [
            "\n",
            "image 1/1 /content/Hucre-Detector-1/train/images/DJI_20231117110040_0095_Z_JPG.rf.5d33a2ae3e8cf4ae1b0fd13610d6e34d.jpg: 640x640 300 PV CELLs, 563.8ms\n",
            "Speed: 5.1ms preprocess, 563.8ms inference, 23.2ms postprocess per image at shape (1, 3, 640, 640)\n"
          ]
        },
        {
          "output_type": "stream",
          "name": "stderr",
          "text": [
            "\rDetecting in /content/Hucre-Detector-1/train/images:  22%|██▏       | 542/2450 [07:30<27:00,  1.18it/s]"
          ]
        },
        {
          "output_type": "stream",
          "name": "stdout",
          "text": [
            "\n",
            "image 1/1 /content/Hucre-Detector-1/train/images/0097_JPG.rf.bc2367dd867cc58ae3fecb349457c883.jpg: 480x640 10 PV CELLs, 391.1ms\n",
            "Speed: 3.5ms preprocess, 391.1ms inference, 1.4ms postprocess per image at shape (1, 3, 480, 640)\n"
          ]
        },
        {
          "output_type": "stream",
          "name": "stderr",
          "text": [
            "\rDetecting in /content/Hucre-Detector-1/train/images:  22%|██▏       | 543/2450 [07:30<23:22,  1.36it/s]"
          ]
        },
        {
          "output_type": "stream",
          "name": "stdout",
          "text": [
            "\n",
            "image 1/1 /content/Hucre-Detector-1/train/images/DJI_20231231123814_0475_Z_JPG.rf.ec779f38cd9e389b83fba24a2d41e62b.jpg: 640x640 174 PV CELLs, 541.3ms\n",
            "Speed: 4.2ms preprocess, 541.3ms inference, 18.2ms postprocess per image at shape (1, 3, 640, 640)\n"
          ]
        },
        {
          "output_type": "stream",
          "name": "stderr",
          "text": [
            "\rDetecting in /content/Hucre-Detector-1/train/images:  22%|██▏       | 544/2450 [07:31<23:26,  1.35it/s]"
          ]
        },
        {
          "output_type": "stream",
          "name": "stdout",
          "text": [
            "\n",
            "image 1/1 /content/Hucre-Detector-1/train/images/DJI_20231117140434_0107_Z_JPG.rf.950560f2310e0fae629a923b7bb30a75.jpg: 640x640 300 PV CELLs, 524.6ms\n",
            "Speed: 4.3ms preprocess, 524.6ms inference, 34.6ms postprocess per image at shape (1, 3, 640, 640)\n"
          ]
        },
        {
          "output_type": "stream",
          "name": "stderr",
          "text": [
            "\rDetecting in /content/Hucre-Detector-1/train/images:  22%|██▏       | 545/2450 [07:32<25:11,  1.26it/s]"
          ]
        },
        {
          "output_type": "stream",
          "name": "stdout",
          "text": [
            "\n",
            "image 1/1 /content/Hucre-Detector-1/train/images/0419_JPG.rf.5713d894acbe04d9abab2e02bcce1b8c.jpg: 480x640 300 PV CELLs, 656.0ms\n",
            "Speed: 5.6ms preprocess, 656.0ms inference, 123.0ms postprocess per image at shape (1, 3, 480, 640)\n"
          ]
        },
        {
          "output_type": "stream",
          "name": "stderr",
          "text": [
            "\rDetecting in /content/Hucre-Detector-1/train/images:  22%|██▏       | 546/2450 [07:33<27:55,  1.14it/s]"
          ]
        },
        {
          "output_type": "stream",
          "name": "stdout",
          "text": [
            "\n",
            "image 1/1 /content/Hucre-Detector-1/train/images/DJI_20231122122312_0073_Z_JPG.rf.67440b84c0fb4fa77f73a33921b1fd41.jpg: 640x640 239 PV CELLs, 949.8ms\n",
            "Speed: 8.0ms preprocess, 949.8ms inference, 13.5ms postprocess per image at shape (1, 3, 640, 640)\n"
          ]
        },
        {
          "output_type": "stream",
          "name": "stderr",
          "text": [
            "\rDetecting in /content/Hucre-Detector-1/train/images:  22%|██▏       | 547/2450 [07:35<32:12,  1.02s/it]"
          ]
        },
        {
          "output_type": "stream",
          "name": "stdout",
          "text": [
            "\n",
            "image 1/1 /content/Hucre-Detector-1/train/images/DJI_20231117130727_0737_Z_JPG.rf.440939eea3b7c377a831ed9941760584.jpg: 640x640 300 PV CELLs, 666.9ms\n",
            "Speed: 7.5ms preprocess, 666.9ms inference, 27.7ms postprocess per image at shape (1, 3, 640, 640)\n"
          ]
        },
        {
          "output_type": "stream",
          "name": "stderr",
          "text": [
            "\rDetecting in /content/Hucre-Detector-1/train/images:  22%|██▏       | 548/2450 [07:36<31:43,  1.00s/it]"
          ]
        },
        {
          "output_type": "stream",
          "name": "stdout",
          "text": [
            "\n",
            "image 1/1 /content/Hucre-Detector-1/train/images/DJI_20231117104312_0396_Z_JPG.rf.aa694653d30b6230165794eb8080ea13.jpg: 640x640 147 PV CELLs, 528.3ms\n",
            "Speed: 4.5ms preprocess, 528.3ms inference, 22.9ms postprocess per image at shape (1, 3, 640, 640)\n"
          ]
        },
        {
          "output_type": "stream",
          "name": "stderr",
          "text": [
            "\rDetecting in /content/Hucre-Detector-1/train/images:  22%|██▏       | 549/2450 [07:36<29:12,  1.08it/s]"
          ]
        },
        {
          "output_type": "stream",
          "name": "stdout",
          "text": [
            "\n",
            "image 1/1 /content/Hucre-Detector-1/train/images/DJI_20231230103710_0241_Z_JPG.rf.be6ba5e24445ae40573a83078d4ea7ce.jpg: 640x640 300 PV CELLs, 539.8ms\n",
            "Speed: 4.4ms preprocess, 539.8ms inference, 35.6ms postprocess per image at shape (1, 3, 640, 640)\n"
          ]
        },
        {
          "output_type": "stream",
          "name": "stderr",
          "text": [
            "\rDetecting in /content/Hucre-Detector-1/train/images:  22%|██▏       | 550/2450 [07:37<28:23,  1.12it/s]"
          ]
        },
        {
          "output_type": "stream",
          "name": "stdout",
          "text": [
            "\n",
            "image 1/1 /content/Hucre-Detector-1/train/images/DJI_20240125112948_0462_Z_JPG.rf.0d8a6f180989f2f2b31b318eabe2caeb.jpg: 640x640 300 PV CELLs, 546.2ms\n",
            "Speed: 4.3ms preprocess, 546.2ms inference, 21.3ms postprocess per image at shape (1, 3, 640, 640)\n"
          ]
        },
        {
          "output_type": "stream",
          "name": "stderr",
          "text": [
            "\rDetecting in /content/Hucre-Detector-1/train/images:  22%|██▏       | 551/2450 [07:38<27:34,  1.15it/s]"
          ]
        },
        {
          "output_type": "stream",
          "name": "stdout",
          "text": [
            "\n",
            "image 1/1 /content/Hucre-Detector-1/train/images/DJI_20231117104316_0398_Z_JPG.rf.8fe6d37c2b42db548b5b597a700bf35a.jpg: 480x640 80 PV CELLs, 411.2ms\n",
            "Speed: 3.9ms preprocess, 411.2ms inference, 9.3ms postprocess per image at shape (1, 3, 480, 640)\n"
          ]
        },
        {
          "output_type": "stream",
          "name": "stderr",
          "text": [
            "\rDetecting in /content/Hucre-Detector-1/train/images:  23%|██▎       | 552/2450 [07:39<29:02,  1.09it/s]"
          ]
        },
        {
          "output_type": "stream",
          "name": "stdout",
          "text": [
            "\n",
            "image 1/1 /content/Hucre-Detector-1/train/images/DJI_20231229121815_0317_Z_JPG.rf.00028c43adbf6c2bbad755cf2d6b9130.jpg: 640x640 300 PV CELLs, 559.4ms\n",
            "Speed: 4.4ms preprocess, 559.4ms inference, 62.0ms postprocess per image at shape (1, 3, 640, 640)\n"
          ]
        },
        {
          "output_type": "stream",
          "name": "stderr",
          "text": [
            "\rDetecting in /content/Hucre-Detector-1/train/images:  23%|██▎       | 553/2450 [07:40<28:36,  1.11it/s]"
          ]
        },
        {
          "output_type": "stream",
          "name": "stdout",
          "text": [
            "\n",
            "image 1/1 /content/Hucre-Detector-1/train/images/DJI_20231117111732_0587_Z_JPG.rf.f9b4bcc371625464b1771838d4393d02.jpg: 640x640 50 PV CELLs, 547.9ms\n",
            "Speed: 4.3ms preprocess, 547.9ms inference, 8.6ms postprocess per image at shape (1, 3, 640, 640)\n"
          ]
        },
        {
          "output_type": "stream",
          "name": "stderr",
          "text": [
            "\rDetecting in /content/Hucre-Detector-1/train/images:  23%|██▎       | 554/2450 [07:41<26:32,  1.19it/s]"
          ]
        },
        {
          "output_type": "stream",
          "name": "stdout",
          "text": [
            "\n",
            "image 1/1 /content/Hucre-Detector-1/train/images/DJI_20231117110311_0168_Z_JPG.rf.bb9be401e46a19b332f7c1a904911467.jpg: 480x640 300 PV CELLs, 426.5ms\n",
            "Speed: 5.0ms preprocess, 426.5ms inference, 18.8ms postprocess per image at shape (1, 3, 480, 640)\n"
          ]
        },
        {
          "output_type": "stream",
          "name": "stderr",
          "text": [
            "\rDetecting in /content/Hucre-Detector-1/train/images:  23%|██▎       | 555/2450 [07:42<31:06,  1.02it/s]"
          ]
        },
        {
          "output_type": "stream",
          "name": "stdout",
          "text": [
            "\n",
            "image 1/1 /content/Hucre-Detector-1/train/images/MAX_0012_JPG.rf.4bae9d315af2faedced79a220c1ff4fa.jpg: 384x640 268 PV CELLs, 331.6ms\n",
            "Speed: 3.0ms preprocess, 331.6ms inference, 16.9ms postprocess per image at shape (1, 3, 384, 640)\n"
          ]
        },
        {
          "output_type": "stream",
          "name": "stderr",
          "text": [
            "\rDetecting in /content/Hucre-Detector-1/train/images:  23%|██▎       | 556/2450 [07:43<28:31,  1.11it/s]"
          ]
        },
        {
          "output_type": "stream",
          "name": "stdout",
          "text": [
            "\n",
            "image 1/1 /content/Hucre-Detector-1/train/images/DJI_20231117130757_0752_Z_JPG.rf.9a4aa76d15e1c5ebe09d826ad9dec224.jpg: 640x640 209 PV CELLs, 539.6ms\n",
            "Speed: 4.4ms preprocess, 539.6ms inference, 21.2ms postprocess per image at shape (1, 3, 640, 640)\n"
          ]
        },
        {
          "output_type": "stream",
          "name": "stderr",
          "text": [
            "\rDetecting in /content/Hucre-Detector-1/train/images:  23%|██▎       | 557/2450 [07:43<27:15,  1.16it/s]"
          ]
        },
        {
          "output_type": "stream",
          "name": "stdout",
          "text": [
            "\n",
            "image 1/1 /content/Hucre-Detector-1/train/images/DJI_20231117130128_0565_Z_JPG.rf.cb90e5a185c4a0c64af50efbe804a6d9.jpg: 640x640 300 PV CELLs, 554.5ms\n",
            "Speed: 4.3ms preprocess, 554.5ms inference, 45.8ms postprocess per image at shape (1, 3, 640, 640)\n"
          ]
        },
        {
          "output_type": "stream",
          "name": "stderr",
          "text": [
            "\rDetecting in /content/Hucre-Detector-1/train/images:  23%|██▎       | 558/2450 [07:44<27:13,  1.16it/s]"
          ]
        },
        {
          "output_type": "stream",
          "name": "stdout",
          "text": [
            "\n",
            "image 1/1 /content/Hucre-Detector-1/train/images/0340_JPG.rf.f425a1abcbffc38c22c24fa2958f099f.jpg: 480x640 3 PV CELLs, 420.6ms\n",
            "Speed: 3.4ms preprocess, 420.6ms inference, 1.1ms postprocess per image at shape (1, 3, 480, 640)\n"
          ]
        },
        {
          "output_type": "stream",
          "name": "stderr",
          "text": [
            "\rDetecting in /content/Hucre-Detector-1/train/images:  23%|██▎       | 559/2450 [07:45<23:44,  1.33it/s]"
          ]
        },
        {
          "output_type": "stream",
          "name": "stdout",
          "text": [
            "\n",
            "image 1/1 /content/Hucre-Detector-1/train/images/DJI_20231229121508_0225_Z_JPG.rf.9dfda73298b9b7b7696de182ff67c0ea.jpg: 640x640 300 PV CELLs, 755.4ms\n",
            "Speed: 4.6ms preprocess, 755.4ms inference, 145.0ms postprocess per image at shape (1, 3, 640, 640)\n"
          ]
        },
        {
          "output_type": "stream",
          "name": "stderr",
          "text": [
            "\rDetecting in /content/Hucre-Detector-1/train/images:  23%|██▎       | 560/2450 [07:46<28:53,  1.09it/s]"
          ]
        },
        {
          "output_type": "stream",
          "name": "stdout",
          "text": [
            "\n",
            "image 1/1 /content/Hucre-Detector-1/train/images/0005_jpg.rf.745b5932a6dba11a3b641606f4b1ffe3.jpg: 480x640 300 PV CELLs, 662.2ms\n",
            "Speed: 5.8ms preprocess, 662.2ms inference, 30.5ms postprocess per image at shape (1, 3, 480, 640)\n"
          ]
        },
        {
          "output_type": "stream",
          "name": "stderr",
          "text": [
            "\rDetecting in /content/Hucre-Detector-1/train/images:  23%|██▎       | 561/2450 [07:47<29:43,  1.06it/s]"
          ]
        },
        {
          "output_type": "stream",
          "name": "stdout",
          "text": [
            "\n",
            "image 1/1 /content/Hucre-Detector-1/train/images/0409_JPG.rf.a9f1a599f6ce7c1fb3189efcf82da9b1.jpg: 480x640 300 PV CELLs, 694.6ms\n",
            "Speed: 8.9ms preprocess, 694.6ms inference, 67.1ms postprocess per image at shape (1, 3, 480, 640)\n"
          ]
        },
        {
          "output_type": "stream",
          "name": "stderr",
          "text": [
            "\rDetecting in /content/Hucre-Detector-1/train/images:  23%|██▎       | 562/2450 [07:48<30:01,  1.05it/s]"
          ]
        },
        {
          "output_type": "stream",
          "name": "stdout",
          "text": [
            "\n",
            "image 1/1 /content/Hucre-Detector-1/train/images/1062_jpg.rf.0dbe9f9922b198b3a9f0e8ce098f6122.jpg: 480x640 188 PV CELLs, 404.6ms\n",
            "Speed: 3.4ms preprocess, 404.6ms inference, 15.7ms postprocess per image at shape (1, 3, 480, 640)\n"
          ]
        },
        {
          "output_type": "stream",
          "name": "stderr",
          "text": [
            "\rDetecting in /content/Hucre-Detector-1/train/images:  23%|██▎       | 563/2450 [07:49<26:19,  1.19it/s]"
          ]
        },
        {
          "output_type": "stream",
          "name": "stdout",
          "text": [
            "\n",
            "image 1/1 /content/Hucre-Detector-1/train/images/Ekran-Goruntusu-2025-08-25-18-32-35_png.rf.713473730d357ad88c3f90e1d370cda3.jpg: 256x640 197 PV CELLs, 264.9ms\n",
            "Speed: 3.8ms preprocess, 264.9ms inference, 12.7ms postprocess per image at shape (1, 3, 256, 640)\n"
          ]
        },
        {
          "output_type": "stream",
          "name": "stderr",
          "text": [
            "\rDetecting in /content/Hucre-Detector-1/train/images:  23%|██▎       | 564/2450 [07:49<22:10,  1.42it/s]"
          ]
        },
        {
          "output_type": "stream",
          "name": "stdout",
          "text": [
            "\n",
            "image 1/1 /content/Hucre-Detector-1/train/images/DJI_20240227115211_0632_Z_JPG.rf.af270fcd784a262c07287ae8c9ec0269.jpg: 640x640 137 PV CELLs, 586.4ms\n",
            "Speed: 5.3ms preprocess, 586.4ms inference, 15.0ms postprocess per image at shape (1, 3, 640, 640)\n"
          ]
        },
        {
          "output_type": "stream",
          "name": "stderr",
          "text": [
            "\rDetecting in /content/Hucre-Detector-1/train/images:  23%|██▎       | 565/2450 [07:50<22:52,  1.37it/s]"
          ]
        },
        {
          "output_type": "stream",
          "name": "stdout",
          "text": [
            "\n",
            "image 1/1 /content/Hucre-Detector-1/train/images/DJI_20231117132439_0173_Z_JPG.rf.790c84e3a2103fcbe7e09c2d8d5a2d38.jpg: 640x640 300 PV CELLs, 560.0ms\n",
            "Speed: 4.5ms preprocess, 560.0ms inference, 33.8ms postprocess per image at shape (1, 3, 640, 640)\n"
          ]
        },
        {
          "output_type": "stream",
          "name": "stderr",
          "text": [
            "\rDetecting in /content/Hucre-Detector-1/train/images:  23%|██▎       | 566/2450 [07:51<24:06,  1.30it/s]"
          ]
        },
        {
          "output_type": "stream",
          "name": "stdout",
          "text": [
            "\n",
            "image 1/1 /content/Hucre-Detector-1/train/images/0568_JPG.rf.ad100f0dd1a2709d1b310954e3f96e29.jpg: 480x640 300 PV CELLs, 443.6ms\n",
            "Speed: 4.1ms preprocess, 443.6ms inference, 26.2ms postprocess per image at shape (1, 3, 480, 640)\n"
          ]
        },
        {
          "output_type": "stream",
          "name": "stderr",
          "text": [
            "\rDetecting in /content/Hucre-Detector-1/train/images:  23%|██▎       | 567/2450 [07:51<23:08,  1.36it/s]"
          ]
        },
        {
          "output_type": "stream",
          "name": "stdout",
          "text": [
            "\n",
            "image 1/1 /content/Hucre-Detector-1/train/images/0469_JPG.rf.7a824abbb5e00ea2403bde71523cac19.jpg: 480x640 212 PV CELLs, 417.2ms\n",
            "Speed: 3.9ms preprocess, 417.2ms inference, 27.5ms postprocess per image at shape (1, 3, 480, 640)\n"
          ]
        },
        {
          "output_type": "stream",
          "name": "stderr",
          "text": [
            "\rDetecting in /content/Hucre-Detector-1/train/images:  23%|██▎       | 568/2450 [07:52<21:55,  1.43it/s]"
          ]
        },
        {
          "output_type": "stream",
          "name": "stdout",
          "text": [
            "\n",
            "image 1/1 /content/Hucre-Detector-1/train/images/Screenshot-2023-12-01-213300_png.rf.29243bf4358f8e7d864dd29dc2c75977.jpg: 640x640 137 PV CELLs, 582.6ms\n",
            "Speed: 9.1ms preprocess, 582.6ms inference, 10.6ms postprocess per image at shape (1, 3, 640, 640)\n"
          ]
        },
        {
          "output_type": "stream",
          "name": "stderr",
          "text": [
            "\rDetecting in /content/Hucre-Detector-1/train/images:  23%|██▎       | 569/2450 [07:53<21:50,  1.44it/s]"
          ]
        },
        {
          "output_type": "stream",
          "name": "stdout",
          "text": [
            "\n",
            "image 1/1 /content/Hucre-Detector-1/train/images/0663_JPG.rf.c7ab9ef7c0e42e0061068afb1cf4759a.jpg: 480x640 300 PV CELLs, 458.3ms\n",
            "Speed: 3.9ms preprocess, 458.3ms inference, 66.6ms postprocess per image at shape (1, 3, 480, 640)\n"
          ]
        },
        {
          "output_type": "stream",
          "name": "stderr",
          "text": [
            "\rDetecting in /content/Hucre-Detector-1/train/images:  23%|██▎       | 570/2450 [07:53<22:08,  1.41it/s]"
          ]
        },
        {
          "output_type": "stream",
          "name": "stdout",
          "text": [
            "\n",
            "image 1/1 /content/Hucre-Detector-1/train/images/DJI_20231117125947_0517_Z_JPG.rf.a02ac1174cbae3da0cc3422bf452f96b.jpg: 640x640 9 PV CELLs, 595.9ms\n",
            "Speed: 5.1ms preprocess, 595.9ms inference, 2.0ms postprocess per image at shape (1, 3, 640, 640)\n"
          ]
        },
        {
          "output_type": "stream",
          "name": "stderr",
          "text": [
            "\rDetecting in /content/Hucre-Detector-1/train/images:  23%|██▎       | 571/2450 [07:54<22:14,  1.41it/s]"
          ]
        },
        {
          "output_type": "stream",
          "name": "stdout",
          "text": [
            "\n",
            "image 1/1 /content/Hucre-Detector-1/train/images/MAX_0053_JPG.rf.622e01d9d5da898683c9e5600ceb713b.jpg: 480x640 168 PV CELLs, 436.9ms\n",
            "Speed: 4.6ms preprocess, 436.9ms inference, 6.3ms postprocess per image at shape (1, 3, 480, 640)\n"
          ]
        },
        {
          "output_type": "stream",
          "name": "stderr",
          "text": [
            "\rDetecting in /content/Hucre-Detector-1/train/images:  23%|██▎       | 572/2450 [07:55<24:26,  1.28it/s]"
          ]
        },
        {
          "output_type": "stream",
          "name": "stdout",
          "text": [
            "\n",
            "image 1/1 /content/Hucre-Detector-1/train/images/Ekran-Goruntusu-2025-08-25-18-29-58_png.rf.a6ba08a667699446c57778d91b969743.jpg: 288x640 52 PV CELLs, 276.7ms\n",
            "Speed: 3.4ms preprocess, 276.7ms inference, 7.1ms postprocess per image at shape (1, 3, 288, 640)\n"
          ]
        },
        {
          "output_type": "stream",
          "name": "stderr",
          "text": [
            "\rDetecting in /content/Hucre-Detector-1/train/images:  23%|██▎       | 573/2450 [07:55<20:22,  1.53it/s]"
          ]
        },
        {
          "output_type": "stream",
          "name": "stdout",
          "text": [
            "\n",
            "image 1/1 /content/Hucre-Detector-1/train/images/DJI_20240110100234_0394_Z_JPG.rf.51a7454e29a123009b867466d9c36817.jpg: 640x640 300 PV CELLs, 573.6ms\n",
            "Speed: 4.2ms preprocess, 573.6ms inference, 41.4ms postprocess per image at shape (1, 3, 640, 640)\n"
          ]
        },
        {
          "output_type": "stream",
          "name": "stderr",
          "text": [
            "\rDetecting in /content/Hucre-Detector-1/train/images:  23%|██▎       | 574/2450 [07:56<22:48,  1.37it/s]"
          ]
        },
        {
          "output_type": "stream",
          "name": "stdout",
          "text": [
            "\n",
            "image 1/1 /content/Hucre-Detector-1/train/images/DJI_20231117111041_0386_Z_JPG.rf.c43bc1a571c9869c623f45836af34c12.jpg: 640x640 300 PV CELLs, 560.0ms\n",
            "Speed: 5.0ms preprocess, 560.0ms inference, 21.4ms postprocess per image at shape (1, 3, 640, 640)\n"
          ]
        },
        {
          "output_type": "stream",
          "name": "stderr",
          "text": [
            "\rDetecting in /content/Hucre-Detector-1/train/images:  23%|██▎       | 575/2450 [07:57<23:54,  1.31it/s]"
          ]
        },
        {
          "output_type": "stream",
          "name": "stdout",
          "text": [
            "\n",
            "image 1/1 /content/Hucre-Detector-1/train/images/DJI_20240108104038_0179_Z_JPG.rf.868fb098e32647a55b5f5b0b525168b9.jpg: 640x640 300 PV CELLs, 565.6ms\n",
            "Speed: 4.4ms preprocess, 565.6ms inference, 37.1ms postprocess per image at shape (1, 3, 640, 640)\n"
          ]
        },
        {
          "output_type": "stream",
          "name": "stderr",
          "text": [
            "\rDetecting in /content/Hucre-Detector-1/train/images:  24%|██▎       | 576/2450 [07:58<25:42,  1.21it/s]"
          ]
        },
        {
          "output_type": "stream",
          "name": "stdout",
          "text": [
            "\n",
            "image 1/1 /content/Hucre-Detector-1/train/images/1055_jpg.rf.4d22ac7abba5461e6a46534ebc6e4a3a.jpg: 480x640 300 PV CELLs, 678.3ms\n",
            "Speed: 5.7ms preprocess, 678.3ms inference, 61.6ms postprocess per image at shape (1, 3, 480, 640)\n"
          ]
        },
        {
          "output_type": "stream",
          "name": "stderr",
          "text": [
            "\rDetecting in /content/Hucre-Detector-1/train/images:  24%|██▎       | 577/2450 [07:59<27:38,  1.13it/s]"
          ]
        },
        {
          "output_type": "stream",
          "name": "stdout",
          "text": [
            "\n",
            "image 1/1 /content/Hucre-Detector-1/train/images/DJI_20240108105539_0620_Z_JPG.rf.5db26ea18db1aaabf5e5062b6433d43e.jpg: 640x640 300 PV CELLs, 909.5ms\n",
            "Speed: 7.4ms preprocess, 909.5ms inference, 30.7ms postprocess per image at shape (1, 3, 640, 640)\n"
          ]
        },
        {
          "output_type": "stream",
          "name": "stderr",
          "text": [
            "\rDetecting in /content/Hucre-Detector-1/train/images:  24%|██▎       | 578/2450 [08:00<32:10,  1.03s/it]"
          ]
        },
        {
          "output_type": "stream",
          "name": "stdout",
          "text": [
            "\n",
            "image 1/1 /content/Hucre-Detector-1/train/images/DJI_20240227104740_0070_Z_JPG.rf.f5ab98f67271cedff46357fc3efe57d5.jpg: 640x640 300 PV CELLs, 680.3ms\n",
            "Speed: 9.5ms preprocess, 680.3ms inference, 53.2ms postprocess per image at shape (1, 3, 640, 640)\n"
          ]
        },
        {
          "output_type": "stream",
          "name": "stderr",
          "text": [
            "\rDetecting in /content/Hucre-Detector-1/train/images:  24%|██▎       | 579/2450 [08:01<32:16,  1.03s/it]"
          ]
        },
        {
          "output_type": "stream",
          "name": "stdout",
          "text": [
            "\n",
            "image 1/1 /content/Hucre-Detector-1/train/images/Screenshot-2023-12-01-215137_png.rf.28fdab91e4c044b27205ec70e68a5546.jpg: 640x640 50 PV CELLs, 553.0ms\n",
            "Speed: 6.3ms preprocess, 553.0ms inference, 6.6ms postprocess per image at shape (1, 3, 640, 640)\n"
          ]
        },
        {
          "output_type": "stream",
          "name": "stderr",
          "text": [
            "\rDetecting in /content/Hucre-Detector-1/train/images:  24%|██▎       | 580/2450 [08:02<28:19,  1.10it/s]"
          ]
        },
        {
          "output_type": "stream",
          "name": "stdout",
          "text": [
            "\n",
            "image 1/1 /content/Hucre-Detector-1/train/images/0445_JPG.rf.29fe781d85e165939c83c6156837aeb5.jpg: 480x640 300 PV CELLs, 424.6ms\n",
            "Speed: 4.8ms preprocess, 424.6ms inference, 15.8ms postprocess per image at shape (1, 3, 480, 640)\n"
          ]
        },
        {
          "output_type": "stream",
          "name": "stderr",
          "text": [
            "\rDetecting in /content/Hucre-Detector-1/train/images:  24%|██▎       | 581/2450 [08:03<25:42,  1.21it/s]"
          ]
        },
        {
          "output_type": "stream",
          "name": "stdout",
          "text": [
            "\n",
            "image 1/1 /content/Hucre-Detector-1/train/images/DJI_20240227115215_0634_Z_JPG.rf.5d340a4a6b2f25f93187fa54e7783602.jpg: 640x640 52 PV CELLs, 568.2ms\n",
            "Speed: 4.4ms preprocess, 568.2ms inference, 7.6ms postprocess per image at shape (1, 3, 640, 640)\n"
          ]
        },
        {
          "output_type": "stream",
          "name": "stderr",
          "text": [
            "\rDetecting in /content/Hucre-Detector-1/train/images:  24%|██▍       | 582/2450 [08:03<24:33,  1.27it/s]"
          ]
        },
        {
          "output_type": "stream",
          "name": "stdout",
          "text": [
            "\n",
            "image 1/1 /content/Hucre-Detector-1/train/images/0994_JPG.rf.1770287ab73d72260123a933b4102c4f.jpg: 480x640 134 PV CELLs, 462.9ms\n",
            "Speed: 4.1ms preprocess, 462.9ms inference, 18.6ms postprocess per image at shape (1, 3, 480, 640)\n"
          ]
        },
        {
          "output_type": "stream",
          "name": "stderr",
          "text": [
            "\rDetecting in /content/Hucre-Detector-1/train/images:  24%|██▍       | 583/2450 [08:04<23:01,  1.35it/s]"
          ]
        },
        {
          "output_type": "stream",
          "name": "stdout",
          "text": [
            "\n",
            "image 1/1 /content/Hucre-Detector-1/train/images/0889_JPG.rf.94f93a3890ebe095cc391a3c76c1eddb.jpg: 480x640 84 PV CELLs, 414.1ms\n",
            "Speed: 3.6ms preprocess, 414.1ms inference, 5.1ms postprocess per image at shape (1, 3, 480, 640)\n"
          ]
        },
        {
          "output_type": "stream",
          "name": "stderr",
          "text": [
            "\rDetecting in /content/Hucre-Detector-1/train/images:  24%|██▍       | 584/2450 [08:05<21:07,  1.47it/s]"
          ]
        },
        {
          "output_type": "stream",
          "name": "stdout",
          "text": [
            "\n",
            "image 1/1 /content/Hucre-Detector-1/train/images/DJI_20231117130714_0731_Z_JPG.rf.e3f9ad05b45263c8f9f882c4d632c825.jpg: 640x640 78 PV CELLs, 549.0ms\n",
            "Speed: 4.3ms preprocess, 549.0ms inference, 9.5ms postprocess per image at shape (1, 3, 640, 640)\n"
          ]
        },
        {
          "output_type": "stream",
          "name": "stderr",
          "text": [
            "\rDetecting in /content/Hucre-Detector-1/train/images:  24%|██▍       | 585/2450 [08:05<21:29,  1.45it/s]"
          ]
        },
        {
          "output_type": "stream",
          "name": "stdout",
          "text": [
            "\n",
            "image 1/1 /content/Hucre-Detector-1/train/images/0961_JPG.rf.155471ef8d37f7455e79ea7dc5bdd6c9.jpg: 480x640 1 PV CELL, 448.4ms\n",
            "Speed: 4.1ms preprocess, 448.4ms inference, 1.1ms postprocess per image at shape (1, 3, 480, 640)\n"
          ]
        },
        {
          "output_type": "stream",
          "name": "stderr",
          "text": [
            "\rDetecting in /content/Hucre-Detector-1/train/images:  24%|██▍       | 586/2450 [08:06<20:01,  1.55it/s]"
          ]
        },
        {
          "output_type": "stream",
          "name": "stdout",
          "text": [
            "\n",
            "image 1/1 /content/Hucre-Detector-1/train/images/DJI_20231117111212_0429_Z_JPG.rf.f0c399e70ffece91b562f444616be7c6.jpg: 640x640 222 PV CELLs, 581.3ms\n",
            "Speed: 5.1ms preprocess, 581.3ms inference, 32.7ms postprocess per image at shape (1, 3, 640, 640)\n"
          ]
        },
        {
          "output_type": "stream",
          "name": "stderr",
          "text": [
            "\rDetecting in /content/Hucre-Detector-1/train/images:  24%|██▍       | 587/2450 [08:07<22:07,  1.40it/s]"
          ]
        },
        {
          "output_type": "stream",
          "name": "stdout",
          "text": [
            "\n",
            "image 1/1 /content/Hucre-Detector-1/train/images/0655_JPG.rf.05124fed56e1e791f7730d429e1cd7f6.jpg: 480x640 272 PV CELLs, 409.5ms\n",
            "Speed: 4.0ms preprocess, 409.5ms inference, 23.6ms postprocess per image at shape (1, 3, 480, 640)\n"
          ]
        },
        {
          "output_type": "stream",
          "name": "stderr",
          "text": [
            "\rDetecting in /content/Hucre-Detector-1/train/images:  24%|██▍       | 588/2450 [08:07<21:08,  1.47it/s]"
          ]
        },
        {
          "output_type": "stream",
          "name": "stdout",
          "text": [
            "\n",
            "image 1/1 /content/Hucre-Detector-1/train/images/0528_JPG.rf.100ac220bd161f1025b286e103617316.jpg: 480x640 300 PV CELLs, 406.6ms\n",
            "Speed: 3.5ms preprocess, 406.6ms inference, 16.1ms postprocess per image at shape (1, 3, 480, 640)\n"
          ]
        },
        {
          "output_type": "stream",
          "name": "stderr",
          "text": [
            "\rDetecting in /content/Hucre-Detector-1/train/images:  24%|██▍       | 589/2450 [08:08<20:27,  1.52it/s]"
          ]
        },
        {
          "output_type": "stream",
          "name": "stdout",
          "text": [
            "\n",
            "image 1/1 /content/Hucre-Detector-1/train/images/0611_JPG.rf.a639cbfd7afe44b0eb9ac852aa51d776.jpg: 480x640 300 PV CELLs, 431.1ms\n",
            "Speed: 4.2ms preprocess, 431.1ms inference, 42.3ms postprocess per image at shape (1, 3, 480, 640)\n"
          ]
        },
        {
          "output_type": "stream",
          "name": "stderr",
          "text": [
            "\rDetecting in /content/Hucre-Detector-1/train/images:  24%|██▍       | 590/2450 [08:09<20:36,  1.50it/s]"
          ]
        },
        {
          "output_type": "stream",
          "name": "stdout",
          "text": [
            "\n",
            "image 1/1 /content/Hucre-Detector-1/train/images/DJI_20231117110758_0307_Z_JPG.rf.0d2442df392ab26f2dc0830a345abd09.jpg: 640x640 300 PV CELLs, 612.4ms\n",
            "Speed: 5.4ms preprocess, 612.4ms inference, 40.4ms postprocess per image at shape (1, 3, 640, 640)\n"
          ]
        },
        {
          "output_type": "stream",
          "name": "stderr",
          "text": [
            "\rDetecting in /content/Hucre-Detector-1/train/images:  24%|██▍       | 591/2450 [08:10<23:04,  1.34it/s]"
          ]
        },
        {
          "output_type": "stream",
          "name": "stdout",
          "text": [
            "\n",
            "image 1/1 /content/Hucre-Detector-1/train/images/DJI_20231115123731_0067_Z_JPG.rf.be11139265d1eff2ade75a2391f4f026.jpg: 480x640 300 PV CELLs, 420.6ms\n",
            "Speed: 5.1ms preprocess, 420.6ms inference, 18.1ms postprocess per image at shape (1, 3, 480, 640)\n"
          ]
        },
        {
          "output_type": "stream",
          "name": "stderr",
          "text": [
            "\rDetecting in /content/Hucre-Detector-1/train/images:  24%|██▍       | 592/2450 [08:11<29:26,  1.05it/s]"
          ]
        },
        {
          "output_type": "stream",
          "name": "stdout",
          "text": [
            "\n",
            "image 1/1 /content/Hucre-Detector-1/train/images/0923_JPG.rf.528c3c4cfa6eed51986c674234a61d24.jpg: 480x640 16 PV CELLs, 689.4ms\n",
            "Speed: 13.0ms preprocess, 689.4ms inference, 2.9ms postprocess per image at shape (1, 3, 480, 640)\n"
          ]
        },
        {
          "output_type": "stream",
          "name": "stderr",
          "text": [
            "\rDetecting in /content/Hucre-Detector-1/train/images:  24%|██▍       | 593/2450 [08:12<28:31,  1.08it/s]"
          ]
        },
        {
          "output_type": "stream",
          "name": "stdout",
          "text": [
            "\n",
            "image 1/1 /content/Hucre-Detector-1/train/images/0059_JPG.rf.d6c9583033cc753108ef17e41a070ff5.jpg: 480x640 1 PV CELL, 691.7ms\n",
            "Speed: 7.0ms preprocess, 691.7ms inference, 1.7ms postprocess per image at shape (1, 3, 480, 640)\n"
          ]
        },
        {
          "output_type": "stream",
          "name": "stderr",
          "text": [
            "\rDetecting in /content/Hucre-Detector-1/train/images:  24%|██▍       | 594/2450 [08:13<27:18,  1.13it/s]"
          ]
        },
        {
          "output_type": "stream",
          "name": "stdout",
          "text": [
            "\n",
            "image 1/1 /content/Hucre-Detector-1/train/images/DJI_20231231130016_0287_Z_JPG.rf.a35a39a4a43d90539f04898397c88152.jpg: 640x640 245 PV CELLs, 937.3ms\n",
            "Speed: 7.9ms preprocess, 937.3ms inference, 36.6ms postprocess per image at shape (1, 3, 640, 640)\n"
          ]
        },
        {
          "output_type": "stream",
          "name": "stderr",
          "text": [
            "\rDetecting in /content/Hucre-Detector-1/train/images:  24%|██▍       | 595/2450 [08:14<30:26,  1.02it/s]"
          ]
        },
        {
          "output_type": "stream",
          "name": "stdout",
          "text": [
            "\n",
            "image 1/1 /content/Hucre-Detector-1/train/images/DJI_20231229131127_0534_Z_JPG.rf.2cc1edf298a37ee3f32d5e4c21f6a46a.jpg: 640x640 300 PV CELLs, 599.3ms\n",
            "Speed: 5.2ms preprocess, 599.3ms inference, 31.5ms postprocess per image at shape (1, 3, 640, 640)\n"
          ]
        },
        {
          "output_type": "stream",
          "name": "stderr",
          "text": [
            "\rDetecting in /content/Hucre-Detector-1/train/images:  24%|██▍       | 596/2450 [08:15<29:35,  1.04it/s]"
          ]
        },
        {
          "output_type": "stream",
          "name": "stdout",
          "text": [
            "\n",
            "image 1/1 /content/Hucre-Detector-1/train/images/DJI_20231117111031_0381_Z_JPG.rf.cfcb6721b93c19b501c2bd683269c2d0.jpg: 640x640 300 PV CELLs, 587.1ms\n",
            "Speed: 5.2ms preprocess, 587.1ms inference, 17.6ms postprocess per image at shape (1, 3, 640, 640)\n"
          ]
        },
        {
          "output_type": "stream",
          "name": "stderr",
          "text": [
            "\rDetecting in /content/Hucre-Detector-1/train/images:  24%|██▍       | 597/2450 [08:16<28:55,  1.07it/s]"
          ]
        },
        {
          "output_type": "stream",
          "name": "stdout",
          "text": [
            "\n",
            "image 1/1 /content/Hucre-Detector-1/train/images/Screenshot-2023-12-01-215518_png.rf.0948aff8314f9413cade5c9c4ded6de5.jpg: 640x640 35 PV CELLs, 569.0ms\n",
            "Speed: 8.0ms preprocess, 569.0ms inference, 5.4ms postprocess per image at shape (1, 3, 640, 640)\n"
          ]
        },
        {
          "output_type": "stream",
          "name": "stderr",
          "text": [
            "\rDetecting in /content/Hucre-Detector-1/train/images:  24%|██▍       | 598/2450 [08:16<26:08,  1.18it/s]"
          ]
        },
        {
          "output_type": "stream",
          "name": "stdout",
          "text": [
            "\n",
            "image 1/1 /content/Hucre-Detector-1/train/images/DJI_20240227102133_0355_Z_JPG.rf.39ea69970078a8c0992d1943e3f0e492.jpg: 640x640 300 PV CELLs, 575.0ms\n",
            "Speed: 5.2ms preprocess, 575.0ms inference, 44.5ms postprocess per image at shape (1, 3, 640, 640)\n"
          ]
        },
        {
          "output_type": "stream",
          "name": "stderr",
          "text": [
            "\rDetecting in /content/Hucre-Detector-1/train/images:  24%|██▍       | 599/2450 [08:17<26:43,  1.15it/s]"
          ]
        },
        {
          "output_type": "stream",
          "name": "stdout",
          "text": [
            "\n",
            "image 1/1 /content/Hucre-Detector-1/train/images/0735_JPG.rf.cd681a72b2ba99424dc019b2edfae262.jpg: 480x640 94 PV CELLs, 405.9ms\n",
            "Speed: 5.1ms preprocess, 405.9ms inference, 4.7ms postprocess per image at shape (1, 3, 480, 640)\n"
          ]
        },
        {
          "output_type": "stream",
          "name": "stderr",
          "text": [
            "\rDetecting in /content/Hucre-Detector-1/train/images:  24%|██▍       | 600/2450 [08:18<23:42,  1.30it/s]"
          ]
        },
        {
          "output_type": "stream",
          "name": "stdout",
          "text": [
            "\n",
            "image 1/1 /content/Hucre-Detector-1/train/images/DJI_20231230122640_0144_Z_JPG.rf.e5c2588d2d558f6dd7c3731ac3462679.jpg: 640x640 43 PV CELLs, 544.4ms\n",
            "Speed: 4.3ms preprocess, 544.4ms inference, 6.8ms postprocess per image at shape (1, 3, 640, 640)\n"
          ]
        },
        {
          "output_type": "stream",
          "name": "stderr",
          "text": [
            "\rDetecting in /content/Hucre-Detector-1/train/images:  25%|██▍       | 601/2450 [08:18<22:40,  1.36it/s]"
          ]
        },
        {
          "output_type": "stream",
          "name": "stdout",
          "text": [
            "\n",
            "image 1/1 /content/Hucre-Detector-1/train/images/0726_JPG.rf.e2e9677146eb2275d4f74da0ebfa9152.jpg: 480x640 300 PV CELLs, 399.4ms\n",
            "Speed: 3.3ms preprocess, 399.4ms inference, 45.1ms postprocess per image at shape (1, 3, 480, 640)\n"
          ]
        },
        {
          "output_type": "stream",
          "name": "stderr",
          "text": [
            "\rDetecting in /content/Hucre-Detector-1/train/images:  25%|██▍       | 602/2450 [08:19<21:46,  1.41it/s]"
          ]
        },
        {
          "output_type": "stream",
          "name": "stdout",
          "text": [
            "\n",
            "image 1/1 /content/Hucre-Detector-1/train/images/DJI_20231231130717_0493_Z_JPG.rf.a05d785c745b1bc77ea33f9e95b6afc8.jpg: 640x640 4 PV CELLs, 550.6ms\n",
            "Speed: 4.4ms preprocess, 550.6ms inference, 1.3ms postprocess per image at shape (1, 3, 640, 640)\n"
          ]
        },
        {
          "output_type": "stream",
          "name": "stderr",
          "text": [
            "\rDetecting in /content/Hucre-Detector-1/train/images:  25%|██▍       | 603/2450 [08:20<21:14,  1.45it/s]"
          ]
        },
        {
          "output_type": "stream",
          "name": "stdout",
          "text": [
            "\n",
            "image 1/1 /content/Hucre-Detector-1/train/images/Screenshot-2023-12-01-215640_png.rf.a2c11e85ff2da2d817abd5f150faff77.jpg: 640x640 71 PV CELLs, 525.1ms\n",
            "Speed: 5.8ms preprocess, 525.1ms inference, 9.0ms postprocess per image at shape (1, 3, 640, 640)\n"
          ]
        },
        {
          "output_type": "stream",
          "name": "stderr",
          "text": [
            "\rDetecting in /content/Hucre-Detector-1/train/images:  25%|██▍       | 604/2450 [08:20<20:27,  1.50it/s]"
          ]
        },
        {
          "output_type": "stream",
          "name": "stdout",
          "text": [
            "\n",
            "image 1/1 /content/Hucre-Detector-1/train/images/MAX_0065_JPG.rf.9a91a329d5bc7b994f604b80a0aada00.jpg: 480x640 300 PV CELLs, 442.5ms\n",
            "Speed: 5.1ms preprocess, 442.5ms inference, 27.2ms postprocess per image at shape (1, 3, 480, 640)\n"
          ]
        },
        {
          "output_type": "stream",
          "name": "stderr",
          "text": [
            "\rDetecting in /content/Hucre-Detector-1/train/images:  25%|██▍       | 605/2450 [08:21<24:12,  1.27it/s]"
          ]
        },
        {
          "output_type": "stream",
          "name": "stdout",
          "text": [
            "\n",
            "image 1/1 /content/Hucre-Detector-1/train/images/0491_JPG.rf.13508011cbfaf975cd5723cd6533d3bb.jpg: 480x640 300 PV CELLs, 411.9ms\n",
            "Speed: 4.9ms preprocess, 411.9ms inference, 23.1ms postprocess per image at shape (1, 3, 480, 640)\n"
          ]
        },
        {
          "output_type": "stream",
          "name": "stderr",
          "text": [
            "\rDetecting in /content/Hucre-Detector-1/train/images:  25%|██▍       | 606/2450 [08:22<22:43,  1.35it/s]"
          ]
        },
        {
          "output_type": "stream",
          "name": "stdout",
          "text": [
            "\n",
            "image 1/1 /content/Hucre-Detector-1/train/images/DJI_20240107103120_0282_Z_JPG.rf.30039299ba92616693f8086714f312cd.jpg: 480x640 300 PV CELLs, 410.1ms\n",
            "Speed: 3.9ms preprocess, 410.1ms inference, 33.9ms postprocess per image at shape (1, 3, 480, 640)\n"
          ]
        },
        {
          "output_type": "stream",
          "name": "stderr",
          "text": [
            "\rDetecting in /content/Hucre-Detector-1/train/images:  25%|██▍       | 607/2450 [08:23<27:17,  1.13it/s]"
          ]
        },
        {
          "output_type": "stream",
          "name": "stdout",
          "text": [
            "\n",
            "image 1/1 /content/Hucre-Detector-1/train/images/DJI_20231117112954_0110_Z_JPG.rf.475534603d07ab782edd082fff8acb39.jpg: 640x640 273 PV CELLs, 693.1ms\n",
            "Speed: 4.7ms preprocess, 693.1ms inference, 33.0ms postprocess per image at shape (1, 3, 640, 640)\n"
          ]
        },
        {
          "output_type": "stream",
          "name": "stderr",
          "text": [
            "\rDetecting in /content/Hucre-Detector-1/train/images:  25%|██▍       | 608/2450 [08:24<29:09,  1.05it/s]"
          ]
        },
        {
          "output_type": "stream",
          "name": "stdout",
          "text": [
            "\n",
            "image 1/1 /content/Hucre-Detector-1/train/images/0376_JPG.rf.36567e14f672fff0fe20d1f7aba6c9b7.jpg: 480x640 5 PV CELLs, 672.1ms\n",
            "Speed: 5.6ms preprocess, 672.1ms inference, 1.8ms postprocess per image at shape (1, 3, 480, 640)\n"
          ]
        },
        {
          "output_type": "stream",
          "name": "stderr",
          "text": [
            "\rDetecting in /content/Hucre-Detector-1/train/images:  25%|██▍       | 609/2450 [08:25<27:33,  1.11it/s]"
          ]
        },
        {
          "output_type": "stream",
          "name": "stdout",
          "text": [
            "\n",
            "image 1/1 /content/Hucre-Detector-1/train/images/DJI_20231122120720_0408_Z_JPG.rf.2d0d7e1f5c112a796a3d5facb8ca87fe.jpg: 640x640 300 PV CELLs, 896.4ms\n",
            "Speed: 7.4ms preprocess, 896.4ms inference, 43.9ms postprocess per image at shape (1, 3, 640, 640)\n"
          ]
        },
        {
          "output_type": "stream",
          "name": "stderr",
          "text": [
            "\rDetecting in /content/Hucre-Detector-1/train/images:  25%|██▍       | 610/2450 [08:26<31:45,  1.04s/it]"
          ]
        },
        {
          "output_type": "stream",
          "name": "stdout",
          "text": [
            "\n",
            "image 1/1 /content/Hucre-Detector-1/train/images/0564_JPG.rf.e7de37dbee1cad8421e8016ada0d1802.jpg: 480x640 300 PV CELLs, 435.5ms\n",
            "Speed: 5.6ms preprocess, 435.5ms inference, 15.9ms postprocess per image at shape (1, 3, 480, 640)\n"
          ]
        },
        {
          "output_type": "stream",
          "name": "stderr",
          "text": [
            "\rDetecting in /content/Hucre-Detector-1/train/images:  25%|██▍       | 611/2450 [08:27<28:16,  1.08it/s]"
          ]
        },
        {
          "output_type": "stream",
          "name": "stdout",
          "text": [
            "\n",
            "image 1/1 /content/Hucre-Detector-1/train/images/DJI_20240106140441_0161_Z_JPG.rf.806b181352ead98cd60921b0fd4f3b9c.jpg: 640x640 300 PV CELLs, 564.8ms\n",
            "Speed: 5.3ms preprocess, 564.8ms inference, 40.4ms postprocess per image at shape (1, 3, 640, 640)\n"
          ]
        },
        {
          "output_type": "stream",
          "name": "stderr",
          "text": [
            "\rDetecting in /content/Hucre-Detector-1/train/images:  25%|██▍       | 612/2450 [08:28<27:55,  1.10it/s]"
          ]
        },
        {
          "output_type": "stream",
          "name": "stdout",
          "text": [
            "\n",
            "image 1/1 /content/Hucre-Detector-1/train/images/0218_JPG.rf.b4ab017d1b8610e940cd31e263f182c7.jpg: 480x640 (no detections), 422.4ms\n",
            "Speed: 4.0ms preprocess, 422.4ms inference, 0.8ms postprocess per image at shape (1, 3, 480, 640)\n"
          ]
        },
        {
          "output_type": "stream",
          "name": "stderr",
          "text": [
            "\rDetecting in /content/Hucre-Detector-1/train/images:  25%|██▌       | 613/2450 [08:28<24:17,  1.26it/s]"
          ]
        },
        {
          "output_type": "stream",
          "name": "stdout",
          "text": [
            "\n",
            "image 1/1 /content/Hucre-Detector-1/train/images/0958_JPG.rf.9cd8989b5b837bcbad48d7167d418685.jpg: 480x640 4 PV CELLs, 431.4ms\n",
            "Speed: 4.3ms preprocess, 431.4ms inference, 1.4ms postprocess per image at shape (1, 3, 480, 640)\n"
          ]
        },
        {
          "output_type": "stream",
          "name": "stderr",
          "text": [
            "\rDetecting in /content/Hucre-Detector-1/train/images:  25%|██▌       | 614/2450 [08:29<21:42,  1.41it/s]"
          ]
        },
        {
          "output_type": "stream",
          "name": "stdout",
          "text": [
            "\n",
            "image 1/1 /content/Hucre-Detector-1/train/images/0858_JPG.rf.942c930b9d3cd052e26798dfca529f89.jpg: 480x640 (no detections), 432.3ms\n",
            "Speed: 3.8ms preprocess, 432.3ms inference, 0.8ms postprocess per image at shape (1, 3, 480, 640)\n"
          ]
        },
        {
          "output_type": "stream",
          "name": "stderr",
          "text": [
            "\rDetecting in /content/Hucre-Detector-1/train/images:  25%|██▌       | 615/2450 [08:29<19:56,  1.53it/s]"
          ]
        },
        {
          "output_type": "stream",
          "name": "stdout",
          "text": [
            "\n",
            "image 1/1 /content/Hucre-Detector-1/train/images/0483_JPG.rf.d14edd076c3dca9c4a306343f0ca7de1.jpg: 480x640 300 PV CELLs, 428.0ms\n",
            "Speed: 5.7ms preprocess, 428.0ms inference, 21.3ms postprocess per image at shape (1, 3, 480, 640)\n"
          ]
        },
        {
          "output_type": "stream",
          "name": "stderr",
          "text": [
            "\rDetecting in /content/Hucre-Detector-1/train/images:  25%|██▌       | 616/2450 [08:30<19:54,  1.54it/s]"
          ]
        },
        {
          "output_type": "stream",
          "name": "stdout",
          "text": [
            "\n",
            "image 1/1 /content/Hucre-Detector-1/train/images/DJI_20231117141200_0323_Z_JPG.rf.d8c21087430c5e1c712a1861d363c684.jpg: 640x640 300 PV CELLs, 591.3ms\n",
            "Speed: 5.2ms preprocess, 591.3ms inference, 47.9ms postprocess per image at shape (1, 3, 640, 640)\n"
          ]
        },
        {
          "output_type": "stream",
          "name": "stderr",
          "text": [
            "\rDetecting in /content/Hucre-Detector-1/train/images:  25%|██▌       | 617/2450 [08:31<22:17,  1.37it/s]"
          ]
        },
        {
          "output_type": "stream",
          "name": "stdout",
          "text": [
            "\n",
            "image 1/1 /content/Hucre-Detector-1/train/images/0359_JPG.rf.3e00f6581ffb0dc3ec0e7cd2d6ec9ad3.jpg: 480x640 300 PV CELLs, 414.9ms\n",
            "Speed: 4.0ms preprocess, 414.9ms inference, 58.9ms postprocess per image at shape (1, 3, 480, 640)\n"
          ]
        },
        {
          "output_type": "stream",
          "name": "stderr",
          "text": [
            "\rDetecting in /content/Hucre-Detector-1/train/images:  25%|██▌       | 618/2450 [08:32<21:39,  1.41it/s]"
          ]
        },
        {
          "output_type": "stream",
          "name": "stdout",
          "text": [
            "\n",
            "image 1/1 /content/Hucre-Detector-1/train/images/MAX_0029_JPG.rf.a978e49529ce03d7a89a544cbbbfab78.jpg: 384x640 300 PV CELLs, 341.1ms\n",
            "Speed: 2.8ms preprocess, 341.1ms inference, 22.6ms postprocess per image at shape (1, 3, 384, 640)\n"
          ]
        },
        {
          "output_type": "stream",
          "name": "stderr",
          "text": [
            "\rDetecting in /content/Hucre-Detector-1/train/images:  25%|██▌       | 619/2450 [08:32<22:05,  1.38it/s]"
          ]
        },
        {
          "output_type": "stream",
          "name": "stdout",
          "text": [
            "\n",
            "image 1/1 /content/Hucre-Detector-1/train/images/DJI_20231117140437_0108_Z_JPG.rf.86e3d06c6b1428df8c41b98483611584.jpg: 640x640 300 PV CELLs, 573.4ms\n",
            "Speed: 5.1ms preprocess, 573.4ms inference, 28.0ms postprocess per image at shape (1, 3, 640, 640)\n"
          ]
        },
        {
          "output_type": "stream",
          "name": "stderr",
          "text": [
            "\rDetecting in /content/Hucre-Detector-1/train/images:  25%|██▌       | 620/2450 [08:33<23:30,  1.30it/s]"
          ]
        },
        {
          "output_type": "stream",
          "name": "stdout",
          "text": [
            "\n",
            "image 1/1 /content/Hucre-Detector-1/train/images/DJI_20231117130101_0553_Z_JPG.rf.7f3c38e8809e4a1ba09b58a6d73516e8.jpg: 640x640 300 PV CELLs, 589.8ms\n",
            "Speed: 5.8ms preprocess, 589.8ms inference, 51.8ms postprocess per image at shape (1, 3, 640, 640)\n"
          ]
        },
        {
          "output_type": "stream",
          "name": "stderr",
          "text": [
            "\rDetecting in /content/Hucre-Detector-1/train/images:  25%|██▌       | 621/2450 [08:34<24:49,  1.23it/s]"
          ]
        },
        {
          "output_type": "stream",
          "name": "stdout",
          "text": [
            "\n",
            "image 1/1 /content/Hucre-Detector-1/train/images/0637_JPG.rf.77fa227bb2377b002e5710955266f9e8.jpg: 480x640 300 PV CELLs, 430.8ms\n",
            "Speed: 3.3ms preprocess, 430.8ms inference, 41.3ms postprocess per image at shape (1, 3, 480, 640)\n"
          ]
        },
        {
          "output_type": "stream",
          "name": "stderr",
          "text": [
            "\rDetecting in /content/Hucre-Detector-1/train/images:  25%|██▌       | 622/2450 [08:35<23:26,  1.30it/s]"
          ]
        },
        {
          "output_type": "stream",
          "name": "stdout",
          "text": [
            "\n",
            "image 1/1 /content/Hucre-Detector-1/train/images/0668_JPG.rf.77394354d88ca3d0a1f46e9ac2dca16f.jpg: 480x640 300 PV CELLs, 424.4ms\n",
            "Speed: 5.8ms preprocess, 424.4ms inference, 35.2ms postprocess per image at shape (1, 3, 480, 640)\n"
          ]
        },
        {
          "output_type": "stream",
          "name": "stderr",
          "text": [
            "\rDetecting in /content/Hucre-Detector-1/train/images:  25%|██▌       | 623/2450 [08:36<22:30,  1.35it/s]"
          ]
        },
        {
          "output_type": "stream",
          "name": "stdout",
          "text": [
            "\n",
            "image 1/1 /content/Hucre-Detector-1/train/images/DJI_20231121141427_0470_Z_JPG.rf.ef52c3d5a6d0672601476ceba7835a8e.jpg: 640x640 149 PV CELLs, 558.0ms\n",
            "Speed: 4.6ms preprocess, 558.0ms inference, 16.6ms postprocess per image at shape (1, 3, 640, 640)\n"
          ]
        },
        {
          "output_type": "stream",
          "name": "stderr",
          "text": [
            "\rDetecting in /content/Hucre-Detector-1/train/images:  25%|██▌       | 624/2450 [08:36<22:38,  1.34it/s]"
          ]
        },
        {
          "output_type": "stream",
          "name": "stdout",
          "text": [
            "\n",
            "image 1/1 /content/Hucre-Detector-1/train/images/0428_JPG.rf.871ebc386429a0cc26f5fce9c1463796.jpg: 480x640 300 PV CELLs, 626.2ms\n",
            "Speed: 3.3ms preprocess, 626.2ms inference, 72.0ms postprocess per image at shape (1, 3, 480, 640)\n"
          ]
        },
        {
          "output_type": "stream",
          "name": "stderr",
          "text": [
            "\rDetecting in /content/Hucre-Detector-1/train/images:  26%|██▌       | 625/2450 [08:37<24:54,  1.22it/s]"
          ]
        },
        {
          "output_type": "stream",
          "name": "stdout",
          "text": [
            "\n",
            "image 1/1 /content/Hucre-Detector-1/train/images/DJI_20231121103725_0095_Z_JPG.rf.e843c35c24ba1a1ad9563fd18d7a0e74.jpg: 640x640 248 PV CELLs, 895.9ms\n",
            "Speed: 7.3ms preprocess, 895.9ms inference, 43.0ms postprocess per image at shape (1, 3, 640, 640)\n"
          ]
        },
        {
          "output_type": "stream",
          "name": "stderr",
          "text": [
            "\rDetecting in /content/Hucre-Detector-1/train/images:  26%|██▌       | 626/2450 [08:39<29:29,  1.03it/s]"
          ]
        },
        {
          "output_type": "stream",
          "name": "stdout",
          "text": [
            "\n",
            "image 1/1 /content/Hucre-Detector-1/train/images/DJI_20231117110502_0221_Z_JPG.rf.b7341a43ac7f93f65746e39b7f869860.jpg: 640x640 287 PV CELLs, 810.0ms\n",
            "Speed: 7.3ms preprocess, 810.0ms inference, 21.8ms postprocess per image at shape (1, 3, 640, 640)\n"
          ]
        },
        {
          "output_type": "stream",
          "name": "stderr",
          "text": [
            "\rDetecting in /content/Hucre-Detector-1/train/images:  26%|██▌       | 627/2450 [08:40<30:49,  1.01s/it]"
          ]
        },
        {
          "output_type": "stream",
          "name": "stdout",
          "text": [
            "\n",
            "image 1/1 /content/Hucre-Detector-1/train/images/DJI_20231120120308_0616_Z_JPG.rf.ef85259eac8ec0aba1f5423b253a64f1.jpg: 640x640 300 PV CELLs, 595.7ms\n",
            "Speed: 5.0ms preprocess, 595.7ms inference, 43.5ms postprocess per image at shape (1, 3, 640, 640)\n"
          ]
        },
        {
          "output_type": "stream",
          "name": "stderr",
          "text": [
            "\rDetecting in /content/Hucre-Detector-1/train/images:  26%|██▌       | 628/2450 [08:41<29:50,  1.02it/s]"
          ]
        },
        {
          "output_type": "stream",
          "name": "stdout",
          "text": [
            "\n",
            "image 1/1 /content/Hucre-Detector-1/train/images/0783_JPG.rf.e0eb8334ed942e15ec50c5b1a3e3155a.jpg: 480x640 300 PV CELLs, 417.2ms\n",
            "Speed: 3.9ms preprocess, 417.2ms inference, 39.9ms postprocess per image at shape (1, 3, 480, 640)\n"
          ]
        },
        {
          "output_type": "stream",
          "name": "stderr",
          "text": [
            "\rDetecting in /content/Hucre-Detector-1/train/images:  26%|██▌       | 629/2450 [08:41<27:06,  1.12it/s]"
          ]
        },
        {
          "output_type": "stream",
          "name": "stdout",
          "text": [
            "\n",
            "image 1/1 /content/Hucre-Detector-1/train/images/DJI_20240227114456_0419_Z_JPG.rf.4c7f9ce97916661bd10ffc57126990b7.jpg: 640x640 300 PV CELLs, 575.5ms\n",
            "Speed: 5.0ms preprocess, 575.5ms inference, 63.6ms postprocess per image at shape (1, 3, 640, 640)\n"
          ]
        },
        {
          "output_type": "stream",
          "name": "stderr",
          "text": [
            "\rDetecting in /content/Hucre-Detector-1/train/images:  26%|██▌       | 630/2450 [08:42<27:16,  1.11it/s]"
          ]
        },
        {
          "output_type": "stream",
          "name": "stdout",
          "text": [
            "\n",
            "image 1/1 /content/Hucre-Detector-1/train/images/0377_JPG.rf.627de95cc643e3bc1ba176899add3a79.jpg: 480x640 300 PV CELLs, 409.6ms\n",
            "Speed: 3.4ms preprocess, 409.6ms inference, 80.6ms postprocess per image at shape (1, 3, 480, 640)\n"
          ]
        },
        {
          "output_type": "stream",
          "name": "stderr",
          "text": [
            "\rDetecting in /content/Hucre-Detector-1/train/images:  26%|██▌       | 631/2450 [08:43<25:22,  1.19it/s]"
          ]
        },
        {
          "output_type": "stream",
          "name": "stdout",
          "text": [
            "\n",
            "image 1/1 /content/Hucre-Detector-1/train/images/0056_JPG.rf.090f24e8711f758b81ccc7b304b4c96e.jpg: 480x640 20 PV CELLs, 438.7ms\n",
            "Speed: 3.9ms preprocess, 438.7ms inference, 2.8ms postprocess per image at shape (1, 3, 480, 640)\n"
          ]
        },
        {
          "output_type": "stream",
          "name": "stderr",
          "text": [
            "\rDetecting in /content/Hucre-Detector-1/train/images:  26%|██▌       | 632/2450 [08:44<22:41,  1.34it/s]"
          ]
        },
        {
          "output_type": "stream",
          "name": "stdout",
          "text": [
            "\n",
            "image 1/1 /content/Hucre-Detector-1/train/images/DJI_20240108103602_0044_Z_JPG.rf.65f6beb3b0426ea3d17ec60e53e82804.jpg: 640x640 166 PV CELLs, 593.0ms\n",
            "Speed: 5.1ms preprocess, 593.0ms inference, 15.2ms postprocess per image at shape (1, 3, 640, 640)\n"
          ]
        },
        {
          "output_type": "stream",
          "name": "stderr",
          "text": [
            "\rDetecting in /content/Hucre-Detector-1/train/images:  26%|██▌       | 633/2450 [08:44<23:13,  1.30it/s]"
          ]
        },
        {
          "output_type": "stream",
          "name": "stdout",
          "text": [
            "\n",
            "image 1/1 /content/Hucre-Detector-1/train/images/DJI_20231117141042_0285_Z_JPG.rf.eb0e7fa4253d89b9687c4e486c433d5d.jpg: 640x640 300 PV CELLs, 593.8ms\n",
            "Speed: 5.0ms preprocess, 593.8ms inference, 20.7ms postprocess per image at shape (1, 3, 640, 640)\n"
          ]
        },
        {
          "output_type": "stream",
          "name": "stderr",
          "text": [
            "\rDetecting in /content/Hucre-Detector-1/train/images:  26%|██▌       | 634/2450 [08:45<24:18,  1.25it/s]"
          ]
        },
        {
          "output_type": "stream",
          "name": "stdout",
          "text": [
            "\n",
            "image 1/1 /content/Hucre-Detector-1/train/images/0213_JPG.rf.123c4663052549b5fae0329030539bd5.jpg: 480x640 73 PV CELLs, 452.9ms\n",
            "Speed: 3.9ms preprocess, 452.9ms inference, 6.3ms postprocess per image at shape (1, 3, 480, 640)\n"
          ]
        },
        {
          "output_type": "stream",
          "name": "stderr",
          "text": [
            "\rDetecting in /content/Hucre-Detector-1/train/images:  26%|██▌       | 635/2450 [08:46<22:21,  1.35it/s]"
          ]
        },
        {
          "output_type": "stream",
          "name": "stdout",
          "text": [
            "\n",
            "image 1/1 /content/Hucre-Detector-1/train/images/DJI_20231117131910_0014_Z_JPG.rf.8999c5a9ce9ab72dc633490d02616ebf.jpg: 640x640 147 PV CELLs, 535.3ms\n",
            "Speed: 4.5ms preprocess, 535.3ms inference, 20.2ms postprocess per image at shape (1, 3, 640, 640)\n"
          ]
        },
        {
          "output_type": "stream",
          "name": "stderr",
          "text": [
            "\rDetecting in /content/Hucre-Detector-1/train/images:  26%|██▌       | 636/2450 [08:47<22:33,  1.34it/s]"
          ]
        },
        {
          "output_type": "stream",
          "name": "stdout",
          "text": [
            "\n",
            "image 1/1 /content/Hucre-Detector-1/train/images/0215_JPG.rf.8ad5e369bbc92e25f8c4bc9b44c4beb4.jpg: 480x640 21 PV CELLs, 419.1ms\n",
            "Speed: 4.4ms preprocess, 419.1ms inference, 2.9ms postprocess per image at shape (1, 3, 480, 640)\n"
          ]
        },
        {
          "output_type": "stream",
          "name": "stderr",
          "text": [
            "\rDetecting in /content/Hucre-Detector-1/train/images:  26%|██▌       | 637/2450 [08:47<20:32,  1.47it/s]"
          ]
        },
        {
          "output_type": "stream",
          "name": "stdout",
          "text": [
            "\n",
            "image 1/1 /content/Hucre-Detector-1/train/images/DJI_20231120115836_0484_Z_JPG.rf.dbcd345e0408a449bedf64134f74a7ae.jpg: 640x640 300 PV CELLs, 627.4ms\n",
            "Speed: 5.1ms preprocess, 627.4ms inference, 52.6ms postprocess per image at shape (1, 3, 640, 640)\n"
          ]
        },
        {
          "output_type": "stream",
          "name": "stderr",
          "text": [
            "\rDetecting in /content/Hucre-Detector-1/train/images:  26%|██▌       | 638/2450 [08:48<23:06,  1.31it/s]"
          ]
        },
        {
          "output_type": "stream",
          "name": "stdout",
          "text": [
            "\n",
            "image 1/1 /content/Hucre-Detector-1/train/images/DJI_20231117132208_0099_Z_JPG.rf.de8cc2399fb54fa9523a3ecb07ff6e72.jpg: 640x640 300 PV CELLs, 582.6ms\n",
            "Speed: 5.3ms preprocess, 582.6ms inference, 45.6ms postprocess per image at shape (1, 3, 640, 640)\n"
          ]
        },
        {
          "output_type": "stream",
          "name": "stderr",
          "text": [
            "\rDetecting in /content/Hucre-Detector-1/train/images:  26%|██▌       | 639/2450 [08:49<24:26,  1.24it/s]"
          ]
        },
        {
          "output_type": "stream",
          "name": "stdout",
          "text": [
            "\n",
            "image 1/1 /content/Hucre-Detector-1/train/images/DJI_20240107104912_0149_Z_JPG.rf.6dc806fbf9469a3a55cbdb5532ca8703.jpg: 640x640 282 PV CELLs, 682.1ms\n",
            "Speed: 5.1ms preprocess, 682.1ms inference, 67.7ms postprocess per image at shape (1, 3, 640, 640)\n"
          ]
        },
        {
          "output_type": "stream",
          "name": "stderr",
          "text": [
            "\rDetecting in /content/Hucre-Detector-1/train/images:  26%|██▌       | 640/2450 [08:50<27:22,  1.10it/s]"
          ]
        },
        {
          "output_type": "stream",
          "name": "stdout",
          "text": [
            "\n",
            "image 1/1 /content/Hucre-Detector-1/train/images/DJI_20231122122120_0018_Z_JPG.rf.c8cb0f6916c1780479e0178b089f7c69.jpg: 480x640 300 PV CELLs, 681.7ms\n",
            "Speed: 6.2ms preprocess, 681.7ms inference, 42.9ms postprocess per image at shape (1, 3, 480, 640)\n"
          ]
        },
        {
          "output_type": "stream",
          "name": "stderr",
          "text": [
            "\rDetecting in /content/Hucre-Detector-1/train/images:  26%|██▌       | 641/2450 [08:52<37:57,  1.26s/it]"
          ]
        },
        {
          "output_type": "stream",
          "name": "stdout",
          "text": [
            "\n",
            "image 1/1 /content/Hucre-Detector-1/train/images/0492_JPG.rf.e8a949f78a6ba2e46f1ac1cf64568e47.jpg: 480x640 300 PV CELLs, 437.2ms\n",
            "Speed: 6.8ms preprocess, 437.2ms inference, 26.0ms postprocess per image at shape (1, 3, 480, 640)\n"
          ]
        },
        {
          "output_type": "stream",
          "name": "stderr",
          "text": [
            "\rDetecting in /content/Hucre-Detector-1/train/images:  26%|██▌       | 642/2450 [08:53<32:47,  1.09s/it]"
          ]
        },
        {
          "output_type": "stream",
          "name": "stdout",
          "text": [
            "\n",
            "image 1/1 /content/Hucre-Detector-1/train/images/DJI_20231115123105_0758_Z_JPG.rf.7567f573e8cce04a5ae3d1ea9ca8c1c8.jpg: 480x640 300 PV CELLs, 418.7ms\n",
            "Speed: 5.1ms preprocess, 418.7ms inference, 30.2ms postprocess per image at shape (1, 3, 480, 640)\n"
          ]
        },
        {
          "output_type": "stream",
          "name": "stderr",
          "text": [
            "\rDetecting in /content/Hucre-Detector-1/train/images:  26%|██▌       | 643/2450 [08:54<35:26,  1.18s/it]"
          ]
        },
        {
          "output_type": "stream",
          "name": "stdout",
          "text": [
            "\n",
            "image 1/1 /content/Hucre-Detector-1/train/images/DJI_20231117111220_0433_Z_JPG.rf.d83d18a19819a1c226ff59cbd7fb4662.jpg: 640x640 278 PV CELLs, 606.3ms\n",
            "Speed: 5.0ms preprocess, 606.3ms inference, 28.9ms postprocess per image at shape (1, 3, 640, 640)\n"
          ]
        },
        {
          "output_type": "stream",
          "name": "stderr",
          "text": [
            "\rDetecting in /content/Hucre-Detector-1/train/images:  26%|██▋       | 644/2450 [08:55<32:59,  1.10s/it]"
          ]
        },
        {
          "output_type": "stream",
          "name": "stdout",
          "text": [
            "\n",
            "image 1/1 /content/Hucre-Detector-1/train/images/0010_jpg.rf.882e45b7d44a0364d02f231410192f6a.jpg: 480x640 213 PV CELLs, 404.9ms\n",
            "Speed: 3.5ms preprocess, 404.9ms inference, 20.5ms postprocess per image at shape (1, 3, 480, 640)\n"
          ]
        },
        {
          "output_type": "stream",
          "name": "stderr",
          "text": [
            "\rDetecting in /content/Hucre-Detector-1/train/images:  26%|██▋       | 645/2450 [08:56<28:17,  1.06it/s]"
          ]
        },
        {
          "output_type": "stream",
          "name": "stdout",
          "text": [
            "\n",
            "image 1/1 /content/Hucre-Detector-1/train/images/DJI_20250506154949_0278_V_JPG.rf.59cbc2f4adb6ac504f2e3a5804dc506e.jpg: 640x640 300 PV CELLs, 544.7ms\n",
            "Speed: 3.0ms preprocess, 544.7ms inference, 49.1ms postprocess per image at shape (1, 3, 640, 640)\n"
          ]
        },
        {
          "output_type": "stream",
          "name": "stderr",
          "text": [
            "\rDetecting in /content/Hucre-Detector-1/train/images:  26%|██▋       | 646/2450 [08:56<25:43,  1.17it/s]"
          ]
        },
        {
          "output_type": "stream",
          "name": "stdout",
          "text": [
            "\n",
            "image 1/1 /content/Hucre-Detector-1/train/images/DJI_20231231114730_0627_Z_JPG.rf.3c89db6d7a0022c0a41a07c4664a870b.jpg: 480x640 300 PV CELLs, 408.4ms\n",
            "Speed: 4.4ms preprocess, 408.4ms inference, 69.2ms postprocess per image at shape (1, 3, 480, 640)\n"
          ]
        },
        {
          "output_type": "stream",
          "name": "stderr",
          "text": [
            "\rDetecting in /content/Hucre-Detector-1/train/images:  26%|██▋       | 647/2450 [08:58<29:49,  1.01it/s]"
          ]
        },
        {
          "output_type": "stream",
          "name": "stdout",
          "text": [
            "\n",
            "image 1/1 /content/Hucre-Detector-1/train/images/1037_JPG.rf.0512e4b0decb0da253dfb0aa8bdfa705.jpg: 480x640 4 PV CELLs, 451.8ms\n",
            "Speed: 4.1ms preprocess, 451.8ms inference, 1.5ms postprocess per image at shape (1, 3, 480, 640)\n"
          ]
        },
        {
          "output_type": "stream",
          "name": "stderr",
          "text": [
            "\rDetecting in /content/Hucre-Detector-1/train/images:  26%|██▋       | 648/2450 [08:58<25:39,  1.17it/s]"
          ]
        },
        {
          "output_type": "stream",
          "name": "stdout",
          "text": [
            "\n",
            "image 1/1 /content/Hucre-Detector-1/train/images/Screenshot-2023-12-01-205642_png.rf.ca87f4af633c7405ce2ecf1c31da4b23.jpg: 640x640 67 PV CELLs, 531.6ms\n",
            "Speed: 7.2ms preprocess, 531.6ms inference, 6.1ms postprocess per image at shape (1, 3, 640, 640)\n"
          ]
        },
        {
          "output_type": "stream",
          "name": "stderr",
          "text": [
            "\rDetecting in /content/Hucre-Detector-1/train/images:  26%|██▋       | 649/2450 [08:59<23:25,  1.28it/s]"
          ]
        },
        {
          "output_type": "stream",
          "name": "stdout",
          "text": [
            "\n",
            "image 1/1 /content/Hucre-Detector-1/train/images/DJI_20231128113607_0109_Z_JPG.rf.eb7fd694b19bb0e322e45465ae31d941.jpg: 640x640 300 PV CELLs, 544.4ms\n",
            "Speed: 4.6ms preprocess, 544.4ms inference, 20.1ms postprocess per image at shape (1, 3, 640, 640)\n"
          ]
        },
        {
          "output_type": "stream",
          "name": "stderr",
          "text": [
            "\rDetecting in /content/Hucre-Detector-1/train/images:  27%|██▋       | 650/2450 [09:00<23:45,  1.26it/s]"
          ]
        },
        {
          "output_type": "stream",
          "name": "stdout",
          "text": [
            "\n",
            "image 1/1 /content/Hucre-Detector-1/train/images/Ekran-Goruntusu-2025-08-25-18-57-11_png.rf.2e3e8bed6840eb68346c9eb702fe3c19.jpg: 288x640 29 PV CELLs, 256.5ms\n",
            "Speed: 4.0ms preprocess, 256.5ms inference, 4.3ms postprocess per image at shape (1, 3, 288, 640)\n"
          ]
        },
        {
          "output_type": "stream",
          "name": "stderr",
          "text": [
            "\rDetecting in /content/Hucre-Detector-1/train/images:  27%|██▋       | 651/2450 [09:00<19:26,  1.54it/s]"
          ]
        },
        {
          "output_type": "stream",
          "name": "stdout",
          "text": [
            "\n",
            "image 1/1 /content/Hucre-Detector-1/train/images/MAX_0078_JPG.rf.5f23237ac4942b93ef9f57b92afc5535.jpg: 480x640 300 PV CELLs, 417.2ms\n",
            "Speed: 4.1ms preprocess, 417.2ms inference, 21.8ms postprocess per image at shape (1, 3, 480, 640)\n"
          ]
        },
        {
          "output_type": "stream",
          "name": "stderr",
          "text": [
            "\rDetecting in /content/Hucre-Detector-1/train/images:  27%|██▋       | 652/2450 [09:01<21:43,  1.38it/s]"
          ]
        },
        {
          "output_type": "stream",
          "name": "stdout",
          "text": [
            "\n",
            "image 1/1 /content/Hucre-Detector-1/train/images/DJI_20240227111024_0192_Z_JPG.rf.4fb48ec612ab127307fe342b7b4b263a.jpg: 640x640 300 PV CELLs, 552.9ms\n",
            "Speed: 4.5ms preprocess, 552.9ms inference, 20.8ms postprocess per image at shape (1, 3, 640, 640)\n"
          ]
        },
        {
          "output_type": "stream",
          "name": "stderr",
          "text": [
            "\rDetecting in /content/Hucre-Detector-1/train/images:  27%|██▋       | 653/2450 [09:02<22:42,  1.32it/s]"
          ]
        },
        {
          "output_type": "stream",
          "name": "stdout",
          "text": [
            "\n",
            "image 1/1 /content/Hucre-Detector-1/train/images/DJI_20231117140319_0071_Z_JPG.rf.ea687e4d515195b4530e9a5d752d52e6.jpg: 640x640 300 PV CELLs, 547.2ms\n",
            "Speed: 4.3ms preprocess, 547.2ms inference, 71.3ms postprocess per image at shape (1, 3, 640, 640)\n"
          ]
        },
        {
          "output_type": "stream",
          "name": "stderr",
          "text": [
            "\rDetecting in /content/Hucre-Detector-1/train/images:  27%|██▋       | 654/2450 [09:03<24:59,  1.20it/s]"
          ]
        },
        {
          "output_type": "stream",
          "name": "stdout",
          "text": [
            "\n",
            "image 1/1 /content/Hucre-Detector-1/train/images/14_11_jpg.rf.453e78d12797d3da070245353ac4aa68.jpg: 384x640 300 PV CELLs, 570.4ms\n",
            "Speed: 4.2ms preprocess, 570.4ms inference, 73.1ms postprocess per image at shape (1, 3, 384, 640)\n"
          ]
        },
        {
          "output_type": "stream",
          "name": "stderr",
          "text": [
            "\rDetecting in /content/Hucre-Detector-1/train/images:  27%|██▋       | 655/2450 [09:04<28:45,  1.04it/s]"
          ]
        },
        {
          "output_type": "stream",
          "name": "stdout",
          "text": [
            "\n",
            "image 1/1 /content/Hucre-Detector-1/train/images/DJI_20231231114521_0564_Z_JPG.rf.de51c55be7ce6c0f49e015813901aada.jpg: 480x640 300 PV CELLs, 695.5ms\n",
            "Speed: 7.6ms preprocess, 695.5ms inference, 70.9ms postprocess per image at shape (1, 3, 480, 640)\n"
          ]
        },
        {
          "output_type": "stream",
          "name": "stderr",
          "text": [
            "\rDetecting in /content/Hucre-Detector-1/train/images:  27%|██▋       | 656/2450 [09:06<36:34,  1.22s/it]"
          ]
        },
        {
          "output_type": "stream",
          "name": "stdout",
          "text": [
            "\n",
            "image 1/1 /content/Hucre-Detector-1/train/images/DJI_20231117140742_0197_Z_JPG.rf.f61782ced545a6baae666f17a8f69422.jpg: 640x640 300 PV CELLs, 563.5ms\n",
            "Speed: 5.1ms preprocess, 563.5ms inference, 27.6ms postprocess per image at shape (1, 3, 640, 640)\n"
          ]
        },
        {
          "output_type": "stream",
          "name": "stderr",
          "text": [
            "\rDetecting in /content/Hucre-Detector-1/train/images:  27%|██▋       | 657/2450 [09:07<33:34,  1.12s/it]"
          ]
        },
        {
          "output_type": "stream",
          "name": "stdout",
          "text": [
            "\n",
            "image 1/1 /content/Hucre-Detector-1/train/images/0311_JPG.rf.6fdbc95c34b5167d8fccd575640cbfb3.jpg: 480x640 13 PV CELLs, 420.9ms\n",
            "Speed: 4.6ms preprocess, 420.9ms inference, 2.2ms postprocess per image at shape (1, 3, 480, 640)\n"
          ]
        },
        {
          "output_type": "stream",
          "name": "stderr",
          "text": [
            "\rDetecting in /content/Hucre-Detector-1/train/images:  27%|██▋       | 658/2450 [09:07<28:05,  1.06it/s]"
          ]
        },
        {
          "output_type": "stream",
          "name": "stdout",
          "text": [
            "\n",
            "image 1/1 /content/Hucre-Detector-1/train/images/0072_JPG.rf.c611583a0c2726e1b95e86e8855be0c5.jpg: 480x640 13 PV CELLs, 440.9ms\n",
            "Speed: 3.9ms preprocess, 440.9ms inference, 1.9ms postprocess per image at shape (1, 3, 480, 640)\n"
          ]
        },
        {
          "output_type": "stream",
          "name": "stderr",
          "text": [
            "\rDetecting in /content/Hucre-Detector-1/train/images:  27%|██▋       | 659/2450 [09:08<24:26,  1.22it/s]"
          ]
        },
        {
          "output_type": "stream",
          "name": "stdout",
          "text": [
            "\n",
            "image 1/1 /content/Hucre-Detector-1/train/images/DJI_20231117140904_0237_Z_JPG.rf.4c237d201e4f040cff5d829baf26cded.jpg: 640x640 135 PV CELLs, 563.5ms\n",
            "Speed: 8.2ms preprocess, 563.5ms inference, 14.9ms postprocess per image at shape (1, 3, 640, 640)\n"
          ]
        },
        {
          "output_type": "stream",
          "name": "stderr",
          "text": [
            "\rDetecting in /content/Hucre-Detector-1/train/images:  27%|██▋       | 660/2450 [09:09<24:01,  1.24it/s]"
          ]
        },
        {
          "output_type": "stream",
          "name": "stdout",
          "text": [
            "\n",
            "image 1/1 /content/Hucre-Detector-1/train/images/0323_JPG.rf.9e6d6f6204a580b70b10e60d594095a5.jpg: 480x640 18 PV CELLs, 437.4ms\n",
            "Speed: 3.9ms preprocess, 437.4ms inference, 1.9ms postprocess per image at shape (1, 3, 480, 640)\n"
          ]
        },
        {
          "output_type": "stream",
          "name": "stderr",
          "text": [
            "\rDetecting in /content/Hucre-Detector-1/train/images:  27%|██▋       | 661/2450 [09:09<21:34,  1.38it/s]"
          ]
        },
        {
          "output_type": "stream",
          "name": "stdout",
          "text": [
            "\n",
            "image 1/1 /content/Hucre-Detector-1/train/images/0790_JPG.rf.71588f0fd04748147e90ebbc880f9635.jpg: 480x640 300 PV CELLs, 413.7ms\n",
            "Speed: 3.9ms preprocess, 413.7ms inference, 55.6ms postprocess per image at shape (1, 3, 480, 640)\n"
          ]
        },
        {
          "output_type": "stream",
          "name": "stderr",
          "text": [
            "\rDetecting in /content/Hucre-Detector-1/train/images:  27%|██▋       | 662/2450 [09:10<21:08,  1.41it/s]"
          ]
        },
        {
          "output_type": "stream",
          "name": "stdout",
          "text": [
            "\n",
            "image 1/1 /content/Hucre-Detector-1/train/images/DJI_20231117111336_0471_Z_JPG.rf.ce339fddff0a9c5e49381167a1a7c2cb.jpg: 640x640 31 PV CELLs, 526.6ms\n",
            "Speed: 4.3ms preprocess, 526.6ms inference, 4.4ms postprocess per image at shape (1, 3, 640, 640)\n"
          ]
        },
        {
          "output_type": "stream",
          "name": "stderr",
          "text": [
            "\rDetecting in /content/Hucre-Detector-1/train/images:  27%|██▋       | 663/2450 [09:10<20:40,  1.44it/s]"
          ]
        },
        {
          "output_type": "stream",
          "name": "stdout",
          "text": [
            "\n",
            "image 1/1 /content/Hucre-Detector-1/train/images/DJI_20231117111025_0378_Z_JPG.rf.495e3cd355ff62dfa1c4a7794239aeab.jpg: 640x640 206 PV CELLs, 584.5ms\n",
            "Speed: 4.4ms preprocess, 584.5ms inference, 12.6ms postprocess per image at shape (1, 3, 640, 640)\n"
          ]
        },
        {
          "output_type": "stream",
          "name": "stderr",
          "text": [
            "\rDetecting in /content/Hucre-Detector-1/train/images:  27%|██▋       | 664/2450 [09:11<21:51,  1.36it/s]"
          ]
        },
        {
          "output_type": "stream",
          "name": "stdout",
          "text": [
            "\n",
            "image 1/1 /content/Hucre-Detector-1/train/images/0755_JPG.rf.50f7f2069d1e5810465d57b3972f9d7f.jpg: 480x640 165 PV CELLs, 393.8ms\n",
            "Speed: 3.2ms preprocess, 393.8ms inference, 17.7ms postprocess per image at shape (1, 3, 480, 640)\n"
          ]
        },
        {
          "output_type": "stream",
          "name": "stderr",
          "text": [
            "\rDetecting in /content/Hucre-Detector-1/train/images:  27%|██▋       | 665/2450 [09:12<20:24,  1.46it/s]"
          ]
        },
        {
          "output_type": "stream",
          "name": "stdout",
          "text": [
            "\n",
            "image 1/1 /content/Hucre-Detector-1/train/images/0809_JPG.rf.2fbe13994021c76a54c59e5cabbab073.jpg: 480x640 300 PV CELLs, 398.9ms\n",
            "Speed: 3.4ms preprocess, 398.9ms inference, 27.8ms postprocess per image at shape (1, 3, 480, 640)\n"
          ]
        },
        {
          "output_type": "stream",
          "name": "stderr",
          "text": [
            "\rDetecting in /content/Hucre-Detector-1/train/images:  27%|██▋       | 666/2450 [09:12<19:48,  1.50it/s]"
          ]
        },
        {
          "output_type": "stream",
          "name": "stdout",
          "text": [
            "\n",
            "image 1/1 /content/Hucre-Detector-1/train/images/0731_JPG.rf.837fa866313e96a75ffbda4e890778fb.jpg: 480x640 178 PV CELLs, 448.6ms\n",
            "Speed: 4.1ms preprocess, 448.6ms inference, 30.2ms postprocess per image at shape (1, 3, 480, 640)\n"
          ]
        },
        {
          "output_type": "stream",
          "name": "stderr",
          "text": [
            "\rDetecting in /content/Hucre-Detector-1/train/images:  27%|██▋       | 667/2450 [09:13<19:35,  1.52it/s]"
          ]
        },
        {
          "output_type": "stream",
          "name": "stdout",
          "text": [
            "\n",
            "image 1/1 /content/Hucre-Detector-1/train/images/0584_JPG.rf.1b48dedddacf97daffd3f06a02972e1e.jpg: 480x640 300 PV CELLs, 428.9ms\n",
            "Speed: 4.1ms preprocess, 428.9ms inference, 42.5ms postprocess per image at shape (1, 3, 480, 640)\n"
          ]
        },
        {
          "output_type": "stream",
          "name": "stderr",
          "text": [
            "\rDetecting in /content/Hucre-Detector-1/train/images:  27%|██▋       | 668/2450 [09:14<19:37,  1.51it/s]"
          ]
        },
        {
          "output_type": "stream",
          "name": "stdout",
          "text": [
            "\n",
            "image 1/1 /content/Hucre-Detector-1/train/images/DJI_20240108112214_0605_Z_JPG.rf.ae95fa08a822df990de14e9fc533b243.jpg: 640x640 85 PV CELLs, 568.9ms\n",
            "Speed: 4.2ms preprocess, 568.9ms inference, 6.8ms postprocess per image at shape (1, 3, 640, 640)\n"
          ]
        },
        {
          "output_type": "stream",
          "name": "stderr",
          "text": [
            "\rDetecting in /content/Hucre-Detector-1/train/images:  27%|██▋       | 669/2450 [09:14<20:12,  1.47it/s]"
          ]
        },
        {
          "output_type": "stream",
          "name": "stdout",
          "text": [
            "\n",
            "image 1/1 /content/Hucre-Detector-1/train/images/0363_JPG.rf.d0af0a8a997aca41dbb1e587d9fd1c4b.jpg: 480x640 300 PV CELLs, 436.1ms\n",
            "Speed: 3.9ms preprocess, 436.1ms inference, 22.5ms postprocess per image at shape (1, 3, 480, 640)\n"
          ]
        },
        {
          "output_type": "stream",
          "name": "stderr",
          "text": [
            "\rDetecting in /content/Hucre-Detector-1/train/images:  27%|██▋       | 670/2450 [09:15<19:54,  1.49it/s]"
          ]
        },
        {
          "output_type": "stream",
          "name": "stdout",
          "text": [
            "\n",
            "image 1/1 /content/Hucre-Detector-1/train/images/DJI_20231117110458_0219_Z_JPG.rf.9b258f76e975e6797494ea2a16e1e423.jpg: 640x640 300 PV CELLs, 817.9ms\n",
            "Speed: 6.3ms preprocess, 817.9ms inference, 33.1ms postprocess per image at shape (1, 3, 640, 640)\n"
          ]
        },
        {
          "output_type": "stream",
          "name": "stderr",
          "text": [
            "\rDetecting in /content/Hucre-Detector-1/train/images:  27%|██▋       | 671/2450 [09:16<25:19,  1.17it/s]"
          ]
        },
        {
          "output_type": "stream",
          "name": "stdout",
          "text": [
            "\n",
            "image 1/1 /content/Hucre-Detector-1/train/images/0364_JPG.rf.b6026ab51a7fe6279e6094b829a9b977.jpg: 480x640 300 PV CELLs, 653.8ms\n",
            "Speed: 5.6ms preprocess, 653.8ms inference, 101.0ms postprocess per image at shape (1, 3, 480, 640)\n"
          ]
        },
        {
          "output_type": "stream",
          "name": "stderr",
          "text": [
            "\rDetecting in /content/Hucre-Detector-1/train/images:  27%|██▋       | 672/2450 [09:17<27:04,  1.09it/s]"
          ]
        },
        {
          "output_type": "stream",
          "name": "stdout",
          "text": [
            "\n",
            "image 1/1 /content/Hucre-Detector-1/train/images/DJI_20231120115614_0415_Z_JPG.rf.3234b96d47ce5d98ee2078676b64eb24.jpg: 640x640 300 PV CELLs, 852.0ms\n",
            "Speed: 7.8ms preprocess, 852.0ms inference, 39.1ms postprocess per image at shape (1, 3, 640, 640)\n"
          ]
        },
        {
          "output_type": "stream",
          "name": "stderr",
          "text": [
            "\rDetecting in /content/Hucre-Detector-1/train/images:  27%|██▋       | 673/2450 [09:19<29:21,  1.01it/s]"
          ]
        },
        {
          "output_type": "stream",
          "name": "stdout",
          "text": [
            "\n",
            "image 1/1 /content/Hucre-Detector-1/train/images/DJI_20240108112214_0605_Z_JPG.rf.98e308c0973a62bd1da74518716cec38.jpg: 640x640 300 PV CELLs, 530.4ms\n",
            "Speed: 4.4ms preprocess, 530.4ms inference, 47.2ms postprocess per image at shape (1, 3, 640, 640)\n"
          ]
        },
        {
          "output_type": "stream",
          "name": "stderr",
          "text": [
            "\rDetecting in /content/Hucre-Detector-1/train/images:  28%|██▊       | 674/2450 [09:19<28:04,  1.05it/s]"
          ]
        },
        {
          "output_type": "stream",
          "name": "stdout",
          "text": [
            "\n",
            "image 1/1 /content/Hucre-Detector-1/train/images/DJI_20231229131214_0557_Z_JPG.rf.0c1df06b7298a212908c85dbe4c1f126.jpg: 640x640 300 PV CELLs, 581.2ms\n",
            "Speed: 5.3ms preprocess, 581.2ms inference, 50.7ms postprocess per image at shape (1, 3, 640, 640)\n"
          ]
        },
        {
          "output_type": "stream",
          "name": "stderr",
          "text": [
            "\rDetecting in /content/Hucre-Detector-1/train/images:  28%|██▊       | 675/2450 [09:20<27:55,  1.06it/s]"
          ]
        },
        {
          "output_type": "stream",
          "name": "stdout",
          "text": [
            "\n",
            "image 1/1 /content/Hucre-Detector-1/train/images/DJI_20231117104728_0521_Z_JPG.rf.2585b19730315aa18e8b4eff677f30b2.jpg: 640x640 289 PV CELLs, 555.8ms\n",
            "Speed: 5.1ms preprocess, 555.8ms inference, 31.3ms postprocess per image at shape (1, 3, 640, 640)\n"
          ]
        },
        {
          "output_type": "stream",
          "name": "stderr",
          "text": [
            "\rDetecting in /content/Hucre-Detector-1/train/images:  28%|██▊       | 676/2450 [09:21<27:01,  1.09it/s]"
          ]
        },
        {
          "output_type": "stream",
          "name": "stdout",
          "text": [
            "\n",
            "image 1/1 /content/Hucre-Detector-1/train/images/DJI_20231117110809_0312_Z_JPG.rf.44df2146cc6fe35a26c0cb56a49cec18.jpg: 640x640 300 PV CELLs, 549.1ms\n",
            "Speed: 5.8ms preprocess, 549.1ms inference, 25.2ms postprocess per image at shape (1, 3, 640, 640)\n"
          ]
        },
        {
          "output_type": "stream",
          "name": "stderr",
          "text": [
            "\rDetecting in /content/Hucre-Detector-1/train/images:  28%|██▊       | 677/2450 [09:22<26:31,  1.11it/s]"
          ]
        },
        {
          "output_type": "stream",
          "name": "stdout",
          "text": [
            "\n",
            "image 1/1 /content/Hucre-Detector-1/train/images/Screenshot-2023-12-01-220053_png.rf.55d508fa972d0fcfdc280693a1e2f0a3.jpg: 640x640 177 PV CELLs, 576.7ms\n",
            "Speed: 6.8ms preprocess, 576.7ms inference, 24.3ms postprocess per image at shape (1, 3, 640, 640)\n"
          ]
        },
        {
          "output_type": "stream",
          "name": "stderr",
          "text": [
            "\rDetecting in /content/Hucre-Detector-1/train/images:  28%|██▊       | 678/2450 [09:23<24:51,  1.19it/s]"
          ]
        },
        {
          "output_type": "stream",
          "name": "stdout",
          "text": [
            "\n",
            "image 1/1 /content/Hucre-Detector-1/train/images/DJI_20231117111423_0494_Z_JPG.rf.8bf218d19673fd4d5b593e5f49866490.jpg: 640x640 300 PV CELLs, 567.2ms\n",
            "Speed: 4.4ms preprocess, 567.2ms inference, 21.4ms postprocess per image at shape (1, 3, 640, 640)\n"
          ]
        },
        {
          "output_type": "stream",
          "name": "stderr",
          "text": [
            "\rDetecting in /content/Hucre-Detector-1/train/images:  28%|██▊       | 679/2450 [09:24<25:07,  1.18it/s]"
          ]
        },
        {
          "output_type": "stream",
          "name": "stdout",
          "text": [
            "\n",
            "image 1/1 /content/Hucre-Detector-1/train/images/DJI_20231117110307_0166_Z_JPG.rf.c609e7cbb7c87d67e0fb1907f44a7a5d.jpg: 480x640 202 PV CELLs, 435.8ms\n",
            "Speed: 5.7ms preprocess, 435.8ms inference, 16.5ms postprocess per image at shape (1, 3, 480, 640)\n"
          ]
        },
        {
          "output_type": "stream",
          "name": "stderr",
          "text": [
            "\rDetecting in /content/Hucre-Detector-1/train/images:  28%|██▊       | 680/2450 [09:25<29:04,  1.01it/s]"
          ]
        },
        {
          "output_type": "stream",
          "name": "stdout",
          "text": [
            "\n",
            "image 1/1 /content/Hucre-Detector-1/train/images/DJI_20231117111128_0409_Z_JPG.rf.3eee4376a47cc8294ca48b91b4978f55.jpg: 640x640 30 PV CELLs, 607.3ms\n",
            "Speed: 5.1ms preprocess, 607.3ms inference, 3.3ms postprocess per image at shape (1, 3, 640, 640)\n"
          ]
        },
        {
          "output_type": "stream",
          "name": "stderr",
          "text": [
            "\rDetecting in /content/Hucre-Detector-1/train/images:  28%|██▊       | 681/2450 [09:26<26:58,  1.09it/s]"
          ]
        },
        {
          "output_type": "stream",
          "name": "stdout",
          "text": [
            "\n",
            "image 1/1 /content/Hucre-Detector-1/train/images/DJI_20231117111357_0481_Z_JPG.rf.b7a7442236496c99d78a1eba62832e35.jpg: 640x640 278 PV CELLs, 530.7ms\n",
            "Speed: 4.3ms preprocess, 530.7ms inference, 28.1ms postprocess per image at shape (1, 3, 640, 640)\n"
          ]
        },
        {
          "output_type": "stream",
          "name": "stderr",
          "text": [
            "\rDetecting in /content/Hucre-Detector-1/train/images:  28%|██▊       | 682/2450 [09:27<26:05,  1.13it/s]"
          ]
        },
        {
          "output_type": "stream",
          "name": "stdout",
          "text": [
            "\n",
            "image 1/1 /content/Hucre-Detector-1/train/images/DJI_20231117141739_0487_Z_JPG.rf.f7226af09cc6a62e4810706059ae8e26.jpg: 640x640 300 PV CELLs, 547.1ms\n",
            "Speed: 5.8ms preprocess, 547.1ms inference, 35.7ms postprocess per image at shape (1, 3, 640, 640)\n"
          ]
        },
        {
          "output_type": "stream",
          "name": "stderr",
          "text": [
            "\rDetecting in /content/Hucre-Detector-1/train/images:  28%|██▊       | 683/2450 [09:27<25:44,  1.14it/s]"
          ]
        },
        {
          "output_type": "stream",
          "name": "stdout",
          "text": [
            "\n",
            "image 1/1 /content/Hucre-Detector-1/train/images/DJI_20231117133442_0465_Z_JPG.rf.5143e684241b0e49d42deb07771d9e24.jpg: 640x640 300 PV CELLs, 540.5ms\n",
            "Speed: 4.3ms preprocess, 540.5ms inference, 31.7ms postprocess per image at shape (1, 3, 640, 640)\n"
          ]
        },
        {
          "output_type": "stream",
          "name": "stderr",
          "text": [
            "\rDetecting in /content/Hucre-Detector-1/train/images:  28%|██▊       | 684/2450 [09:28<25:32,  1.15it/s]"
          ]
        },
        {
          "output_type": "stream",
          "name": "stdout",
          "text": [
            "\n",
            "image 1/1 /content/Hucre-Detector-1/train/images/1064_jpg.rf.bb56f66a0a17afa73a326a6d6d6bde8f.jpg: 480x640 178 PV CELLs, 654.4ms\n",
            "Speed: 5.3ms preprocess, 654.4ms inference, 38.1ms postprocess per image at shape (1, 3, 480, 640)\n"
          ]
        },
        {
          "output_type": "stream",
          "name": "stderr",
          "text": [
            "\rDetecting in /content/Hucre-Detector-1/train/images:  28%|██▊       | 685/2450 [09:29<25:42,  1.14it/s]"
          ]
        },
        {
          "output_type": "stream",
          "name": "stdout",
          "text": [
            "\n",
            "image 1/1 /content/Hucre-Detector-1/train/images/DJI_20240223111454_0237_Z_JPG.rf.51d42ecb44b4b778bf63dcac246459e0.jpg: 640x640 203 PV CELLs, 897.7ms\n",
            "Speed: 7.1ms preprocess, 897.7ms inference, 54.8ms postprocess per image at shape (1, 3, 640, 640)\n"
          ]
        },
        {
          "output_type": "stream",
          "name": "stderr",
          "text": [
            "\rDetecting in /content/Hucre-Detector-1/train/images:  28%|██▊       | 686/2450 [09:30<29:12,  1.01it/s]"
          ]
        },
        {
          "output_type": "stream",
          "name": "stdout",
          "text": [
            "\n",
            "image 1/1 /content/Hucre-Detector-1/train/images/0621_JPG.rf.c35ffce3d3fe2659a4d8a07e62b0c2c6.jpg: 480x640 300 PV CELLs, 690.2ms\n",
            "Speed: 9.7ms preprocess, 690.2ms inference, 30.6ms postprocess per image at shape (1, 3, 480, 640)\n"
          ]
        },
        {
          "output_type": "stream",
          "name": "stderr",
          "text": [
            "\rDetecting in /content/Hucre-Detector-1/train/images:  28%|██▊       | 687/2450 [09:31<28:47,  1.02it/s]"
          ]
        },
        {
          "output_type": "stream",
          "name": "stdout",
          "text": [
            "\n",
            "image 1/1 /content/Hucre-Detector-1/train/images/ChatGPT-Image-19-Agu-2025-17_44_08_png.rf.11edf466c94ea50063bdc54af4406d5d.jpg: 640x640 300 PV CELLs, 578.8ms\n",
            "Speed: 6.5ms preprocess, 578.8ms inference, 18.8ms postprocess per image at shape (1, 3, 640, 640)\n"
          ]
        },
        {
          "output_type": "stream",
          "name": "stderr",
          "text": [
            "\rDetecting in /content/Hucre-Detector-1/train/images:  28%|██▊       | 688/2450 [09:32<26:34,  1.11it/s]"
          ]
        },
        {
          "output_type": "stream",
          "name": "stdout",
          "text": [
            "\n",
            "image 1/1 /content/Hucre-Detector-1/train/images/0025_jpg.rf.2a6a0f46e0e1bee4ebcfc6ff39efecc8.jpg: 480x640 237 PV CELLs, 415.9ms\n",
            "Speed: 3.3ms preprocess, 415.9ms inference, 20.4ms postprocess per image at shape (1, 3, 480, 640)\n"
          ]
        },
        {
          "output_type": "stream",
          "name": "stderr",
          "text": [
            "\rDetecting in /content/Hucre-Detector-1/train/images:  28%|██▊       | 689/2450 [09:33<23:49,  1.23it/s]"
          ]
        },
        {
          "output_type": "stream",
          "name": "stdout",
          "text": [
            "\n",
            "image 1/1 /content/Hucre-Detector-1/train/images/0063_JPG.rf.a10c1ca6715cfc830d482978fe96b5ee.jpg: 480x640 1 PV CELL, 416.8ms\n",
            "Speed: 3.3ms preprocess, 416.8ms inference, 1.0ms postprocess per image at shape (1, 3, 480, 640)\n"
          ]
        },
        {
          "output_type": "stream",
          "name": "stderr",
          "text": [
            "\rDetecting in /content/Hucre-Detector-1/train/images:  28%|██▊       | 690/2450 [09:33<21:01,  1.40it/s]"
          ]
        },
        {
          "output_type": "stream",
          "name": "stdout",
          "text": [
            "\n",
            "image 1/1 /content/Hucre-Detector-1/train/images/DJI_20231117143719_0160_Z_JPG.rf.f2cdcf38360782335dcb5cec1b67ba09.jpg: 640x640 300 PV CELLs, 590.8ms\n",
            "Speed: 4.7ms preprocess, 590.8ms inference, 65.7ms postprocess per image at shape (1, 3, 640, 640)\n"
          ]
        },
        {
          "output_type": "stream",
          "name": "stderr",
          "text": [
            "\rDetecting in /content/Hucre-Detector-1/train/images:  28%|██▊       | 691/2450 [09:34<22:57,  1.28it/s]"
          ]
        },
        {
          "output_type": "stream",
          "name": "stdout",
          "text": [
            "\n",
            "image 1/1 /content/Hucre-Detector-1/train/images/DJI_20231121104913_0442_Z_JPG.rf.cfca8190605f42c8e947481209726bd6.jpg: 640x640 161 PV CELLs, 514.0ms\n",
            "Speed: 4.3ms preprocess, 514.0ms inference, 26.6ms postprocess per image at shape (1, 3, 640, 640)\n"
          ]
        },
        {
          "output_type": "stream",
          "name": "stderr",
          "text": [
            "\rDetecting in /content/Hucre-Detector-1/train/images:  28%|██▊       | 692/2450 [09:35<22:31,  1.30it/s]"
          ]
        },
        {
          "output_type": "stream",
          "name": "stdout",
          "text": [
            "\n",
            "image 1/1 /content/Hucre-Detector-1/train/images/DJI_20240107104912_0149_Z_JPG.rf.98cf8a9e09d41b6da9c6484d0e14472a.jpg: 640x640 265 PV CELLs, 532.1ms\n",
            "Speed: 6.6ms preprocess, 532.1ms inference, 42.8ms postprocess per image at shape (1, 3, 640, 640)\n"
          ]
        },
        {
          "output_type": "stream",
          "name": "stderr",
          "text": [
            "\rDetecting in /content/Hucre-Detector-1/train/images:  28%|██▊       | 693/2450 [09:36<22:59,  1.27it/s]"
          ]
        },
        {
          "output_type": "stream",
          "name": "stdout",
          "text": [
            "\n",
            "image 1/1 /content/Hucre-Detector-1/train/images/0503_JPG.rf.4d40b1a12a47ba953ce033d4aaa7d410.jpg: 480x640 300 PV CELLs, 415.0ms\n",
            "Speed: 3.3ms preprocess, 415.0ms inference, 20.1ms postprocess per image at shape (1, 3, 480, 640)\n"
          ]
        },
        {
          "output_type": "stream",
          "name": "stderr",
          "text": [
            "\rDetecting in /content/Hucre-Detector-1/train/images:  28%|██▊       | 694/2450 [09:36<21:33,  1.36it/s]"
          ]
        },
        {
          "output_type": "stream",
          "name": "stdout",
          "text": [
            "\n",
            "image 1/1 /content/Hucre-Detector-1/train/images/DJI_20231229121817_0318_Z_JPG.rf.e73e5fcfaa9be0b6b370d1f8cf60e253.jpg: 640x640 300 PV CELLs, 524.2ms\n",
            "Speed: 4.2ms preprocess, 524.2ms inference, 48.7ms postprocess per image at shape (1, 3, 640, 640)\n"
          ]
        },
        {
          "output_type": "stream",
          "name": "stderr",
          "text": [
            "\rDetecting in /content/Hucre-Detector-1/train/images:  28%|██▊       | 695/2450 [09:37<22:37,  1.29it/s]"
          ]
        },
        {
          "output_type": "stream",
          "name": "stdout",
          "text": [
            "\n",
            "image 1/1 /content/Hucre-Detector-1/train/images/DJI_20231120114455_0086_Z_JPG.rf.4c02d1deeb24489209e95a224119d7ef.jpg: 640x640 165 PV CELLs, 582.4ms\n",
            "Speed: 5.0ms preprocess, 582.4ms inference, 18.6ms postprocess per image at shape (1, 3, 640, 640)\n"
          ]
        },
        {
          "output_type": "stream",
          "name": "stderr",
          "text": [
            "\rDetecting in /content/Hucre-Detector-1/train/images:  28%|██▊       | 696/2450 [09:38<22:48,  1.28it/s]"
          ]
        },
        {
          "output_type": "stream",
          "name": "stdout",
          "text": [
            "\n",
            "image 1/1 /content/Hucre-Detector-1/train/images/DJI_20231231115604_0040_Z_JPG.rf.7e3cd21e8135f775262afcb2b2ff64da.jpg: 640x640 300 PV CELLs, 587.9ms\n",
            "Speed: 6.7ms preprocess, 587.9ms inference, 24.6ms postprocess per image at shape (1, 3, 640, 640)\n"
          ]
        },
        {
          "output_type": "stream",
          "name": "stderr",
          "text": [
            "\rDetecting in /content/Hucre-Detector-1/train/images:  28%|██▊       | 697/2450 [09:39<23:37,  1.24it/s]"
          ]
        },
        {
          "output_type": "stream",
          "name": "stdout",
          "text": [
            "\n",
            "image 1/1 /content/Hucre-Detector-1/train/images/0607_JPG.rf.84e3dc88764ba55920236fc3fc2827c6.jpg: 480x640 300 PV CELLs, 434.5ms\n",
            "Speed: 4.0ms preprocess, 434.5ms inference, 52.5ms postprocess per image at shape (1, 3, 480, 640)\n"
          ]
        },
        {
          "output_type": "stream",
          "name": "stderr",
          "text": [
            "\rDetecting in /content/Hucre-Detector-1/train/images:  28%|██▊       | 698/2450 [09:40<22:31,  1.30it/s]"
          ]
        },
        {
          "output_type": "stream",
          "name": "stdout",
          "text": [
            "\n",
            "image 1/1 /content/Hucre-Detector-1/train/images/DJI_20231117140736_0194_Z_JPG.rf.7110daeeb4e620d5292a3107c11a6555.jpg: 640x640 300 PV CELLs, 593.0ms\n",
            "Speed: 5.1ms preprocess, 593.0ms inference, 25.6ms postprocess per image at shape (1, 3, 640, 640)\n"
          ]
        },
        {
          "output_type": "stream",
          "name": "stderr",
          "text": [
            "\rDetecting in /content/Hucre-Detector-1/train/images:  29%|██▊       | 699/2450 [09:40<23:36,  1.24it/s]"
          ]
        },
        {
          "output_type": "stream",
          "name": "stdout",
          "text": [
            "\n",
            "image 1/1 /content/Hucre-Detector-1/train/images/DJI_20231117132152_0091_Z_JPG.rf.2879cee60f162543cc4ea6190c9eec72.jpg: 640x640 257 PV CELLs, 574.4ms\n",
            "Speed: 5.1ms preprocess, 574.4ms inference, 17.8ms postprocess per image at shape (1, 3, 640, 640)\n"
          ]
        },
        {
          "output_type": "stream",
          "name": "stderr",
          "text": [
            "\rDetecting in /content/Hucre-Detector-1/train/images:  29%|██▊       | 700/2450 [09:41<24:39,  1.18it/s]"
          ]
        },
        {
          "output_type": "stream",
          "name": "stdout",
          "text": [
            "\n",
            "image 1/1 /content/Hucre-Detector-1/train/images/Ekran-Goruntusu-2025-08-25-18-36-08_png.rf.a0fa6d6ee74f647e4c5ed04588a64ab2.jpg: 288x640 43 PV CELLs, 423.3ms\n",
            "Speed: 3.4ms preprocess, 423.3ms inference, 8.2ms postprocess per image at shape (1, 3, 288, 640)\n"
          ]
        },
        {
          "output_type": "stream",
          "name": "stderr",
          "text": [
            "\rDetecting in /content/Hucre-Detector-1/train/images:  29%|██▊       | 701/2450 [09:42<21:36,  1.35it/s]"
          ]
        },
        {
          "output_type": "stream",
          "name": "stdout",
          "text": [
            "\n",
            "image 1/1 /content/Hucre-Detector-1/train/images/DJI_20231117112719_0034_Z_JPG.rf.05c351d05a3b0008e447d9f01d1c82e8.jpg: 640x640 300 PV CELLs, 906.7ms\n",
            "Speed: 7.4ms preprocess, 906.7ms inference, 50.9ms postprocess per image at shape (1, 3, 640, 640)\n"
          ]
        },
        {
          "output_type": "stream",
          "name": "stderr",
          "text": [
            "\rDetecting in /content/Hucre-Detector-1/train/images:  29%|██▊       | 702/2450 [09:43<27:30,  1.06it/s]"
          ]
        },
        {
          "output_type": "stream",
          "name": "stdout",
          "text": [
            "\n",
            "image 1/1 /content/Hucre-Detector-1/train/images/0111_JPG.rf.20f9722c9865d4ffbd7195dec315d092.jpg: 480x640 300 PV CELLs, 700.8ms\n",
            "Speed: 5.6ms preprocess, 700.8ms inference, 70.6ms postprocess per image at shape (1, 3, 480, 640)\n"
          ]
        },
        {
          "output_type": "stream",
          "name": "stderr",
          "text": [
            "\rDetecting in /content/Hucre-Detector-1/train/images:  29%|██▊       | 703/2450 [09:44<27:55,  1.04it/s]"
          ]
        },
        {
          "output_type": "stream",
          "name": "stdout",
          "text": [
            "\n",
            "image 1/1 /content/Hucre-Detector-1/train/images/DJI_20231117110115_0112_Z_JPG.rf.f033fd390766a914cdfb547fce5737ee.jpg: 480x640 290 PV CELLs, 411.5ms\n",
            "Speed: 5.5ms preprocess, 411.5ms inference, 24.9ms postprocess per image at shape (1, 3, 480, 640)\n"
          ]
        },
        {
          "output_type": "stream",
          "name": "stderr",
          "text": [
            "\rDetecting in /content/Hucre-Detector-1/train/images:  29%|██▊       | 704/2450 [09:46<31:15,  1.07s/it]"
          ]
        },
        {
          "output_type": "stream",
          "name": "stdout",
          "text": [
            "\n",
            "image 1/1 /content/Hucre-Detector-1/train/images/DJI_20231229121510_0226_Z_JPG.rf.4e502523458cdbd8505a80282513bae8.jpg: 640x640 300 PV CELLs, 544.9ms\n",
            "Speed: 4.3ms preprocess, 544.9ms inference, 43.2ms postprocess per image at shape (1, 3, 640, 640)\n"
          ]
        },
        {
          "output_type": "stream",
          "name": "stderr",
          "text": [
            "\rDetecting in /content/Hucre-Detector-1/train/images:  29%|██▉       | 705/2450 [09:46<29:37,  1.02s/it]"
          ]
        },
        {
          "output_type": "stream",
          "name": "stdout",
          "text": [
            "\n",
            "image 1/1 /content/Hucre-Detector-1/train/images/DJI_20240225121809_0125_Z_JPG.rf.98ce32a91c354342dae6966d016ac1d9.jpg: 640x640 300 PV CELLs, 571.0ms\n",
            "Speed: 4.9ms preprocess, 571.0ms inference, 59.6ms postprocess per image at shape (1, 3, 640, 640)\n"
          ]
        },
        {
          "output_type": "stream",
          "name": "stderr",
          "text": [
            "\rDetecting in /content/Hucre-Detector-1/train/images:  29%|██▉       | 706/2450 [09:47<28:43,  1.01it/s]"
          ]
        },
        {
          "output_type": "stream",
          "name": "stdout",
          "text": [
            "\n",
            "image 1/1 /content/Hucre-Detector-1/train/images/DJI_20231122120710_0403_Z_JPG.rf.4a1afb65d6df99a5176f972c2e013370.jpg: 480x640 300 PV CELLs, 425.1ms\n",
            "Speed: 5.2ms preprocess, 425.1ms inference, 16.7ms postprocess per image at shape (1, 3, 480, 640)\n"
          ]
        },
        {
          "output_type": "stream",
          "name": "stderr",
          "text": [
            "\rDetecting in /content/Hucre-Detector-1/train/images:  29%|██▉       | 707/2450 [09:49<32:10,  1.11s/it]"
          ]
        },
        {
          "output_type": "stream",
          "name": "stdout",
          "text": [
            "\n",
            "image 1/1 /content/Hucre-Detector-1/train/images/0223_JPG.rf.5715a1195b934a5e91c904455f77cbc3.jpg: 480x640 (no detections), 428.8ms\n",
            "Speed: 3.9ms preprocess, 428.8ms inference, 0.6ms postprocess per image at shape (1, 3, 480, 640)\n"
          ]
        },
        {
          "output_type": "stream",
          "name": "stderr",
          "text": [
            "\rDetecting in /content/Hucre-Detector-1/train/images:  29%|██▉       | 708/2450 [09:49<27:16,  1.06it/s]"
          ]
        },
        {
          "output_type": "stream",
          "name": "stdout",
          "text": [
            "\n",
            "image 1/1 /content/Hucre-Detector-1/train/images/DJI_20231117140251_0057_Z_JPG.rf.2bbe5e8cc6d335816a03e0a6e197f397.jpg: 640x640 300 PV CELLs, 547.6ms\n",
            "Speed: 4.5ms preprocess, 547.6ms inference, 35.1ms postprocess per image at shape (1, 3, 640, 640)\n"
          ]
        },
        {
          "output_type": "stream",
          "name": "stderr",
          "text": [
            "\rDetecting in /content/Hucre-Detector-1/train/images:  29%|██▉       | 709/2450 [09:50<26:28,  1.10it/s]"
          ]
        },
        {
          "output_type": "stream",
          "name": "stdout",
          "text": [
            "\n",
            "image 1/1 /content/Hucre-Detector-1/train/images/0373_JPG.rf.59f153e93befd1766fcd19d411008720.jpg: 480x640 300 PV CELLs, 440.0ms\n",
            "Speed: 3.3ms preprocess, 440.0ms inference, 29.1ms postprocess per image at shape (1, 3, 480, 640)\n"
          ]
        },
        {
          "output_type": "stream",
          "name": "stderr",
          "text": [
            "\rDetecting in /content/Hucre-Detector-1/train/images:  29%|██▉       | 710/2450 [09:51<24:16,  1.19it/s]"
          ]
        },
        {
          "output_type": "stream",
          "name": "stdout",
          "text": [
            "\n",
            "image 1/1 /content/Hucre-Detector-1/train/images/DJI_20231121110749_0148_Z_JPG.rf.9b42540b83204ddead8eef393b092caa.jpg: 640x640 253 PV CELLs, 566.9ms\n",
            "Speed: 5.3ms preprocess, 566.9ms inference, 24.4ms postprocess per image at shape (1, 3, 640, 640)\n"
          ]
        },
        {
          "output_type": "stream",
          "name": "stderr",
          "text": [
            "\rDetecting in /content/Hucre-Detector-1/train/images:  29%|██▉       | 711/2450 [09:52<24:19,  1.19it/s]"
          ]
        },
        {
          "output_type": "stream",
          "name": "stdout",
          "text": [
            "\n",
            "image 1/1 /content/Hucre-Detector-1/train/images/DJI_20231121103527_0037_Z_JPG.rf.dd846ad37d948869f65fa9ce55e4171a.jpg: 640x640 192 PV CELLs, 529.0ms\n",
            "Speed: 4.7ms preprocess, 529.0ms inference, 32.1ms postprocess per image at shape (1, 3, 640, 640)\n"
          ]
        },
        {
          "output_type": "stream",
          "name": "stderr",
          "text": [
            "\rDetecting in /content/Hucre-Detector-1/train/images:  29%|██▉       | 712/2450 [09:52<23:44,  1.22it/s]"
          ]
        },
        {
          "output_type": "stream",
          "name": "stdout",
          "text": [
            "\n",
            "image 1/1 /content/Hucre-Detector-1/train/images/0437_JPG.rf.f97f033b4ef817151448cb19733a7945.jpg: 480x640 300 PV CELLs, 437.1ms\n",
            "Speed: 3.9ms preprocess, 437.1ms inference, 32.5ms postprocess per image at shape (1, 3, 480, 640)\n"
          ]
        },
        {
          "output_type": "stream",
          "name": "stderr",
          "text": [
            "\rDetecting in /content/Hucre-Detector-1/train/images:  29%|██▉       | 713/2450 [09:53<22:27,  1.29it/s]"
          ]
        },
        {
          "output_type": "stream",
          "name": "stdout",
          "text": [
            "\n",
            "image 1/1 /content/Hucre-Detector-1/train/images/0077_JPG.rf.e77a820a3e685be79eac533a5fa040b9.jpg: 480x640 125 PV CELLs, 429.7ms\n",
            "Speed: 4.0ms preprocess, 429.7ms inference, 12.9ms postprocess per image at shape (1, 3, 480, 640)\n"
          ]
        },
        {
          "output_type": "stream",
          "name": "stderr",
          "text": [
            "\rDetecting in /content/Hucre-Detector-1/train/images:  29%|██▉       | 714/2450 [09:54<20:44,  1.39it/s]"
          ]
        },
        {
          "output_type": "stream",
          "name": "stdout",
          "text": [
            "\n",
            "image 1/1 /content/Hucre-Detector-1/train/images/DJI_20231117110520_0230_Z_JPG.rf.87755b0388e0310b8e5d0c6edafd4144.jpg: 640x640 300 PV CELLs, 802.4ms\n",
            "Speed: 7.9ms preprocess, 802.4ms inference, 36.9ms postprocess per image at shape (1, 3, 640, 640)\n"
          ]
        },
        {
          "output_type": "stream",
          "name": "stderr",
          "text": [
            "\rDetecting in /content/Hucre-Detector-1/train/images:  29%|██▉       | 715/2450 [09:55<25:21,  1.14it/s]"
          ]
        },
        {
          "output_type": "stream",
          "name": "stdout",
          "text": [
            "\n",
            "image 1/1 /content/Hucre-Detector-1/train/images/DJI_20240305101851_0530_Z_JPG.rf.7ee159006c49c82f6d39e6b761f86a08.jpg: 640x640 300 PV CELLs, 924.6ms\n",
            "Speed: 11.4ms preprocess, 924.6ms inference, 92.5ms postprocess per image at shape (1, 3, 640, 640)\n"
          ]
        },
        {
          "output_type": "stream",
          "name": "stderr",
          "text": [
            "\rDetecting in /content/Hucre-Detector-1/train/images:  29%|██▉       | 716/2450 [09:56<30:14,  1.05s/it]"
          ]
        },
        {
          "output_type": "stream",
          "name": "stdout",
          "text": [
            "\n",
            "image 1/1 /content/Hucre-Detector-1/train/images/Screenshot-2023-12-01-212951_png.rf.e2546ff929f36c1b58ed7ecabe02137b.jpg: 640x640 86 PV CELLs, 773.6ms\n",
            "Speed: 7.0ms preprocess, 773.6ms inference, 12.0ms postprocess per image at shape (1, 3, 640, 640)\n"
          ]
        },
        {
          "output_type": "stream",
          "name": "stderr",
          "text": [
            "\rDetecting in /content/Hucre-Detector-1/train/images:  29%|██▉       | 717/2450 [09:57<28:45,  1.00it/s]"
          ]
        },
        {
          "output_type": "stream",
          "name": "stdout",
          "text": [
            "\n",
            "image 1/1 /content/Hucre-Detector-1/train/images/Screenshot-2023-12-01-213914_png.rf.083898d6da628c7c8ede9bb0e57c1230.jpg: 640x640 19 PV CELLs, 564.1ms\n",
            "Speed: 9.5ms preprocess, 564.1ms inference, 3.5ms postprocess per image at shape (1, 3, 640, 640)\n"
          ]
        },
        {
          "output_type": "stream",
          "name": "stderr",
          "text": [
            "\rDetecting in /content/Hucre-Detector-1/train/images:  29%|██▉       | 718/2450 [09:58<25:28,  1.13it/s]"
          ]
        },
        {
          "output_type": "stream",
          "name": "stdout",
          "text": [
            "\n",
            "image 1/1 /content/Hucre-Detector-1/train/images/Screenshot-2023-12-01-215411_png.rf.dfb04feff41ad807b46dccc26b906062.jpg: 640x640 74 PV CELLs, 547.5ms\n",
            "Speed: 6.0ms preprocess, 547.5ms inference, 6.1ms postprocess per image at shape (1, 3, 640, 640)\n"
          ]
        },
        {
          "output_type": "stream",
          "name": "stderr",
          "text": [
            "\rDetecting in /content/Hucre-Detector-1/train/images:  29%|██▉       | 719/2450 [09:59<23:14,  1.24it/s]"
          ]
        },
        {
          "output_type": "stream",
          "name": "stdout",
          "text": [
            "\n",
            "image 1/1 /content/Hucre-Detector-1/train/images/DJI_20231122122738_0203_Z_JPG.rf.5259dfce77052ee2a8c29e0651fa5e97.jpg: 640x640 300 PV CELLs, 570.9ms\n",
            "Speed: 8.1ms preprocess, 570.9ms inference, 18.0ms postprocess per image at shape (1, 3, 640, 640)\n"
          ]
        },
        {
          "output_type": "stream",
          "name": "stderr",
          "text": [
            "\rDetecting in /content/Hucre-Detector-1/train/images:  29%|██▉       | 720/2450 [09:59<23:46,  1.21it/s]"
          ]
        },
        {
          "output_type": "stream",
          "name": "stdout",
          "text": [
            "\n",
            "image 1/1 /content/Hucre-Detector-1/train/images/DJI_20240108104857_0423_Z_JPG.rf.e4556f3e3e371017015b35ab6d7abd90.jpg: 640x640 300 PV CELLs, 590.7ms\n",
            "Speed: 5.1ms preprocess, 590.7ms inference, 20.8ms postprocess per image at shape (1, 3, 640, 640)\n"
          ]
        },
        {
          "output_type": "stream",
          "name": "stderr",
          "text": [
            "\rDetecting in /content/Hucre-Detector-1/train/images:  29%|██▉       | 721/2450 [10:00<24:30,  1.18it/s]"
          ]
        },
        {
          "output_type": "stream",
          "name": "stdout",
          "text": [
            "\n",
            "image 1/1 /content/Hucre-Detector-1/train/images/Screenshot-2023-12-01-214148_png.rf.d1dab4afedd8d9b6715bdff544de2cfd.jpg: 640x640 78 PV CELLs, 565.1ms\n",
            "Speed: 5.9ms preprocess, 565.1ms inference, 8.4ms postprocess per image at shape (1, 3, 640, 640)\n"
          ]
        },
        {
          "output_type": "stream",
          "name": "stderr",
          "text": [
            "\rDetecting in /content/Hucre-Detector-1/train/images:  29%|██▉       | 722/2450 [10:01<22:52,  1.26it/s]"
          ]
        },
        {
          "output_type": "stream",
          "name": "stdout",
          "text": [
            "\n",
            "image 1/1 /content/Hucre-Detector-1/train/images/0468_JPG.rf.e21500ce5f20ff378a9548b8a65527da.jpg: 480x640 300 PV CELLs, 463.4ms\n",
            "Speed: 4.0ms preprocess, 463.4ms inference, 35.4ms postprocess per image at shape (1, 3, 480, 640)\n"
          ]
        },
        {
          "output_type": "stream",
          "name": "stderr",
          "text": [
            "\rDetecting in /content/Hucre-Detector-1/train/images:  30%|██▉       | 723/2450 [10:02<22:04,  1.30it/s]"
          ]
        },
        {
          "output_type": "stream",
          "name": "stdout",
          "text": [
            "\n",
            "image 1/1 /content/Hucre-Detector-1/train/images/DJI_20250506155005_0301_V_JPG.rf.ff5daae1fa7dd601eb88ef744356f697.jpg: 640x640 300 PV CELLs, 568.6ms\n",
            "Speed: 3.2ms preprocess, 568.6ms inference, 106.4ms postprocess per image at shape (1, 3, 640, 640)\n"
          ]
        },
        {
          "output_type": "stream",
          "name": "stderr",
          "text": [
            "\rDetecting in /content/Hucre-Detector-1/train/images:  30%|██▉       | 724/2450 [10:02<21:47,  1.32it/s]"
          ]
        },
        {
          "output_type": "stream",
          "name": "stdout",
          "text": [
            "\n",
            "image 1/1 /content/Hucre-Detector-1/train/images/DJI_20231117103620_0200_Z_JPG.rf.79aa1746d5fb3132dc9e048cb84f9600.jpg: 640x640 300 PV CELLs, 584.1ms\n",
            "Speed: 4.4ms preprocess, 584.1ms inference, 31.8ms postprocess per image at shape (1, 3, 640, 640)\n"
          ]
        },
        {
          "output_type": "stream",
          "name": "stderr",
          "text": [
            "\rDetecting in /content/Hucre-Detector-1/train/images:  30%|██▉       | 725/2450 [10:03<23:10,  1.24it/s]"
          ]
        },
        {
          "output_type": "stream",
          "name": "stdout",
          "text": [
            "\n",
            "image 1/1 /content/Hucre-Detector-1/train/images/0232_JPG.rf.9ea1bc53d862bdf9dadc8eab1b6086bb.jpg: 480x640 1 PV CELL, 431.5ms\n",
            "Speed: 4.8ms preprocess, 431.5ms inference, 1.0ms postprocess per image at shape (1, 3, 480, 640)\n"
          ]
        },
        {
          "output_type": "stream",
          "name": "stderr",
          "text": [
            "\rDetecting in /content/Hucre-Detector-1/train/images:  30%|██▉       | 726/2450 [10:04<20:50,  1.38it/s]"
          ]
        },
        {
          "output_type": "stream",
          "name": "stdout",
          "text": [
            "\n",
            "image 1/1 /content/Hucre-Detector-1/train/images/DJI_20240217122810_0040_Z_JPG.rf.b0541d8949c2752f20f7faf46002cdfc.jpg: 640x640 300 PV CELLs, 590.9ms\n",
            "Speed: 7.4ms preprocess, 590.9ms inference, 114.9ms postprocess per image at shape (1, 3, 640, 640)\n"
          ]
        },
        {
          "output_type": "stream",
          "name": "stderr",
          "text": [
            "\rDetecting in /content/Hucre-Detector-1/train/images:  30%|██▉       | 727/2450 [10:05<22:58,  1.25it/s]"
          ]
        },
        {
          "output_type": "stream",
          "name": "stdout",
          "text": [
            "\n",
            "image 1/1 /content/Hucre-Detector-1/train/images/DJI_20231117110022_0086_Z_JPG.rf.4096aa4a8284bcf84a0134dc7cc4d388.jpg: 640x640 300 PV CELLs, 546.0ms\n",
            "Speed: 4.7ms preprocess, 546.0ms inference, 7.3ms postprocess per image at shape (1, 3, 640, 640)\n"
          ]
        },
        {
          "output_type": "stream",
          "name": "stderr",
          "text": [
            "\rDetecting in /content/Hucre-Detector-1/train/images:  30%|██▉       | 728/2450 [10:06<23:11,  1.24it/s]"
          ]
        },
        {
          "output_type": "stream",
          "name": "stdout",
          "text": [
            "\n",
            "image 1/1 /content/Hucre-Detector-1/train/images/0026_jpg.rf.f03b7b4b92dfcb3fa09f637eee202325.jpg: 480x640 178 PV CELLs, 416.9ms\n",
            "Speed: 4.0ms preprocess, 416.9ms inference, 22.7ms postprocess per image at shape (1, 3, 480, 640)\n"
          ]
        },
        {
          "output_type": "stream",
          "name": "stderr",
          "text": [
            "\rDetecting in /content/Hucre-Detector-1/train/images:  30%|██▉       | 729/2450 [10:06<21:21,  1.34it/s]"
          ]
        },
        {
          "output_type": "stream",
          "name": "stdout",
          "text": [
            "\n",
            "image 1/1 /content/Hucre-Detector-1/train/images/DJI_20240107103122_0283_Z_JPG.rf.a5aa1af5cf70c538116d247cd9343d84.jpg: 480x640 300 PV CELLs, 445.7ms\n",
            "Speed: 6.0ms preprocess, 445.7ms inference, 56.3ms postprocess per image at shape (1, 3, 480, 640)\n"
          ]
        },
        {
          "output_type": "stream",
          "name": "stderr",
          "text": [
            "\rDetecting in /content/Hucre-Detector-1/train/images:  30%|██▉       | 730/2450 [10:08<28:56,  1.01s/it]"
          ]
        },
        {
          "output_type": "stream",
          "name": "stdout",
          "text": [
            "\n",
            "image 1/1 /content/Hucre-Detector-1/train/images/1023_JPG.rf.6d430a4cc2a7f2752717c008b2cadbae.jpg: 480x640 300 PV CELLs, 646.9ms\n",
            "Speed: 9.0ms preprocess, 646.9ms inference, 46.2ms postprocess per image at shape (1, 3, 480, 640)\n"
          ]
        },
        {
          "output_type": "stream",
          "name": "stderr",
          "text": [
            "\rDetecting in /content/Hucre-Detector-1/train/images:  30%|██▉       | 731/2450 [10:09<28:45,  1.00s/it]"
          ]
        },
        {
          "output_type": "stream",
          "name": "stdout",
          "text": [
            "\n",
            "image 1/1 /content/Hucre-Detector-1/train/images/DJI_20231117113352_0224_Z_JPG.rf.a8bbe1a39963836687cfedff0490dd15.jpg: 640x640 205 PV CELLs, 942.1ms\n",
            "Speed: 7.7ms preprocess, 942.1ms inference, 19.7ms postprocess per image at shape (1, 3, 640, 640)\n"
          ]
        },
        {
          "output_type": "stream",
          "name": "stderr",
          "text": [
            "\rDetecting in /content/Hucre-Detector-1/train/images:  30%|██▉       | 732/2450 [10:10<30:29,  1.06s/it]"
          ]
        },
        {
          "output_type": "stream",
          "name": "stdout",
          "text": [
            "\n",
            "image 1/1 /content/Hucre-Detector-1/train/images/DJI_20231229114623_0382_Z_JPG.rf.2efba58b799abce6b4de98a31be6374e.jpg: 640x640 300 PV CELLs, 587.2ms\n",
            "Speed: 5.0ms preprocess, 587.2ms inference, 24.9ms postprocess per image at shape (1, 3, 640, 640)\n"
          ]
        },
        {
          "output_type": "stream",
          "name": "stderr",
          "text": [
            "\rDetecting in /content/Hucre-Detector-1/train/images:  30%|██▉       | 733/2450 [10:11<28:56,  1.01s/it]"
          ]
        },
        {
          "output_type": "stream",
          "name": "stdout",
          "text": [
            "\n",
            "image 1/1 /content/Hucre-Detector-1/train/images/DJI_20231117132226_0108_Z_JPG.rf.d410c1a37200ba55dbe17d59603b5499.jpg: 640x640 300 PV CELLs, 533.5ms\n",
            "Speed: 4.4ms preprocess, 533.5ms inference, 42.2ms postprocess per image at shape (1, 3, 640, 640)\n"
          ]
        },
        {
          "output_type": "stream",
          "name": "stderr",
          "text": [
            "\rDetecting in /content/Hucre-Detector-1/train/images:  30%|██▉       | 734/2450 [10:12<27:34,  1.04it/s]"
          ]
        },
        {
          "output_type": "stream",
          "name": "stdout",
          "text": [
            "\n",
            "image 1/1 /content/Hucre-Detector-1/train/images/0438_JPG.rf.25f7515880948e38b0debae93dcf0ad7.jpg: 480x640 300 PV CELLs, 403.7ms\n",
            "Speed: 3.4ms preprocess, 403.7ms inference, 37.6ms postprocess per image at shape (1, 3, 480, 640)\n"
          ]
        },
        {
          "output_type": "stream",
          "name": "stderr",
          "text": [
            "\rDetecting in /content/Hucre-Detector-1/train/images:  30%|███       | 735/2450 [10:12<24:41,  1.16it/s]"
          ]
        },
        {
          "output_type": "stream",
          "name": "stdout",
          "text": [
            "\n",
            "image 1/1 /content/Hucre-Detector-1/train/images/DJI_20240108110300_0039_Z_JPG.rf.6e10ecb74607a81dae5746ea20f2616f.jpg: 640x640 300 PV CELLs, 566.6ms\n",
            "Speed: 4.4ms preprocess, 566.6ms inference, 38.7ms postprocess per image at shape (1, 3, 640, 640)\n"
          ]
        },
        {
          "output_type": "stream",
          "name": "stderr",
          "text": [
            "\rDetecting in /content/Hucre-Detector-1/train/images:  30%|███       | 736/2450 [10:13<24:49,  1.15it/s]"
          ]
        },
        {
          "output_type": "stream",
          "name": "stdout",
          "text": [
            "\n",
            "image 1/1 /content/Hucre-Detector-1/train/images/0553_JPG.rf.54a973556c7400453f2b14ae2c3833a3.jpg: 480x640 300 PV CELLs, 439.8ms\n",
            "Speed: 5.4ms preprocess, 439.8ms inference, 29.6ms postprocess per image at shape (1, 3, 480, 640)\n"
          ]
        },
        {
          "output_type": "stream",
          "name": "stderr",
          "text": [
            "\rDetecting in /content/Hucre-Detector-1/train/images:  30%|███       | 737/2450 [10:14<23:06,  1.24it/s]"
          ]
        },
        {
          "output_type": "stream",
          "name": "stdout",
          "text": [
            "\n",
            "image 1/1 /content/Hucre-Detector-1/train/images/0643_JPG.rf.ad6eb029d3ec76bea1f087f0ee3cc0c3.jpg: 480x640 24 PV CELLs, 396.9ms\n",
            "Speed: 3.3ms preprocess, 396.9ms inference, 2.4ms postprocess per image at shape (1, 3, 480, 640)\n"
          ]
        },
        {
          "output_type": "stream",
          "name": "stderr",
          "text": [
            "\rDetecting in /content/Hucre-Detector-1/train/images:  30%|███       | 738/2450 [10:15<20:19,  1.40it/s]"
          ]
        },
        {
          "output_type": "stream",
          "name": "stdout",
          "text": [
            "\n",
            "image 1/1 /content/Hucre-Detector-1/train/images/DJI_20231117103223_0085_Z_JPG.rf.c7a441904af6faf18edad9393a161a23.jpg: 640x640 300 PV CELLs, 603.0ms\n",
            "Speed: 4.4ms preprocess, 603.0ms inference, 31.0ms postprocess per image at shape (1, 3, 640, 640)\n"
          ]
        },
        {
          "output_type": "stream",
          "name": "stderr",
          "text": [
            "\rDetecting in /content/Hucre-Detector-1/train/images:  30%|███       | 739/2450 [10:15<22:08,  1.29it/s]"
          ]
        },
        {
          "output_type": "stream",
          "name": "stdout",
          "text": [
            "\n",
            "image 1/1 /content/Hucre-Detector-1/train/images/0976_JPG.rf.366da264e44e2e74a730c28881552600.jpg: 480x640 300 PV CELLs, 435.8ms\n",
            "Speed: 3.9ms preprocess, 435.8ms inference, 23.4ms postprocess per image at shape (1, 3, 480, 640)\n"
          ]
        },
        {
          "output_type": "stream",
          "name": "stderr",
          "text": [
            "\rDetecting in /content/Hucre-Detector-1/train/images:  30%|███       | 740/2450 [10:16<21:02,  1.35it/s]"
          ]
        },
        {
          "output_type": "stream",
          "name": "stdout",
          "text": [
            "\n",
            "image 1/1 /content/Hucre-Detector-1/train/images/0757_JPG.rf.bc119588af70a43fa87fe8e10ab4decc.jpg: 480x640 280 PV CELLs, 403.2ms\n",
            "Speed: 3.4ms preprocess, 403.2ms inference, 24.9ms postprocess per image at shape (1, 3, 480, 640)\n"
          ]
        },
        {
          "output_type": "stream",
          "name": "stderr",
          "text": [
            "\rDetecting in /content/Hucre-Detector-1/train/images:  30%|███       | 741/2450 [10:17<19:57,  1.43it/s]"
          ]
        },
        {
          "output_type": "stream",
          "name": "stdout",
          "text": [
            "\n",
            "image 1/1 /content/Hucre-Detector-1/train/images/DJI_20231122122120_0018_Z_JPG.rf.528f89a27a7bf2d873cd5d97a3c0c3c6.jpg: 640x640 300 PV CELLs, 535.1ms\n",
            "Speed: 4.2ms preprocess, 535.1ms inference, 23.0ms postprocess per image at shape (1, 3, 640, 640)\n"
          ]
        },
        {
          "output_type": "stream",
          "name": "stderr",
          "text": [
            "\rDetecting in /content/Hucre-Detector-1/train/images:  30%|███       | 742/2450 [10:18<20:56,  1.36it/s]"
          ]
        },
        {
          "output_type": "stream",
          "name": "stdout",
          "text": [
            "\n",
            "image 1/1 /content/Hucre-Detector-1/train/images/DJI_20250506154913_0226_V_JPG.rf.529e5bfb1dca7d9407f8732f54db668d.jpg: 640x640 300 PV CELLs, 551.1ms\n",
            "Speed: 3.3ms preprocess, 551.1ms inference, 39.2ms postprocess per image at shape (1, 3, 640, 640)\n"
          ]
        },
        {
          "output_type": "stream",
          "name": "stderr",
          "text": [
            "\rDetecting in /content/Hucre-Detector-1/train/images:  30%|███       | 743/2450 [10:18<20:13,  1.41it/s]"
          ]
        },
        {
          "output_type": "stream",
          "name": "stdout",
          "text": [
            "\n",
            "image 1/1 /content/Hucre-Detector-1/train/images/1048_jpg.rf.78519c16834e1f491a0275b66cbd6369.jpg: 480x640 182 PV CELLs, 435.3ms\n",
            "Speed: 4.1ms preprocess, 435.3ms inference, 16.1ms postprocess per image at shape (1, 3, 480, 640)\n"
          ]
        },
        {
          "output_type": "stream",
          "name": "stderr",
          "text": [
            "\rDetecting in /content/Hucre-Detector-1/train/images:  30%|███       | 744/2450 [10:19<19:20,  1.47it/s]"
          ]
        },
        {
          "output_type": "stream",
          "name": "stdout",
          "text": [
            "\n",
            "image 1/1 /content/Hucre-Detector-1/train/images/DJI_20231117104258_0389_Z_JPG.rf.d04c6167843763c8726962c85a6c6339.jpg: 640x640 300 PV CELLs, 603.5ms\n",
            "Speed: 5.2ms preprocess, 603.5ms inference, 28.5ms postprocess per image at shape (1, 3, 640, 640)\n"
          ]
        },
        {
          "output_type": "stream",
          "name": "stderr",
          "text": [
            "\rDetecting in /content/Hucre-Detector-1/train/images:  30%|███       | 745/2450 [10:20<21:18,  1.33it/s]"
          ]
        },
        {
          "output_type": "stream",
          "name": "stdout",
          "text": [
            "\n",
            "image 1/1 /content/Hucre-Detector-1/train/images/0773_JPG.rf.9992cd80f9da051d073e8190969ae769.jpg: 480x640 300 PV CELLs, 558.0ms\n",
            "Speed: 3.9ms preprocess, 558.0ms inference, 76.7ms postprocess per image at shape (1, 3, 480, 640)\n"
          ]
        },
        {
          "output_type": "stream",
          "name": "stderr",
          "text": [
            "\rDetecting in /content/Hucre-Detector-1/train/images:  30%|███       | 746/2450 [10:21<22:40,  1.25it/s]"
          ]
        },
        {
          "output_type": "stream",
          "name": "stdout",
          "text": [
            "\n",
            "image 1/1 /content/Hucre-Detector-1/train/images/DJI_20231117133559_0502_Z_JPG.rf.2484250b84103a0851efc4ca60f00323.jpg: 640x640 186 PV CELLs, 881.8ms\n",
            "Speed: 6.5ms preprocess, 881.8ms inference, 16.8ms postprocess per image at shape (1, 3, 640, 640)\n"
          ]
        },
        {
          "output_type": "stream",
          "name": "stderr",
          "text": [
            "\rDetecting in /content/Hucre-Detector-1/train/images:  30%|███       | 747/2450 [10:22<26:19,  1.08it/s]"
          ]
        },
        {
          "output_type": "stream",
          "name": "stdout",
          "text": [
            "\n",
            "image 1/1 /content/Hucre-Detector-1/train/images/0830_JPG.rf.bc9dd21ca0a31b31e9d6c0ea70e9b665.jpg: 480x640 300 PV CELLs, 686.5ms\n",
            "Speed: 5.7ms preprocess, 686.5ms inference, 68.5ms postprocess per image at shape (1, 3, 480, 640)\n"
          ]
        },
        {
          "output_type": "stream",
          "name": "stderr",
          "text": [
            "\rDetecting in /content/Hucre-Detector-1/train/images:  31%|███       | 748/2450 [10:23<27:11,  1.04it/s]"
          ]
        },
        {
          "output_type": "stream",
          "name": "stdout",
          "text": [
            "\n",
            "image 1/1 /content/Hucre-Detector-1/train/images/DJI_20231122121232_0560_Z_JPG.rf.92c04f01dcde1b7ca2b5adff37de1abd.jpg: 640x640 300 PV CELLs, 592.7ms\n",
            "Speed: 5.1ms preprocess, 592.7ms inference, 41.3ms postprocess per image at shape (1, 3, 640, 640)\n"
          ]
        },
        {
          "output_type": "stream",
          "name": "stderr",
          "text": [
            "\rDetecting in /content/Hucre-Detector-1/train/images:  31%|███       | 749/2450 [10:24<26:39,  1.06it/s]"
          ]
        },
        {
          "output_type": "stream",
          "name": "stdout",
          "text": [
            "\n",
            "image 1/1 /content/Hucre-Detector-1/train/images/0970_JPG.rf.9d8ba0cc8b8215d6f6eb61f7c39450cb.jpg: 480x640 68 PV CELLs, 413.5ms\n",
            "Speed: 3.9ms preprocess, 413.5ms inference, 6.0ms postprocess per image at shape (1, 3, 480, 640)\n"
          ]
        },
        {
          "output_type": "stream",
          "name": "stderr",
          "text": [
            "\rDetecting in /content/Hucre-Detector-1/train/images:  31%|███       | 750/2450 [10:24<23:14,  1.22it/s]"
          ]
        },
        {
          "output_type": "stream",
          "name": "stdout",
          "text": [
            "\n",
            "image 1/1 /content/Hucre-Detector-1/train/images/DJI_20231117111536_0530_Z_JPG.rf.77672db6e25407caccee795e8d8778b1.jpg: 640x640 294 PV CELLs, 554.7ms\n",
            "Speed: 4.3ms preprocess, 554.7ms inference, 12.9ms postprocess per image at shape (1, 3, 640, 640)\n"
          ]
        },
        {
          "output_type": "stream",
          "name": "stderr",
          "text": [
            "\rDetecting in /content/Hucre-Detector-1/train/images:  31%|███       | 751/2450 [10:25<23:13,  1.22it/s]"
          ]
        },
        {
          "output_type": "stream",
          "name": "stdout",
          "text": [
            "\n",
            "image 1/1 /content/Hucre-Detector-1/train/images/0147_JPG.rf.82e33b78121dacb0020468caa30cf00d.jpg: 480x640 300 PV CELLs, 442.4ms\n",
            "Speed: 6.3ms preprocess, 442.4ms inference, 55.3ms postprocess per image at shape (1, 3, 480, 640)\n"
          ]
        },
        {
          "output_type": "stream",
          "name": "stderr",
          "text": [
            "\rDetecting in /content/Hucre-Detector-1/train/images:  31%|███       | 752/2450 [10:26<22:11,  1.27it/s]"
          ]
        },
        {
          "output_type": "stream",
          "name": "stdout",
          "text": [
            "\n",
            "image 1/1 /content/Hucre-Detector-1/train/images/0202_JPG.rf.b93be0b94dc7ab3c31e4cbce36006e64.jpg: 480x640 14 PV CELLs, 425.4ms\n",
            "Speed: 4.0ms preprocess, 425.4ms inference, 2.6ms postprocess per image at shape (1, 3, 480, 640)\n"
          ]
        },
        {
          "output_type": "stream",
          "name": "stderr",
          "text": [
            "\rDetecting in /content/Hucre-Detector-1/train/images:  31%|███       | 753/2450 [10:26<19:57,  1.42it/s]"
          ]
        },
        {
          "output_type": "stream",
          "name": "stdout",
          "text": [
            "\n",
            "image 1/1 /content/Hucre-Detector-1/train/images/DJI_20231121100743_0022_Z_JPG.rf.4d95726864e25356732742f5d7dab721.jpg: 640x640 300 PV CELLs, 583.2ms\n",
            "Speed: 5.1ms preprocess, 583.2ms inference, 28.5ms postprocess per image at shape (1, 3, 640, 640)\n"
          ]
        },
        {
          "output_type": "stream",
          "name": "stderr",
          "text": [
            "\rDetecting in /content/Hucre-Detector-1/train/images:  31%|███       | 754/2450 [10:27<21:32,  1.31it/s]"
          ]
        },
        {
          "output_type": "stream",
          "name": "stdout",
          "text": [
            "\n",
            "image 1/1 /content/Hucre-Detector-1/train/images/DJI_20231117110719_0288_Z_JPG.rf.c90f2f578d4b041296a7fef0e2440dc7.jpg: 640x640 282 PV CELLs, 599.6ms\n",
            "Speed: 5.2ms preprocess, 599.6ms inference, 26.5ms postprocess per image at shape (1, 3, 640, 640)\n"
          ]
        },
        {
          "output_type": "stream",
          "name": "stderr",
          "text": [
            "\rDetecting in /content/Hucre-Detector-1/train/images:  31%|███       | 755/2450 [10:28<22:37,  1.25it/s]"
          ]
        },
        {
          "output_type": "stream",
          "name": "stdout",
          "text": [
            "\n",
            "image 1/1 /content/Hucre-Detector-1/train/images/DJI_20240219112624_0600_Z_JPG.rf.41f621bcf95e996988607bd7dc839e8d.jpg: 640x640 210 PV CELLs, 572.3ms\n",
            "Speed: 5.3ms preprocess, 572.3ms inference, 33.6ms postprocess per image at shape (1, 3, 640, 640)\n"
          ]
        },
        {
          "output_type": "stream",
          "name": "stderr",
          "text": [
            "\rDetecting in /content/Hucre-Detector-1/train/images:  31%|███       | 756/2450 [10:29<22:56,  1.23it/s]"
          ]
        },
        {
          "output_type": "stream",
          "name": "stdout",
          "text": [
            "\n",
            "image 1/1 /content/Hucre-Detector-1/train/images/0413_JPG.rf.3dc17c5cc1d6de4294c9fa81dc1115a1.jpg: 480x640 300 PV CELLs, 411.5ms\n",
            "Speed: 3.8ms preprocess, 411.5ms inference, 17.3ms postprocess per image at shape (1, 3, 480, 640)\n"
          ]
        },
        {
          "output_type": "stream",
          "name": "stderr",
          "text": [
            "\rDetecting in /content/Hucre-Detector-1/train/images:  31%|███       | 757/2450 [10:30<21:31,  1.31it/s]"
          ]
        },
        {
          "output_type": "stream",
          "name": "stdout",
          "text": [
            "\n",
            "image 1/1 /content/Hucre-Detector-1/train/images/0182_JPG.rf.61be1f50f2b42fae3fbf77c11fd6e656.jpg: 480x640 300 PV CELLs, 395.8ms\n",
            "Speed: 3.4ms preprocess, 395.8ms inference, 31.8ms postprocess per image at shape (1, 3, 480, 640)\n"
          ]
        },
        {
          "output_type": "stream",
          "name": "stderr",
          "text": [
            "\rDetecting in /content/Hucre-Detector-1/train/images:  31%|███       | 758/2450 [10:30<20:21,  1.39it/s]"
          ]
        },
        {
          "output_type": "stream",
          "name": "stdout",
          "text": [
            "\n",
            "image 1/1 /content/Hucre-Detector-1/train/images/0953_JPG.rf.d2b2a1bc979e9293a6b7da5b2a456494.jpg: 480x640 (no detections), 417.2ms\n",
            "Speed: 3.4ms preprocess, 417.2ms inference, 0.6ms postprocess per image at shape (1, 3, 480, 640)\n"
          ]
        },
        {
          "output_type": "stream",
          "name": "stderr",
          "text": [
            "\rDetecting in /content/Hucre-Detector-1/train/images:  31%|███       | 759/2450 [10:31<18:29,  1.52it/s]"
          ]
        },
        {
          "output_type": "stream",
          "name": "stdout",
          "text": [
            "\n",
            "image 1/1 /content/Hucre-Detector-1/train/images/0023_jpg.rf.bf078606486c01290c1acad61563c0c9.jpg: 480x640 300 PV CELLs, 395.4ms\n",
            "Speed: 3.6ms preprocess, 395.4ms inference, 20.0ms postprocess per image at shape (1, 3, 480, 640)\n"
          ]
        },
        {
          "output_type": "stream",
          "name": "stderr",
          "text": [
            "\rDetecting in /content/Hucre-Detector-1/train/images:  31%|███       | 760/2450 [10:31<18:00,  1.56it/s]"
          ]
        },
        {
          "output_type": "stream",
          "name": "stdout",
          "text": [
            "\n",
            "image 1/1 /content/Hucre-Detector-1/train/images/DJI_20240108110304_0041_Z_JPG.rf.4c9355f83139c9df511ef834ab83f83b.jpg: 640x640 15 PV CELLs, 616.0ms\n",
            "Speed: 5.1ms preprocess, 616.0ms inference, 3.0ms postprocess per image at shape (1, 3, 640, 640)\n"
          ]
        },
        {
          "output_type": "stream",
          "name": "stderr",
          "text": [
            "\rDetecting in /content/Hucre-Detector-1/train/images:  31%|███       | 761/2450 [10:32<18:46,  1.50it/s]"
          ]
        },
        {
          "output_type": "stream",
          "name": "stdout",
          "text": [
            "\n",
            "image 1/1 /content/Hucre-Detector-1/train/images/DJI_20240107103120_0282_Z_JPG.rf.36b1609b8519a2f5386c933e87908e88.jpg: 640x640 285 PV CELLs, 587.8ms\n",
            "Speed: 5.2ms preprocess, 587.8ms inference, 47.7ms postprocess per image at shape (1, 3, 640, 640)\n"
          ]
        },
        {
          "output_type": "stream",
          "name": "stderr",
          "text": [
            "\rDetecting in /content/Hucre-Detector-1/train/images:  31%|███       | 762/2450 [10:33<21:49,  1.29it/s]"
          ]
        },
        {
          "output_type": "stream",
          "name": "stdout",
          "text": [
            "\n",
            "image 1/1 /content/Hucre-Detector-1/train/images/DJI_20231230104043_0346_Z_JPG.rf.283911f6b193763405bba0c55868143d.jpg: 640x640 300 PV CELLs, 896.6ms\n",
            "Speed: 9.0ms preprocess, 896.6ms inference, 78.7ms postprocess per image at shape (1, 3, 640, 640)\n"
          ]
        },
        {
          "output_type": "stream",
          "name": "stderr",
          "text": [
            "\rDetecting in /content/Hucre-Detector-1/train/images:  31%|███       | 763/2450 [10:34<26:54,  1.05it/s]"
          ]
        },
        {
          "output_type": "stream",
          "name": "stdout",
          "text": [
            "\n",
            "image 1/1 /content/Hucre-Detector-1/train/images/DJI_20231117111652_0567_Z_JPG.rf.00634ca3f95dc195d8ccc63661fdc4a8.jpg: 640x640 300 PV CELLs, 895.7ms\n",
            "Speed: 7.3ms preprocess, 895.7ms inference, 58.7ms postprocess per image at shape (1, 3, 640, 640)\n"
          ]
        },
        {
          "output_type": "stream",
          "name": "stderr",
          "text": [
            "\rDetecting in /content/Hucre-Detector-1/train/images:  31%|███       | 764/2450 [10:36<30:18,  1.08s/it]"
          ]
        },
        {
          "output_type": "stream",
          "name": "stdout",
          "text": [
            "\n",
            "image 1/1 /content/Hucre-Detector-1/train/images/1009_JPG.rf.5921099df63b9de484cd2b7f3b7b2cd4.jpg: 480x640 300 PV CELLs, 439.9ms\n",
            "Speed: 8.1ms preprocess, 439.9ms inference, 44.3ms postprocess per image at shape (1, 3, 480, 640)\n"
          ]
        },
        {
          "output_type": "stream",
          "name": "stderr",
          "text": [
            "\rDetecting in /content/Hucre-Detector-1/train/images:  31%|███       | 765/2450 [10:37<27:07,  1.04it/s]"
          ]
        },
        {
          "output_type": "stream",
          "name": "stdout",
          "text": [
            "\n",
            "image 1/1 /content/Hucre-Detector-1/train/images/0827_JPG.rf.547cf9193bf50a70d834523c951b18bf.jpg: 480x640 74 PV CELLs, 437.5ms\n",
            "Speed: 4.9ms preprocess, 437.5ms inference, 5.8ms postprocess per image at shape (1, 3, 480, 640)\n"
          ]
        },
        {
          "output_type": "stream",
          "name": "stderr",
          "text": [
            "\rDetecting in /content/Hucre-Detector-1/train/images:  31%|███▏      | 766/2450 [10:37<23:42,  1.18it/s]"
          ]
        },
        {
          "output_type": "stream",
          "name": "stdout",
          "text": [
            "\n",
            "image 1/1 /content/Hucre-Detector-1/train/images/DJI_20231231113638_0314_Z_JPG.rf.5489b49c4a912ac923112edb2932f8df.jpg: 640x640 100 PV CELLs, 588.6ms\n",
            "Speed: 5.0ms preprocess, 588.6ms inference, 15.4ms postprocess per image at shape (1, 3, 640, 640)\n"
          ]
        },
        {
          "output_type": "stream",
          "name": "stderr",
          "text": [
            "\rDetecting in /content/Hucre-Detector-1/train/images:  31%|███▏      | 767/2450 [10:38<23:00,  1.22it/s]"
          ]
        },
        {
          "output_type": "stream",
          "name": "stdout",
          "text": [
            "\n",
            "image 1/1 /content/Hucre-Detector-1/train/images/Ekran-Goruntusu-2025-08-25-18-33-45_png.rf.970afbab080e65812e5a7e1f5efd92e8.jpg: 288x640 300 PV CELLs, 283.6ms\n",
            "Speed: 3.6ms preprocess, 283.6ms inference, 17.1ms postprocess per image at shape (1, 3, 288, 640)\n"
          ]
        },
        {
          "output_type": "stream",
          "name": "stderr",
          "text": [
            "\rDetecting in /content/Hucre-Detector-1/train/images:  31%|███▏      | 768/2450 [10:38<19:49,  1.41it/s]"
          ]
        },
        {
          "output_type": "stream",
          "name": "stdout",
          "text": [
            "\n",
            "image 1/1 /content/Hucre-Detector-1/train/images/DJI_20250506154841_0181_V_JPG.rf.87224fbd235c4952a10d91875d313bd0.jpg: 640x640 300 PV CELLs, 560.1ms\n",
            "Speed: 3.7ms preprocess, 560.1ms inference, 19.3ms postprocess per image at shape (1, 3, 640, 640)\n"
          ]
        },
        {
          "output_type": "stream",
          "name": "stderr",
          "text": [
            "\rDetecting in /content/Hucre-Detector-1/train/images:  31%|███▏      | 769/2450 [10:39<19:19,  1.45it/s]"
          ]
        },
        {
          "output_type": "stream",
          "name": "stdout",
          "text": [
            "\n",
            "image 1/1 /content/Hucre-Detector-1/train/images/DJI_20240108105541_0621_Z_JPG.rf.b280cdd5be5c06274682ac48f2b1beb0.jpg: 480x640 135 PV CELLs, 421.6ms\n",
            "Speed: 5.4ms preprocess, 421.6ms inference, 9.9ms postprocess per image at shape (1, 3, 480, 640)\n"
          ]
        },
        {
          "output_type": "stream",
          "name": "stderr",
          "text": [
            "\rDetecting in /content/Hucre-Detector-1/train/images:  31%|███▏      | 770/2450 [10:40<23:23,  1.20it/s]"
          ]
        },
        {
          "output_type": "stream",
          "name": "stdout",
          "text": [
            "\n",
            "image 1/1 /content/Hucre-Detector-1/train/images/DJI_20231122122314_0074_Z_JPG.rf.e80eb90889e9b4de00e76b6405c71de6.jpg: 640x640 142 PV CELLs, 563.0ms\n",
            "Speed: 4.6ms preprocess, 563.0ms inference, 21.7ms postprocess per image at shape (1, 3, 640, 640)\n"
          ]
        },
        {
          "output_type": "stream",
          "name": "stderr",
          "text": [
            "\rDetecting in /content/Hucre-Detector-1/train/images:  31%|███▏      | 771/2450 [10:41<22:53,  1.22it/s]"
          ]
        },
        {
          "output_type": "stream",
          "name": "stdout",
          "text": [
            "\n",
            "image 1/1 /content/Hucre-Detector-1/train/images/DJI_20231117142300_0628_Z_JPG.rf.ccd318bde23e8eb037223a5bd35f9716.jpg: 640x640 168 PV CELLs, 585.9ms\n",
            "Speed: 5.5ms preprocess, 585.9ms inference, 21.8ms postprocess per image at shape (1, 3, 640, 640)\n"
          ]
        },
        {
          "output_type": "stream",
          "name": "stderr",
          "text": [
            "\rDetecting in /content/Hucre-Detector-1/train/images:  32%|███▏      | 772/2450 [10:42<22:50,  1.22it/s]"
          ]
        },
        {
          "output_type": "stream",
          "name": "stdout",
          "text": [
            "\n",
            "image 1/1 /content/Hucre-Detector-1/train/images/Screenshot-2023-12-01-225407_png.rf.d6b9bb43390739b3456db6d456ac30b3.jpg: 640x640 46 PV CELLs, 575.5ms\n",
            "Speed: 7.3ms preprocess, 575.5ms inference, 6.6ms postprocess per image at shape (1, 3, 640, 640)\n"
          ]
        },
        {
          "output_type": "stream",
          "name": "stderr",
          "text": [
            "\rDetecting in /content/Hucre-Detector-1/train/images:  32%|███▏      | 773/2450 [10:42<21:25,  1.30it/s]"
          ]
        },
        {
          "output_type": "stream",
          "name": "stdout",
          "text": [
            "\n",
            "image 1/1 /content/Hucre-Detector-1/train/images/DJI_20231128113758_0163_Z_JPG.rf.66a087ef37020c6f3ad3d6cce812200e.jpg: 640x640 300 PV CELLs, 545.6ms\n",
            "Speed: 5.3ms preprocess, 545.6ms inference, 56.5ms postprocess per image at shape (1, 3, 640, 640)\n"
          ]
        },
        {
          "output_type": "stream",
          "name": "stderr",
          "text": [
            "\rDetecting in /content/Hucre-Detector-1/train/images:  32%|███▏      | 774/2450 [10:43<22:38,  1.23it/s]"
          ]
        },
        {
          "output_type": "stream",
          "name": "stdout",
          "text": [
            "\n",
            "image 1/1 /content/Hucre-Detector-1/train/images/0405_JPG.rf.1bf54e18110eb011ab3aaefe95219b01.jpg: 480x640 278 PV CELLs, 421.0ms\n",
            "Speed: 3.4ms preprocess, 421.0ms inference, 27.6ms postprocess per image at shape (1, 3, 480, 640)\n"
          ]
        },
        {
          "output_type": "stream",
          "name": "stderr",
          "text": [
            "\rDetecting in /content/Hucre-Detector-1/train/images:  32%|███▏      | 775/2450 [10:44<21:10,  1.32it/s]"
          ]
        },
        {
          "output_type": "stream",
          "name": "stdout",
          "text": [
            "\n",
            "image 1/1 /content/Hucre-Detector-1/train/images/DJI_20240227110759_0120_Z_JPG.rf.3612cbe987c123d32314cf5463195730.jpg: 640x640 300 PV CELLs, 580.1ms\n",
            "Speed: 5.4ms preprocess, 580.1ms inference, 68.5ms postprocess per image at shape (1, 3, 640, 640)\n"
          ]
        },
        {
          "output_type": "stream",
          "name": "stderr",
          "text": [
            "\rDetecting in /content/Hucre-Detector-1/train/images:  32%|███▏      | 776/2450 [10:45<22:40,  1.23it/s]"
          ]
        },
        {
          "output_type": "stream",
          "name": "stdout",
          "text": [
            "\n",
            "image 1/1 /content/Hucre-Detector-1/train/images/DJI_20231231114734_0629_Z_JPG.rf.b8149696b6af8c310ea509d8da1245a6.jpg: 480x640 300 PV CELLs, 430.2ms\n",
            "Speed: 5.5ms preprocess, 430.2ms inference, 39.7ms postprocess per image at shape (1, 3, 480, 640)\n"
          ]
        },
        {
          "output_type": "stream",
          "name": "stderr",
          "text": [
            "\rDetecting in /content/Hucre-Detector-1/train/images:  32%|███▏      | 777/2450 [10:46<28:55,  1.04s/it]"
          ]
        },
        {
          "output_type": "stream",
          "name": "stdout",
          "text": [
            "\n",
            "image 1/1 /content/Hucre-Detector-1/train/images/DJI_20231117131843_0002_Z_JPG.rf.25a47eab2b34a6b579ebaa56d2114e89.jpg: 640x640 89 PV CELLs, 901.1ms\n",
            "Speed: 7.1ms preprocess, 901.1ms inference, 21.2ms postprocess per image at shape (1, 3, 640, 640)\n"
          ]
        },
        {
          "output_type": "stream",
          "name": "stderr",
          "text": [
            "\rDetecting in /content/Hucre-Detector-1/train/images:  32%|███▏      | 778/2450 [10:48<30:02,  1.08s/it]"
          ]
        },
        {
          "output_type": "stream",
          "name": "stdout",
          "text": [
            "\n",
            "image 1/1 /content/Hucre-Detector-1/train/images/0834_JPG.rf.6bbc92fea1840505fee54341203e811d.jpg: 480x640 300 PV CELLs, 689.1ms\n",
            "Speed: 5.5ms preprocess, 689.1ms inference, 69.9ms postprocess per image at shape (1, 3, 480, 640)\n"
          ]
        },
        {
          "output_type": "stream",
          "name": "stderr",
          "text": [
            "\rDetecting in /content/Hucre-Detector-1/train/images:  32%|███▏      | 779/2450 [10:49<29:58,  1.08s/it]"
          ]
        },
        {
          "output_type": "stream",
          "name": "stdout",
          "text": [
            "\n",
            "image 1/1 /content/Hucre-Detector-1/train/images/DJI_20231117104326_0402_Z_JPG.rf.b520d15b1b4a818c18604cf569e6a731.jpg: 640x640 213 PV CELLs, 539.4ms\n",
            "Speed: 8.4ms preprocess, 539.4ms inference, 22.0ms postprocess per image at shape (1, 3, 640, 640)\n"
          ]
        },
        {
          "output_type": "stream",
          "name": "stderr",
          "text": [
            "\rDetecting in /content/Hucre-Detector-1/train/images:  32%|███▏      | 780/2450 [10:49<27:34,  1.01it/s]"
          ]
        },
        {
          "output_type": "stream",
          "name": "stdout",
          "text": [
            "\n",
            "image 1/1 /content/Hucre-Detector-1/train/images/0267_JPG.rf.34fb841f7796553dcdc88447f664da29.jpg: 480x640 300 PV CELLs, 411.4ms\n",
            "Speed: 3.3ms preprocess, 411.4ms inference, 49.7ms postprocess per image at shape (1, 3, 480, 640)\n"
          ]
        },
        {
          "output_type": "stream",
          "name": "stderr",
          "text": [
            "\rDetecting in /content/Hucre-Detector-1/train/images:  32%|███▏      | 781/2450 [10:50<24:41,  1.13it/s]"
          ]
        },
        {
          "output_type": "stream",
          "name": "stdout",
          "text": [
            "\n",
            "image 1/1 /content/Hucre-Detector-1/train/images/DJI_20231229121851_0335_Z_JPG.rf.327d434818a5456af0e3c2b694660c62.jpg: 640x640 300 PV CELLs, 557.4ms\n",
            "Speed: 4.3ms preprocess, 557.4ms inference, 64.2ms postprocess per image at shape (1, 3, 640, 640)\n"
          ]
        },
        {
          "output_type": "stream",
          "name": "stderr",
          "text": [
            "\rDetecting in /content/Hucre-Detector-1/train/images:  32%|███▏      | 782/2450 [10:51<24:49,  1.12it/s]"
          ]
        },
        {
          "output_type": "stream",
          "name": "stdout",
          "text": [
            "\n",
            "image 1/1 /content/Hucre-Detector-1/train/images/DJI_20231231115604_0040_Z_JPG.rf.c398298fa78df75d2ef2fbb7f7006b2c.jpg: 640x640 106 PV CELLs, 565.8ms\n",
            "Speed: 6.2ms preprocess, 565.8ms inference, 24.0ms postprocess per image at shape (1, 3, 640, 640)\n"
          ]
        },
        {
          "output_type": "stream",
          "name": "stderr",
          "text": [
            "\rDetecting in /content/Hucre-Detector-1/train/images:  32%|███▏      | 783/2450 [10:52<23:42,  1.17it/s]"
          ]
        },
        {
          "output_type": "stream",
          "name": "stdout",
          "text": [
            "\n",
            "image 1/1 /content/Hucre-Detector-1/train/images/0274_JPG.rf.994ea35b0e87b2710ef738cc8da212d3.jpg: 480x640 11 PV CELLs, 403.6ms\n",
            "Speed: 3.4ms preprocess, 403.6ms inference, 1.2ms postprocess per image at shape (1, 3, 480, 640)\n"
          ]
        },
        {
          "output_type": "stream",
          "name": "stderr",
          "text": [
            "\rDetecting in /content/Hucre-Detector-1/train/images:  32%|███▏      | 784/2450 [10:52<20:41,  1.34it/s]"
          ]
        },
        {
          "output_type": "stream",
          "name": "stdout",
          "text": [
            "\n",
            "image 1/1 /content/Hucre-Detector-1/train/images/DJI_20240227114454_0418_Z_JPG.rf.49e1aa6665cc43d359ad4e51bf05d9c3.jpg: 640x640 300 PV CELLs, 553.4ms\n",
            "Speed: 4.4ms preprocess, 553.4ms inference, 52.6ms postprocess per image at shape (1, 3, 640, 640)\n"
          ]
        },
        {
          "output_type": "stream",
          "name": "stderr",
          "text": [
            "\rDetecting in /content/Hucre-Detector-1/train/images:  32%|███▏      | 785/2450 [10:53<21:43,  1.28it/s]"
          ]
        },
        {
          "output_type": "stream",
          "name": "stdout",
          "text": [
            "\n",
            "image 1/1 /content/Hucre-Detector-1/train/images/0399_JPG.rf.1b07e00521dd92fe734a4fa30ef571bd.jpg: 480x640 300 PV CELLs, 395.0ms\n",
            "Speed: 3.3ms preprocess, 395.0ms inference, 86.0ms postprocess per image at shape (1, 3, 480, 640)\n"
          ]
        },
        {
          "output_type": "stream",
          "name": "stderr",
          "text": [
            "\rDetecting in /content/Hucre-Detector-1/train/images:  32%|███▏      | 786/2450 [10:54<20:54,  1.33it/s]"
          ]
        },
        {
          "output_type": "stream",
          "name": "stdout",
          "text": [
            "\n",
            "image 1/1 /content/Hucre-Detector-1/train/images/DJI_20250506154848_0190_V_JPG.rf.d1bf808c8c9757a38610d6d66563ee02.jpg: 640x640 300 PV CELLs, 544.2ms\n",
            "Speed: 3.4ms preprocess, 544.2ms inference, 227.0ms postprocess per image at shape (1, 3, 640, 640)\n"
          ]
        },
        {
          "output_type": "stream",
          "name": "stderr",
          "text": [
            "\rDetecting in /content/Hucre-Detector-1/train/images:  32%|███▏      | 787/2450 [10:55<21:35,  1.28it/s]"
          ]
        },
        {
          "output_type": "stream",
          "name": "stdout",
          "text": [
            "\n",
            "image 1/1 /content/Hucre-Detector-1/train/images/0450_JPG.rf.61a67cb96fccf5e68279e54e1521b440.jpg: 480x640 180 PV CELLs, 451.2ms\n",
            "Speed: 3.5ms preprocess, 451.2ms inference, 17.3ms postprocess per image at shape (1, 3, 480, 640)\n"
          ]
        },
        {
          "output_type": "stream",
          "name": "stderr",
          "text": [
            "\rDetecting in /content/Hucre-Detector-1/train/images:  32%|███▏      | 788/2450 [10:55<20:21,  1.36it/s]"
          ]
        },
        {
          "output_type": "stream",
          "name": "stdout",
          "text": [
            "\n",
            "image 1/1 /content/Hucre-Detector-1/train/images/DJI_20240305142142_0057_Z_JPG.rf.e06f6db7c7c09c84587a0748f7ece944.jpg: 640x640 271 PV CELLs, 585.8ms\n",
            "Speed: 5.2ms preprocess, 585.8ms inference, 46.5ms postprocess per image at shape (1, 3, 640, 640)\n"
          ]
        },
        {
          "output_type": "stream",
          "name": "stderr",
          "text": [
            "\rDetecting in /content/Hucre-Detector-1/train/images:  32%|███▏      | 789/2450 [10:56<21:36,  1.28it/s]"
          ]
        },
        {
          "output_type": "stream",
          "name": "stdout",
          "text": [
            "\n",
            "image 1/1 /content/Hucre-Detector-1/train/images/DJI_20231229121429_0206_Z_JPG.rf.9844139cc3f73033fb1130f95c64774e.jpg: 640x640 300 PV CELLs, 605.4ms\n",
            "Speed: 5.7ms preprocess, 605.4ms inference, 69.5ms postprocess per image at shape (1, 3, 640, 640)\n"
          ]
        },
        {
          "output_type": "stream",
          "name": "stderr",
          "text": [
            "\rDetecting in /content/Hucre-Detector-1/train/images:  32%|███▏      | 790/2450 [10:57<23:09,  1.19it/s]"
          ]
        },
        {
          "output_type": "stream",
          "name": "stdout",
          "text": [
            "\n",
            "image 1/1 /content/Hucre-Detector-1/train/images/DJI_20240227103711_0026_Z_JPG.rf.f5faeb44e1407fad814de1dec0ac6c10.jpg: 640x640 300 PV CELLs, 561.4ms\n",
            "Speed: 5.1ms preprocess, 561.4ms inference, 64.9ms postprocess per image at shape (1, 3, 640, 640)\n"
          ]
        },
        {
          "output_type": "stream",
          "name": "stderr",
          "text": [
            "\rDetecting in /content/Hucre-Detector-1/train/images:  32%|███▏      | 791/2450 [10:58<23:53,  1.16it/s]"
          ]
        },
        {
          "output_type": "stream",
          "name": "stdout",
          "text": [
            "\n",
            "image 1/1 /content/Hucre-Detector-1/train/images/DJI_20231117132210_0100_Z_JPG.rf.5b3e19663ab712cfd0c8e19898d77f8a.jpg: 640x640 300 PV CELLs, 557.7ms\n",
            "Speed: 5.2ms preprocess, 557.7ms inference, 36.5ms postprocess per image at shape (1, 3, 640, 640)\n"
          ]
        },
        {
          "output_type": "stream",
          "name": "stderr",
          "text": [
            "\rDetecting in /content/Hucre-Detector-1/train/images:  32%|███▏      | 792/2450 [10:59<25:02,  1.10it/s]"
          ]
        },
        {
          "output_type": "stream",
          "name": "stdout",
          "text": [
            "\n",
            "image 1/1 /content/Hucre-Detector-1/train/images/DJI_20231117111207_0427_Z_JPG.rf.31646ca70e224176b2797ba0c4d1e6f2.jpg: 640x640 300 PV CELLs, 909.1ms\n",
            "Speed: 9.5ms preprocess, 909.1ms inference, 63.1ms postprocess per image at shape (1, 3, 640, 640)\n"
          ]
        },
        {
          "output_type": "stream",
          "name": "stderr",
          "text": [
            "\rDetecting in /content/Hucre-Detector-1/train/images:  32%|███▏      | 793/2450 [11:00<29:04,  1.05s/it]"
          ]
        },
        {
          "output_type": "stream",
          "name": "stdout",
          "text": [
            "\n",
            "image 1/1 /content/Hucre-Detector-1/train/images/Ekran-Goruntusu-2025-08-25-18-24-12_png.rf.84aeeadae29b668e07ae81da0eb51ac8.jpg: 192x640 37 PV CELLs, 314.9ms\n",
            "Speed: 3.8ms preprocess, 314.9ms inference, 9.4ms postprocess per image at shape (1, 3, 192, 640)\n"
          ]
        },
        {
          "output_type": "stream",
          "name": "stderr",
          "text": [
            "\rDetecting in /content/Hucre-Detector-1/train/images:  32%|███▏      | 794/2450 [11:01<23:36,  1.17it/s]"
          ]
        },
        {
          "output_type": "stream",
          "name": "stdout",
          "text": [
            "\n",
            "image 1/1 /content/Hucre-Detector-1/train/images/DJI_20231117130753_0750_Z_JPG.rf.71728b887e92e897fbd2577812821360.jpg: 640x640 300 PV CELLs, 856.9ms\n",
            "Speed: 6.7ms preprocess, 856.9ms inference, 30.1ms postprocess per image at shape (1, 3, 640, 640)\n"
          ]
        },
        {
          "output_type": "stream",
          "name": "stderr",
          "text": [
            "\rDetecting in /content/Hucre-Detector-1/train/images:  32%|███▏      | 795/2450 [11:02<26:13,  1.05it/s]"
          ]
        },
        {
          "output_type": "stream",
          "name": "stdout",
          "text": [
            "\n",
            "image 1/1 /content/Hucre-Detector-1/train/images/0989_JPG.rf.08c9710f56998e2cdf8b843b5b34689f.jpg: 480x640 37 PV CELLs, 435.0ms\n",
            "Speed: 3.9ms preprocess, 435.0ms inference, 2.7ms postprocess per image at shape (1, 3, 480, 640)\n"
          ]
        },
        {
          "output_type": "stream",
          "name": "stderr",
          "text": [
            "\rDetecting in /content/Hucre-Detector-1/train/images:  32%|███▏      | 796/2450 [11:03<22:51,  1.21it/s]"
          ]
        },
        {
          "output_type": "stream",
          "name": "stdout",
          "text": [
            "\n",
            "image 1/1 /content/Hucre-Detector-1/train/images/0228_JPG.rf.4402a2aa4ef0ac8429c78359741b20e6.jpg: 480x640 (no detections), 436.9ms\n",
            "Speed: 4.1ms preprocess, 436.9ms inference, 0.6ms postprocess per image at shape (1, 3, 480, 640)\n"
          ]
        },
        {
          "output_type": "stream",
          "name": "stderr",
          "text": [
            "\rDetecting in /content/Hucre-Detector-1/train/images:  33%|███▎      | 797/2450 [11:03<20:20,  1.35it/s]"
          ]
        },
        {
          "output_type": "stream",
          "name": "stdout",
          "text": [
            "\n",
            "image 1/1 /content/Hucre-Detector-1/train/images/DJI_20231121123516_0004_Z_JPG.rf.c4c4008e894eec2721ff15a2eb4b7e3a.jpg: 640x640 300 PV CELLs, 617.2ms\n",
            "Speed: 8.0ms preprocess, 617.2ms inference, 21.0ms postprocess per image at shape (1, 3, 640, 640)\n"
          ]
        },
        {
          "output_type": "stream",
          "name": "stderr",
          "text": [
            "\rDetecting in /content/Hucre-Detector-1/train/images:  33%|███▎      | 798/2450 [11:04<21:56,  1.25it/s]"
          ]
        },
        {
          "output_type": "stream",
          "name": "stdout",
          "text": [
            "\n",
            "image 1/1 /content/Hucre-Detector-1/train/images/0945_JPG.rf.db1979320d48c34910647cdcdc2231ef.jpg: 480x640 9 PV CELLs, 444.7ms\n",
            "Speed: 5.7ms preprocess, 444.7ms inference, 1.3ms postprocess per image at shape (1, 3, 480, 640)\n"
          ]
        },
        {
          "output_type": "stream",
          "name": "stderr",
          "text": [
            "\rDetecting in /content/Hucre-Detector-1/train/images:  33%|███▎      | 799/2450 [11:05<19:59,  1.38it/s]"
          ]
        },
        {
          "output_type": "stream",
          "name": "stdout",
          "text": [
            "\n",
            "image 1/1 /content/Hucre-Detector-1/train/images/0566_JPG.rf.93b08e908975320ac5e7626f7131d923.jpg: 480x640 140 PV CELLs, 412.7ms\n",
            "Speed: 3.9ms preprocess, 412.7ms inference, 7.4ms postprocess per image at shape (1, 3, 480, 640)\n"
          ]
        },
        {
          "output_type": "stream",
          "name": "stderr",
          "text": [
            "\rDetecting in /content/Hucre-Detector-1/train/images:  33%|███▎      | 800/2450 [11:05<18:39,  1.47it/s]"
          ]
        },
        {
          "output_type": "stream",
          "name": "stdout",
          "text": [
            "\n",
            "image 1/1 /content/Hucre-Detector-1/train/images/DJI_20240304143053_0142_Z_JPG.rf.92f0ca02d4e4b14e5227e2972d868c15.jpg: 640x640 300 PV CELLs, 591.8ms\n",
            "Speed: 5.1ms preprocess, 591.8ms inference, 36.6ms postprocess per image at shape (1, 3, 640, 640)\n"
          ]
        },
        {
          "output_type": "stream",
          "name": "stderr",
          "text": [
            "\rDetecting in /content/Hucre-Detector-1/train/images:  33%|███▎      | 801/2450 [11:06<20:33,  1.34it/s]"
          ]
        },
        {
          "output_type": "stream",
          "name": "stdout",
          "text": [
            "\n",
            "image 1/1 /content/Hucre-Detector-1/train/images/1032_JPG.rf.926145f0017dee323c238aa906ddbbb4.jpg: 480x640 6 PV CELLs, 439.2ms\n",
            "Speed: 5.6ms preprocess, 439.2ms inference, 1.2ms postprocess per image at shape (1, 3, 480, 640)\n"
          ]
        },
        {
          "output_type": "stream",
          "name": "stderr",
          "text": [
            "\rDetecting in /content/Hucre-Detector-1/train/images:  33%|███▎      | 802/2450 [11:07<18:45,  1.46it/s]"
          ]
        },
        {
          "output_type": "stream",
          "name": "stdout",
          "text": [
            "\n",
            "image 1/1 /content/Hucre-Detector-1/train/images/DJI_20231120111817_0096_Z_JPG.rf.dd93118161a30044cfadcd144df4a8db.jpg: 640x640 300 PV CELLs, 586.2ms\n",
            "Speed: 5.1ms preprocess, 586.2ms inference, 41.0ms postprocess per image at shape (1, 3, 640, 640)\n"
          ]
        },
        {
          "output_type": "stream",
          "name": "stderr",
          "text": [
            "\rDetecting in /content/Hucre-Detector-1/train/images:  33%|███▎      | 803/2450 [11:08<20:45,  1.32it/s]"
          ]
        },
        {
          "output_type": "stream",
          "name": "stdout",
          "text": [
            "\n",
            "image 1/1 /content/Hucre-Detector-1/train/images/0197_JPG.rf.d07b95b190a3a5be1b274463722f860e.jpg: 480x640 200 PV CELLs, 435.0ms\n",
            "Speed: 5.6ms preprocess, 435.0ms inference, 14.7ms postprocess per image at shape (1, 3, 480, 640)\n"
          ]
        },
        {
          "output_type": "stream",
          "name": "stderr",
          "text": [
            "\rDetecting in /content/Hucre-Detector-1/train/images:  33%|███▎      | 804/2450 [11:08<19:36,  1.40it/s]"
          ]
        },
        {
          "output_type": "stream",
          "name": "stdout",
          "text": [
            "\n",
            "image 1/1 /content/Hucre-Detector-1/train/images/Screenshot-2023-12-01-213820_png.rf.e1b269b15205dc74b570fb3db5847f3c.jpg: 640x640 18 PV CELLs, 597.5ms\n",
            "Speed: 7.9ms preprocess, 597.5ms inference, 3.6ms postprocess per image at shape (1, 3, 640, 640)\n"
          ]
        },
        {
          "output_type": "stream",
          "name": "stderr",
          "text": [
            "\rDetecting in /content/Hucre-Detector-1/train/images:  33%|███▎      | 805/2450 [11:09<19:09,  1.43it/s]"
          ]
        },
        {
          "output_type": "stream",
          "name": "stdout",
          "text": [
            "\n",
            "image 1/1 /content/Hucre-Detector-1/train/images/DJI_20240108103537_0032_Z_JPG.rf.3ec5b5fcacf56d66a5b0306c24f2dbf3.jpg: 640x640 260 PV CELLs, 604.5ms\n",
            "Speed: 5.4ms preprocess, 604.5ms inference, 23.7ms postprocess per image at shape (1, 3, 640, 640)\n"
          ]
        },
        {
          "output_type": "stream",
          "name": "stderr",
          "text": [
            "\rDetecting in /content/Hucre-Detector-1/train/images:  33%|███▎      | 806/2450 [11:10<20:51,  1.31it/s]"
          ]
        },
        {
          "output_type": "stream",
          "name": "stdout",
          "text": [
            "\n",
            "image 1/1 /content/Hucre-Detector-1/train/images/0454_JPG.rf.fff46bb9096050b6197df4aae06a7350.jpg: 480x640 300 PV CELLs, 446.8ms\n",
            "Speed: 4.0ms preprocess, 446.8ms inference, 16.7ms postprocess per image at shape (1, 3, 480, 640)\n"
          ]
        },
        {
          "output_type": "stream",
          "name": "stderr",
          "text": [
            "\rDetecting in /content/Hucre-Detector-1/train/images:  33%|███▎      | 807/2450 [11:10<20:07,  1.36it/s]"
          ]
        },
        {
          "output_type": "stream",
          "name": "stdout",
          "text": [
            "\n",
            "image 1/1 /content/Hucre-Detector-1/train/images/Screenshot-2023-12-01-233706_png.rf.f1f8ec660eb83c486b577c8931f5e25b.jpg: 640x640 41 PV CELLs, 551.8ms\n",
            "Speed: 6.6ms preprocess, 551.8ms inference, 6.7ms postprocess per image at shape (1, 3, 640, 640)\n"
          ]
        },
        {
          "output_type": "stream",
          "name": "stderr",
          "text": [
            "\rDetecting in /content/Hucre-Detector-1/train/images:  33%|███▎      | 808/2450 [11:11<19:17,  1.42it/s]"
          ]
        },
        {
          "output_type": "stream",
          "name": "stdout",
          "text": [
            "\n",
            "image 1/1 /content/Hucre-Detector-1/train/images/DJI_20240217123359_0212_Z_JPG.rf.29d2b72a91a90e2d1e9fec7e2fc12ae7.jpg: 640x640 300 PV CELLs, 589.0ms\n",
            "Speed: 4.4ms preprocess, 589.0ms inference, 82.6ms postprocess per image at shape (1, 3, 640, 640)\n"
          ]
        },
        {
          "output_type": "stream",
          "name": "stderr",
          "text": [
            "\rDetecting in /content/Hucre-Detector-1/train/images:  33%|███▎      | 809/2450 [11:12<22:17,  1.23it/s]"
          ]
        },
        {
          "output_type": "stream",
          "name": "stdout",
          "text": [
            "\n",
            "image 1/1 /content/Hucre-Detector-1/train/images/DJI_20231117111401_0483_Z_JPG.rf.807fbdb7ae79b6cc34b12fac23cac93b.jpg: 640x640 274 PV CELLs, 883.0ms\n",
            "Speed: 8.3ms preprocess, 883.0ms inference, 20.4ms postprocess per image at shape (1, 3, 640, 640)\n"
          ]
        },
        {
          "output_type": "stream",
          "name": "stderr",
          "text": [
            "\rDetecting in /content/Hucre-Detector-1/train/images:  33%|███▎      | 810/2450 [11:13<26:18,  1.04it/s]"
          ]
        },
        {
          "output_type": "stream",
          "name": "stdout",
          "text": [
            "\n",
            "image 1/1 /content/Hucre-Detector-1/train/images/0571_JPG.rf.8d8df00f687ed9d5d0d1def07de0a9b4.jpg: 480x640 300 PV CELLs, 676.2ms\n",
            "Speed: 5.7ms preprocess, 676.2ms inference, 40.1ms postprocess per image at shape (1, 3, 480, 640)\n"
          ]
        },
        {
          "output_type": "stream",
          "name": "stderr",
          "text": [
            "\rDetecting in /content/Hucre-Detector-1/train/images:  33%|███▎      | 811/2450 [11:14<26:41,  1.02it/s]"
          ]
        },
        {
          "output_type": "stream",
          "name": "stdout",
          "text": [
            "\n",
            "image 1/1 /content/Hucre-Detector-1/train/images/DJI_20231117110024_0087_Z_JPG.rf.5292312b501729a7b8670db33d65d056.jpg: 640x640 216 PV CELLs, 754.9ms\n",
            "Speed: 21.6ms preprocess, 754.9ms inference, 9.6ms postprocess per image at shape (1, 3, 640, 640)\n"
          ]
        },
        {
          "output_type": "stream",
          "name": "stderr",
          "text": [
            "\rDetecting in /content/Hucre-Detector-1/train/images:  33%|███▎      | 812/2450 [11:15<27:04,  1.01it/s]"
          ]
        },
        {
          "output_type": "stream",
          "name": "stdout",
          "text": [
            "\n",
            "image 1/1 /content/Hucre-Detector-1/train/images/DJI_20231229121427_0205_Z_JPG.rf.0bcd6f79f3ebe728118fa3542581affc.jpg: 640x640 300 PV CELLs, 578.5ms\n",
            "Speed: 5.2ms preprocess, 578.5ms inference, 76.2ms postprocess per image at shape (1, 3, 640, 640)\n"
          ]
        },
        {
          "output_type": "stream",
          "name": "stderr",
          "text": [
            "\rDetecting in /content/Hucre-Detector-1/train/images:  33%|███▎      | 813/2450 [11:16<26:38,  1.02it/s]"
          ]
        },
        {
          "output_type": "stream",
          "name": "stdout",
          "text": [
            "\n",
            "image 1/1 /content/Hucre-Detector-1/train/images/Screenshot-2023-12-01-215154_png.rf.b6cb59717abdc4b817d1cfa1bbfea647.jpg: 640x640 156 PV CELLs, 591.3ms\n",
            "Speed: 6.9ms preprocess, 591.3ms inference, 9.7ms postprocess per image at shape (1, 3, 640, 640)\n"
          ]
        },
        {
          "output_type": "stream",
          "name": "stderr",
          "text": [
            "\rDetecting in /content/Hucre-Detector-1/train/images:  33%|███▎      | 814/2450 [11:17<24:23,  1.12it/s]"
          ]
        },
        {
          "output_type": "stream",
          "name": "stdout",
          "text": [
            "\n",
            "image 1/1 /content/Hucre-Detector-1/train/images/0669_JPG.rf.86cd1ff253347f321da167d2565de166.jpg: 480x640 141 PV CELLs, 432.9ms\n",
            "Speed: 4.0ms preprocess, 432.9ms inference, 11.9ms postprocess per image at shape (1, 3, 480, 640)\n"
          ]
        },
        {
          "output_type": "stream",
          "name": "stderr",
          "text": [
            "\rDetecting in /content/Hucre-Detector-1/train/images:  33%|███▎      | 815/2450 [11:18<21:56,  1.24it/s]"
          ]
        },
        {
          "output_type": "stream",
          "name": "stdout",
          "text": [
            "\n",
            "image 1/1 /content/Hucre-Detector-1/train/images/DJI_20240108104855_0422_Z_JPG.rf.703a836da6804b1a3936dcecc99d4ea6.jpg: 640x640 162 PV CELLs, 559.5ms\n",
            "Speed: 4.3ms preprocess, 559.5ms inference, 24.8ms postprocess per image at shape (1, 3, 640, 640)\n"
          ]
        },
        {
          "output_type": "stream",
          "name": "stderr",
          "text": [
            "\rDetecting in /content/Hucre-Detector-1/train/images:  33%|███▎      | 816/2450 [11:18<21:37,  1.26it/s]"
          ]
        },
        {
          "output_type": "stream",
          "name": "stdout",
          "text": [
            "\n",
            "image 1/1 /content/Hucre-Detector-1/train/images/DJI_20240307112526_0636_Z_JPG.rf.cb3f489df96679894dc44de74b1af4ff.jpg: 640x640 252 PV CELLs, 585.8ms\n",
            "Speed: 4.3ms preprocess, 585.8ms inference, 28.5ms postprocess per image at shape (1, 3, 640, 640)\n"
          ]
        },
        {
          "output_type": "stream",
          "name": "stderr",
          "text": [
            "\rDetecting in /content/Hucre-Detector-1/train/images:  33%|███▎      | 817/2450 [11:19<22:08,  1.23it/s]"
          ]
        },
        {
          "output_type": "stream",
          "name": "stdout",
          "text": [
            "\n",
            "image 1/1 /content/Hucre-Detector-1/train/images/DJI_20231230104335_0431_Z_JPG.rf.566119d0eb0426fe0efd7491546b774f.jpg: 640x640 232 PV CELLs, 556.7ms\n",
            "Speed: 5.0ms preprocess, 556.7ms inference, 42.5ms postprocess per image at shape (1, 3, 640, 640)\n"
          ]
        },
        {
          "output_type": "stream",
          "name": "stderr",
          "text": [
            "\rDetecting in /content/Hucre-Detector-1/train/images:  33%|███▎      | 818/2450 [11:20<22:37,  1.20it/s]"
          ]
        },
        {
          "output_type": "stream",
          "name": "stdout",
          "text": [
            "\n",
            "image 1/1 /content/Hucre-Detector-1/train/images/0690_JPG.rf.9b9761c5b5a4120d797b27c255af88a0.jpg: 480x640 300 PV CELLs, 421.6ms\n",
            "Speed: 5.1ms preprocess, 421.6ms inference, 31.0ms postprocess per image at shape (1, 3, 480, 640)\n"
          ]
        },
        {
          "output_type": "stream",
          "name": "stderr",
          "text": [
            "\rDetecting in /content/Hucre-Detector-1/train/images:  33%|███▎      | 819/2450 [11:21<21:13,  1.28it/s]"
          ]
        },
        {
          "output_type": "stream",
          "name": "stdout",
          "text": [
            "\n",
            "image 1/1 /content/Hucre-Detector-1/train/images/DJI_20231117104556_0476_Z_JPG.rf.acef373a8a50c47355cd5a61babed3eb.jpg: 640x640 34 PV CELLs, 588.8ms\n",
            "Speed: 5.0ms preprocess, 588.8ms inference, 5.4ms postprocess per image at shape (1, 3, 640, 640)\n"
          ]
        },
        {
          "output_type": "stream",
          "name": "stderr",
          "text": [
            "\rDetecting in /content/Hucre-Detector-1/train/images:  33%|███▎      | 820/2450 [11:22<20:43,  1.31it/s]"
          ]
        },
        {
          "output_type": "stream",
          "name": "stdout",
          "text": [
            "\n",
            "image 1/1 /content/Hucre-Detector-1/train/images/0137_JPG.rf.3ade445d3e1243a15ee47a41885299ee.jpg: 480x640 10 PV CELLs, 423.4ms\n",
            "Speed: 4.0ms preprocess, 423.4ms inference, 1.7ms postprocess per image at shape (1, 3, 480, 640)\n"
          ]
        },
        {
          "output_type": "stream",
          "name": "stderr",
          "text": [
            "\rDetecting in /content/Hucre-Detector-1/train/images:  34%|███▎      | 821/2450 [11:22<18:41,  1.45it/s]"
          ]
        },
        {
          "output_type": "stream",
          "name": "stdout",
          "text": [
            "\n",
            "image 1/1 /content/Hucre-Detector-1/train/images/DJI_20231117141714_0475_Z_JPG.rf.2d6f887ccdfdd3d5cafe0938117527cd.jpg: 640x640 300 PV CELLs, 580.4ms\n",
            "Speed: 7.2ms preprocess, 580.4ms inference, 33.9ms postprocess per image at shape (1, 3, 640, 640)\n"
          ]
        },
        {
          "output_type": "stream",
          "name": "stderr",
          "text": [
            "\rDetecting in /content/Hucre-Detector-1/train/images:  34%|███▎      | 822/2450 [11:23<20:27,  1.33it/s]"
          ]
        },
        {
          "output_type": "stream",
          "name": "stdout",
          "text": [
            "\n",
            "image 1/1 /content/Hucre-Detector-1/train/images/0176_JPG.rf.b2c105fd1ef9a3c7b52d3bb7330f424c.jpg: 480x640 (no detections), 438.3ms\n",
            "Speed: 4.1ms preprocess, 438.3ms inference, 0.6ms postprocess per image at shape (1, 3, 480, 640)\n"
          ]
        },
        {
          "output_type": "stream",
          "name": "stderr",
          "text": [
            "\rDetecting in /content/Hucre-Detector-1/train/images:  34%|███▎      | 823/2450 [11:24<18:35,  1.46it/s]"
          ]
        },
        {
          "output_type": "stream",
          "name": "stdout",
          "text": [
            "\n",
            "image 1/1 /content/Hucre-Detector-1/train/images/DJI_20231117112618_0005_Z_JPG.rf.5575187965a4192fc461d3abb5a60ef2.jpg: 640x640 300 PV CELLs, 581.0ms\n",
            "Speed: 5.2ms preprocess, 581.0ms inference, 40.3ms postprocess per image at shape (1, 3, 640, 640)\n"
          ]
        },
        {
          "output_type": "stream",
          "name": "stderr",
          "text": [
            "\rDetecting in /content/Hucre-Detector-1/train/images:  34%|███▎      | 824/2450 [11:24<20:27,  1.32it/s]"
          ]
        },
        {
          "output_type": "stream",
          "name": "stdout",
          "text": [
            "\n",
            "image 1/1 /content/Hucre-Detector-1/train/images/1059_jpg.rf.0409d6331671a8e929c719f4555eb09c.jpg: 480x640 201 PV CELLs, 404.2ms\n",
            "Speed: 6.9ms preprocess, 404.2ms inference, 23.1ms postprocess per image at shape (1, 3, 480, 640)\n"
          ]
        },
        {
          "output_type": "stream",
          "name": "stderr",
          "text": [
            "\rDetecting in /content/Hucre-Detector-1/train/images:  34%|███▎      | 825/2450 [11:25<19:06,  1.42it/s]"
          ]
        },
        {
          "output_type": "stream",
          "name": "stdout",
          "text": [
            "\n",
            "image 1/1 /content/Hucre-Detector-1/train/images/0765_JPG.rf.4c405bf6dc1cd77b9684e9737ae3df92.jpg: 480x640 80 PV CELLs, 677.5ms\n",
            "Speed: 5.0ms preprocess, 677.5ms inference, 8.6ms postprocess per image at shape (1, 3, 480, 640)\n"
          ]
        },
        {
          "output_type": "stream",
          "name": "stderr",
          "text": [
            "\rDetecting in /content/Hucre-Detector-1/train/images:  34%|███▎      | 826/2450 [11:26<20:12,  1.34it/s]"
          ]
        },
        {
          "output_type": "stream",
          "name": "stdout",
          "text": [
            "\n",
            "image 1/1 /content/Hucre-Detector-1/train/images/0393_JPG.rf.0e0c528808e57bcaef2ed7e51584f765.jpg: 480x640 300 PV CELLs, 661.6ms\n",
            "Speed: 15.7ms preprocess, 661.6ms inference, 60.5ms postprocess per image at shape (1, 3, 480, 640)\n"
          ]
        },
        {
          "output_type": "stream",
          "name": "stderr",
          "text": [
            "\rDetecting in /content/Hucre-Detector-1/train/images:  34%|███▍      | 827/2450 [11:27<22:28,  1.20it/s]"
          ]
        },
        {
          "output_type": "stream",
          "name": "stdout",
          "text": [
            "\n",
            "image 1/1 /content/Hucre-Detector-1/train/images/DJI_20231122103403_0429_Z_JPG.rf.232d4e80f1a37becdfbb4ba478a1dfc4.jpg: 640x640 70 PV CELLs, 916.9ms\n",
            "Speed: 7.9ms preprocess, 916.9ms inference, 19.0ms postprocess per image at shape (1, 3, 640, 640)\n"
          ]
        },
        {
          "output_type": "stream",
          "name": "stderr",
          "text": [
            "\rDetecting in /content/Hucre-Detector-1/train/images:  34%|███▍      | 828/2450 [11:28<25:10,  1.07it/s]"
          ]
        },
        {
          "output_type": "stream",
          "name": "stdout",
          "text": [
            "\n",
            "image 1/1 /content/Hucre-Detector-1/train/images/DJI_20231122122122_0019_Z_JPG.rf.9f88973d4453b1a7fdea879d9102bc55.jpg: 640x640 300 PV CELLs, 563.8ms\n",
            "Speed: 5.2ms preprocess, 563.8ms inference, 39.6ms postprocess per image at shape (1, 3, 640, 640)\n"
          ]
        },
        {
          "output_type": "stream",
          "name": "stderr",
          "text": [
            "\rDetecting in /content/Hucre-Detector-1/train/images:  34%|███▍      | 829/2450 [11:29<24:47,  1.09it/s]"
          ]
        },
        {
          "output_type": "stream",
          "name": "stdout",
          "text": [
            "\n",
            "image 1/1 /content/Hucre-Detector-1/train/images/DJI_20231117113434_0244_Z_JPG.rf.8a03544ba61a1658a2974b751f7da010.jpg: 640x640 15 PV CELLs, 580.4ms\n",
            "Speed: 5.5ms preprocess, 580.4ms inference, 2.6ms postprocess per image at shape (1, 3, 640, 640)\n"
          ]
        },
        {
          "output_type": "stream",
          "name": "stderr",
          "text": [
            "\rDetecting in /content/Hucre-Detector-1/train/images:  34%|███▍      | 830/2450 [11:30<23:08,  1.17it/s]"
          ]
        },
        {
          "output_type": "stream",
          "name": "stdout",
          "text": [
            "\n",
            "image 1/1 /content/Hucre-Detector-1/train/images/DJI_20231229131127_0534_Z_JPG.rf.3e137d12a55edcd804abb6dcdbe3a0d0.jpg: 640x640 300 PV CELLs, 561.1ms\n",
            "Speed: 7.4ms preprocess, 561.1ms inference, 55.3ms postprocess per image at shape (1, 3, 640, 640)\n"
          ]
        },
        {
          "output_type": "stream",
          "name": "stderr",
          "text": [
            "\rDetecting in /content/Hucre-Detector-1/train/images:  34%|███▍      | 831/2450 [11:31<23:33,  1.15it/s]"
          ]
        },
        {
          "output_type": "stream",
          "name": "stdout",
          "text": [
            "\n",
            "image 1/1 /content/Hucre-Detector-1/train/images/DJI_20231117134249_0014_Z_JPG.rf.afad01f5feaab779f9812d131a95ae48.jpg: 640x640 300 PV CELLs, 576.7ms\n",
            "Speed: 5.5ms preprocess, 576.7ms inference, 19.3ms postprocess per image at shape (1, 3, 640, 640)\n"
          ]
        },
        {
          "output_type": "stream",
          "name": "stderr",
          "text": [
            "\rDetecting in /content/Hucre-Detector-1/train/images:  34%|███▍      | 832/2450 [11:31<23:36,  1.14it/s]"
          ]
        },
        {
          "output_type": "stream",
          "name": "stdout",
          "text": [
            "\n",
            "image 1/1 /content/Hucre-Detector-1/train/images/DJI_20240218112229_0646_Z_JPG.rf.b6ab563629d2cbabbdba4a2c2eae62dd.jpg: 640x640 300 PV CELLs, 589.1ms\n",
            "Speed: 5.4ms preprocess, 589.1ms inference, 32.7ms postprocess per image at shape (1, 3, 640, 640)\n"
          ]
        },
        {
          "output_type": "stream",
          "name": "stderr",
          "text": [
            "\rDetecting in /content/Hucre-Detector-1/train/images:  34%|███▍      | 833/2450 [11:32<23:45,  1.13it/s]"
          ]
        },
        {
          "output_type": "stream",
          "name": "stdout",
          "text": [
            "\n",
            "image 1/1 /content/Hucre-Detector-1/train/images/DJI_20240305140834_0469_Z_JPG.rf.ba65ab66c59028f87a57066c5abda359.jpg: 640x640 300 PV CELLs, 565.0ms\n",
            "Speed: 5.4ms preprocess, 565.0ms inference, 66.7ms postprocess per image at shape (1, 3, 640, 640)\n"
          ]
        },
        {
          "output_type": "stream",
          "name": "stderr",
          "text": [
            "\rDetecting in /content/Hucre-Detector-1/train/images:  34%|███▍      | 834/2450 [11:33<23:51,  1.13it/s]"
          ]
        },
        {
          "output_type": "stream",
          "name": "stdout",
          "text": [
            "\n",
            "image 1/1 /content/Hucre-Detector-1/train/images/0335_JPG.rf.767843164d291ea4d85424b88a9f6328.jpg: 480x640 2 PV CELLs, 411.2ms\n",
            "Speed: 5.1ms preprocess, 411.2ms inference, 1.2ms postprocess per image at shape (1, 3, 480, 640)\n"
          ]
        },
        {
          "output_type": "stream",
          "name": "stderr",
          "text": [
            "\rDetecting in /content/Hucre-Detector-1/train/images:  34%|███▍      | 835/2450 [11:34<20:49,  1.29it/s]"
          ]
        },
        {
          "output_type": "stream",
          "name": "stdout",
          "text": [
            "\n",
            "image 1/1 /content/Hucre-Detector-1/train/images/1019_JPG.rf.84ce437d81d7db51c36902abd97917df.jpg: 480x640 300 PV CELLs, 469.8ms\n",
            "Speed: 4.1ms preprocess, 469.8ms inference, 27.0ms postprocess per image at shape (1, 3, 480, 640)\n"
          ]
        },
        {
          "output_type": "stream",
          "name": "stderr",
          "text": [
            "\rDetecting in /content/Hucre-Detector-1/train/images:  34%|███▍      | 836/2450 [11:34<20:17,  1.33it/s]"
          ]
        },
        {
          "output_type": "stream",
          "name": "stdout",
          "text": [
            "\n",
            "image 1/1 /content/Hucre-Detector-1/train/images/0149_JPG.rf.123c677632e54f13e6162f5c8d9aca31.jpg: 480x640 5 PV CELLs, 432.0ms\n",
            "Speed: 4.0ms preprocess, 432.0ms inference, 1.4ms postprocess per image at shape (1, 3, 480, 640)\n"
          ]
        },
        {
          "output_type": "stream",
          "name": "stderr",
          "text": [
            "\rDetecting in /content/Hucre-Detector-1/train/images:  34%|███▍      | 837/2450 [11:35<18:27,  1.46it/s]"
          ]
        },
        {
          "output_type": "stream",
          "name": "stdout",
          "text": [
            "\n",
            "image 1/1 /content/Hucre-Detector-1/train/images/DJI_20231117132750_0265_Z_JPG.rf.a069b0c9c245345f9aa86c3f3ae234a9.jpg: 640x640 300 PV CELLs, 581.9ms\n",
            "Speed: 5.3ms preprocess, 581.9ms inference, 37.5ms postprocess per image at shape (1, 3, 640, 640)\n"
          ]
        },
        {
          "output_type": "stream",
          "name": "stderr",
          "text": [
            "\rDetecting in /content/Hucre-Detector-1/train/images:  34%|███▍      | 838/2450 [11:36<20:25,  1.31it/s]"
          ]
        },
        {
          "output_type": "stream",
          "name": "stdout",
          "text": [
            "\n",
            "image 1/1 /content/Hucre-Detector-1/train/images/DJI_20231117110917_0345_Z_JPG.rf.d2422b28cbd47444a6ec4251d670ab67.jpg: 640x640 227 PV CELLs, 590.5ms\n",
            "Speed: 5.4ms preprocess, 590.5ms inference, 26.7ms postprocess per image at shape (1, 3, 640, 640)\n"
          ]
        },
        {
          "output_type": "stream",
          "name": "stderr",
          "text": [
            "\rDetecting in /content/Hucre-Detector-1/train/images:  34%|███▍      | 839/2450 [11:37<21:14,  1.26it/s]"
          ]
        },
        {
          "output_type": "stream",
          "name": "stdout",
          "text": [
            "\n",
            "image 1/1 /content/Hucre-Detector-1/train/images/DJI_20240227102131_0354_Z_JPG.rf.6c2e8614c2068ff1146f9779d90ca463.jpg: 640x640 300 PV CELLs, 557.7ms\n",
            "Speed: 5.5ms preprocess, 557.7ms inference, 37.4ms postprocess per image at shape (1, 3, 640, 640)\n"
          ]
        },
        {
          "output_type": "stream",
          "name": "stderr",
          "text": [
            "\rDetecting in /content/Hucre-Detector-1/train/images:  34%|███▍      | 840/2450 [11:38<21:55,  1.22it/s]"
          ]
        },
        {
          "output_type": "stream",
          "name": "stdout",
          "text": [
            "\n",
            "image 1/1 /content/Hucre-Detector-1/train/images/0843_JPG.rf.3c07fb39835c831dfcf71b03711f178f.jpg: 480x640 200 PV CELLs, 476.0ms\n",
            "Speed: 4.0ms preprocess, 476.0ms inference, 24.3ms postprocess per image at shape (1, 3, 480, 640)\n"
          ]
        },
        {
          "output_type": "stream",
          "name": "stderr",
          "text": [
            "\rDetecting in /content/Hucre-Detector-1/train/images:  34%|███▍      | 841/2450 [11:38<21:07,  1.27it/s]"
          ]
        },
        {
          "output_type": "stream",
          "name": "stdout",
          "text": [
            "\n",
            "image 1/1 /content/Hucre-Detector-1/train/images/DJI_20231231123812_0474_Z_JPG.rf.c3a084829272567975f428b69e941233.jpg: 640x640 300 PV CELLs, 907.5ms\n",
            "Speed: 6.8ms preprocess, 907.5ms inference, 30.6ms postprocess per image at shape (1, 3, 640, 640)\n"
          ]
        },
        {
          "output_type": "stream",
          "name": "stderr",
          "text": [
            "\rDetecting in /content/Hucre-Detector-1/train/images:  34%|███▍      | 842/2450 [11:40<25:35,  1.05it/s]"
          ]
        },
        {
          "output_type": "stream",
          "name": "stdout",
          "text": [
            "\n",
            "image 1/1 /content/Hucre-Detector-1/train/images/DJI_20231117142247_0622_Z_JPG.rf.b84c76fe40ff3219dba1250c2bd76865.jpg: 640x640 300 PV CELLs, 923.6ms\n",
            "Speed: 7.5ms preprocess, 923.6ms inference, 55.6ms postprocess per image at shape (1, 3, 640, 640)\n"
          ]
        },
        {
          "output_type": "stream",
          "name": "stderr",
          "text": [
            "\rDetecting in /content/Hucre-Detector-1/train/images:  34%|███▍      | 843/2450 [11:41<28:54,  1.08s/it]"
          ]
        },
        {
          "output_type": "stream",
          "name": "stdout",
          "text": [
            "\n",
            "image 1/1 /content/Hucre-Detector-1/train/images/0126_JPG.rf.3678801fee46d000ccc75a0af35dfb34.jpg: 480x640 257 PV CELLs, 444.6ms\n",
            "Speed: 5.5ms preprocess, 444.6ms inference, 28.1ms postprocess per image at shape (1, 3, 480, 640)\n"
          ]
        },
        {
          "output_type": "stream",
          "name": "stderr",
          "text": [
            "\rDetecting in /content/Hucre-Detector-1/train/images:  34%|███▍      | 844/2450 [11:42<25:40,  1.04it/s]"
          ]
        },
        {
          "output_type": "stream",
          "name": "stdout",
          "text": [
            "\n",
            "image 1/1 /content/Hucre-Detector-1/train/images/DJI_20231117125550_0403_Z_JPG.rf.15121d22140b59e19c9a7e14cb7832ee.jpg: 640x640 111 PV CELLs, 610.7ms\n",
            "Speed: 5.9ms preprocess, 610.7ms inference, 12.5ms postprocess per image at shape (1, 3, 640, 640)\n"
          ]
        },
        {
          "output_type": "stream",
          "name": "stderr",
          "text": [
            "\rDetecting in /content/Hucre-Detector-1/train/images:  34%|███▍      | 845/2450 [11:43<24:33,  1.09it/s]"
          ]
        },
        {
          "output_type": "stream",
          "name": "stdout",
          "text": [
            "\n",
            "image 1/1 /content/Hucre-Detector-1/train/images/0190_JPG.rf.d375bdc7da510b46cac66e3c05163994.jpg: 480x640 1 PV CELL, 421.2ms\n",
            "Speed: 3.9ms preprocess, 421.2ms inference, 1.0ms postprocess per image at shape (1, 3, 480, 640)\n"
          ]
        },
        {
          "output_type": "stream",
          "name": "stderr",
          "text": [
            "\rDetecting in /content/Hucre-Detector-1/train/images:  35%|███▍      | 846/2450 [11:43<21:17,  1.26it/s]"
          ]
        },
        {
          "output_type": "stream",
          "name": "stdout",
          "text": [
            "\n",
            "image 1/1 /content/Hucre-Detector-1/train/images/DJI_20240306104050_0571_Z_JPG.rf.3eb27cd77be92f05aeda593df9c0b6f2.jpg: 640x640 300 PV CELLs, 528.7ms\n",
            "Speed: 8.7ms preprocess, 528.7ms inference, 61.9ms postprocess per image at shape (1, 3, 640, 640)\n"
          ]
        },
        {
          "output_type": "stream",
          "name": "stderr",
          "text": [
            "\rDetecting in /content/Hucre-Detector-1/train/images:  35%|███▍      | 847/2450 [11:44<21:55,  1.22it/s]"
          ]
        },
        {
          "output_type": "stream",
          "name": "stdout",
          "text": [
            "\n",
            "image 1/1 /content/Hucre-Detector-1/train/images/0444_JPG.rf.376c655efde450c0b69865ca57f95755.jpg: 480x640 18 PV CELLs, 455.8ms\n",
            "Speed: 4.0ms preprocess, 455.8ms inference, 2.6ms postprocess per image at shape (1, 3, 480, 640)\n"
          ]
        },
        {
          "output_type": "stream",
          "name": "stderr",
          "text": [
            "\rDetecting in /content/Hucre-Detector-1/train/images:  35%|███▍      | 848/2450 [11:45<19:49,  1.35it/s]"
          ]
        },
        {
          "output_type": "stream",
          "name": "stdout",
          "text": [
            "\n",
            "image 1/1 /content/Hucre-Detector-1/train/images/DJI_20231229114623_0382_Z_JPG.rf.08c21ccedf185774d12c5d11404f7e44.jpg: 640x640 202 PV CELLs, 577.2ms\n",
            "Speed: 5.0ms preprocess, 577.2ms inference, 40.0ms postprocess per image at shape (1, 3, 640, 640)\n"
          ]
        },
        {
          "output_type": "stream",
          "name": "stderr",
          "text": [
            "\rDetecting in /content/Hucre-Detector-1/train/images:  35%|███▍      | 849/2450 [11:45<20:46,  1.28it/s]"
          ]
        },
        {
          "output_type": "stream",
          "name": "stdout",
          "text": [
            "\n",
            "image 1/1 /content/Hucre-Detector-1/train/images/0174_JPG.rf.77623b710997dd1a3a78d2b7a9c097b3.jpg: 480x640 20 PV CELLs, 424.2ms\n",
            "Speed: 3.9ms preprocess, 424.2ms inference, 1.4ms postprocess per image at shape (1, 3, 480, 640)\n"
          ]
        },
        {
          "output_type": "stream",
          "name": "stderr",
          "text": [
            "\rDetecting in /content/Hucre-Detector-1/train/images:  35%|███▍      | 850/2450 [11:46<18:44,  1.42it/s]"
          ]
        },
        {
          "output_type": "stream",
          "name": "stdout",
          "text": [
            "\n",
            "image 1/1 /content/Hucre-Detector-1/train/images/DJI_20231117110309_0167_Z_JPG.rf.5910874f0df781ad8fa8334f6c17c193.jpg: 640x640 221 PV CELLs, 556.8ms\n",
            "Speed: 4.5ms preprocess, 556.8ms inference, 28.9ms postprocess per image at shape (1, 3, 640, 640)\n"
          ]
        },
        {
          "output_type": "stream",
          "name": "stderr",
          "text": [
            "\rDetecting in /content/Hucre-Detector-1/train/images:  35%|███▍      | 851/2450 [11:47<19:37,  1.36it/s]"
          ]
        },
        {
          "output_type": "stream",
          "name": "stdout",
          "text": [
            "\n",
            "image 1/1 /content/Hucre-Detector-1/train/images/DJI_20231117110107_0108_Z_JPG.rf.43c7b6938f474fd0755fa5b240da8e4b.jpg: 640x640 300 PV CELLs, 582.4ms\n",
            "Speed: 4.6ms preprocess, 582.4ms inference, 22.3ms postprocess per image at shape (1, 3, 640, 640)\n"
          ]
        },
        {
          "output_type": "stream",
          "name": "stderr",
          "text": [
            "\rDetecting in /content/Hucre-Detector-1/train/images:  35%|███▍      | 852/2450 [11:48<20:48,  1.28it/s]"
          ]
        },
        {
          "output_type": "stream",
          "name": "stdout",
          "text": [
            "\n",
            "image 1/1 /content/Hucre-Detector-1/train/images/0642_JPG.rf.bee257f955e22c743932dedd8deaa574.jpg: 480x640 300 PV CELLs, 423.8ms\n",
            "Speed: 4.0ms preprocess, 423.8ms inference, 58.5ms postprocess per image at shape (1, 3, 480, 640)\n"
          ]
        },
        {
          "output_type": "stream",
          "name": "stderr",
          "text": [
            "\rDetecting in /content/Hucre-Detector-1/train/images:  35%|███▍      | 853/2450 [11:48<20:07,  1.32it/s]"
          ]
        },
        {
          "output_type": "stream",
          "name": "stdout",
          "text": [
            "\n",
            "image 1/1 /content/Hucre-Detector-1/train/images/DJI_20231117134359_0048_Z_JPG.rf.9ab1600bf7f7f0dd54a6d46daa42f22e.jpg: 640x640 232 PV CELLs, 571.5ms\n",
            "Speed: 7.4ms preprocess, 571.5ms inference, 18.8ms postprocess per image at shape (1, 3, 640, 640)\n"
          ]
        },
        {
          "output_type": "stream",
          "name": "stderr",
          "text": [
            "\rDetecting in /content/Hucre-Detector-1/train/images:  35%|███▍      | 854/2450 [11:49<20:52,  1.27it/s]"
          ]
        },
        {
          "output_type": "stream",
          "name": "stdout",
          "text": [
            "\n",
            "image 1/1 /content/Hucre-Detector-1/train/images/DJI_20231117110534_0237_Z_JPG.rf.df8855cab56047a22732baa0fcc3df12.jpg: 640x640 300 PV CELLs, 596.7ms\n",
            "Speed: 5.2ms preprocess, 596.7ms inference, 28.9ms postprocess per image at shape (1, 3, 640, 640)\n"
          ]
        },
        {
          "output_type": "stream",
          "name": "stderr",
          "text": [
            "\rDetecting in /content/Hucre-Detector-1/train/images:  35%|███▍      | 855/2450 [11:50<21:51,  1.22it/s]"
          ]
        },
        {
          "output_type": "stream",
          "name": "stdout",
          "text": [
            "\n",
            "image 1/1 /content/Hucre-Detector-1/train/images/DJI_20231117142251_0624_Z_JPG.rf.dcde25c0345ab6abaae1ac14fc5d512a.jpg: 640x640 146 PV CELLs, 552.4ms\n",
            "Speed: 5.6ms preprocess, 552.4ms inference, 11.6ms postprocess per image at shape (1, 3, 640, 640)\n"
          ]
        },
        {
          "output_type": "stream",
          "name": "stderr",
          "text": [
            "\rDetecting in /content/Hucre-Detector-1/train/images:  35%|███▍      | 856/2450 [11:51<21:18,  1.25it/s]"
          ]
        },
        {
          "output_type": "stream",
          "name": "stdout",
          "text": [
            "\n",
            "image 1/1 /content/Hucre-Detector-1/train/images/0394_JPG.rf.cd89de803ce8485b5373e79792a5a510.jpg: 480x640 300 PV CELLs, 586.7ms\n",
            "Speed: 3.4ms preprocess, 586.7ms inference, 94.0ms postprocess per image at shape (1, 3, 480, 640)\n"
          ]
        },
        {
          "output_type": "stream",
          "name": "stderr",
          "text": [
            "\rDetecting in /content/Hucre-Detector-1/train/images:  35%|███▍      | 857/2450 [11:52<22:39,  1.17it/s]"
          ]
        },
        {
          "output_type": "stream",
          "name": "stdout",
          "text": [
            "\n",
            "image 1/1 /content/Hucre-Detector-1/train/images/DJI_20240124132217_0286_Z_JPG.rf.97ff04179bc40ad461d54d5a9f30d3e0.jpg: 640x640 300 PV CELLs, 870.3ms\n",
            "Speed: 11.9ms preprocess, 870.3ms inference, 32.1ms postprocess per image at shape (1, 3, 640, 640)\n"
          ]
        },
        {
          "output_type": "stream",
          "name": "stderr",
          "text": [
            "\rDetecting in /content/Hucre-Detector-1/train/images:  35%|███▌      | 858/2450 [11:53<26:45,  1.01s/it]"
          ]
        },
        {
          "output_type": "stream",
          "name": "stdout",
          "text": [
            "\n",
            "image 1/1 /content/Hucre-Detector-1/train/images/0933_JPG.rf.e7ce601270fd07347d026d14cec08d19.jpg: 480x640 69 PV CELLs, 656.5ms\n",
            "Speed: 5.8ms preprocess, 656.5ms inference, 7.5ms postprocess per image at shape (1, 3, 480, 640)\n"
          ]
        },
        {
          "output_type": "stream",
          "name": "stderr",
          "text": [
            "\rDetecting in /content/Hucre-Detector-1/train/images:  35%|███▌      | 859/2450 [11:54<25:08,  1.05it/s]"
          ]
        },
        {
          "output_type": "stream",
          "name": "stdout",
          "text": [
            "\n",
            "image 1/1 /content/Hucre-Detector-1/train/images/0336_JPG.rf.116f6570e0c598d5136222ea12e263d6.jpg: 480x640 1 PV CELL, 514.0ms\n",
            "Speed: 4.3ms preprocess, 514.0ms inference, 5.9ms postprocess per image at shape (1, 3, 480, 640)\n"
          ]
        },
        {
          "output_type": "stream",
          "name": "stderr",
          "text": [
            "\rDetecting in /content/Hucre-Detector-1/train/images:  35%|███▌      | 860/2450 [11:55<22:33,  1.17it/s]"
          ]
        },
        {
          "output_type": "stream",
          "name": "stdout",
          "text": [
            "\n",
            "image 1/1 /content/Hucre-Detector-1/train/images/0064_JPG.rf.e68e2993f0482e44ee463674d969ae80.jpg: 480x640 4 PV CELLs, 505.4ms\n",
            "Speed: 4.2ms preprocess, 505.4ms inference, 1.5ms postprocess per image at shape (1, 3, 480, 640)\n"
          ]
        },
        {
          "output_type": "stream",
          "name": "stderr",
          "text": [
            "\rDetecting in /content/Hucre-Detector-1/train/images:  35%|███▌      | 861/2450 [11:55<20:33,  1.29it/s]"
          ]
        },
        {
          "output_type": "stream",
          "name": "stdout",
          "text": [
            "\n",
            "image 1/1 /content/Hucre-Detector-1/train/images/DJI_20231117111745_0593_Z_JPG.rf.da7116af075fd5be30f5e4875c8787fa.jpg: 640x640 1 PV CELL, 717.6ms\n",
            "Speed: 6.0ms preprocess, 717.6ms inference, 1.7ms postprocess per image at shape (1, 3, 640, 640)\n"
          ]
        },
        {
          "output_type": "stream",
          "name": "stderr",
          "text": [
            "\rDetecting in /content/Hucre-Detector-1/train/images:  35%|███▌      | 862/2450 [11:56<21:10,  1.25it/s]"
          ]
        },
        {
          "output_type": "stream",
          "name": "stdout",
          "text": [
            "\n",
            "image 1/1 /content/Hucre-Detector-1/train/images/DJI_20250506154644_0013_V_JPG.rf.15f535219f68c26834a8769b50b2a1a9.jpg: 640x640 300 PV CELLs, 644.5ms\n",
            "Speed: 4.0ms preprocess, 644.5ms inference, 32.1ms postprocess per image at shape (1, 3, 640, 640)\n"
          ]
        },
        {
          "output_type": "stream",
          "name": "stderr",
          "text": [
            "\rDetecting in /content/Hucre-Detector-1/train/images:  35%|███▌      | 863/2450 [11:57<20:52,  1.27it/s]"
          ]
        },
        {
          "output_type": "stream",
          "name": "stdout",
          "text": [
            "\n",
            "image 1/1 /content/Hucre-Detector-1/train/images/DJI_20250506154656_0031_V_JPG.rf.ce52d2eee166aef91e9d35752bb602da.jpg: 640x640 300 PV CELLs, 686.5ms\n",
            "Speed: 10.9ms preprocess, 686.5ms inference, 65.8ms postprocess per image at shape (1, 3, 640, 640)\n"
          ]
        },
        {
          "output_type": "stream",
          "name": "stderr",
          "text": [
            "\rDetecting in /content/Hucre-Detector-1/train/images:  35%|███▌      | 864/2450 [11:58<21:13,  1.25it/s]"
          ]
        },
        {
          "output_type": "stream",
          "name": "stdout",
          "text": [
            "\n",
            "image 1/1 /content/Hucre-Detector-1/train/images/0370_JPG.rf.abecd58d6c032088f8bf730da966f2d6.jpg: 480x640 300 PV CELLs, 522.8ms\n",
            "Speed: 6.1ms preprocess, 522.8ms inference, 39.9ms postprocess per image at shape (1, 3, 480, 640)\n"
          ]
        },
        {
          "output_type": "stream",
          "name": "stderr",
          "text": [
            "\rDetecting in /content/Hucre-Detector-1/train/images:  35%|███▌      | 865/2450 [11:59<21:10,  1.25it/s]"
          ]
        },
        {
          "output_type": "stream",
          "name": "stdout",
          "text": [
            "\n",
            "image 1/1 /content/Hucre-Detector-1/train/images/0721_JPG.rf.5d3ebe8bbce7ae0d17679ac86ea0c108.jpg: 480x640 300 PV CELLs, 521.8ms\n",
            "Speed: 5.9ms preprocess, 521.8ms inference, 69.7ms postprocess per image at shape (1, 3, 480, 640)\n"
          ]
        },
        {
          "output_type": "stream",
          "name": "stderr",
          "text": [
            "\rDetecting in /content/Hucre-Detector-1/train/images:  35%|███▌      | 866/2450 [11:59<21:15,  1.24it/s]"
          ]
        },
        {
          "output_type": "stream",
          "name": "stdout",
          "text": [
            "\n",
            "image 1/1 /content/Hucre-Detector-1/train/images/DJI_20231117104316_0398_Z_JPG.rf.fc48f807a913dff05e622a93c5293c8f.jpg: 640x640 53 PV CELLs, 1523.8ms\n",
            "Speed: 4.5ms preprocess, 1523.8ms inference, 38.4ms postprocess per image at shape (1, 3, 640, 640)\n"
          ]
        },
        {
          "output_type": "stream",
          "name": "stderr",
          "text": [
            "\rDetecting in /content/Hucre-Detector-1/train/images:  35%|███▌      | 867/2450 [12:01<29:07,  1.10s/it]"
          ]
        },
        {
          "output_type": "stream",
          "name": "stdout",
          "text": [
            "\n",
            "image 1/1 /content/Hucre-Detector-1/train/images/0448_JPG.rf.90855c85e4e0fdfe53c0556d01f1e661.jpg: 480x640 300 PV CELLs, 419.1ms\n",
            "Speed: 16.0ms preprocess, 419.1ms inference, 48.8ms postprocess per image at shape (1, 3, 480, 640)\n"
          ]
        },
        {
          "output_type": "stream",
          "name": "stderr",
          "text": [
            "\rDetecting in /content/Hucre-Detector-1/train/images:  35%|███▌      | 868/2450 [12:02<25:59,  1.01it/s]"
          ]
        },
        {
          "output_type": "stream",
          "name": "stdout",
          "text": [
            "\n",
            "image 1/1 /content/Hucre-Detector-1/train/images/DJI_20240227114353_0387_Z_JPG.rf.6c126a604a54fd2182b727bd6ba52bb5.jpg: 640x640 300 PV CELLs, 584.8ms\n",
            "Speed: 5.1ms preprocess, 584.8ms inference, 86.4ms postprocess per image at shape (1, 3, 640, 640)\n"
          ]
        },
        {
          "output_type": "stream",
          "name": "stderr",
          "text": [
            "\rDetecting in /content/Hucre-Detector-1/train/images:  35%|███▌      | 869/2450 [12:03<25:42,  1.03it/s]"
          ]
        },
        {
          "output_type": "stream",
          "name": "stdout",
          "text": [
            "\n",
            "image 1/1 /content/Hucre-Detector-1/train/images/Screenshot-2023-12-01-230351_png.rf.03b2563f4fbe3272d1e89fa1bab252b2.jpg: 640x640 78 PV CELLs, 585.6ms\n",
            "Speed: 6.2ms preprocess, 585.6ms inference, 11.2ms postprocess per image at shape (1, 3, 640, 640)\n"
          ]
        },
        {
          "output_type": "stream",
          "name": "stderr",
          "text": [
            "\rDetecting in /content/Hucre-Detector-1/train/images:  36%|███▌      | 870/2450 [12:03<23:23,  1.13it/s]"
          ]
        },
        {
          "output_type": "stream",
          "name": "stdout",
          "text": [
            "\n",
            "image 1/1 /content/Hucre-Detector-1/train/images/DJI_20240108103541_0034_Z_JPG.rf.f657cc7a76e75b75c88fe50fbf943be9.jpg: 640x640 275 PV CELLs, 554.4ms\n",
            "Speed: 4.7ms preprocess, 554.4ms inference, 21.0ms postprocess per image at shape (1, 3, 640, 640)\n"
          ]
        },
        {
          "output_type": "stream",
          "name": "stderr",
          "text": [
            "\rDetecting in /content/Hucre-Detector-1/train/images:  36%|███▌      | 871/2450 [12:04<23:18,  1.13it/s]"
          ]
        },
        {
          "output_type": "stream",
          "name": "stdout",
          "text": [
            "\n",
            "image 1/1 /content/Hucre-Detector-1/train/images/DJI_20231229115026_0501_Z_JPG.rf.bc97fd1237f91de040d83512f0bad717.jpg: 480x640 300 PV CELLs, 400.1ms\n",
            "Speed: 3.9ms preprocess, 400.1ms inference, 31.3ms postprocess per image at shape (1, 3, 480, 640)\n"
          ]
        },
        {
          "output_type": "stream",
          "name": "stderr",
          "text": [
            "\rDetecting in /content/Hucre-Detector-1/train/images:  36%|███▌      | 872/2450 [12:06<26:45,  1.02s/it]"
          ]
        },
        {
          "output_type": "stream",
          "name": "stdout",
          "text": [
            "\n",
            "image 1/1 /content/Hucre-Detector-1/train/images/0397_JPG.rf.dbacd8499c72c2413a3cb74198c6a871.jpg: 480x640 300 PV CELLs, 425.1ms\n",
            "Speed: 4.7ms preprocess, 425.1ms inference, 26.4ms postprocess per image at shape (1, 3, 480, 640)\n"
          ]
        },
        {
          "output_type": "stream",
          "name": "stderr",
          "text": [
            "\rDetecting in /content/Hucre-Detector-1/train/images:  36%|███▌      | 873/2450 [12:06<24:00,  1.09it/s]"
          ]
        },
        {
          "output_type": "stream",
          "name": "stdout",
          "text": [
            "\n",
            "image 1/1 /content/Hucre-Detector-1/train/images/0065_JPG.rf.b89384d620a8c4235b4ad99c2314cf64.jpg: 480x640 4 PV CELLs, 416.4ms\n",
            "Speed: 3.9ms preprocess, 416.4ms inference, 1.1ms postprocess per image at shape (1, 3, 480, 640)\n"
          ]
        },
        {
          "output_type": "stream",
          "name": "stderr",
          "text": [
            "\rDetecting in /content/Hucre-Detector-1/train/images:  36%|███▌      | 874/2450 [12:07<20:47,  1.26it/s]"
          ]
        },
        {
          "output_type": "stream",
          "name": "stdout",
          "text": [
            "\n",
            "image 1/1 /content/Hucre-Detector-1/train/images/0730_JPG.rf.650f29424176c210862d92a908eaaf09.jpg: 480x640 300 PV CELLs, 405.7ms\n",
            "Speed: 5.2ms preprocess, 405.7ms inference, 77.7ms postprocess per image at shape (1, 3, 480, 640)\n"
          ]
        },
        {
          "output_type": "stream",
          "name": "stderr",
          "text": [
            "\rDetecting in /content/Hucre-Detector-1/train/images:  36%|███▌      | 875/2450 [12:08<19:55,  1.32it/s]"
          ]
        },
        {
          "output_type": "stream",
          "name": "stdout",
          "text": [
            "\n",
            "image 1/1 /content/Hucre-Detector-1/train/images/0049_JPG.rf.5f8c4f9028ed460997e113533b3137a3.jpg: 480x640 38 PV CELLs, 403.5ms\n",
            "Speed: 3.5ms preprocess, 403.5ms inference, 3.4ms postprocess per image at shape (1, 3, 480, 640)\n"
          ]
        },
        {
          "output_type": "stream",
          "name": "stderr",
          "text": [
            "\rDetecting in /content/Hucre-Detector-1/train/images:  36%|███▌      | 876/2450 [12:08<17:57,  1.46it/s]"
          ]
        },
        {
          "output_type": "stream",
          "name": "stdout",
          "text": [
            "\n",
            "image 1/1 /content/Hucre-Detector-1/train/images/0070_JPG.rf.0f47f5f90936caede60b1dcf45a381ef.jpg: 480x640 9 PV CELLs, 424.1ms\n",
            "Speed: 3.5ms preprocess, 424.1ms inference, 2.0ms postprocess per image at shape (1, 3, 480, 640)\n"
          ]
        },
        {
          "output_type": "stream",
          "name": "stderr",
          "text": [
            "\rDetecting in /content/Hucre-Detector-1/train/images:  36%|███▌      | 877/2450 [12:09<16:36,  1.58it/s]"
          ]
        },
        {
          "output_type": "stream",
          "name": "stdout",
          "text": [
            "\n",
            "image 1/1 /content/Hucre-Detector-1/train/images/0507_JPG.rf.5c86e6d533c7fe271800284502668d1b.jpg: 480x640 300 PV CELLs, 432.7ms\n",
            "Speed: 5.4ms preprocess, 432.7ms inference, 23.1ms postprocess per image at shape (1, 3, 480, 640)\n"
          ]
        },
        {
          "output_type": "stream",
          "name": "stderr",
          "text": [
            "\rDetecting in /content/Hucre-Detector-1/train/images:  36%|███▌      | 878/2450 [12:09<17:15,  1.52it/s]"
          ]
        },
        {
          "output_type": "stream",
          "name": "stdout",
          "text": [
            "\n",
            "image 1/1 /content/Hucre-Detector-1/train/images/DJI_20231117110149_0128_Z_JPG.rf.ee22d03d262e8e86694f1cc1de3577fa.jpg: 640x640 300 PV CELLs, 864.2ms\n",
            "Speed: 11.6ms preprocess, 864.2ms inference, 52.4ms postprocess per image at shape (1, 3, 640, 640)\n"
          ]
        },
        {
          "output_type": "stream",
          "name": "stderr",
          "text": [
            "\rDetecting in /content/Hucre-Detector-1/train/images:  36%|███▌      | 879/2450 [12:11<22:38,  1.16it/s]"
          ]
        },
        {
          "output_type": "stream",
          "name": "stdout",
          "text": [
            "\n",
            "image 1/1 /content/Hucre-Detector-1/train/images/DJI_20231117111049_0390_Z_JPG.rf.09417b6049501cea963ca66d7ac66c44.jpg: 640x640 300 PV CELLs, 905.7ms\n",
            "Speed: 8.0ms preprocess, 905.7ms inference, 52.7ms postprocess per image at shape (1, 3, 640, 640)\n"
          ]
        },
        {
          "output_type": "stream",
          "name": "stderr",
          "text": [
            "\rDetecting in /content/Hucre-Detector-1/train/images:  36%|███▌      | 880/2450 [12:12<26:34,  1.02s/it]"
          ]
        },
        {
          "output_type": "stream",
          "name": "stdout",
          "text": [
            "\n",
            "image 1/1 /content/Hucre-Detector-1/train/images/DJI_20231117103816_0257_Z_JPG.rf.c5e95889ed2ce6c8dc22a05ed47d3c32.jpg: 640x640 300 PV CELLs, 828.7ms\n",
            "Speed: 7.7ms preprocess, 828.7ms inference, 59.6ms postprocess per image at shape (1, 3, 640, 640)\n"
          ]
        },
        {
          "output_type": "stream",
          "name": "stderr",
          "text": [
            "\rDetecting in /content/Hucre-Detector-1/train/images:  36%|███▌      | 881/2450 [12:13<28:19,  1.08s/it]"
          ]
        },
        {
          "output_type": "stream",
          "name": "stdout",
          "text": [
            "\n",
            "image 1/1 /content/Hucre-Detector-1/train/images/DJI_20231117132224_0107_Z_JPG.rf.10a4b5ab88d01198040d594a15ee042c.jpg: 640x640 300 PV CELLs, 685.6ms\n",
            "Speed: 5.6ms preprocess, 685.6ms inference, 43.6ms postprocess per image at shape (1, 3, 640, 640)\n"
          ]
        },
        {
          "output_type": "stream",
          "name": "stderr",
          "text": [
            "\rDetecting in /content/Hucre-Detector-1/train/images:  36%|███▌      | 882/2450 [12:14<28:07,  1.08s/it]"
          ]
        },
        {
          "output_type": "stream",
          "name": "stdout",
          "text": [
            "\n",
            "image 1/1 /content/Hucre-Detector-1/train/images/DJI_20240108112216_0606_Z_JPG.rf.ab74aa66b796a8afb6f869435837cd34.jpg: 640x640 161 PV CELLs, 689.1ms\n",
            "Speed: 7.0ms preprocess, 689.1ms inference, 23.0ms postprocess per image at shape (1, 3, 640, 640)\n"
          ]
        },
        {
          "output_type": "stream",
          "name": "stderr",
          "text": [
            "\rDetecting in /content/Hucre-Detector-1/train/images:  36%|███▌      | 883/2450 [12:15<27:02,  1.04s/it]"
          ]
        },
        {
          "output_type": "stream",
          "name": "stdout",
          "text": [
            "\n",
            "image 1/1 /content/Hucre-Detector-1/train/images/0578_JPG.rf.468c8e92e2c8f781af8f58a611d96ee9.jpg: 480x640 236 PV CELLs, 507.7ms\n",
            "Speed: 4.7ms preprocess, 507.7ms inference, 38.1ms postprocess per image at shape (1, 3, 480, 640)\n"
          ]
        },
        {
          "output_type": "stream",
          "name": "stderr",
          "text": [
            "\rDetecting in /content/Hucre-Detector-1/train/images:  36%|███▌      | 884/2450 [12:16<25:08,  1.04it/s]"
          ]
        },
        {
          "output_type": "stream",
          "name": "stdout",
          "text": [
            "\n",
            "image 1/1 /content/Hucre-Detector-1/train/images/0946_JPG.rf.948da197b0b44c2093e351cd0577ae84.jpg: 480x640 7 PV CELLs, 426.6ms\n",
            "Speed: 7.6ms preprocess, 426.6ms inference, 1.9ms postprocess per image at shape (1, 3, 480, 640)\n"
          ]
        },
        {
          "output_type": "stream",
          "name": "stderr",
          "text": [
            "\rDetecting in /content/Hucre-Detector-1/train/images:  36%|███▌      | 885/2450 [12:17<21:40,  1.20it/s]"
          ]
        },
        {
          "output_type": "stream",
          "name": "stdout",
          "text": [
            "\n",
            "image 1/1 /content/Hucre-Detector-1/train/images/Ekran-Goruntusu-2025-08-25-18-53-46_png.rf.c7f37668fe1e71db0c3ad2861ad907d1.jpg: 288x640 300 PV CELLs, 270.3ms\n",
            "Speed: 3.3ms preprocess, 270.3ms inference, 40.6ms postprocess per image at shape (1, 3, 288, 640)\n"
          ]
        },
        {
          "output_type": "stream",
          "name": "stderr",
          "text": [
            "\rDetecting in /content/Hucre-Detector-1/train/images:  36%|███▌      | 886/2450 [12:17<18:42,  1.39it/s]"
          ]
        },
        {
          "output_type": "stream",
          "name": "stdout",
          "text": [
            "\n",
            "image 1/1 /content/Hucre-Detector-1/train/images/DJI_20231117104958_0594_Z_JPG.rf.60d106016289c98ddb6d1d1b3ca10c16.jpg: 640x640 198 PV CELLs, 574.9ms\n",
            "Speed: 5.2ms preprocess, 574.9ms inference, 19.8ms postprocess per image at shape (1, 3, 640, 640)\n"
          ]
        },
        {
          "output_type": "stream",
          "name": "stderr",
          "text": [
            "\rDetecting in /content/Hucre-Detector-1/train/images:  36%|███▌      | 887/2450 [12:18<19:29,  1.34it/s]"
          ]
        },
        {
          "output_type": "stream",
          "name": "stdout",
          "text": [
            "\n",
            "image 1/1 /content/Hucre-Detector-1/train/images/DJI_20231117130333_0627_Z_JPG.rf.25b0f9f737dd54bc9fa0eb720d7fd0eb.jpg: 640x640 20 PV CELLs, 585.6ms\n",
            "Speed: 9.2ms preprocess, 585.6ms inference, 3.7ms postprocess per image at shape (1, 3, 640, 640)\n"
          ]
        },
        {
          "output_type": "stream",
          "name": "stderr",
          "text": [
            "\rDetecting in /content/Hucre-Detector-1/train/images:  36%|███▌      | 888/2450 [12:19<19:22,  1.34it/s]"
          ]
        },
        {
          "output_type": "stream",
          "name": "stdout",
          "text": [
            "\n",
            "image 1/1 /content/Hucre-Detector-1/train/images/0241_JPG.rf.979394238a5abf0a283512a32f66f640.jpg: 480x640 26 PV CELLs, 439.4ms\n",
            "Speed: 3.9ms preprocess, 439.4ms inference, 3.4ms postprocess per image at shape (1, 3, 480, 640)\n"
          ]
        },
        {
          "output_type": "stream",
          "name": "stderr",
          "text": [
            "\rDetecting in /content/Hucre-Detector-1/train/images:  36%|███▋      | 889/2450 [12:19<17:52,  1.45it/s]"
          ]
        },
        {
          "output_type": "stream",
          "name": "stdout",
          "text": [
            "\n",
            "image 1/1 /content/Hucre-Detector-1/train/images/DJI_20231117105914_0053_Z_JPG.rf.59cbfa0e5e3a95ec9961e7ffbc831ed1.jpg: 640x640 300 PV CELLs, 594.1ms\n",
            "Speed: 5.1ms preprocess, 594.1ms inference, 31.0ms postprocess per image at shape (1, 3, 640, 640)\n"
          ]
        },
        {
          "output_type": "stream",
          "name": "stderr",
          "text": [
            "\rDetecting in /content/Hucre-Detector-1/train/images:  36%|███▋      | 890/2450 [12:20<19:45,  1.32it/s]"
          ]
        },
        {
          "output_type": "stream",
          "name": "stdout",
          "text": [
            "\n",
            "image 1/1 /content/Hucre-Detector-1/train/images/0316_JPG.rf.7848cbcfb5b3fe0a4ca4ca0cbf3217d8.jpg: 480x640 30 PV CELLs, 3303.2ms\n",
            "Speed: 369.9ms preprocess, 3303.2ms inference, 2049.6ms postprocess per image at shape (1, 3, 480, 640)\n"
          ]
        },
        {
          "output_type": "stream",
          "name": "stderr",
          "text": [
            "\rDetecting in /content/Hucre-Detector-1/train/images:  36%|███▋      | 891/2450 [12:26<1:02:07,  2.39s/it]"
          ]
        },
        {
          "output_type": "stream",
          "name": "stdout",
          "text": [
            "\n",
            "WARNING ⚠️ NMS time limit 2.050s exceeded\n",
            "image 1/1 /content/Hucre-Detector-1/train/images/DJI_20231117140534_0135_Z_JPG.rf.2c9bb60214b53d18e2f14f81a4387118.jpg: 640x640 300 PV CELLs, 211012.1ms\n",
            "Speed: 206.3ms preprocess, 211012.1ms inference, 2297213.6ms postprocess per image at shape (1, 3, 640, 640)\n"
          ]
        },
        {
          "output_type": "stream",
          "name": "stderr",
          "text": [
            "\rDetecting in /content/Hucre-Detector-1/train/images:  36%|███▋      | 892/2450 [1:10:53<456:04:39, 1053.84s/it]"
          ]
        },
        {
          "output_type": "stream",
          "name": "stdout",
          "text": [
            "\n",
            "WARNING ⚠️ NMS time limit 2.050s exceeded\n",
            "image 1/1 /content/Hucre-Detector-1/train/images/0273_JPG.rf.2f837f09bd3b3b0fb889dd75ea297c5d.jpg: 480x640 19 PV CELLs, 180691.4ms\n",
            "Speed: 3331.5ms preprocess, 180691.4ms inference, 67657.6ms postprocess per image at shape (1, 3, 480, 640)\n"
          ]
        },
        {
          "output_type": "stream",
          "name": "stderr",
          "text": [
            "\rDetecting in /content/Hucre-Detector-1/train/images:  36%|███▋      | 893/2450 [1:15:58<358:32:21, 828.99s/it] "
          ]
        },
        {
          "output_type": "stream",
          "name": "stdout",
          "text": [
            "\n"
          ]
        }
      ],
      "source": [
        "# Install required packages\n",
        "!pip install roboflow\n",
        "!pip install ultralytics\n",
        "!pip install opencv-python-headless\n",
        "!pip install tqdm\n",
        "from IPython.display import display, Image\n",
        "import matplotlib.pyplot as plt\n",
        "\n",
        "from roboflow import Roboflow\n",
        "from ultralytics import YOLO\n",
        "import os\n",
        "import cv2\n",
        "from tqdm import tqdm\n",
        "\n",
        "# -------------------------------\n",
        "# Step 1: Setup Roboflow project\n",
        "# -------------------------------\n",
        "rf = Roboflow(api_key=\"pY1qC0NMpdfVkzsCOgFL\")\n",
        "project = rf.workspace(\"solar-panel-2-j62qa\").project(\"hucre-detector-ehahj\")\n",
        "version = project.version(1)\n",
        "dataset = version.download(\"yolov8\")  # Download dataset\n",
        "\n",
        "# Dataset folders\n",
        "folders = [\n",
        "    os.path.join(dataset.location, \"train\", \"images\"),\n",
        "    os.path.join(dataset.location, \"valid\", \"images\"),\n",
        "    os.path.join(dataset.location, \"test\",  \"images\")\n",
        "]\n",
        "\n",
        "# -------------------------------\n",
        "# Step 2: Output folder\n",
        "# -------------------------------\n",
        "output_folder = \"detected_images\"\n",
        "os.makedirs(output_folder, exist_ok=True)\n",
        "\n",
        "# -------------------------------\n",
        "# Step 3: Load pretrained YOLOv8 model\n",
        "# -------------------------------\n",
        "model = YOLO(\"/content/Cell_detector.pt\")  # Make sure cell.pt is uploaded\n",
        "\n",
        "# -------------------------------\n",
        "# Step 4: Run detection on all images\n",
        "# -------------------------------\n",
        "all_images = []\n",
        "\n",
        "for folder in folders:\n",
        "    image_files = [f for f in os.listdir(folder) if f.lower().endswith(('.png', '.jpg', '.jpeg'))]\n",
        "    for img_file in tqdm(image_files, desc=f\"Detecting in {folder}\"):\n",
        "        img_path = os.path.join(folder, img_file)\n",
        "        results = model.predict(source=img_path, save=False)\n",
        "\n",
        "        # Annotate and save detected image\n",
        "        annotated_img = results[0].plot()\n",
        "        save_path = os.path.join(output_folder, img_file)\n",
        "        cv2.imwrite(save_path, cv2.cvtColor(annotated_img, cv2.COLOR_RGB2BGR))\n",
        "\n",
        "        # Keep some images for display\n",
        "        all_images.append(annotated_img)\n",
        "\n",
        "print(f\"All detections done! Check the folder: {output_folder}\")\n",
        "\n",
        "# -------------------------------\n",
        "# Step 5: Display 2 example images\n",
        "# -------------------------------\n",
        "for i, img in enumerate(all_images[:2]):\n",
        "    plt.figure(figsize=(8,8))\n",
        "    plt.imshow(img)\n",
        "    plt.axis('off')\n",
        "    plt.title(f\"Example {i+1}\")\n",
        "    plt.show()\n"
      ]
    }
  ]
}